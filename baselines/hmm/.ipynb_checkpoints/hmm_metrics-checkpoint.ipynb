{
 "cells": [
  {
   "cell_type": "markdown",
   "id": "7047db9b-37ab-4929-bfd1-d5969afe6620",
   "metadata": {},
   "source": [
    "# HMM: Performance evaluation\n",
    "\n",
    "Jacqueline R. M. A. Maasch | March 2022"
   ]
  },
  {
   "cell_type": "markdown",
   "id": "165eae80-6924-404f-bb17-45cf493b77cf",
   "metadata": {},
   "source": [
    "## Preamble"
   ]
  },
  {
   "cell_type": "code",
   "execution_count": 87,
   "id": "b49fbaff-9362-48a5-84b7-6ba7fc9a6a48",
   "metadata": {},
   "outputs": [],
   "source": [
    "# Importations.\n",
    "import moses\n",
    "import pandas as pd\n",
    "import numpy as np\n",
    "import time\n",
    "import sys\n",
    "import matplotlib.pyplot as plt\n",
    "import seaborn as sns\n",
    "from scipy.stats import wasserstein_distance\n",
    "from moses.metrics import weight, logP, SA, QED\n",
    "from moses.metrics.utils import get_mol, mapper\n",
    "from moses import get_dataset\n",
    "from collections import OrderedDict\n",
    "from tdc.chem_utils import MolFilter\n",
    "import warnings\n",
    "from tdc import Oracle\n",
    "from rdkit import Chem                                                                                                                                                                   \n",
    "from rdkit import RDLogger \n",
    "from random import sample\n",
    "import tdc\n",
    "from tdc import Evaluator\n",
    "from tdc.single_pred import HTS\n",
    "from importlib.metadata import version"
   ]
  },
  {
   "cell_type": "code",
   "execution_count": 88,
   "id": "4bfe0784-cba3-4427-8423-b3e822d26520",
   "metadata": {},
   "outputs": [
    {
     "name": "stdout",
     "output_type": "stream",
     "text": [
      "\n",
      "python version: 3.8.8 (default, Apr 13 2021, 12:59:45) \n",
      "[Clang 10.0.0 ]\n",
      "\n",
      "--- LIBRARY VERSIONS ---\n",
      "tdc:          0.3.6\n",
      "numpy:        1.22.3\n",
      "pandas:       1.2.4\n",
      "moses:        0.3.1\n",
      "rdkit:        2021.9.5.1\n",
      "scipy:        1.7.2\n",
      "seaborn:      0.11.1\n",
      "matplotlib:   3.3.4\n"
     ]
    }
   ],
   "source": [
    "# View versioning.\n",
    "print(\"\\npython version:\", sys.version)\n",
    "print(\"\\n--- LIBRARY VERSIONS ---\")\n",
    "print(\"tdc:         \", version(\"PyTDC\"))\n",
    "print(\"numpy:       \", version(\"numpy\"))\n",
    "print(\"pandas:      \", version(\"pandas\"))\n",
    "print(\"moses:       \", version(\"molsets\"))\n",
    "print(\"rdkit:       \", version(\"rdkit-pypi\"))\n",
    "print(\"scipy:       \", version(\"scipy\"))\n",
    "print(\"seaborn:     \", version(\"seaborn\"))\n",
    "print(\"matplotlib:  \", version(\"matplotlib\"))"
   ]
  },
  {
   "cell_type": "code",
   "execution_count": 2,
   "id": "65f02590-1c93-4268-87e6-7af42042832c",
   "metadata": {},
   "outputs": [],
   "source": [
    "%%capture\n",
    "# Installs.\n",
    "#!python3.8 -m pip install fcd_torch\n",
    "#!python3.8 -m pip install rxn4chemistry"
   ]
  },
  {
   "cell_type": "markdown",
   "id": "f78dc6e4-ecaa-450d-8a01-bceb24390854",
   "metadata": {},
   "source": [
    "## Define functions"
   ]
  },
  {
   "cell_type": "code",
   "execution_count": 31,
   "id": "8406dab1-94d5-4048-888b-a94e878c5479",
   "metadata": {},
   "outputs": [],
   "source": [
    "def compute_tdc_metrics(generated, training):\n",
    "    \n",
    "    metrics_dict = dict()\n",
    "    \n",
    "    kl = Evaluator(name = \"KL_Divergence\")\n",
    "    metrics_dict[\"KL divergence\"] = kl(generated, training)\n",
    "\n",
    "    uniqueness = Evaluator(name = \"Uniqueness\")\n",
    "    metrics_dict[\"Uniqueness\"] = uniqueness(generated)\n",
    "\n",
    "    validity = Evaluator(name = \"Validity\")\n",
    "    metrics_dict[\"Validity\"] = validity(generated)\n",
    "\n",
    "    novelty = Evaluator(name = \"Novelty\")\n",
    "    metrics_dict[\"Novelty\"] = novelty(generated, training)\n",
    "\n",
    "    #fcd = Evaluator(name = \"FCD_Distance\")\n",
    "    #metrics_dict[\"FCD distance\"] = fcd(generated, training)\n",
    "\n",
    "    diversity = Evaluator(name = \"Diversity\")\n",
    "    metrics_dict[\"Diversity\"] = diversity(generated)\n",
    "\n",
    "    return metrics_dict\n",
    "\n",
    "\n",
    "def remove_ungrammatical(generated):\n",
    "    # Disable warnings.\n",
    "    RDLogger.DisableLog(\"rdApp.*\")  \n",
    "    \n",
    "    # Filter molecules.\n",
    "    keep = []\n",
    "    invalid_string = 0\n",
    "    invalid_chemistry = 0\n",
    "    for molecule in generated:\n",
    "        m = Chem.MolFromSmiles(molecule, sanitize = False)\n",
    "        if m is None:\n",
    "            invalid_string += 1\n",
    "        else:\n",
    "            try:\n",
    "                Chem.SanitizeMol(m)\n",
    "                keep.append(molecule)\n",
    "            except:\n",
    "                invalid_chemistry += 1\n",
    "                \n",
    "    print(\"Total strings with invalid SMILES syntax:\", invalid_string)\n",
    "    print(\"Total strings with invalid chemistry:\", invalid_chemistry)\n",
    "    print(\"Total valid SMILES strings:\", len(keep))\n",
    "    print(\"Percent valid SMILES strings:\", (len(keep) / len(generated)))\n",
    "    \n",
    "    return keep\n",
    "\n",
    "\n",
    "def plot_distribution_basic(df):\n",
    "    sns.displot(data = df, \n",
    "                x = \"Data\", \n",
    "                hue = \"Distribution\", \n",
    "                col = \"Metric\",\n",
    "                kind = \"kde\", \n",
    "                #log_scale = (2, 2),\n",
    "                common_norm = True,\n",
    "                fill = True,\n",
    "                height = 5)\n",
    "    plt.show()\n",
    "    \n",
    "    \n",
    "def plot_distribution(df, save_path=\"./plt.pdf\", save=False):\n",
    "    g = sns.FacetGrid(df.reset_index(), \n",
    "                      col=\"Metric\",\n",
    "                      hue=\"Distribution\", \n",
    "                      sharex=False, \n",
    "                      sharey=False)\n",
    "    g.map_dataframe(sns.kdeplot, \n",
    "                    \"Data\", \n",
    "                    fill=True, \n",
    "                    common_norm = True).add_legend()\n",
    "    if save:\n",
    "        plt.savefig(save_path)\n",
    "    else:\n",
    "        plt.show()"
   ]
  },
  {
   "cell_type": "markdown",
   "id": "7aa6c3d8-51d9-4d6e-b1f6-44c38da5841e",
   "metadata": {},
   "source": [
    "## Read data\n",
    "\n",
    "### Generated molecules"
   ]
  },
  {
   "cell_type": "code",
   "execution_count": 4,
   "id": "c1a9fff0-c93b-471a-a807-c4e7403e4d93",
   "metadata": {},
   "outputs": [
    {
     "name": "stdout",
     "output_type": "stream",
     "text": [
      "<class 'pandas.core.frame.DataFrame'>\n",
      "RangeIndex: 200000 entries, 0 to 199999\n",
      "Data columns (total 2 columns):\n",
      " #   Column  Non-Null Count   Dtype \n",
      "---  ------  --------------   ----- \n",
      " 0   SMILES  200000 non-null  object\n",
      " 1   Active  200000 non-null  int64 \n",
      "dtypes: int64(1), object(1)\n",
      "memory usage: 3.1+ MB\n",
      "None\n"
     ]
    },
    {
     "data": {
      "text/html": [
       "<div>\n",
       "<style scoped>\n",
       "    .dataframe tbody tr th:only-of-type {\n",
       "        vertical-align: middle;\n",
       "    }\n",
       "\n",
       "    .dataframe tbody tr th {\n",
       "        vertical-align: top;\n",
       "    }\n",
       "\n",
       "    .dataframe thead th {\n",
       "        text-align: right;\n",
       "    }\n",
       "</style>\n",
       "<table border=\"1\" class=\"dataframe\">\n",
       "  <thead>\n",
       "    <tr style=\"text-align: right;\">\n",
       "      <th></th>\n",
       "      <th>SMILES</th>\n",
       "      <th>Active</th>\n",
       "    </tr>\n",
       "  </thead>\n",
       "  <tbody>\n",
       "    <tr>\n",
       "      <th>0</th>\n",
       "      <td>CC(C)CC[C@@H]2[C@H]3CC[C@H]3CNCCc1ccccc12</td>\n",
       "      <td>1</td>\n",
       "    </tr>\n",
       "    <tr>\n",
       "      <th>1</th>\n",
       "      <td>O=C(CCl)CC1</td>\n",
       "      <td>1</td>\n",
       "    </tr>\n",
       "    <tr>\n",
       "      <th>2</th>\n",
       "      <td>CN(C=O)O)CCCN(C(=O)NC(C)CN(OSCCN(C(=O)O)C(CC)N...</td>\n",
       "      <td>1</td>\n",
       "    </tr>\n",
       "    <tr>\n",
       "      <th>3</th>\n",
       "      <td>Oc1cc2cccc1)N1CCN(C(=O)Cn2cccc1.OCO2)cc1</td>\n",
       "      <td>1</td>\n",
       "    </tr>\n",
       "    <tr>\n",
       "      <th>4</th>\n",
       "      <td>O=C(C)/Cc2ccccc2[nH]24.C1</td>\n",
       "      <td>1</td>\n",
       "    </tr>\n",
       "  </tbody>\n",
       "</table>\n",
       "</div>"
      ],
      "text/plain": [
       "                                              SMILES  Active\n",
       "0          CC(C)CC[C@@H]2[C@H]3CC[C@H]3CNCCc1ccccc12       1\n",
       "1                                        O=C(CCl)CC1       1\n",
       "2  CN(C=O)O)CCCN(C(=O)NC(C)CN(OSCCN(C(=O)O)C(CC)N...       1\n",
       "3           Oc1cc2cccc1)N1CCN(C(=O)Cn2cccc1.OCO2)cc1       1\n",
       "4                          O=C(C)/Cc2ccccc2[nH]24.C1       1"
      ]
     },
     "metadata": {},
     "output_type": "display_data"
    }
   ],
   "source": [
    "# Read in generated molecules.\n",
    "df = pd.read_csv(\"../hmm/hmm_de_novo_200k.csv\")\n",
    "print(df.info())\n",
    "display(df.head())"
   ]
  },
  {
   "cell_type": "code",
   "execution_count": 5,
   "id": "5db30b54-2b42-4fe3-a683-9504e05b2397",
   "metadata": {},
   "outputs": [
    {
     "name": "stdout",
     "output_type": "stream",
     "text": [
      "<class 'pandas.core.frame.DataFrame'>\n",
      "Int64Index: 100000 entries, 0 to 99999\n",
      "Data columns (total 2 columns):\n",
      " #   Column  Non-Null Count   Dtype \n",
      "---  ------  --------------   ----- \n",
      " 0   SMILES  100000 non-null  object\n",
      " 1   Active  100000 non-null  int64 \n",
      "dtypes: int64(1), object(1)\n",
      "memory usage: 2.3+ MB\n",
      "None\n"
     ]
    },
    {
     "data": {
      "text/html": [
       "<div>\n",
       "<style scoped>\n",
       "    .dataframe tbody tr th:only-of-type {\n",
       "        vertical-align: middle;\n",
       "    }\n",
       "\n",
       "    .dataframe tbody tr th {\n",
       "        vertical-align: top;\n",
       "    }\n",
       "\n",
       "    .dataframe thead th {\n",
       "        text-align: right;\n",
       "    }\n",
       "</style>\n",
       "<table border=\"1\" class=\"dataframe\">\n",
       "  <thead>\n",
       "    <tr style=\"text-align: right;\">\n",
       "      <th></th>\n",
       "      <th>SMILES</th>\n",
       "      <th>Active</th>\n",
       "    </tr>\n",
       "  </thead>\n",
       "  <tbody>\n",
       "    <tr>\n",
       "      <th>0</th>\n",
       "      <td>CC(C)CC[C@@H]2[C@H]3CC[C@H]3CNCCc1ccccc12</td>\n",
       "      <td>1</td>\n",
       "    </tr>\n",
       "    <tr>\n",
       "      <th>1</th>\n",
       "      <td>O=C(CCl)CC1</td>\n",
       "      <td>1</td>\n",
       "    </tr>\n",
       "    <tr>\n",
       "      <th>2</th>\n",
       "      <td>CN(C=O)O)CCCN(C(=O)NC(C)CN(OSCCN(C(=O)O)C(CC)N...</td>\n",
       "      <td>1</td>\n",
       "    </tr>\n",
       "    <tr>\n",
       "      <th>3</th>\n",
       "      <td>Oc1cc2cccc1)N1CCN(C(=O)Cn2cccc1.OCO2)cc1</td>\n",
       "      <td>1</td>\n",
       "    </tr>\n",
       "    <tr>\n",
       "      <th>4</th>\n",
       "      <td>O=C(C)/Cc2ccccc2[nH]24.C1</td>\n",
       "      <td>1</td>\n",
       "    </tr>\n",
       "  </tbody>\n",
       "</table>\n",
       "</div>"
      ],
      "text/plain": [
       "                                              SMILES  Active\n",
       "0          CC(C)CC[C@@H]2[C@H]3CC[C@H]3CNCCc1ccccc12       1\n",
       "1                                        O=C(CCl)CC1       1\n",
       "2  CN(C=O)O)CCCN(C(=O)NC(C)CN(OSCCN(C(=O)O)C(CC)N...       1\n",
       "3           Oc1cc2cccc1)N1CCN(C(=O)Cn2cccc1.OCO2)cc1       1\n",
       "4                          O=C(C)/Cc2ccccc2[nH]24.C1       1"
      ]
     },
     "metadata": {},
     "output_type": "display_data"
    },
    {
     "name": "stdout",
     "output_type": "stream",
     "text": [
      "<class 'pandas.core.frame.DataFrame'>\n",
      "Int64Index: 100000 entries, 100000 to 199999\n",
      "Data columns (total 2 columns):\n",
      " #   Column  Non-Null Count   Dtype \n",
      "---  ------  --------------   ----- \n",
      " 0   SMILES  100000 non-null  object\n",
      " 1   Active  100000 non-null  int64 \n",
      "dtypes: int64(1), object(1)\n",
      "memory usage: 2.3+ MB\n",
      "None\n"
     ]
    },
    {
     "data": {
      "text/html": [
       "<div>\n",
       "<style scoped>\n",
       "    .dataframe tbody tr th:only-of-type {\n",
       "        vertical-align: middle;\n",
       "    }\n",
       "\n",
       "    .dataframe tbody tr th {\n",
       "        vertical-align: top;\n",
       "    }\n",
       "\n",
       "    .dataframe thead th {\n",
       "        text-align: right;\n",
       "    }\n",
       "</style>\n",
       "<table border=\"1\" class=\"dataframe\">\n",
       "  <thead>\n",
       "    <tr style=\"text-align: right;\">\n",
       "      <th></th>\n",
       "      <th>SMILES</th>\n",
       "      <th>Active</th>\n",
       "    </tr>\n",
       "  </thead>\n",
       "  <tbody>\n",
       "    <tr>\n",
       "      <th>100000</th>\n",
       "      <td>COc1ccc(F)F)cc1NC(=O)O12)cc1.O=c1c(N2CCCCCC4)c...</td>\n",
       "      <td>0</td>\n",
       "    </tr>\n",
       "    <tr>\n",
       "      <th>100001</th>\n",
       "      <td>CN(C)c1cnc2ncccc2)OCO2)c1O</td>\n",
       "      <td>0</td>\n",
       "    </tr>\n",
       "    <tr>\n",
       "      <th>100002</th>\n",
       "      <td>CCCCC[n+]</td>\n",
       "      <td>0</td>\n",
       "    </tr>\n",
       "    <tr>\n",
       "      <th>100003</th>\n",
       "      <td>NC[C@H]3O)C[C@aH]3CC[C@aH](C)C(=O)O)nc21.O=O</td>\n",
       "      <td>0</td>\n",
       "    </tr>\n",
       "    <tr>\n",
       "      <th>100004</th>\n",
       "      <td>Nc1cnc(NC(=O)C1CCOC1=C(CCl</td>\n",
       "      <td>0</td>\n",
       "    </tr>\n",
       "  </tbody>\n",
       "</table>\n",
       "</div>"
      ],
      "text/plain": [
       "                                                   SMILES  Active\n",
       "100000  COc1ccc(F)F)cc1NC(=O)O12)cc1.O=c1c(N2CCCCCC4)c...       0\n",
       "100001                         CN(C)c1cnc2ncccc2)OCO2)c1O       0\n",
       "100002                                          CCCCC[n+]       0\n",
       "100003       NC[C@H]3O)C[C@aH]3CC[C@aH](C)C(=O)O)nc21.O=O       0\n",
       "100004                         Nc1cnc(NC(=O)C1CCOC1=C(CCl       0"
      ]
     },
     "metadata": {},
     "output_type": "display_data"
    }
   ],
   "source": [
    "# Disaggregate molecules sampled from active model vs inactive model.\n",
    "df_active = df[df[\"Active\"] == 1]\n",
    "df_inactive = df[df[\"Active\"] == 0]\n",
    "\n",
    "print(df_active.info())\n",
    "display(df_active.head())\n",
    "\n",
    "print(df_inactive.info())\n",
    "display(df_inactive.head())"
   ]
  },
  {
   "cell_type": "markdown",
   "id": "fdf61708-d922-40d0-842a-db647f14cd89",
   "metadata": {},
   "source": [
    "### Training data from TDC"
   ]
  },
  {
   "cell_type": "code",
   "execution_count": 6,
   "id": "c12c6415-4dc6-4559-a1de-e5063e7788d3",
   "metadata": {},
   "outputs": [
    {
     "name": "stdout",
     "output_type": "stream",
     "text": [
      "<class 'pandas.core.frame.DataFrame'>\n",
      "RangeIndex: 132 entries, 0 to 131\n",
      "Data columns (total 1 columns):\n",
      " #   Column  Non-Null Count  Dtype \n",
      "---  ------  --------------  ----- \n",
      " 0   SMILES  132 non-null    object\n",
      "dtypes: object(1)\n",
      "memory usage: 1.2+ KB\n",
      "None\n"
     ]
    },
    {
     "data": {
      "text/html": [
       "<div>\n",
       "<style scoped>\n",
       "    .dataframe tbody tr th:only-of-type {\n",
       "        vertical-align: middle;\n",
       "    }\n",
       "\n",
       "    .dataframe tbody tr th {\n",
       "        vertical-align: top;\n",
       "    }\n",
       "\n",
       "    .dataframe thead th {\n",
       "        text-align: right;\n",
       "    }\n",
       "</style>\n",
       "<table border=\"1\" class=\"dataframe\">\n",
       "  <thead>\n",
       "    <tr style=\"text-align: right;\">\n",
       "      <th></th>\n",
       "      <th>SMILES</th>\n",
       "    </tr>\n",
       "  </thead>\n",
       "  <tbody>\n",
       "    <tr>\n",
       "      <th>0</th>\n",
       "      <td>NC(=O)c1ccc(NC(=O)[C@@H]2CCCO2)cc1</td>\n",
       "    </tr>\n",
       "    <tr>\n",
       "      <th>1</th>\n",
       "      <td>Cc1nccn1CC1CCc2c(c3ccccc3n2C)C1=O.Cl</td>\n",
       "    </tr>\n",
       "    <tr>\n",
       "      <th>2</th>\n",
       "      <td>COC(=O)Nc1sc(C)nc1-c1ccccc1</td>\n",
       "    </tr>\n",
       "    <tr>\n",
       "      <th>3</th>\n",
       "      <td>OC1CCN(Cc2ccsc2)CC1</td>\n",
       "    </tr>\n",
       "    <tr>\n",
       "      <th>4</th>\n",
       "      <td>CC(C(O)c1ccc(O)cc1)N1CCC(Cc2ccccc2)CC1.CC(C(O)...</td>\n",
       "    </tr>\n",
       "  </tbody>\n",
       "</table>\n",
       "</div>"
      ],
      "text/plain": [
       "                                              SMILES\n",
       "0                 NC(=O)c1ccc(NC(=O)[C@@H]2CCCO2)cc1\n",
       "1               Cc1nccn1CC1CCc2c(c3ccccc3n2C)C1=O.Cl\n",
       "2                        COC(=O)Nc1sc(C)nc1-c1ccccc1\n",
       "3                                OC1CCN(Cc2ccsc2)CC1\n",
       "4  CC(C(O)c1ccc(O)cc1)N1CCC(Cc2ccccc2)CC1.CC(C(O)..."
      ]
     },
     "metadata": {},
     "output_type": "display_data"
    },
    {
     "name": "stdout",
     "output_type": "stream",
     "text": [
      "<class 'pandas.core.frame.DataFrame'>\n",
      "RangeIndex: 1758 entries, 0 to 1757\n",
      "Data columns (total 1 columns):\n",
      " #   Column  Non-Null Count  Dtype \n",
      "---  ------  --------------  ----- \n",
      " 0   SMILES  1758 non-null   object\n",
      "dtypes: object(1)\n",
      "memory usage: 13.9+ KB\n",
      "None\n"
     ]
    },
    {
     "data": {
      "text/html": [
       "<div>\n",
       "<style scoped>\n",
       "    .dataframe tbody tr th:only-of-type {\n",
       "        vertical-align: middle;\n",
       "    }\n",
       "\n",
       "    .dataframe tbody tr th {\n",
       "        vertical-align: top;\n",
       "    }\n",
       "\n",
       "    .dataframe thead th {\n",
       "        text-align: right;\n",
       "    }\n",
       "</style>\n",
       "<table border=\"1\" class=\"dataframe\">\n",
       "  <thead>\n",
       "    <tr style=\"text-align: right;\">\n",
       "      <th></th>\n",
       "      <th>SMILES</th>\n",
       "    </tr>\n",
       "  </thead>\n",
       "  <tbody>\n",
       "    <tr>\n",
       "      <th>0</th>\n",
       "      <td>Nc1ccn([C@@H]2O[C@H](CO)[C@@H](O)[C@@H]2O)c(=O)n1</td>\n",
       "    </tr>\n",
       "    <tr>\n",
       "      <th>1</th>\n",
       "      <td>COc1cc(Br)c(C[N+]2(CCOCCC3CCC4CC3C4(C)C)CCOCC2...</td>\n",
       "    </tr>\n",
       "    <tr>\n",
       "      <th>2</th>\n",
       "      <td>O=C1CCc2ccc(OCCCCN3CCN(c4cccc(Cl)c4Cl)CC3)cc2N1</td>\n",
       "    </tr>\n",
       "    <tr>\n",
       "      <th>3</th>\n",
       "      <td>COCC1=C(C(=O)OC(C)OC(=O)OC(C)C)N2C(=O)[C@@H](N...</td>\n",
       "    </tr>\n",
       "    <tr>\n",
       "      <th>4</th>\n",
       "      <td>c1nc(N2CCC2)c2[nH]cnc2n1</td>\n",
       "    </tr>\n",
       "  </tbody>\n",
       "</table>\n",
       "</div>"
      ],
      "text/plain": [
       "                                              SMILES\n",
       "0  Nc1ccn([C@@H]2O[C@H](CO)[C@@H](O)[C@@H]2O)c(=O)n1\n",
       "1  COc1cc(Br)c(C[N+]2(CCOCCC3CCC4CC3C4(C)C)CCOCC2...\n",
       "2    O=C1CCc2ccc(OCCCCN3CCN(c4cccc(Cl)c4Cl)CC3)cc2N1\n",
       "3  COCC1=C(C(=O)OC(C)OC(=O)OC(C)C)N2C(=O)[C@@H](N...\n",
       "4                           c1nc(N2CCC2)c2[nH]cnc2n1"
      ]
     },
     "metadata": {},
     "output_type": "display_data"
    }
   ],
   "source": [
    "df_active_train = pd.read_csv(\"../sars_data/actives_train.csv\")\n",
    "df_inactive_train = pd.read_csv(\"../sars_data/inactives_train.csv\")\n",
    "\n",
    "print(df_active_train.info())\n",
    "display(df_active_train.head())\n",
    "print(df_inactive_train.info())\n",
    "display(df_inactive_train.head())"
   ]
  },
  {
   "cell_type": "markdown",
   "id": "03bd8022-2812-44cb-8718-b84dda8c902e",
   "metadata": {},
   "source": [
    "### Validation data"
   ]
  },
  {
   "cell_type": "code",
   "execution_count": 50,
   "id": "3f83c935-14ef-4a65-829c-57efc52080ed",
   "metadata": {},
   "outputs": [
    {
     "name": "stdout",
     "output_type": "stream",
     "text": [
      "<class 'pandas.core.frame.DataFrame'>\n",
      "RangeIndex: 34 entries, 0 to 33\n",
      "Data columns (total 1 columns):\n",
      " #   Column  Non-Null Count  Dtype \n",
      "---  ------  --------------  ----- \n",
      " 0   SMILES  34 non-null     object\n",
      "dtypes: object(1)\n",
      "memory usage: 400.0+ bytes\n",
      "None\n"
     ]
    },
    {
     "data": {
      "text/html": [
       "<div>\n",
       "<style scoped>\n",
       "    .dataframe tbody tr th:only-of-type {\n",
       "        vertical-align: middle;\n",
       "    }\n",
       "\n",
       "    .dataframe tbody tr th {\n",
       "        vertical-align: top;\n",
       "    }\n",
       "\n",
       "    .dataframe thead th {\n",
       "        text-align: right;\n",
       "    }\n",
       "</style>\n",
       "<table border=\"1\" class=\"dataframe\">\n",
       "  <thead>\n",
       "    <tr style=\"text-align: right;\">\n",
       "      <th></th>\n",
       "      <th>SMILES</th>\n",
       "    </tr>\n",
       "  </thead>\n",
       "  <tbody>\n",
       "    <tr>\n",
       "      <th>0</th>\n",
       "      <td>O=C(CCl)N1CCN(Cc2cccc3ccccc23)CC1</td>\n",
       "    </tr>\n",
       "    <tr>\n",
       "      <th>1</th>\n",
       "      <td>O=C(CCl)N1CCN(S(=O)(=O)c2cccs2)CC1</td>\n",
       "    </tr>\n",
       "    <tr>\n",
       "      <th>2</th>\n",
       "      <td>C[C@H]1CN(c2c(F)c(N)c3c(=O)c(C(=O)O)cn(C4CC4)c...</td>\n",
       "    </tr>\n",
       "    <tr>\n",
       "      <th>3</th>\n",
       "      <td>C/C=C/c1ccc(OC)cc1</td>\n",
       "    </tr>\n",
       "    <tr>\n",
       "      <th>4</th>\n",
       "      <td>Clc1cccc(CN2CCOCC2)c1</td>\n",
       "    </tr>\n",
       "  </tbody>\n",
       "</table>\n",
       "</div>"
      ],
      "text/plain": [
       "                                              SMILES\n",
       "0                  O=C(CCl)N1CCN(Cc2cccc3ccccc23)CC1\n",
       "1                 O=C(CCl)N1CCN(S(=O)(=O)c2cccs2)CC1\n",
       "2  C[C@H]1CN(c2c(F)c(N)c3c(=O)c(C(=O)O)cn(C4CC4)c...\n",
       "3                                 C/C=C/c1ccc(OC)cc1\n",
       "4                              Clc1cccc(CN2CCOCC2)c1"
      ]
     },
     "metadata": {},
     "output_type": "display_data"
    },
    {
     "name": "stdout",
     "output_type": "stream",
     "text": [
      "<class 'pandas.core.frame.DataFrame'>\n",
      "RangeIndex: 440 entries, 0 to 439\n",
      "Data columns (total 1 columns):\n",
      " #   Column  Non-Null Count  Dtype \n",
      "---  ------  --------------  ----- \n",
      " 0   SMILES  440 non-null    object\n",
      "dtypes: object(1)\n",
      "memory usage: 3.6+ KB\n",
      "None\n"
     ]
    },
    {
     "data": {
      "text/html": [
       "<div>\n",
       "<style scoped>\n",
       "    .dataframe tbody tr th:only-of-type {\n",
       "        vertical-align: middle;\n",
       "    }\n",
       "\n",
       "    .dataframe tbody tr th {\n",
       "        vertical-align: top;\n",
       "    }\n",
       "\n",
       "    .dataframe thead th {\n",
       "        text-align: right;\n",
       "    }\n",
       "</style>\n",
       "<table border=\"1\" class=\"dataframe\">\n",
       "  <thead>\n",
       "    <tr style=\"text-align: right;\">\n",
       "      <th></th>\n",
       "      <th>SMILES</th>\n",
       "    </tr>\n",
       "  </thead>\n",
       "  <tbody>\n",
       "    <tr>\n",
       "      <th>0</th>\n",
       "      <td>CCC1(C)CC(=O)NC1=O</td>\n",
       "    </tr>\n",
       "    <tr>\n",
       "      <th>1</th>\n",
       "      <td>CC(=O)N[C@@H](CCC(N)=O)C(=O)O</td>\n",
       "    </tr>\n",
       "    <tr>\n",
       "      <th>2</th>\n",
       "      <td>O=C1O[C@H]([C@@H](O)CO)C(O)=C1O</td>\n",
       "    </tr>\n",
       "    <tr>\n",
       "      <th>3</th>\n",
       "      <td>CC(C)n1cnc(S(N)(=O)=O)c1</td>\n",
       "    </tr>\n",
       "    <tr>\n",
       "      <th>4</th>\n",
       "      <td>Cc1ccc(=O)n(-c2ccccc2)c1</td>\n",
       "    </tr>\n",
       "  </tbody>\n",
       "</table>\n",
       "</div>"
      ],
      "text/plain": [
       "                            SMILES\n",
       "0               CCC1(C)CC(=O)NC1=O\n",
       "1    CC(=O)N[C@@H](CCC(N)=O)C(=O)O\n",
       "2  O=C1O[C@H]([C@@H](O)CO)C(O)=C1O\n",
       "3         CC(C)n1cnc(S(N)(=O)=O)c1\n",
       "4         Cc1ccc(=O)n(-c2ccccc2)c1"
      ]
     },
     "metadata": {},
     "output_type": "display_data"
    }
   ],
   "source": [
    "df_active_val = pd.read_csv(\"../sars_data/actives_val.csv\")\n",
    "df_inactive_val = pd.read_csv(\"../sars_data/inactives_val.csv\")\n",
    "\n",
    "print(df_active_val.info())\n",
    "display(df_active_val.head())\n",
    "print(df_inactive_val.info())\n",
    "display(df_inactive_val.head())"
   ]
  },
  {
   "cell_type": "markdown",
   "id": "d216549c-4021-4472-a3d2-d45415762afc",
   "metadata": {},
   "source": [
    "## Process data"
   ]
  },
  {
   "cell_type": "code",
   "execution_count": 51,
   "id": "b584d3bc-3a5d-4b29-94f1-d7ac288ba291",
   "metadata": {},
   "outputs": [],
   "source": [
    "# Listify.\n",
    "actives_gen = list(df_active.SMILES)\n",
    "inactives_gen = list(df_inactive.SMILES)\n",
    "\n",
    "actives_train = list(df_active_train.SMILES)\n",
    "inactives_train = list(df_inactive_train.SMILES)\n",
    "\n",
    "actives_val = list(df_active_val.SMILES)\n",
    "inactives_val = list(df_inactive_val.SMILES)"
   ]
  },
  {
   "cell_type": "code",
   "execution_count": 52,
   "id": "339130cd-d674-4502-a4b5-7138a13f2476",
   "metadata": {},
   "outputs": [
    {
     "name": "stdout",
     "output_type": "stream",
     "text": [
      "--- de novo actives ---\n",
      "Total strings with invalid SMILES syntax: 89430\n",
      "Total strings with invalid chemistry: 2628\n",
      "Total valid SMILES strings: 7942\n",
      "Percent valid SMILES strings: 0.07942\n",
      "\n",
      "--- de novo inactives ---\n",
      "Total strings with invalid SMILES syntax: 86530\n",
      "Total strings with invalid chemistry: 3168\n",
      "Total valid SMILES strings: 10302\n",
      "Percent valid SMILES strings: 0.10302\n",
      "\n",
      "--- training actives ---\n",
      "Total strings with invalid SMILES syntax: 0\n",
      "Total strings with invalid chemistry: 0\n",
      "Total valid SMILES strings: 132\n",
      "Percent valid SMILES strings: 1.0\n",
      "\n",
      "--- training inactives ---\n",
      "Total strings with invalid SMILES syntax: 0\n",
      "Total strings with invalid chemistry: 0\n",
      "Total valid SMILES strings: 1758\n",
      "Percent valid SMILES strings: 1.0\n",
      "\n",
      "--- validation actives ---\n",
      "Total strings with invalid SMILES syntax: 0\n",
      "Total strings with invalid chemistry: 0\n",
      "Total valid SMILES strings: 34\n",
      "Percent valid SMILES strings: 1.0\n",
      "\n",
      "--- validation inactives ---\n",
      "Total strings with invalid SMILES syntax: 0\n",
      "Total strings with invalid chemistry: 0\n",
      "Total valid SMILES strings: 440\n",
      "Percent valid SMILES strings: 1.0\n"
     ]
    }
   ],
   "source": [
    "# Filter out molecules that do not pass RDKit checks.\n",
    "# Some metrics will require this step.\n",
    "print(\"--- de novo actives ---\")\n",
    "actives_gen_grammatical = remove_ungrammatical(actives_gen)\n",
    "print(\"\\n--- de novo inactives ---\")\n",
    "inactives_gen_grammatical = remove_ungrammatical(inactives_gen)\n",
    "print(\"\\n--- training actives ---\")\n",
    "actives_train_grammatical = remove_ungrammatical(actives_train)\n",
    "print(\"\\n--- training inactives ---\")\n",
    "inactives_train_grammatical = remove_ungrammatical(inactives_train)\n",
    "print(\"\\n--- validation actives ---\")\n",
    "actives_val_grammatical = remove_ungrammatical(actives_val)\n",
    "print(\"\\n--- validation inactives ---\")\n",
    "inactives_val_grammatical = remove_ungrammatical(inactives_val)"
   ]
  },
  {
   "cell_type": "markdown",
   "id": "fd4af4aa-1eca-4287-ae30-1573d1e0a039",
   "metadata": {},
   "source": [
    "## Global-level metrics\n",
    "\n",
    "### MOSES metrics"
   ]
  },
  {
   "cell_type": "code",
   "execution_count": 16,
   "id": "d8a762af-857d-4ba9-9de9-272d2488de33",
   "metadata": {},
   "outputs": [
    {
     "data": {
      "text/plain": [
       "\u001b[0;31mSignature:\u001b[0m\n",
       "\u001b[0mmoses\u001b[0m\u001b[0;34m.\u001b[0m\u001b[0mget_all_metrics\u001b[0m\u001b[0;34m(\u001b[0m\u001b[0;34m\u001b[0m\n",
       "\u001b[0;34m\u001b[0m    \u001b[0mgen\u001b[0m\u001b[0;34m,\u001b[0m\u001b[0;34m\u001b[0m\n",
       "\u001b[0;34m\u001b[0m    \u001b[0mk\u001b[0m\u001b[0;34m=\u001b[0m\u001b[0;32mNone\u001b[0m\u001b[0;34m,\u001b[0m\u001b[0;34m\u001b[0m\n",
       "\u001b[0;34m\u001b[0m    \u001b[0mn_jobs\u001b[0m\u001b[0;34m=\u001b[0m\u001b[0;36m1\u001b[0m\u001b[0;34m,\u001b[0m\u001b[0;34m\u001b[0m\n",
       "\u001b[0;34m\u001b[0m    \u001b[0mdevice\u001b[0m\u001b[0;34m=\u001b[0m\u001b[0;34m'cpu'\u001b[0m\u001b[0;34m,\u001b[0m\u001b[0;34m\u001b[0m\n",
       "\u001b[0;34m\u001b[0m    \u001b[0mbatch_size\u001b[0m\u001b[0;34m=\u001b[0m\u001b[0;36m512\u001b[0m\u001b[0;34m,\u001b[0m\u001b[0;34m\u001b[0m\n",
       "\u001b[0;34m\u001b[0m    \u001b[0mpool\u001b[0m\u001b[0;34m=\u001b[0m\u001b[0;32mNone\u001b[0m\u001b[0;34m,\u001b[0m\u001b[0;34m\u001b[0m\n",
       "\u001b[0;34m\u001b[0m    \u001b[0mtest\u001b[0m\u001b[0;34m=\u001b[0m\u001b[0;32mNone\u001b[0m\u001b[0;34m,\u001b[0m\u001b[0;34m\u001b[0m\n",
       "\u001b[0;34m\u001b[0m    \u001b[0mtest_scaffolds\u001b[0m\u001b[0;34m=\u001b[0m\u001b[0;32mNone\u001b[0m\u001b[0;34m,\u001b[0m\u001b[0;34m\u001b[0m\n",
       "\u001b[0;34m\u001b[0m    \u001b[0mptest\u001b[0m\u001b[0;34m=\u001b[0m\u001b[0;32mNone\u001b[0m\u001b[0;34m,\u001b[0m\u001b[0;34m\u001b[0m\n",
       "\u001b[0;34m\u001b[0m    \u001b[0mptest_scaffolds\u001b[0m\u001b[0;34m=\u001b[0m\u001b[0;32mNone\u001b[0m\u001b[0;34m,\u001b[0m\u001b[0;34m\u001b[0m\n",
       "\u001b[0;34m\u001b[0m    \u001b[0mtrain\u001b[0m\u001b[0;34m=\u001b[0m\u001b[0;32mNone\u001b[0m\u001b[0;34m,\u001b[0m\u001b[0;34m\u001b[0m\n",
       "\u001b[0;34m\u001b[0m\u001b[0;34m)\u001b[0m\u001b[0;34m\u001b[0m\u001b[0;34m\u001b[0m\u001b[0m\n",
       "\u001b[0;31mDocstring:\u001b[0m\n",
       "Computes all available metrics between test (scaffold test)\n",
       "and generated sets of SMILES.\n",
       "Parameters:\n",
       "    gen: list of generated SMILES\n",
       "    k: int or list with values for unique@k. Will calculate number of\n",
       "        unique molecules in the first k molecules. Default [1000, 10000]\n",
       "    n_jobs: number of workers for parallel processing\n",
       "    device: 'cpu' or 'cuda:n', where n is GPU device number\n",
       "    batch_size: batch size for FCD metric\n",
       "    pool: optional multiprocessing pool to use for parallelization\n",
       "\n",
       "    test (None or list): test SMILES. If None, will load\n",
       "        a default test set\n",
       "    test_scaffolds (None or list): scaffold test SMILES. If None, will\n",
       "        load a default scaffold test set\n",
       "    ptest (None or dict): precalculated statistics of the test set. If\n",
       "        None, will load default test statistics. If you specified a custom\n",
       "        test set, default test statistics will be ignored\n",
       "    ptest_scaffolds (None or dict): precalculated statistics of the\n",
       "        scaffold test set If None, will load default scaffold test\n",
       "        statistics. If you specified a custom test set, default test\n",
       "        statistics will be ignored\n",
       "    train (None or list): train SMILES. If None, will load a default\n",
       "        train set\n",
       "Available metrics:\n",
       "    * %valid\n",
       "    * %unique@k\n",
       "    * Frechet ChemNet Distance (FCD)\n",
       "    * Fragment similarity (Frag)\n",
       "    * Scaffold similarity (Scaf)\n",
       "    * Similarity to nearest neighbour (SNN)\n",
       "    * Internal diversity (IntDiv)\n",
       "    * Internal diversity 2: using square root of mean squared\n",
       "        Tanimoto similarity (IntDiv2)\n",
       "    * %passes filters (Filters)\n",
       "    * Distribution difference for logP, SA, QED, weight\n",
       "    * Novelty (molecules not present in train)\n",
       "\u001b[0;31mFile:\u001b[0m      /opt/anaconda3/lib/python3.8/site-packages/moses/metrics/metrics.py\n",
       "\u001b[0;31mType:\u001b[0m      function\n"
      ]
     },
     "metadata": {},
     "output_type": "display_data"
    }
   ],
   "source": [
    "moses.get_all_metrics?"
   ]
  },
  {
   "cell_type": "code",
   "execution_count": 53,
   "id": "e5870193-ddc6-4787-bdbd-836b71fd2b20",
   "metadata": {},
   "outputs": [
    {
     "name": "stdout",
     "output_type": "stream",
     "text": [
      "Complete in 363.13727593421936 seconds.\n"
     ]
    },
    {
     "data": {
      "text/plain": [
       "{'valid': 0.07942000000000005,\n",
       " 'unique@1000': 0.523,\n",
       " 'unique@10000': 0.343238478972551,\n",
       " 'FCD/Test': 27.473050355130773,\n",
       " 'SNN/Test': 0.25493265509519103,\n",
       " 'Frag/Test': 0.6551432517361138,\n",
       " 'Scaf/Test': 0.01890539893580534,\n",
       " 'FCD/TestSF': 29.26671167024266,\n",
       " 'SNN/TestSF': 0.3485263034858952,\n",
       " 'Frag/TestSF': 0.4986154873527564,\n",
       " 'Scaf/TestSF': 0.050546779881924575,\n",
       " 'IntDiv': 0.860975166591893,\n",
       " 'IntDiv2': 0.8113862912395592,\n",
       " 'Filters': 0.778393351800554,\n",
       " 'logP': 1.1518709392359319,\n",
       " 'SA': 0.7593947916367162,\n",
       " 'QED': 0.1321598329932928,\n",
       " 'weight': 209.85906977054242,\n",
       " 'Novelty': 1.0}"
      ]
     },
     "metadata": {},
     "output_type": "display_data"
    }
   ],
   "source": [
    "# Compute MOSES metrics for de novo actives.\n",
    "start_time = time.time()\n",
    "metrics_active = moses.get_all_metrics(gen = actives_gen, train = actives_train, test = actives_val)\n",
    "print(\"Complete in {} seconds.\".format(time.time() - start_time))\n",
    "\n",
    "display(metrics_active)"
   ]
  },
  {
   "cell_type": "code",
   "execution_count": 54,
   "id": "6d4e0653-bf27-48ad-a7b7-561ceb8358db",
   "metadata": {},
   "outputs": [
    {
     "name": "stdout",
     "output_type": "stream",
     "text": [
      "Complete in 422.33643221855164 seconds.\n"
     ]
    },
    {
     "data": {
      "text/plain": [
       "{'valid': 0.10299000000000003,\n",
       " 'unique@1000': 0.516,\n",
       " 'unique@10000': 0.371,\n",
       " 'FCD/Test': 19.78577545350217,\n",
       " 'SNN/Test': 0.22971512028732796,\n",
       " 'Frag/Test': 0.5954148132122074,\n",
       " 'Scaf/Test': 0.1055806697968561,\n",
       " 'FCD/TestSF': 30.327310308967572,\n",
       " 'SNN/TestSF': 0.24439993443811955,\n",
       " 'Frag/TestSF': 0.3401006076347438,\n",
       " 'Scaf/TestSF': 0.013817989782495821,\n",
       " 'IntDiv': 0.90901374111635,\n",
       " 'IntDiv2': 0.8307860302307973,\n",
       " 'Filters': 0.8668802796387999,\n",
       " 'logP': 1.3588118476815936,\n",
       " 'SA': 0.588534555254171,\n",
       " 'QED': 0.1803024118842903,\n",
       " 'weight': 216.7567532860649,\n",
       " 'Novelty': 0.9971067859021567}"
      ]
     },
     "metadata": {},
     "output_type": "display_data"
    }
   ],
   "source": [
    "# Compute MOSES metrics for de novo inactives.\n",
    "start_time = time.time()\n",
    "metrics_inactive = moses.get_all_metrics(gen = inactives_gen, train = inactives_train, test = inactives_val)\n",
    "print(\"Complete in {} seconds.\".format(time.time() - start_time))\n",
    "\n",
    "display(metrics_inactive)"
   ]
  },
  {
   "cell_type": "markdown",
   "id": "b87123a4-958f-42ad-b976-ebb280e4b4c6",
   "metadata": {},
   "source": [
    "### TDC metrics"
   ]
  },
  {
   "cell_type": "code",
   "execution_count": 44,
   "id": "9c7249ad-d398-43d1-860e-6cb5d650560b",
   "metadata": {},
   "outputs": [],
   "source": [
    "# NOTE: must subsample generative inactives to < 10k to get TDC functions to work.\n",
    "# This is due to a glitch in TDC.\n",
    "inactives_gen_grammatical_10k = sample(inactives_gen_grammatical, 10000)"
   ]
  },
  {
   "cell_type": "code",
   "execution_count": 34,
   "id": "fb5de6b6-8448-410d-b89b-b580957a6ebf",
   "metadata": {},
   "outputs": [
    {
     "data": {
      "text/plain": [
       "{'KL divergence': 0.27936732722792806,\n",
       " 'Uniqueness': 0.343238478972551,\n",
       " 'Validity': 1.0,\n",
       " 'Novelty': 1.0,\n",
       " 'Diversity': 0.904073017644864}"
      ]
     },
     "execution_count": 34,
     "metadata": {},
     "output_type": "execute_result"
    }
   ],
   "source": [
    "# Compute all metrics for active de novos vs their training data.\n",
    "compute_tdc_metrics(actives_gen_grammatical, actives_train_grammatical)"
   ]
  },
  {
   "cell_type": "code",
   "execution_count": 56,
   "id": "bc0adfe0-c023-4b14-a82c-05a5af44796a",
   "metadata": {},
   "outputs": [],
   "source": [
    "%%capture\n",
    "# Throws error.\n",
    "'''\n",
    "# Compute all metrics for inactive de novos vs their training data.\n",
    "compute_tdc_metrics(inactives_gen_grammatical_10k, inactives_train_grammatical)\n",
    "'''"
   ]
  },
  {
   "cell_type": "code",
   "execution_count": 59,
   "id": "765e057c-3928-4560-b24a-31961a39b5dc",
   "metadata": {},
   "outputs": [
    {
     "name": "stderr",
     "output_type": "stream",
     "text": [
      "RDKit ERROR: [17:17:58] Explicit valence for atom # 3 O, 3, is greater than permitted\n",
      "[17:17:58] Explicit valence for atom # 3 O, 3, is greater than permitted\n",
      "RDKit ERROR: [17:17:59] Explicit valence for atom # 6 C, 5, is greater than permitted\n",
      "[17:17:59] Explicit valence for atom # 6 C, 5, is greater than permitted\n",
      "RDKit ERROR: [17:18:06] Explicit valence for atom # 14 C, 5, is greater than permitted\n",
      "[17:18:06] Explicit valence for atom # 14 C, 5, is greater than permitted\n",
      "RDKit ERROR: [17:18:14] Explicit valence for atom # 3 O, 3, is greater than permitted\n",
      "[17:18:14] Explicit valence for atom # 3 O, 3, is greater than permitted\n",
      "RDKit ERROR: [17:18:14] Explicit valence for atom # 6 C, 5, is greater than permitted\n",
      "[17:18:14] Explicit valence for atom # 6 C, 5, is greater than permitted\n",
      "RDKit ERROR: [17:18:14] Explicit valence for atom # 14 C, 5, is greater than permitted\n",
      "[17:18:14] Explicit valence for atom # 14 C, 5, is greater than permitted\n"
     ]
    },
    {
     "data": {
      "text/plain": [
       "0.3625401509049426"
      ]
     },
     "execution_count": 59,
     "metadata": {},
     "output_type": "execute_result"
    }
   ],
   "source": [
    "# KL divergence of inactive generated data and inactive training data.\n",
    "kl = Evaluator(name = \"KL_Divergence\")\n",
    "kl(inactives_gen_grammatical_10k, inactives_train_grammatical)"
   ]
  },
  {
   "cell_type": "code",
   "execution_count": 38,
   "id": "061901d6-3aec-4882-bf4b-a1c2457ff462",
   "metadata": {},
   "outputs": [
    {
     "data": {
      "text/plain": [
       "0.854377160131264"
      ]
     },
     "execution_count": 38,
     "metadata": {},
     "output_type": "execute_result"
    }
   ],
   "source": [
    "# KL divergence of active training data and inactive training data.\n",
    "kl(actives_train_grammatical, inactives_train_grammatical)"
   ]
  },
  {
   "cell_type": "code",
   "execution_count": 39,
   "id": "4e250857-9fa6-48a6-b775-dbabf07794d7",
   "metadata": {},
   "outputs": [
    {
     "data": {
      "text/plain": [
       "0.3484353281679069"
      ]
     },
     "execution_count": 39,
     "metadata": {},
     "output_type": "execute_result"
    }
   ],
   "source": [
    "# KL divergence of active de novos and inactive training data.\n",
    "kl(actives_gen_grammatical, inactives_train_grammatical)"
   ]
  },
  {
   "cell_type": "code",
   "execution_count": 48,
   "id": "6d6a5acd-9a67-43d1-aab8-f096f1b7a93f",
   "metadata": {},
   "outputs": [
    {
     "data": {
      "text/plain": [
       "0.3116406893373279"
      ]
     },
     "execution_count": 48,
     "metadata": {},
     "output_type": "execute_result"
    }
   ],
   "source": [
    "# KL divergence of inactive de novos and active training data.\n",
    "kl(inactives_gen_grammatical_10k, actives_train_grammatical)"
   ]
  },
  {
   "cell_type": "code",
   "execution_count": 49,
   "id": "b291a010-b61e-4cc9-9f8c-37b787696785",
   "metadata": {},
   "outputs": [
    {
     "data": {
      "text/plain": [
       "0.8661548988593983"
      ]
     },
     "execution_count": 49,
     "metadata": {},
     "output_type": "execute_result"
    }
   ],
   "source": [
    "# KL divergence of active de novos and inactive de novos.\n",
    "kl(actives_gen_grammatical, inactives_gen_grammatical_10k)"
   ]
  },
  {
   "cell_type": "markdown",
   "id": "d2b15d80-c900-4e0f-ba6b-b130e1617cae",
   "metadata": {
    "tags": []
   },
   "source": [
    "## Molecule-level metrics\n",
    "\n",
    "### Synthetic accessibility\n",
    "\n",
    ">Description: Synthetic Accessibility Score stands for how hard or how easy it is to synthesize a given molecule, based on a combination of the molecule’s fragments contributions. The oracle is caluated via RDKit, using a set of chemical rules defined by Ertl et al. (https://tdcommons.ai/functions/oracles/#ibm-rxn-synthetic-accessibility)[https://tdcommons.ai/functions/oracles/#ibm-rxn-synthetic-accessibility]"
   ]
  },
  {
   "cell_type": "code",
   "execution_count": 61,
   "id": "ae9d03a9-2798-43a6-b0e2-4bbd7bc89523",
   "metadata": {},
   "outputs": [
    {
     "name": "stderr",
     "output_type": "stream",
     "text": [
      "Downloading Oracle...\n",
      "100%|█████████████████████████████████████| 9.05M/9.05M [00:00<00:00, 12.3MiB/s]\n",
      "Done!\n"
     ]
    },
    {
     "name": "stdout",
     "output_type": "stream",
     "text": [
      "Generated actives :\n",
      "[3.8081608171680816, 1.0, 2.329824317809681, 3.9219936549142815, 1.5149307387756714, 1.0, 1.771542444027295, 1.5149307387756714, 1.0337432953498862, 2.441906733534573, 1.8230102977867872, 1.0, 1.8554188172249635, 4.971716405365327, 1.0, 1.562280905137051, 4.1870220426895015, 2.082657661852597, 1.1765612788317714, 1.0] \n",
      "\n",
      "Generated inactives :\n",
      "[2.027664745924726, 2.1829367021323147, 1.2193369017434907, 1.1765612788317714, 4.025844842026315, 6.069375611257085, 1.841777545687096, 2.4758635865240795, 3.8094440516233554, 2.1829367021323147, 1.9684626543052186, 5.913029175644346, 4.480956892621826, 1.2908403725926725, 6.251046153846153, 1.5559458942163857, 4.185165672972262, 1.618413431083363, 6.251046153846153, 3.373829457410931] \n",
      "\n",
      "Training actives :\n",
      "[2.250644652759915, 3.152523613123961, 2.046193504917479, 2.1059531103327114, 4.347324441648668, 1.8418534350416884, 3.054888542720498, 2.18792885485969, 1.6667335034193016, 2.102310618299608, 2.058554629194486, 3.108002804603581, 3.21167562653525, 1.820711580342378, 6.769483231246683, 2.1418381844699574, 1.964040453329856, 1.5359575087690605, 2.141274629194484, 5.040402153133423] \n",
      "\n",
      "Training inactives :\n",
      "[3.548894614600127, 4.894520931229949, 2.3417132900326205, 4.208335607402816, 2.463989142721376, 2.4931207216687454, 7.279720621289028, 3.563874509172142, 3.3558364632643034, 3.3603500783386364, 4.270784061674063, 1.9580204964998433, 4.390327019354513, 2.5448055389811817, 4.636491016521498, 2.1939001768170083, 2.8721018691784153, 3.188459077120484, 2.69798303888437, 3.958573370751779] \n",
      "\n"
     ]
    }
   ],
   "source": [
    "# Synthetic accessibility.\n",
    "sa = Oracle(name = \"SA\")\n",
    "sa_actives_gen = sa(actives_gen_grammatical)\n",
    "sa_inactives_gen = sa(inactives_gen_grammatical)\n",
    "sa_actives_train = sa(actives_train_grammatical)\n",
    "sa_inactives_train = sa(inactives_train_grammatical)\n",
    "\n",
    "sa_dict = {\"Generated actives\": sa_actives_gen,\n",
    "           \"Generated inactives\": sa_inactives_gen,\n",
    "           \"Training actives\": sa_actives_train,\n",
    "           \"Training inactives\": sa_inactives_train}\n",
    "\n",
    "for key,value in sa_dict.items():\n",
    "    print(key, \":\")\n",
    "    print(value[:20], \"\\n\")"
   ]
  },
  {
   "cell_type": "markdown",
   "id": "574ae571-1f4c-4826-8bc9-8bea5d3dad46",
   "metadata": {},
   "source": [
    "### QED\n",
    "\n",
    "> Description: QED stands for Quantitative Estimate of Drug-likeness. The oracle is caluated via RDKit, using a set of chemical rules about drug-likeliness defined by Bickerton et al. (https://tdcommons.ai/functions/oracles/#ibm-rxn-synthetic-accessibility)[https://tdcommons.ai/functions/oracles/]"
   ]
  },
  {
   "cell_type": "code",
   "execution_count": 72,
   "id": "b871188f-eb4b-4ea5-ba8a-be0cad43cdb0",
   "metadata": {},
   "outputs": [
    {
     "name": "stderr",
     "output_type": "stream",
     "text": [
      "RDKit ERROR: [17:31:48] Explicit valence for atom # 14 C, 5, is greater than permitted\n",
      "[17:31:48] Explicit valence for atom # 14 C, 5, is greater than permitted\n",
      "RDKit ERROR: [17:31:48] Explicit valence for atom # 6 C, 5, is greater than permitted\n",
      "[17:31:48] Explicit valence for atom # 6 C, 5, is greater than permitted\n"
     ]
    },
    {
     "name": "stdout",
     "output_type": "stream",
     "text": [
      "Total de novo inactives with invalid valence: 3\n",
      "Total de novo inactives with valid valence: 10299\n"
     ]
    },
    {
     "name": "stderr",
     "output_type": "stream",
     "text": [
      "RDKit ERROR: [17:31:48] Explicit valence for atom # 3 O, 3, is greater than permitted\n",
      "[17:31:48] Explicit valence for atom # 3 O, 3, is greater than permitted\n"
     ]
    }
   ],
   "source": [
    "# Address this error:\n",
    "# RDKit ERROR: Explicit valence for atom # 14 C, 5, is greater than permitted.\n",
    "inactives_gen_grammatical_keep = []\n",
    "invalid_valence = 0\n",
    "for molecule in inactives_gen_grammatical:\n",
    "        m = Chem.MolFromSmiles(molecule, sanitize = True)\n",
    "        try:\n",
    "            m = Chem.RemoveHs(m)\n",
    "            inactives_gen_grammatical_keep.append(molecule)\n",
    "        except:\n",
    "            invalid_valence += 1\n",
    "print(\"Total de novo inactives with invalid valence:\", invalid_valence)\n",
    "print(\"Total de novo inactives with valid valence:\", len(inactives_gen_grammatical_keep))"
   ]
  },
  {
   "cell_type": "code",
   "execution_count": 75,
   "id": "bd5ba179-2cba-423a-bfd6-4da0c81633ef",
   "metadata": {},
   "outputs": [
    {
     "name": "stdout",
     "output_type": "stream",
     "text": [
      "Generated actives :\n",
      "[0.8600731263554873, 0.4588062796575455, 0.7048434713914715, 0.6751530512805941, 0.4298828832001217, 0.4588062796575455, 0.4751221164476329, 0.4298828832001217, 0.47575768534032103, 0.7291055343546039, 0.8064270758580957, 0.4426283718993647, 0.5937898584624381, 0.7380040716654166, 0.4588062796575455, 0.4711758525933405, 0.5301826554314604, 0.40079285354578315, 0.514729544768675, 0.5316253154127668] \n",
      "\n",
      "Generated inactives :\n",
      "[0.42219487491764734, 0.48188683745544014, 0.5314954779494259, 0.514729544768675, 0.3697970178104732, 0.3603198606146267, 0.5627332625267534, 0.4702306243406387, 0.6671987098858261, 0.48188683745544014, 0.6114735243799428, 0.7002338676213142, 0.404922113372861, 0.6156876950337882, 0.3651643237938947, 0.4719983679006756, 0.3744685411332366, 0.42172630841069036, 0.3651643237938947, 0.37829615354121426] \n",
      "\n",
      "Training actives :\n",
      "[0.814913995911437, 0.7209997551181787, 0.8867424621741485, 0.7798427952514674, 0.08557107474966161, 0.7958887434961184, 0.6113669325066001, 0.40027146695899074, 0.7609207273542546, 0.8084862676024479, 0.8587178092321018, 0.7923102758601841, 0.8035850788958979, 0.7254421466615532, 0.19069761718670236, 0.7669857741342728, 0.7915462676183185, 0.7097425790327138, 0.7608532205240112, 0.1735646721832865] \n",
      "\n",
      "Training inactives :\n",
      "[0.4489304892314893, 0.30953975037902987, 0.6149801508040519, 0.13610908733951915, 0.6877352138422553, 0.7465495043161432, 0.09263818792629527, 0.23514857195132333, 0.45920678237514917, 0.5840740542387298, 0.15991632358230246, 0.4787047717416681, 0.315104276844689, 0.8097576266403491, 0.04053673766495884, 0.8787563784976642, 0.7695113239049232, 0.5524221811312743, 0.28041853664893823, 0.6868426969908572] \n",
      "\n"
     ]
    }
   ],
   "source": [
    "# Quantitative Estimate of Drug-likeness.\n",
    "qed = Oracle(name = \"QED\")\n",
    "qed_actives_gen = qed(actives_gen_grammatical)\n",
    "qed_inactives_gen = qed(inactives_gen_grammatical_keep) # Use only instances with proper valence.\n",
    "qed_actives_train = qed(actives_train_grammatical)\n",
    "qed_inactives_train = qed(inactives_train_grammatical)\n",
    "\n",
    "qed_dict = {\"Generated actives\": qed_actives_gen,\n",
    "            \"Generated inactives\": qed_inactives_gen,\n",
    "            \"Training actives\": qed_actives_train,\n",
    "            \"Training inactives\": qed_inactives_train}\n",
    "\n",
    "for key,value in qed_dict.items():\n",
    "    print(key, \":\")\n",
    "    print(value[:20], \"\\n\")"
   ]
  },
  {
   "cell_type": "markdown",
   "id": "eba1696e-9e55-454d-bf6e-5da811894ea3",
   "metadata": {},
   "source": [
    "### Octanol-water Partition Coefficient (LogP)\n",
    "\n",
    ">Description: The penalized logP score measures the solubility and synthetic accessibility of a compound. The oracle is caluated via RDKit. (https://tdcommons.ai/functions/oracles/#ibm-rxn-synthetic-accessibility)[https://tdcommons.ai/functions/oracles/]"
   ]
  },
  {
   "cell_type": "code",
   "execution_count": 76,
   "id": "9ec09c4c-c3e6-450b-ab96-e23a7802c5d8",
   "metadata": {},
   "outputs": [
    {
     "name": "stdout",
     "output_type": "stream",
     "text": [
      "Generated actives :\n",
      "[-9.885963725003643, 2.310199766358356, 1.202999165184167, -33.80626654958114, 0.36488388519681325, 2.310199766358356, -2.3163271403953916, 0.36488388519681325, 2.484744978836228, 1.2835585652585593, 1.7342783979398995, 2.095171701744179, 0.2919487161132883, -2.54243956834439, 2.310199766358356, 1.7144528669098742, -1.5943946778010947, -0.6423818590305821, 1.6780923668401506, 2.1011675559549365] \n",
      "\n",
      "Generated inactives :\n",
      "[-0.0969460151489101, -0.011255742082078024, 2.5816478007886254, 1.6780923668401506, -2.6134569553469515, -5.443494978749854, 0.8844882641735736, -0.7648295335986789, -1.4932759196059113, -0.011255742082078024, 1.523241926874087, -28.484312823824386, -3.491109106276107, 2.143292752454109, -5.0864760929506385, 1.2214132883886366, -2.9105582689144014, 0.3324133630113102, -5.0864760929506385, -1.8819560347705728] \n",
      "\n",
      "Training actives :\n",
      "[0.0484155553967599, 0.8120953378368679, 1.962654773418923, 0.781015201939405, 0.6786972735424277, 1.4591486469849257, -3.1358662966839255, 1.8423064574376848, 0.09854068066290411, 1.7186468896416607, 1.3798779264818612, -0.5157831293074616, -0.8627063479388197, 1.4063579071453463, -38.94597913937183, 0.048857874177880234, 0.6483420331656747, 0.3603640459920372, 1.7236322595205082, -6.5201273168026415] \n",
      "\n",
      "Training inactives :\n",
      "[-3.9256028801494476, -2.152124689441258, 2.69745985116803, -2.353272119926953, -0.44458568172340474, 0.419214940307353, -65.60918351804446, -0.4933092106800674, -1.4194509093778664, -1.418186927201591, -1.4611179107198313, 0.80329941645672, -3.205639445095907, -0.9107766255479675, -8.521870267136446, 1.4360695806678057, 0.05949739187515257, 1.7847080656603937, 0.12412997844037216, 0.07434568141054365] \n",
      "\n"
     ]
    }
   ],
   "source": [
    "# LogP.\n",
    "logp = Oracle(name = \"LogP\")\n",
    "logp_actives_gen = logp(actives_gen_grammatical)\n",
    "logp_inactives_gen = logp(inactives_gen_grammatical)\n",
    "logp_actives_train = logp(actives_train_grammatical)\n",
    "logp_inactives_train = logp(inactives_train_grammatical)\n",
    "\n",
    "logp_dict = {\"Generated actives\": logp_actives_gen,\n",
    "             \"Generated inactives\": logp_inactives_gen,\n",
    "             \"Training actives\": logp_actives_train,\n",
    "             \"Training inactives\": logp_inactives_train}\n",
    "\n",
    "for key,value in logp_dict.items():\n",
    "    print(key, \":\")\n",
    "    print(value[:20], \"\\n\")"
   ]
  },
  {
   "cell_type": "markdown",
   "id": "f0d8c4d9-ca43-409c-8736-559c3addd274",
   "metadata": {},
   "source": [
    "### Dictionary to dataframe"
   ]
  },
  {
   "cell_type": "code",
   "execution_count": 77,
   "id": "199f37b9-c1c8-4a79-8d3e-59c26f9cbd96",
   "metadata": {},
   "outputs": [
    {
     "data": {
      "text/html": [
       "<div>\n",
       "<style scoped>\n",
       "    .dataframe tbody tr th:only-of-type {\n",
       "        vertical-align: middle;\n",
       "    }\n",
       "\n",
       "    .dataframe tbody tr th {\n",
       "        vertical-align: top;\n",
       "    }\n",
       "\n",
       "    .dataframe thead th {\n",
       "        text-align: right;\n",
       "    }\n",
       "</style>\n",
       "<table border=\"1\" class=\"dataframe\">\n",
       "  <thead>\n",
       "    <tr style=\"text-align: right;\">\n",
       "      <th></th>\n",
       "      <th>Distribution</th>\n",
       "      <th>Data</th>\n",
       "      <th>Metric</th>\n",
       "    </tr>\n",
       "  </thead>\n",
       "  <tbody>\n",
       "    <tr>\n",
       "      <th>0</th>\n",
       "      <td>Generated actives</td>\n",
       "      <td>3.808161</td>\n",
       "      <td>SA</td>\n",
       "    </tr>\n",
       "    <tr>\n",
       "      <th>1</th>\n",
       "      <td>Generated actives</td>\n",
       "      <td>1.000000</td>\n",
       "      <td>SA</td>\n",
       "    </tr>\n",
       "    <tr>\n",
       "      <th>2</th>\n",
       "      <td>Generated actives</td>\n",
       "      <td>2.329824</td>\n",
       "      <td>SA</td>\n",
       "    </tr>\n",
       "    <tr>\n",
       "      <th>3</th>\n",
       "      <td>Generated actives</td>\n",
       "      <td>3.921994</td>\n",
       "      <td>SA</td>\n",
       "    </tr>\n",
       "    <tr>\n",
       "      <th>4</th>\n",
       "      <td>Generated actives</td>\n",
       "      <td>1.514931</td>\n",
       "      <td>SA</td>\n",
       "    </tr>\n",
       "    <tr>\n",
       "      <th>...</th>\n",
       "      <td>...</td>\n",
       "      <td>...</td>\n",
       "      <td>...</td>\n",
       "    </tr>\n",
       "    <tr>\n",
       "      <th>1753</th>\n",
       "      <td>Training inactives</td>\n",
       "      <td>1.919343</td>\n",
       "      <td>SA</td>\n",
       "    </tr>\n",
       "    <tr>\n",
       "      <th>1754</th>\n",
       "      <td>Training inactives</td>\n",
       "      <td>2.494935</td>\n",
       "      <td>SA</td>\n",
       "    </tr>\n",
       "    <tr>\n",
       "      <th>1755</th>\n",
       "      <td>Training inactives</td>\n",
       "      <td>4.908138</td>\n",
       "      <td>SA</td>\n",
       "    </tr>\n",
       "    <tr>\n",
       "      <th>1756</th>\n",
       "      <td>Training inactives</td>\n",
       "      <td>2.417861</td>\n",
       "      <td>SA</td>\n",
       "    </tr>\n",
       "    <tr>\n",
       "      <th>1757</th>\n",
       "      <td>Training inactives</td>\n",
       "      <td>2.301900</td>\n",
       "      <td>SA</td>\n",
       "    </tr>\n",
       "  </tbody>\n",
       "</table>\n",
       "<p>20134 rows × 3 columns</p>\n",
       "</div>"
      ],
      "text/plain": [
       "            Distribution      Data Metric\n",
       "0      Generated actives  3.808161     SA\n",
       "1      Generated actives  1.000000     SA\n",
       "2      Generated actives  2.329824     SA\n",
       "3      Generated actives  3.921994     SA\n",
       "4      Generated actives  1.514931     SA\n",
       "...                  ...       ...    ...\n",
       "1753  Training inactives  1.919343     SA\n",
       "1754  Training inactives  2.494935     SA\n",
       "1755  Training inactives  4.908138     SA\n",
       "1756  Training inactives  2.417861     SA\n",
       "1757  Training inactives  2.301900     SA\n",
       "\n",
       "[20134 rows x 3 columns]"
      ]
     },
     "metadata": {},
     "output_type": "display_data"
    }
   ],
   "source": [
    "# SA.\n",
    "df_sa = pd.DataFrame()\n",
    "for key,value in sa_dict.items():\n",
    "    df_sa = pd.concat([df_sa, pd.DataFrame({\"Distribution\": [key] * len(value), \"Data\": value})])\n",
    "df_sa[\"Metric\"] = \"SA\"\n",
    "display(df_sa)"
   ]
  },
  {
   "cell_type": "code",
   "execution_count": 78,
   "id": "ad5100ee-f8bd-44ac-a7c1-3740353fbcfc",
   "metadata": {},
   "outputs": [
    {
     "data": {
      "text/html": [
       "<div>\n",
       "<style scoped>\n",
       "    .dataframe tbody tr th:only-of-type {\n",
       "        vertical-align: middle;\n",
       "    }\n",
       "\n",
       "    .dataframe tbody tr th {\n",
       "        vertical-align: top;\n",
       "    }\n",
       "\n",
       "    .dataframe thead th {\n",
       "        text-align: right;\n",
       "    }\n",
       "</style>\n",
       "<table border=\"1\" class=\"dataframe\">\n",
       "  <thead>\n",
       "    <tr style=\"text-align: right;\">\n",
       "      <th></th>\n",
       "      <th>Distribution</th>\n",
       "      <th>Data</th>\n",
       "      <th>Metric</th>\n",
       "    </tr>\n",
       "  </thead>\n",
       "  <tbody>\n",
       "    <tr>\n",
       "      <th>0</th>\n",
       "      <td>Generated actives</td>\n",
       "      <td>0.860073</td>\n",
       "      <td>QED</td>\n",
       "    </tr>\n",
       "    <tr>\n",
       "      <th>1</th>\n",
       "      <td>Generated actives</td>\n",
       "      <td>0.458806</td>\n",
       "      <td>QED</td>\n",
       "    </tr>\n",
       "    <tr>\n",
       "      <th>2</th>\n",
       "      <td>Generated actives</td>\n",
       "      <td>0.704843</td>\n",
       "      <td>QED</td>\n",
       "    </tr>\n",
       "    <tr>\n",
       "      <th>3</th>\n",
       "      <td>Generated actives</td>\n",
       "      <td>0.675153</td>\n",
       "      <td>QED</td>\n",
       "    </tr>\n",
       "    <tr>\n",
       "      <th>4</th>\n",
       "      <td>Generated actives</td>\n",
       "      <td>0.429883</td>\n",
       "      <td>QED</td>\n",
       "    </tr>\n",
       "    <tr>\n",
       "      <th>...</th>\n",
       "      <td>...</td>\n",
       "      <td>...</td>\n",
       "      <td>...</td>\n",
       "    </tr>\n",
       "    <tr>\n",
       "      <th>1753</th>\n",
       "      <td>Training inactives</td>\n",
       "      <td>0.736693</td>\n",
       "      <td>QED</td>\n",
       "    </tr>\n",
       "    <tr>\n",
       "      <th>1754</th>\n",
       "      <td>Training inactives</td>\n",
       "      <td>0.877740</td>\n",
       "      <td>QED</td>\n",
       "    </tr>\n",
       "    <tr>\n",
       "      <th>1755</th>\n",
       "      <td>Training inactives</td>\n",
       "      <td>0.675608</td>\n",
       "      <td>QED</td>\n",
       "    </tr>\n",
       "    <tr>\n",
       "      <th>1756</th>\n",
       "      <td>Training inactives</td>\n",
       "      <td>0.834182</td>\n",
       "      <td>QED</td>\n",
       "    </tr>\n",
       "    <tr>\n",
       "      <th>1757</th>\n",
       "      <td>Training inactives</td>\n",
       "      <td>0.415527</td>\n",
       "      <td>QED</td>\n",
       "    </tr>\n",
       "  </tbody>\n",
       "</table>\n",
       "<p>20131 rows × 3 columns</p>\n",
       "</div>"
      ],
      "text/plain": [
       "            Distribution      Data Metric\n",
       "0      Generated actives  0.860073    QED\n",
       "1      Generated actives  0.458806    QED\n",
       "2      Generated actives  0.704843    QED\n",
       "3      Generated actives  0.675153    QED\n",
       "4      Generated actives  0.429883    QED\n",
       "...                  ...       ...    ...\n",
       "1753  Training inactives  0.736693    QED\n",
       "1754  Training inactives  0.877740    QED\n",
       "1755  Training inactives  0.675608    QED\n",
       "1756  Training inactives  0.834182    QED\n",
       "1757  Training inactives  0.415527    QED\n",
       "\n",
       "[20131 rows x 3 columns]"
      ]
     },
     "metadata": {},
     "output_type": "display_data"
    }
   ],
   "source": [
    "# QED.\n",
    "df_qed = pd.DataFrame()\n",
    "for key,value in qed_dict.items():\n",
    "    df_qed = pd.concat([df_qed, pd.DataFrame({\"Distribution\": [key] * len(value), \"Data\": value})])\n",
    "df_qed[\"Metric\"] = \"QED\"\n",
    "display(df_qed)"
   ]
  },
  {
   "cell_type": "code",
   "execution_count": 79,
   "id": "0ffd4d0e-aee9-4bac-afd1-418a6d4f4639",
   "metadata": {},
   "outputs": [
    {
     "data": {
      "text/html": [
       "<div>\n",
       "<style scoped>\n",
       "    .dataframe tbody tr th:only-of-type {\n",
       "        vertical-align: middle;\n",
       "    }\n",
       "\n",
       "    .dataframe tbody tr th {\n",
       "        vertical-align: top;\n",
       "    }\n",
       "\n",
       "    .dataframe thead th {\n",
       "        text-align: right;\n",
       "    }\n",
       "</style>\n",
       "<table border=\"1\" class=\"dataframe\">\n",
       "  <thead>\n",
       "    <tr style=\"text-align: right;\">\n",
       "      <th></th>\n",
       "      <th>Distribution</th>\n",
       "      <th>Data</th>\n",
       "      <th>Metric</th>\n",
       "    </tr>\n",
       "  </thead>\n",
       "  <tbody>\n",
       "    <tr>\n",
       "      <th>0</th>\n",
       "      <td>Generated actives</td>\n",
       "      <td>-9.885964</td>\n",
       "      <td>LogP</td>\n",
       "    </tr>\n",
       "    <tr>\n",
       "      <th>1</th>\n",
       "      <td>Generated actives</td>\n",
       "      <td>2.310200</td>\n",
       "      <td>LogP</td>\n",
       "    </tr>\n",
       "    <tr>\n",
       "      <th>2</th>\n",
       "      <td>Generated actives</td>\n",
       "      <td>1.202999</td>\n",
       "      <td>LogP</td>\n",
       "    </tr>\n",
       "    <tr>\n",
       "      <th>3</th>\n",
       "      <td>Generated actives</td>\n",
       "      <td>-33.806267</td>\n",
       "      <td>LogP</td>\n",
       "    </tr>\n",
       "    <tr>\n",
       "      <th>4</th>\n",
       "      <td>Generated actives</td>\n",
       "      <td>0.364884</td>\n",
       "      <td>LogP</td>\n",
       "    </tr>\n",
       "    <tr>\n",
       "      <th>...</th>\n",
       "      <td>...</td>\n",
       "      <td>...</td>\n",
       "      <td>...</td>\n",
       "    </tr>\n",
       "    <tr>\n",
       "      <th>1753</th>\n",
       "      <td>Training inactives</td>\n",
       "      <td>1.354121</td>\n",
       "      <td>LogP</td>\n",
       "    </tr>\n",
       "    <tr>\n",
       "      <th>1754</th>\n",
       "      <td>Training inactives</td>\n",
       "      <td>1.682860</td>\n",
       "      <td>LogP</td>\n",
       "    </tr>\n",
       "    <tr>\n",
       "      <th>1755</th>\n",
       "      <td>Training inactives</td>\n",
       "      <td>-1.982381</td>\n",
       "      <td>LogP</td>\n",
       "    </tr>\n",
       "    <tr>\n",
       "      <th>1756</th>\n",
       "      <td>Training inactives</td>\n",
       "      <td>0.699492</td>\n",
       "      <td>LogP</td>\n",
       "    </tr>\n",
       "    <tr>\n",
       "      <th>1757</th>\n",
       "      <td>Training inactives</td>\n",
       "      <td>3.700030</td>\n",
       "      <td>LogP</td>\n",
       "    </tr>\n",
       "  </tbody>\n",
       "</table>\n",
       "<p>20134 rows × 3 columns</p>\n",
       "</div>"
      ],
      "text/plain": [
       "            Distribution       Data Metric\n",
       "0      Generated actives  -9.885964   LogP\n",
       "1      Generated actives   2.310200   LogP\n",
       "2      Generated actives   1.202999   LogP\n",
       "3      Generated actives -33.806267   LogP\n",
       "4      Generated actives   0.364884   LogP\n",
       "...                  ...        ...    ...\n",
       "1753  Training inactives   1.354121   LogP\n",
       "1754  Training inactives   1.682860   LogP\n",
       "1755  Training inactives  -1.982381   LogP\n",
       "1756  Training inactives   0.699492   LogP\n",
       "1757  Training inactives   3.700030   LogP\n",
       "\n",
       "[20134 rows x 3 columns]"
      ]
     },
     "metadata": {},
     "output_type": "display_data"
    }
   ],
   "source": [
    "# LogP.\n",
    "df_logp = pd.DataFrame()\n",
    "for key,value in logp_dict.items():\n",
    "    df_logp = pd.concat([df_logp, pd.DataFrame({\"Distribution\": [key] * len(value), \"Data\": value})])\n",
    "df_logp[\"Metric\"] = \"LogP\"\n",
    "display(df_logp)"
   ]
  },
  {
   "cell_type": "code",
   "execution_count": 80,
   "id": "f4ee0fe2-1af7-4dfb-8175-838b000268e6",
   "metadata": {},
   "outputs": [
    {
     "name": "stdout",
     "output_type": "stream",
     "text": [
      "<class 'pandas.core.frame.DataFrame'>\n",
      "RangeIndex: 60399 entries, 0 to 60398\n",
      "Data columns (total 3 columns):\n",
      " #   Column        Non-Null Count  Dtype  \n",
      "---  ------        --------------  -----  \n",
      " 0   Distribution  60399 non-null  object \n",
      " 1   Data          60399 non-null  float64\n",
      " 2   Metric        60399 non-null  object \n",
      "dtypes: float64(1), object(2)\n",
      "memory usage: 1.4+ MB\n",
      "None\n"
     ]
    },
    {
     "data": {
      "text/html": [
       "<div>\n",
       "<style scoped>\n",
       "    .dataframe tbody tr th:only-of-type {\n",
       "        vertical-align: middle;\n",
       "    }\n",
       "\n",
       "    .dataframe tbody tr th {\n",
       "        vertical-align: top;\n",
       "    }\n",
       "\n",
       "    .dataframe thead th {\n",
       "        text-align: right;\n",
       "    }\n",
       "</style>\n",
       "<table border=\"1\" class=\"dataframe\">\n",
       "  <thead>\n",
       "    <tr style=\"text-align: right;\">\n",
       "      <th></th>\n",
       "      <th>Distribution</th>\n",
       "      <th>Data</th>\n",
       "      <th>Metric</th>\n",
       "    </tr>\n",
       "  </thead>\n",
       "  <tbody>\n",
       "    <tr>\n",
       "      <th>0</th>\n",
       "      <td>Generated actives</td>\n",
       "      <td>3.808161</td>\n",
       "      <td>SA</td>\n",
       "    </tr>\n",
       "    <tr>\n",
       "      <th>1</th>\n",
       "      <td>Generated actives</td>\n",
       "      <td>1.000000</td>\n",
       "      <td>SA</td>\n",
       "    </tr>\n",
       "    <tr>\n",
       "      <th>2</th>\n",
       "      <td>Generated actives</td>\n",
       "      <td>2.329824</td>\n",
       "      <td>SA</td>\n",
       "    </tr>\n",
       "    <tr>\n",
       "      <th>3</th>\n",
       "      <td>Generated actives</td>\n",
       "      <td>3.921994</td>\n",
       "      <td>SA</td>\n",
       "    </tr>\n",
       "    <tr>\n",
       "      <th>4</th>\n",
       "      <td>Generated actives</td>\n",
       "      <td>1.514931</td>\n",
       "      <td>SA</td>\n",
       "    </tr>\n",
       "    <tr>\n",
       "      <th>...</th>\n",
       "      <td>...</td>\n",
       "      <td>...</td>\n",
       "      <td>...</td>\n",
       "    </tr>\n",
       "    <tr>\n",
       "      <th>60394</th>\n",
       "      <td>Training inactives</td>\n",
       "      <td>1.354121</td>\n",
       "      <td>LogP</td>\n",
       "    </tr>\n",
       "    <tr>\n",
       "      <th>60395</th>\n",
       "      <td>Training inactives</td>\n",
       "      <td>1.682860</td>\n",
       "      <td>LogP</td>\n",
       "    </tr>\n",
       "    <tr>\n",
       "      <th>60396</th>\n",
       "      <td>Training inactives</td>\n",
       "      <td>-1.982381</td>\n",
       "      <td>LogP</td>\n",
       "    </tr>\n",
       "    <tr>\n",
       "      <th>60397</th>\n",
       "      <td>Training inactives</td>\n",
       "      <td>0.699492</td>\n",
       "      <td>LogP</td>\n",
       "    </tr>\n",
       "    <tr>\n",
       "      <th>60398</th>\n",
       "      <td>Training inactives</td>\n",
       "      <td>3.700030</td>\n",
       "      <td>LogP</td>\n",
       "    </tr>\n",
       "  </tbody>\n",
       "</table>\n",
       "<p>60399 rows × 3 columns</p>\n",
       "</div>"
      ],
      "text/plain": [
       "             Distribution      Data Metric\n",
       "0       Generated actives  3.808161     SA\n",
       "1       Generated actives  1.000000     SA\n",
       "2       Generated actives  2.329824     SA\n",
       "3       Generated actives  3.921994     SA\n",
       "4       Generated actives  1.514931     SA\n",
       "...                   ...       ...    ...\n",
       "60394  Training inactives  1.354121   LogP\n",
       "60395  Training inactives  1.682860   LogP\n",
       "60396  Training inactives -1.982381   LogP\n",
       "60397  Training inactives  0.699492   LogP\n",
       "60398  Training inactives  3.700030   LogP\n",
       "\n",
       "[60399 rows x 3 columns]"
      ]
     },
     "metadata": {},
     "output_type": "display_data"
    }
   ],
   "source": [
    "# Aggregate all results.\n",
    "df_metrics = pd.concat([df_sa, df_qed, df_logp]).reset_index(drop = True)\n",
    "print(df_metrics.info())\n",
    "display(df_metrics)"
   ]
  },
  {
   "cell_type": "markdown",
   "id": "67d74c98-f810-4143-9fe9-2ad3dada6b69",
   "metadata": {},
   "source": [
    "## Plot distributions"
   ]
  },
  {
   "cell_type": "code",
   "execution_count": 81,
   "id": "cde9c0c3-d3b2-4c93-a18c-4e7e143e7fdb",
   "metadata": {},
   "outputs": [
    {
     "data": {
      "image/png": "[encoded data removed]",
      "text/plain": [
       "<Figure size 497x360 with 1 Axes>"
      ]
     },
     "metadata": {
      "needs_background": "light"
     },
     "output_type": "display_data"
    }
   ],
   "source": [
    "plot_distribution_basic(df_sa)"
   ]
  },
  {
   "cell_type": "code",
   "execution_count": 82,
   "id": "39a1879e-f7db-4622-8b6d-ad447eb21553",
   "metadata": {},
   "outputs": [
    {
     "data": {
      "image/png": "[encoded data removed]",
      "text/plain": [
       "<Figure size 497x360 with 1 Axes>"
      ]
     },
     "metadata": {
      "needs_background": "light"
     },
     "output_type": "display_data"
    }
   ],
   "source": [
    "plot_distribution_basic(df_qed)"
   ]
  },
  {
   "cell_type": "code",
   "execution_count": 83,
   "id": "d4ff0ba8-c99d-4638-ab45-d35ce3335f64",
   "metadata": {},
   "outputs": [
    {
     "data": {
      "image/png": "[encoded data removed]",
      "text/plain": [
       "<Figure size 497x360 with 1 Axes>"
      ]
     },
     "metadata": {
      "needs_background": "light"
     },
     "output_type": "display_data"
    }
   ],
   "source": [
    "plot_distribution_basic(df_logp)"
   ]
  },
  {
   "cell_type": "code",
   "execution_count": 84,
   "id": "62f524fa-5d4f-4d29-b61f-ec2a23444472",
   "metadata": {},
   "outputs": [
    {
     "data": {
      "image/png": "[encoded data removed]",
      "text/plain": [
       "<Figure size 785x216 with 3 Axes>"
      ]
     },
     "metadata": {
      "needs_background": "light"
     },
     "output_type": "display_data"
    }
   ],
   "source": [
    "plot_distribution(df_metrics, save_path=\"./hmm_metrics.pdf\", save=True)"
   ]
  },
  {
   "cell_type": "markdown",
   "id": "6fbc949d-0975-4fe1-90ed-95d45fb7552d",
   "metadata": {},
   "source": [
    "## End of document"
   ]
  },
  {
   "cell_type": "code",
   "execution_count": null,
   "id": "25c63cfa-3045-476d-a564-965e9c4d053c",
   "metadata": {},
   "outputs": [],
   "source": []
  }
 ],
 "metadata": {
  "kernelspec": {
   "display_name": "Python 3 (ipykernel)",
   "language": "python",
   "name": "python3"
  },
  "language_info": {
   "codemirror_mode": {
    "name": "ipython",
    "version": 3
   },
   "file_extension": ".py",
   "mimetype": "text/x-python",
   "name": "python",
   "nbconvert_exporter": "python",
   "pygments_lexer": "ipython3",
   "version": "3.8.8"
  }
 },
 "nbformat": 4,
 "nbformat_minor": 5
}
