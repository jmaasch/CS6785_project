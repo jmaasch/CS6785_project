{
 "cells": [
  {
   "cell_type": "markdown",
   "id": "7047db9b-37ab-4929-bfd1-d5969afe6620",
   "metadata": {},
   "source": [
    "# AAE with no pretraining: Performance evaluation\n",
    "\n",
    "Jacqueline R. M. A. Maasch | May 2022"
   ]
  },
  {
   "cell_type": "markdown",
   "id": "165eae80-6924-404f-bb17-45cf493b77cf",
   "metadata": {},
   "source": [
    "## Preamble"
   ]
  },
  {
   "cell_type": "code",
   "execution_count": 1,
   "id": "b49fbaff-9362-48a5-84b7-6ba7fc9a6a48",
   "metadata": {},
   "outputs": [],
   "source": [
    "# Importations.\n",
    "import moses\n",
    "import pandas as pd\n",
    "import numpy as np\n",
    "import time\n",
    "import sys\n",
    "import matplotlib.pyplot as plt\n",
    "import seaborn as sns\n",
    "from scipy.stats import wasserstein_distance\n",
    "from moses.metrics import weight, logP, SA, QED\n",
    "from moses.metrics.utils import get_mol, mapper\n",
    "from moses import get_dataset\n",
    "from collections import OrderedDict\n",
    "from tdc.chem_utils import MolFilter\n",
    "import warnings\n",
    "from tdc import Oracle\n",
    "from rdkit import Chem                                                                                                                                                                   \n",
    "from rdkit import RDLogger \n",
    "from random import sample\n",
    "import tdc\n",
    "from tdc import Evaluator\n",
    "from tdc.single_pred import HTS\n",
    "from importlib.metadata import version"
   ]
  },
  {
   "cell_type": "code",
   "execution_count": 2,
   "id": "4bfe0784-cba3-4427-8423-b3e822d26520",
   "metadata": {},
   "outputs": [
    {
     "name": "stdout",
     "output_type": "stream",
     "text": [
      "\n",
      "python version: 3.8.8 (default, Apr 13 2021, 12:59:45) \n",
      "[Clang 10.0.0 ]\n",
      "\n",
      "--- LIBRARY VERSIONS ---\n",
      "tdc:          0.3.6\n",
      "numpy:        1.22.3\n",
      "pandas:       1.2.4\n",
      "moses:        0.3.1\n",
      "rdkit:        2021.9.5.1\n",
      "scipy:        1.7.2\n",
      "seaborn:      0.11.1\n",
      "matplotlib:   3.3.4\n"
     ]
    }
   ],
   "source": [
    "# View versioning.\n",
    "print(\"\\npython version:\", sys.version)\n",
    "print(\"\\n--- LIBRARY VERSIONS ---\")\n",
    "print(\"tdc:         \", version(\"PyTDC\"))\n",
    "print(\"numpy:       \", version(\"numpy\"))\n",
    "print(\"pandas:      \", version(\"pandas\"))\n",
    "print(\"moses:       \", version(\"molsets\"))\n",
    "print(\"rdkit:       \", version(\"rdkit-pypi\"))\n",
    "print(\"scipy:       \", version(\"scipy\"))\n",
    "print(\"seaborn:     \", version(\"seaborn\"))\n",
    "print(\"matplotlib:  \", version(\"matplotlib\"))"
   ]
  },
  {
   "cell_type": "code",
   "execution_count": 3,
   "id": "65f02590-1c93-4268-87e6-7af42042832c",
   "metadata": {},
   "outputs": [],
   "source": [
    "%%capture\n",
    "# Installs.\n",
    "#!python3.8 -m pip install fcd_torch\n",
    "#!python3.8 -m pip install rxn4chemistry"
   ]
  },
  {
   "cell_type": "markdown",
   "id": "f78dc6e4-ecaa-450d-8a01-bceb24390854",
   "metadata": {},
   "source": [
    "## Define functions"
   ]
  },
  {
   "cell_type": "code",
   "execution_count": 4,
   "id": "8406dab1-94d5-4048-888b-a94e878c5479",
   "metadata": {},
   "outputs": [],
   "source": [
    "def compute_tdc_metrics(generated, training):\n",
    "    \n",
    "    metrics_dict = dict()\n",
    "    \n",
    "    kl = Evaluator(name = \"KL_Divergence\")\n",
    "    metrics_dict[\"KL divergence\"] = kl(generated, training)\n",
    "\n",
    "    uniqueness = Evaluator(name = \"Uniqueness\")\n",
    "    metrics_dict[\"Uniqueness\"] = uniqueness(generated)\n",
    "\n",
    "    validity = Evaluator(name = \"Validity\")\n",
    "    metrics_dict[\"Validity\"] = validity(generated)\n",
    "\n",
    "    novelty = Evaluator(name = \"Novelty\")\n",
    "    metrics_dict[\"Novelty\"] = novelty(generated, training)\n",
    "\n",
    "    #fcd = Evaluator(name = \"FCD_Distance\")\n",
    "    #metrics_dict[\"FCD distance\"] = fcd(generated, training)\n",
    "\n",
    "    diversity = Evaluator(name = \"Diversity\")\n",
    "    metrics_dict[\"Diversity\"] = diversity(generated)\n",
    "\n",
    "    return metrics_dict\n",
    "\n",
    "\n",
    "def remove_ungrammatical(generated):\n",
    "    # Disable warnings.\n",
    "    RDLogger.DisableLog(\"rdApp.*\")  \n",
    "    \n",
    "    # Filter molecules.\n",
    "    keep = []\n",
    "    invalid_string = 0\n",
    "    invalid_chemistry = 0\n",
    "    for molecule in generated:\n",
    "        m = Chem.MolFromSmiles(molecule, sanitize = False)\n",
    "        if m is None:\n",
    "            invalid_string += 1\n",
    "        else:\n",
    "            try:\n",
    "                Chem.SanitizeMol(m)\n",
    "                keep.append(molecule)\n",
    "            except:\n",
    "                invalid_chemistry += 1\n",
    "                \n",
    "    print(\"Total strings with invalid SMILES syntax:\", invalid_string)\n",
    "    print(\"Total strings with invalid chemistry:\", invalid_chemistry)\n",
    "    print(\"Total valid SMILES strings:\", len(keep))\n",
    "    print(\"Percent valid SMILES strings:\", (len(keep) / len(generated)))\n",
    "    \n",
    "    return keep\n",
    "\n",
    "\n",
    "def plot_distribution_basic(df, \n",
    "                            log_x = None, \n",
    "                            log_y = None, \n",
    "                            save_path = \"./plt.pdf\", \n",
    "                            save = False):\n",
    "    \n",
    "    sns.displot(data = df, \n",
    "                x = \"Value\", \n",
    "                hue = \"Distribution\", \n",
    "                col = \"Metric\",\n",
    "                kind = \"kde\", \n",
    "                log_scale = (log_x, log_y),\n",
    "                common_norm = True,\n",
    "                fill = True,\n",
    "                height = 5)\n",
    "    if save:\n",
    "        plt.savefig(save_path)\n",
    "    else:\n",
    "        plt.show()\n",
    "    \n",
    "    \n",
    "def plot_distribution(df, \n",
    "                      log_x = None, \n",
    "                      log_y = None, \n",
    "                      save_path = \"./plt.pdf\", \n",
    "                      save = False):\n",
    "    \n",
    "    g = sns.FacetGrid(df.reset_index(), \n",
    "                      col = \"Metric\",\n",
    "                      hue = \"Distribution\", \n",
    "                      sharex = False, \n",
    "                      sharey = False)\n",
    "    g.map_dataframe(sns.kdeplot, \n",
    "                    \"Value\",\n",
    "                    fill = True, \n",
    "                    log_scale = (log_x, log_y),\n",
    "                    common_norm = True).add_legend()\n",
    "    if save:\n",
    "        plt.savefig(save_path)\n",
    "    else:\n",
    "        plt.show()"
   ]
  },
  {
   "cell_type": "markdown",
   "id": "7aa6c3d8-51d9-4d6e-b1f6-44c38da5841e",
   "metadata": {},
   "source": [
    "## Read data\n",
    "\n",
    "### Generated molecules"
   ]
  },
  {
   "cell_type": "code",
   "execution_count": 5,
   "id": "5db30b54-2b42-4fe3-a683-9504e05b2397",
   "metadata": {},
   "outputs": [
    {
     "name": "stdout",
     "output_type": "stream",
     "text": [
      "<class 'pandas.core.frame.DataFrame'>\n",
      "RangeIndex: 100000 entries, 0 to 99999\n",
      "Data columns (total 1 columns):\n",
      " #   Column  Non-Null Count   Dtype \n",
      "---  ------  --------------   ----- \n",
      " 0   SMILES  100000 non-null  object\n",
      "dtypes: object(1)\n",
      "memory usage: 781.4+ KB\n",
      "None\n"
     ]
    },
    {
     "data": {
      "text/html": [
       "<div>\n",
       "<style scoped>\n",
       "    .dataframe tbody tr th:only-of-type {\n",
       "        vertical-align: middle;\n",
       "    }\n",
       "\n",
       "    .dataframe tbody tr th {\n",
       "        vertical-align: top;\n",
       "    }\n",
       "\n",
       "    .dataframe thead th {\n",
       "        text-align: right;\n",
       "    }\n",
       "</style>\n",
       "<table border=\"1\" class=\"dataframe\">\n",
       "  <thead>\n",
       "    <tr style=\"text-align: right;\">\n",
       "      <th></th>\n",
       "      <th>SMILES</th>\n",
       "    </tr>\n",
       "  </thead>\n",
       "  <tbody>\n",
       "    <tr>\n",
       "      <th>0</th>\n",
       "      <td>CN(C)CCCN1c2ccccc2Sc2ccccc23-c1cncnc1&lt;pad&gt;&lt;pad...</td>\n",
       "    </tr>\n",
       "    <tr>\n",
       "      <th>1</th>\n",
       "      <td>Cc1sc(=O)[[nH]2cccc122CCN(C(=O)CCl)CC1)c1c2cn(...</td>\n",
       "    </tr>\n",
       "    <tr>\n",
       "      <th>2</th>\n",
       "      <td>Cc1[nH]ccc1C2CCN(C(=O)CCl)CC1)C2&lt;pad&gt;&lt;pad&gt;&lt;pad...</td>\n",
       "    </tr>\n",
       "    <tr>\n",
       "      <th>3</th>\n",
       "      <td>OCC1(c2ccccn2)CCCC1&lt;pad&gt;&lt;pad&gt;&lt;pad&gt;&lt;pad&gt;&lt;pad&gt;&lt;p...</td>\n",
       "    </tr>\n",
       "    <tr>\n",
       "      <th>4</th>\n",
       "      <td>COc1ccccc1CNC(C)C(C)OCCC(=O)C(C)(C)C&lt;pad&gt;&lt;pad&gt;...</td>\n",
       "    </tr>\n",
       "  </tbody>\n",
       "</table>\n",
       "</div>"
      ],
      "text/plain": [
       "                                              SMILES\n",
       "0  CN(C)CCCN1c2ccccc2Sc2ccccc23-c1cncnc1<pad><pad...\n",
       "1  Cc1sc(=O)[[nH]2cccc122CCN(C(=O)CCl)CC1)c1c2cn(...\n",
       "2  Cc1[nH]ccc1C2CCN(C(=O)CCl)CC1)C2<pad><pad><pad...\n",
       "3  OCC1(c2ccccn2)CCCC1<pad><pad><pad><pad><pad><p...\n",
       "4  COc1ccccc1CNC(C)C(C)OCCC(=O)C(C)(C)C<pad><pad>..."
      ]
     },
     "metadata": {},
     "output_type": "display_data"
    },
    {
     "name": "stdout",
     "output_type": "stream",
     "text": [
      "<class 'pandas.core.frame.DataFrame'>\n",
      "RangeIndex: 100000 entries, 0 to 99999\n",
      "Data columns (total 1 columns):\n",
      " #   Column  Non-Null Count   Dtype \n",
      "---  ------  --------------   ----- \n",
      " 0   SMILES  100000 non-null  object\n",
      "dtypes: object(1)\n",
      "memory usage: 781.4+ KB\n",
      "None\n"
     ]
    },
    {
     "data": {
      "text/html": [
       "<div>\n",
       "<style scoped>\n",
       "    .dataframe tbody tr th:only-of-type {\n",
       "        vertical-align: middle;\n",
       "    }\n",
       "\n",
       "    .dataframe tbody tr th {\n",
       "        vertical-align: top;\n",
       "    }\n",
       "\n",
       "    .dataframe thead th {\n",
       "        text-align: right;\n",
       "    }\n",
       "</style>\n",
       "<table border=\"1\" class=\"dataframe\">\n",
       "  <thead>\n",
       "    <tr style=\"text-align: right;\">\n",
       "      <th></th>\n",
       "      <th>SMILES</th>\n",
       "    </tr>\n",
       "  </thead>\n",
       "  <tbody>\n",
       "    <tr>\n",
       "      <th>0</th>\n",
       "      <td>C1COCCN1c1ccc(Cl)cc1&lt;pad&gt;&lt;pad&gt;&lt;pad&gt;&lt;pad&gt;&lt;pad&gt;&lt;...</td>\n",
       "    </tr>\n",
       "    <tr>\n",
       "      <th>1</th>\n",
       "      <td>CC(NS(=O)(=O)c1ccc(O)cc1)NC1=NCN(CCO)C(=O)CN&lt;p...</td>\n",
       "    </tr>\n",
       "    <tr>\n",
       "      <th>2</th>\n",
       "      <td>C[CB&lt;unk&gt;]1CN[C&lt;unk&gt;&lt;unk&gt;H]2c3ccccc3CCC(N)=O&lt;u...</td>\n",
       "    </tr>\n",
       "    <tr>\n",
       "      <th>3</th>\n",
       "      <td>COc1cc(N2CCOCC2)c(OC)c2c1cnc2[n&lt;unk&gt;]1c1cccc(F...</td>\n",
       "    </tr>\n",
       "    <tr>\n",
       "      <th>4</th>\n",
       "      <td>Cc1nc2ccc(F)cc2n[nH]1&lt;pad&gt;&lt;pad&gt;&lt;pad&gt;&lt;pad&gt;&lt;pad&gt;...</td>\n",
       "    </tr>\n",
       "  </tbody>\n",
       "</table>\n",
       "</div>"
      ],
      "text/plain": [
       "                                              SMILES\n",
       "0  C1COCCN1c1ccc(Cl)cc1<pad><pad><pad><pad><pad><...\n",
       "1  CC(NS(=O)(=O)c1ccc(O)cc1)NC1=NCN(CCO)C(=O)CN<p...\n",
       "2  C[CB<unk>]1CN[C<unk><unk>H]2c3ccccc3CCC(N)=O<u...\n",
       "3  COc1cc(N2CCOCC2)c(OC)c2c1cnc2[n<unk>]1c1cccc(F...\n",
       "4  Cc1nc2ccc(F)cc2n[nH]1<pad><pad><pad><pad><pad>..."
      ]
     },
     "metadata": {},
     "output_type": "display_data"
    }
   ],
   "source": [
    "# Read in generated molecules.\n",
    "df_active = pd.read_csv(\"../aae/generated_molecules_100k/gen_active_finetune_100k.csv\")\n",
    "df_inactive = pd.read_csv(\"../aae/generated_molecules_100k/gen_inactive_finetune_100k.csv\")\n",
    "\n",
    "print(df_active.info())\n",
    "display(df_active.head())\n",
    "\n",
    "print(df_inactive.info())\n",
    "display(df_inactive.head())"
   ]
  },
  {
   "cell_type": "markdown",
   "id": "fdf61708-d922-40d0-842a-db647f14cd89",
   "metadata": {},
   "source": [
    "### Training data from TDC"
   ]
  },
  {
   "cell_type": "code",
   "execution_count": 6,
   "id": "c12c6415-4dc6-4559-a1de-e5063e7788d3",
   "metadata": {},
   "outputs": [
    {
     "name": "stdout",
     "output_type": "stream",
     "text": [
      "<class 'pandas.core.frame.DataFrame'>\n",
      "RangeIndex: 132 entries, 0 to 131\n",
      "Data columns (total 1 columns):\n",
      " #   Column  Non-Null Count  Dtype \n",
      "---  ------  --------------  ----- \n",
      " 0   SMILES  132 non-null    object\n",
      "dtypes: object(1)\n",
      "memory usage: 1.2+ KB\n",
      "None\n"
     ]
    },
    {
     "data": {
      "text/html": [
       "<div>\n",
       "<style scoped>\n",
       "    .dataframe tbody tr th:only-of-type {\n",
       "        vertical-align: middle;\n",
       "    }\n",
       "\n",
       "    .dataframe tbody tr th {\n",
       "        vertical-align: top;\n",
       "    }\n",
       "\n",
       "    .dataframe thead th {\n",
       "        text-align: right;\n",
       "    }\n",
       "</style>\n",
       "<table border=\"1\" class=\"dataframe\">\n",
       "  <thead>\n",
       "    <tr style=\"text-align: right;\">\n",
       "      <th></th>\n",
       "      <th>SMILES</th>\n",
       "    </tr>\n",
       "  </thead>\n",
       "  <tbody>\n",
       "    <tr>\n",
       "      <th>0</th>\n",
       "      <td>NC(=O)c1ccc(NC(=O)[C@@H]2CCCO2)cc1</td>\n",
       "    </tr>\n",
       "    <tr>\n",
       "      <th>1</th>\n",
       "      <td>Cc1nccn1CC1CCc2c(c3ccccc3n2C)C1=O.Cl</td>\n",
       "    </tr>\n",
       "    <tr>\n",
       "      <th>2</th>\n",
       "      <td>COC(=O)Nc1sc(C)nc1-c1ccccc1</td>\n",
       "    </tr>\n",
       "    <tr>\n",
       "      <th>3</th>\n",
       "      <td>OC1CCN(Cc2ccsc2)CC1</td>\n",
       "    </tr>\n",
       "    <tr>\n",
       "      <th>4</th>\n",
       "      <td>CC(C(O)c1ccc(O)cc1)N1CCC(Cc2ccccc2)CC1.CC(C(O)...</td>\n",
       "    </tr>\n",
       "  </tbody>\n",
       "</table>\n",
       "</div>"
      ],
      "text/plain": [
       "                                              SMILES\n",
       "0                 NC(=O)c1ccc(NC(=O)[C@@H]2CCCO2)cc1\n",
       "1               Cc1nccn1CC1CCc2c(c3ccccc3n2C)C1=O.Cl\n",
       "2                        COC(=O)Nc1sc(C)nc1-c1ccccc1\n",
       "3                                OC1CCN(Cc2ccsc2)CC1\n",
       "4  CC(C(O)c1ccc(O)cc1)N1CCC(Cc2ccccc2)CC1.CC(C(O)..."
      ]
     },
     "metadata": {},
     "output_type": "display_data"
    },
    {
     "name": "stdout",
     "output_type": "stream",
     "text": [
      "<class 'pandas.core.frame.DataFrame'>\n",
      "RangeIndex: 1758 entries, 0 to 1757\n",
      "Data columns (total 1 columns):\n",
      " #   Column  Non-Null Count  Dtype \n",
      "---  ------  --------------  ----- \n",
      " 0   SMILES  1758 non-null   object\n",
      "dtypes: object(1)\n",
      "memory usage: 13.9+ KB\n",
      "None\n"
     ]
    },
    {
     "data": {
      "text/html": [
       "<div>\n",
       "<style scoped>\n",
       "    .dataframe tbody tr th:only-of-type {\n",
       "        vertical-align: middle;\n",
       "    }\n",
       "\n",
       "    .dataframe tbody tr th {\n",
       "        vertical-align: top;\n",
       "    }\n",
       "\n",
       "    .dataframe thead th {\n",
       "        text-align: right;\n",
       "    }\n",
       "</style>\n",
       "<table border=\"1\" class=\"dataframe\">\n",
       "  <thead>\n",
       "    <tr style=\"text-align: right;\">\n",
       "      <th></th>\n",
       "      <th>SMILES</th>\n",
       "    </tr>\n",
       "  </thead>\n",
       "  <tbody>\n",
       "    <tr>\n",
       "      <th>0</th>\n",
       "      <td>Nc1ccn([C@@H]2O[C@H](CO)[C@@H](O)[C@@H]2O)c(=O)n1</td>\n",
       "    </tr>\n",
       "    <tr>\n",
       "      <th>1</th>\n",
       "      <td>COc1cc(Br)c(C[N+]2(CCOCCC3CCC4CC3C4(C)C)CCOCC2...</td>\n",
       "    </tr>\n",
       "    <tr>\n",
       "      <th>2</th>\n",
       "      <td>O=C1CCc2ccc(OCCCCN3CCN(c4cccc(Cl)c4Cl)CC3)cc2N1</td>\n",
       "    </tr>\n",
       "    <tr>\n",
       "      <th>3</th>\n",
       "      <td>COCC1=C(C(=O)OC(C)OC(=O)OC(C)C)N2C(=O)[C@@H](N...</td>\n",
       "    </tr>\n",
       "    <tr>\n",
       "      <th>4</th>\n",
       "      <td>c1nc(N2CCC2)c2[nH]cnc2n1</td>\n",
       "    </tr>\n",
       "  </tbody>\n",
       "</table>\n",
       "</div>"
      ],
      "text/plain": [
       "                                              SMILES\n",
       "0  Nc1ccn([C@@H]2O[C@H](CO)[C@@H](O)[C@@H]2O)c(=O)n1\n",
       "1  COc1cc(Br)c(C[N+]2(CCOCCC3CCC4CC3C4(C)C)CCOCC2...\n",
       "2    O=C1CCc2ccc(OCCCCN3CCN(c4cccc(Cl)c4Cl)CC3)cc2N1\n",
       "3  COCC1=C(C(=O)OC(C)OC(=O)OC(C)C)N2C(=O)[C@@H](N...\n",
       "4                           c1nc(N2CCC2)c2[nH]cnc2n1"
      ]
     },
     "metadata": {},
     "output_type": "display_data"
    }
   ],
   "source": [
    "df_active_train = pd.read_csv(\"../sars_data/actives_train.csv\")\n",
    "df_inactive_train = pd.read_csv(\"../sars_data/inactives_train.csv\")\n",
    "\n",
    "print(df_active_train.info())\n",
    "display(df_active_train.head())\n",
    "print(df_inactive_train.info())\n",
    "display(df_inactive_train.head())"
   ]
  },
  {
   "cell_type": "markdown",
   "id": "03bd8022-2812-44cb-8718-b84dda8c902e",
   "metadata": {},
   "source": [
    "### Validation data"
   ]
  },
  {
   "cell_type": "code",
   "execution_count": 7,
   "id": "3f83c935-14ef-4a65-829c-57efc52080ed",
   "metadata": {},
   "outputs": [
    {
     "name": "stdout",
     "output_type": "stream",
     "text": [
      "<class 'pandas.core.frame.DataFrame'>\n",
      "RangeIndex: 34 entries, 0 to 33\n",
      "Data columns (total 1 columns):\n",
      " #   Column  Non-Null Count  Dtype \n",
      "---  ------  --------------  ----- \n",
      " 0   SMILES  34 non-null     object\n",
      "dtypes: object(1)\n",
      "memory usage: 400.0+ bytes\n",
      "None\n"
     ]
    },
    {
     "data": {
      "text/html": [
       "<div>\n",
       "<style scoped>\n",
       "    .dataframe tbody tr th:only-of-type {\n",
       "        vertical-align: middle;\n",
       "    }\n",
       "\n",
       "    .dataframe tbody tr th {\n",
       "        vertical-align: top;\n",
       "    }\n",
       "\n",
       "    .dataframe thead th {\n",
       "        text-align: right;\n",
       "    }\n",
       "</style>\n",
       "<table border=\"1\" class=\"dataframe\">\n",
       "  <thead>\n",
       "    <tr style=\"text-align: right;\">\n",
       "      <th></th>\n",
       "      <th>SMILES</th>\n",
       "    </tr>\n",
       "  </thead>\n",
       "  <tbody>\n",
       "    <tr>\n",
       "      <th>0</th>\n",
       "      <td>O=C(CCl)N1CCN(Cc2cccc3ccccc23)CC1</td>\n",
       "    </tr>\n",
       "    <tr>\n",
       "      <th>1</th>\n",
       "      <td>O=C(CCl)N1CCN(S(=O)(=O)c2cccs2)CC1</td>\n",
       "    </tr>\n",
       "    <tr>\n",
       "      <th>2</th>\n",
       "      <td>C[C@H]1CN(c2c(F)c(N)c3c(=O)c(C(=O)O)cn(C4CC4)c...</td>\n",
       "    </tr>\n",
       "    <tr>\n",
       "      <th>3</th>\n",
       "      <td>C/C=C/c1ccc(OC)cc1</td>\n",
       "    </tr>\n",
       "    <tr>\n",
       "      <th>4</th>\n",
       "      <td>Clc1cccc(CN2CCOCC2)c1</td>\n",
       "    </tr>\n",
       "  </tbody>\n",
       "</table>\n",
       "</div>"
      ],
      "text/plain": [
       "                                              SMILES\n",
       "0                  O=C(CCl)N1CCN(Cc2cccc3ccccc23)CC1\n",
       "1                 O=C(CCl)N1CCN(S(=O)(=O)c2cccs2)CC1\n",
       "2  C[C@H]1CN(c2c(F)c(N)c3c(=O)c(C(=O)O)cn(C4CC4)c...\n",
       "3                                 C/C=C/c1ccc(OC)cc1\n",
       "4                              Clc1cccc(CN2CCOCC2)c1"
      ]
     },
     "metadata": {},
     "output_type": "display_data"
    },
    {
     "name": "stdout",
     "output_type": "stream",
     "text": [
      "<class 'pandas.core.frame.DataFrame'>\n",
      "RangeIndex: 440 entries, 0 to 439\n",
      "Data columns (total 1 columns):\n",
      " #   Column  Non-Null Count  Dtype \n",
      "---  ------  --------------  ----- \n",
      " 0   SMILES  440 non-null    object\n",
      "dtypes: object(1)\n",
      "memory usage: 3.6+ KB\n",
      "None\n"
     ]
    },
    {
     "data": {
      "text/html": [
       "<div>\n",
       "<style scoped>\n",
       "    .dataframe tbody tr th:only-of-type {\n",
       "        vertical-align: middle;\n",
       "    }\n",
       "\n",
       "    .dataframe tbody tr th {\n",
       "        vertical-align: top;\n",
       "    }\n",
       "\n",
       "    .dataframe thead th {\n",
       "        text-align: right;\n",
       "    }\n",
       "</style>\n",
       "<table border=\"1\" class=\"dataframe\">\n",
       "  <thead>\n",
       "    <tr style=\"text-align: right;\">\n",
       "      <th></th>\n",
       "      <th>SMILES</th>\n",
       "    </tr>\n",
       "  </thead>\n",
       "  <tbody>\n",
       "    <tr>\n",
       "      <th>0</th>\n",
       "      <td>CCC1(C)CC(=O)NC1=O</td>\n",
       "    </tr>\n",
       "    <tr>\n",
       "      <th>1</th>\n",
       "      <td>CC(=O)N[C@@H](CCC(N)=O)C(=O)O</td>\n",
       "    </tr>\n",
       "    <tr>\n",
       "      <th>2</th>\n",
       "      <td>O=C1O[C@H]([C@@H](O)CO)C(O)=C1O</td>\n",
       "    </tr>\n",
       "    <tr>\n",
       "      <th>3</th>\n",
       "      <td>CC(C)n1cnc(S(N)(=O)=O)c1</td>\n",
       "    </tr>\n",
       "    <tr>\n",
       "      <th>4</th>\n",
       "      <td>Cc1ccc(=O)n(-c2ccccc2)c1</td>\n",
       "    </tr>\n",
       "  </tbody>\n",
       "</table>\n",
       "</div>"
      ],
      "text/plain": [
       "                            SMILES\n",
       "0               CCC1(C)CC(=O)NC1=O\n",
       "1    CC(=O)N[C@@H](CCC(N)=O)C(=O)O\n",
       "2  O=C1O[C@H]([C@@H](O)CO)C(O)=C1O\n",
       "3         CC(C)n1cnc(S(N)(=O)=O)c1\n",
       "4         Cc1ccc(=O)n(-c2ccccc2)c1"
      ]
     },
     "metadata": {},
     "output_type": "display_data"
    }
   ],
   "source": [
    "df_active_val = pd.read_csv(\"../sars_data/actives_val.csv\")\n",
    "df_inactive_val = pd.read_csv(\"../sars_data/inactives_val.csv\")\n",
    "\n",
    "print(df_active_val.info())\n",
    "display(df_active_val.head())\n",
    "print(df_inactive_val.info())\n",
    "display(df_inactive_val.head())"
   ]
  },
  {
   "cell_type": "markdown",
   "id": "d216549c-4021-4472-a3d2-d45415762afc",
   "metadata": {},
   "source": [
    "## Process data"
   ]
  },
  {
   "cell_type": "code",
   "execution_count": 8,
   "id": "d5abd621-1c1c-471c-895b-2950a07b65b8",
   "metadata": {},
   "outputs": [],
   "source": [
    "# Remove padding.\n",
    "remove_pad = lambda x: x.replace(\"<pad>\", \"\")\n",
    "df_active.SMILES = df_active.SMILES.map(remove_pad)\n",
    "df_inactive.SMILES = df_inactive.SMILES.map(remove_pad)"
   ]
  },
  {
   "cell_type": "code",
   "execution_count": 9,
   "id": "b584d3bc-3a5d-4b29-94f1-d7ac288ba291",
   "metadata": {},
   "outputs": [],
   "source": [
    "# Listify.\n",
    "actives_gen = list(df_active.SMILES)\n",
    "inactives_gen = list(df_inactive.SMILES)\n",
    "\n",
    "actives_train = list(df_active_train.SMILES)\n",
    "inactives_train = list(df_inactive_train.SMILES)\n",
    "\n",
    "actives_val = list(df_active_val.SMILES)\n",
    "inactives_val = list(df_inactive_val.SMILES)"
   ]
  },
  {
   "cell_type": "code",
   "execution_count": 10,
   "id": "339130cd-d674-4502-a4b5-7138a13f2476",
   "metadata": {},
   "outputs": [
    {
     "name": "stdout",
     "output_type": "stream",
     "text": [
      "--- de novo actives ---\n",
      "Total strings with invalid SMILES syntax: 52131\n",
      "Total strings with invalid chemistry: 7297\n",
      "Total valid SMILES strings: 40572\n",
      "Percent valid SMILES strings: 0.40572\n",
      "\n",
      "--- de novo inactives ---\n",
      "Total strings with invalid SMILES syntax: 63495\n",
      "Total strings with invalid chemistry: 5203\n",
      "Total valid SMILES strings: 31302\n",
      "Percent valid SMILES strings: 0.31302\n",
      "\n",
      "--- training actives ---\n",
      "Total strings with invalid SMILES syntax: 0\n",
      "Total strings with invalid chemistry: 0\n",
      "Total valid SMILES strings: 132\n",
      "Percent valid SMILES strings: 1.0\n",
      "\n",
      "--- training inactives ---\n",
      "Total strings with invalid SMILES syntax: 0\n",
      "Total strings with invalid chemistry: 0\n",
      "Total valid SMILES strings: 1758\n",
      "Percent valid SMILES strings: 1.0\n",
      "\n",
      "--- validation actives ---\n",
      "Total strings with invalid SMILES syntax: 0\n",
      "Total strings with invalid chemistry: 0\n",
      "Total valid SMILES strings: 34\n",
      "Percent valid SMILES strings: 1.0\n",
      "\n",
      "--- validation inactives ---\n",
      "Total strings with invalid SMILES syntax: 0\n",
      "Total strings with invalid chemistry: 0\n",
      "Total valid SMILES strings: 440\n",
      "Percent valid SMILES strings: 1.0\n"
     ]
    }
   ],
   "source": [
    "# Filter out molecules that do not pass RDKit checks.\n",
    "# Some metrics will require this step.\n",
    "print(\"--- de novo actives ---\")\n",
    "actives_gen_grammatical = remove_ungrammatical(actives_gen)\n",
    "print(\"\\n--- de novo inactives ---\")\n",
    "inactives_gen_grammatical = remove_ungrammatical(inactives_gen)\n",
    "print(\"\\n--- training actives ---\")\n",
    "actives_train_grammatical = remove_ungrammatical(actives_train)\n",
    "print(\"\\n--- training inactives ---\")\n",
    "inactives_train_grammatical = remove_ungrammatical(inactives_train)\n",
    "print(\"\\n--- validation actives ---\")\n",
    "actives_val_grammatical = remove_ungrammatical(actives_val)\n",
    "print(\"\\n--- validation inactives ---\")\n",
    "inactives_val_grammatical = remove_ungrammatical(inactives_val)"
   ]
  },
  {
   "cell_type": "markdown",
   "id": "fd4af4aa-1eca-4287-ae30-1573d1e0a039",
   "metadata": {},
   "source": [
    "## Global-level metrics\n",
    "\n",
    "### MOSES metrics"
   ]
  },
  {
   "cell_type": "code",
   "execution_count": 11,
   "id": "d8a762af-857d-4ba9-9de9-272d2488de33",
   "metadata": {},
   "outputs": [
    {
     "data": {
      "text/plain": [
       "\u001b[0;31mSignature:\u001b[0m\n",
       "\u001b[0mmoses\u001b[0m\u001b[0;34m.\u001b[0m\u001b[0mget_all_metrics\u001b[0m\u001b[0;34m(\u001b[0m\u001b[0;34m\u001b[0m\n",
       "\u001b[0;34m\u001b[0m    \u001b[0mgen\u001b[0m\u001b[0;34m,\u001b[0m\u001b[0;34m\u001b[0m\n",
       "\u001b[0;34m\u001b[0m    \u001b[0mk\u001b[0m\u001b[0;34m=\u001b[0m\u001b[0;32mNone\u001b[0m\u001b[0;34m,\u001b[0m\u001b[0;34m\u001b[0m\n",
       "\u001b[0;34m\u001b[0m    \u001b[0mn_jobs\u001b[0m\u001b[0;34m=\u001b[0m\u001b[0;36m1\u001b[0m\u001b[0;34m,\u001b[0m\u001b[0;34m\u001b[0m\n",
       "\u001b[0;34m\u001b[0m    \u001b[0mdevice\u001b[0m\u001b[0;34m=\u001b[0m\u001b[0;34m'cpu'\u001b[0m\u001b[0;34m,\u001b[0m\u001b[0;34m\u001b[0m\n",
       "\u001b[0;34m\u001b[0m    \u001b[0mbatch_size\u001b[0m\u001b[0;34m=\u001b[0m\u001b[0;36m512\u001b[0m\u001b[0;34m,\u001b[0m\u001b[0;34m\u001b[0m\n",
       "\u001b[0;34m\u001b[0m    \u001b[0mpool\u001b[0m\u001b[0;34m=\u001b[0m\u001b[0;32mNone\u001b[0m\u001b[0;34m,\u001b[0m\u001b[0;34m\u001b[0m\n",
       "\u001b[0;34m\u001b[0m    \u001b[0mtest\u001b[0m\u001b[0;34m=\u001b[0m\u001b[0;32mNone\u001b[0m\u001b[0;34m,\u001b[0m\u001b[0;34m\u001b[0m\n",
       "\u001b[0;34m\u001b[0m    \u001b[0mtest_scaffolds\u001b[0m\u001b[0;34m=\u001b[0m\u001b[0;32mNone\u001b[0m\u001b[0;34m,\u001b[0m\u001b[0;34m\u001b[0m\n",
       "\u001b[0;34m\u001b[0m    \u001b[0mptest\u001b[0m\u001b[0;34m=\u001b[0m\u001b[0;32mNone\u001b[0m\u001b[0;34m,\u001b[0m\u001b[0;34m\u001b[0m\n",
       "\u001b[0;34m\u001b[0m    \u001b[0mptest_scaffolds\u001b[0m\u001b[0;34m=\u001b[0m\u001b[0;32mNone\u001b[0m\u001b[0;34m,\u001b[0m\u001b[0;34m\u001b[0m\n",
       "\u001b[0;34m\u001b[0m    \u001b[0mtrain\u001b[0m\u001b[0;34m=\u001b[0m\u001b[0;32mNone\u001b[0m\u001b[0;34m,\u001b[0m\u001b[0;34m\u001b[0m\n",
       "\u001b[0;34m\u001b[0m\u001b[0;34m)\u001b[0m\u001b[0;34m\u001b[0m\u001b[0;34m\u001b[0m\u001b[0m\n",
       "\u001b[0;31mDocstring:\u001b[0m\n",
       "Computes all available metrics between test (scaffold test)\n",
       "and generated sets of SMILES.\n",
       "Parameters:\n",
       "    gen: list of generated SMILES\n",
       "    k: int or list with values for unique@k. Will calculate number of\n",
       "        unique molecules in the first k molecules. Default [1000, 10000]\n",
       "    n_jobs: number of workers for parallel processing\n",
       "    device: 'cpu' or 'cuda:n', where n is GPU device number\n",
       "    batch_size: batch size for FCD metric\n",
       "    pool: optional multiprocessing pool to use for parallelization\n",
       "\n",
       "    test (None or list): test SMILES. If None, will load\n",
       "        a default test set\n",
       "    test_scaffolds (None or list): scaffold test SMILES. If None, will\n",
       "        load a default scaffold test set\n",
       "    ptest (None or dict): precalculated statistics of the test set. If\n",
       "        None, will load default test statistics. If you specified a custom\n",
       "        test set, default test statistics will be ignored\n",
       "    ptest_scaffolds (None or dict): precalculated statistics of the\n",
       "        scaffold test set If None, will load default scaffold test\n",
       "        statistics. If you specified a custom test set, default test\n",
       "        statistics will be ignored\n",
       "    train (None or list): train SMILES. If None, will load a default\n",
       "        train set\n",
       "Available metrics:\n",
       "    * %valid\n",
       "    * %unique@k\n",
       "    * Frechet ChemNet Distance (FCD)\n",
       "    * Fragment similarity (Frag)\n",
       "    * Scaffold similarity (Scaf)\n",
       "    * Similarity to nearest neighbour (SNN)\n",
       "    * Internal diversity (IntDiv)\n",
       "    * Internal diversity 2: using square root of mean squared\n",
       "        Tanimoto similarity (IntDiv2)\n",
       "    * %passes filters (Filters)\n",
       "    * Distribution difference for logP, SA, QED, weight\n",
       "    * Novelty (molecules not present in train)\n",
       "\u001b[0;31mFile:\u001b[0m      /opt/anaconda3/lib/python3.8/site-packages/moses/metrics/metrics.py\n",
       "\u001b[0;31mType:\u001b[0m      function\n"
      ]
     },
     "metadata": {},
     "output_type": "display_data"
    }
   ],
   "source": [
    "moses.get_all_metrics?"
   ]
  },
  {
   "cell_type": "code",
   "execution_count": null,
   "id": "e5870193-ddc6-4787-bdbd-836b71fd2b20",
   "metadata": {},
   "outputs": [],
   "source": [
    "# Compute MOSES metrics for de novo actives.\n",
    "start_time = time.time()\n",
    "metrics_active = moses.get_all_metrics(gen = actives_gen, train = actives_train, test = actives_val)\n",
    "print(\"Complete in {} seconds.\".format(time.time() - start_time))\n",
    "\n",
    "display(metrics_active)"
   ]
  },
  {
   "cell_type": "code",
   "execution_count": null,
   "id": "6d4e0653-bf27-48ad-a7b7-561ceb8358db",
   "metadata": {},
   "outputs": [],
   "source": [
    "# Compute MOSES metrics for de novo inactives.\n",
    "start_time = time.time()\n",
    "metrics_inactive = moses.get_all_metrics(gen = inactives_gen, train = inactives_train, test = inactives_val)\n",
    "print(\"Complete in {} seconds.\".format(time.time() - start_time))\n",
    "\n",
    "display(metrics_inactive)"
   ]
  },
  {
   "cell_type": "markdown",
   "id": "b87123a4-958f-42ad-b976-ebb280e4b4c6",
   "metadata": {},
   "source": [
    "### TDC metrics"
   ]
  },
  {
   "cell_type": "code",
   "execution_count": null,
   "id": "9c7249ad-d398-43d1-860e-6cb5d650560b",
   "metadata": {},
   "outputs": [],
   "source": [
    "# NOTE: must subsample generative inactives to < 10k to get TDC functions to work.\n",
    "# This is due to a glitch in TDC.\n",
    "actives_gen_grammatical_10k = sample(actives_gen_grammatical, 10000)\n",
    "inactives_gen_grammatical_10k = sample(inactives_gen_grammatical, 10000)"
   ]
  },
  {
   "cell_type": "code",
   "execution_count": null,
   "id": "fb5de6b6-8448-410d-b89b-b580957a6ebf",
   "metadata": {},
   "outputs": [],
   "source": [
    "%%capture\n",
    "# Throws error.\n",
    "'''\n",
    "ompute all metrics for active de novos vs their training data.\n",
    "compute_tdc_metrics(actives_gen_grammatical, actives_train_grammatical)\n",
    "'''"
   ]
  },
  {
   "cell_type": "code",
   "execution_count": null,
   "id": "c78516be-0d9d-46ca-a2de-830a9522577e",
   "metadata": {},
   "outputs": [],
   "source": [
    "# KL divergence of active generated data and active training data.\n",
    "kl = Evaluator(name = \"KL_Divergence\")\n",
    "kl(actives_gen_grammatical_10k, actives_train_grammatical)"
   ]
  },
  {
   "cell_type": "code",
   "execution_count": null,
   "id": "bc0adfe0-c023-4b14-a82c-05a5af44796a",
   "metadata": {},
   "outputs": [],
   "source": [
    "%%capture\n",
    "# Throws error.\n",
    "'''\n",
    "# Compute all metrics for inactive de novos vs their training data.\n",
    "compute_tdc_metrics(inactives_gen_grammatical_10k, inactives_train_grammatical)\n",
    "'''"
   ]
  },
  {
   "cell_type": "code",
   "execution_count": null,
   "id": "765e057c-3928-4560-b24a-31961a39b5dc",
   "metadata": {},
   "outputs": [],
   "source": [
    "# KL divergence of inactive generated data and inactive training data.\n",
    "kl(inactives_gen_grammatical_10k, inactives_train_grammatical)"
   ]
  },
  {
   "cell_type": "code",
   "execution_count": null,
   "id": "061901d6-3aec-4882-bf4b-a1c2457ff462",
   "metadata": {},
   "outputs": [],
   "source": [
    "# KL divergence of active training data and inactive training data.\n",
    "kl(actives_train_grammatical, inactives_train_grammatical)"
   ]
  },
  {
   "cell_type": "code",
   "execution_count": null,
   "id": "4e250857-9fa6-48a6-b775-dbabf07794d7",
   "metadata": {},
   "outputs": [],
   "source": [
    "# KL divergence of active de novos and inactive training data.\n",
    "kl(actives_gen_grammatical_10k, inactives_train_grammatical)"
   ]
  },
  {
   "cell_type": "code",
   "execution_count": null,
   "id": "6d6a5acd-9a67-43d1-aab8-f096f1b7a93f",
   "metadata": {},
   "outputs": [],
   "source": [
    "# KL divergence of inactive de novos and active training data.\n",
    "kl(inactives_gen_grammatical_10k, actives_train_grammatical)"
   ]
  },
  {
   "cell_type": "code",
   "execution_count": null,
   "id": "b291a010-b61e-4cc9-9f8c-37b787696785",
   "metadata": {},
   "outputs": [],
   "source": [
    "# KL divergence of active de novos and inactive de novos.\n",
    "kl(actives_gen_grammatical_10k, inactives_gen_grammatical_10k)"
   ]
  },
  {
   "cell_type": "markdown",
   "id": "d2b15d80-c900-4e0f-ba6b-b130e1617cae",
   "metadata": {
    "tags": []
   },
   "source": [
    "## Molecule-level metrics\n",
    "\n",
    "### Synthetic accessibility\n",
    "\n",
    ">Description: Synthetic Accessibility Score stands for how hard or how easy it is to synthesize a given molecule, based on a combination of the molecule’s fragments contributions. The oracle is caluated via RDKit, using a set of chemical rules defined by Ertl et al. (https://tdcommons.ai/functions/oracles/#ibm-rxn-synthetic-accessibility)[https://tdcommons.ai/functions/oracles/#ibm-rxn-synthetic-accessibility]"
   ]
  },
  {
   "cell_type": "code",
   "execution_count": null,
   "id": "ae9d03a9-2798-43a6-b0e2-4bbd7bc89523",
   "metadata": {},
   "outputs": [],
   "source": [
    "# Synthetic accessibility.\n",
    "sa = Oracle(name = \"SA\")\n",
    "\n",
    "'''\n",
    "sa_actives_gen = sa(actives_gen_grammatical)\n",
    "sa_inactives_gen = sa(inactives_gen_grammatical)\n",
    "sa_actives_train = sa(actives_train_grammatical)\n",
    "sa_inactives_train = sa(inactives_train_grammatical)\n",
    "'''\n",
    "\n",
    "invalid = 0\n",
    "sa_actives_gen = []\n",
    "for molecule in actives_gen_grammatical:\n",
    "    try:\n",
    "        sa_one = sa(molecule)\n",
    "        sa_actives_gen.append(sa_one)\n",
    "    except:\n",
    "        invalid += 1\n",
    "print(\"\\nTotal invalid:\", invalid)\n",
    "print(\"Total valid:\", len(sa_actives_gen))\n",
    "\n",
    "invalid = 0\n",
    "sa_inactives_gen = []\n",
    "for molecule in inactives_gen_grammatical:\n",
    "    try:\n",
    "        sa_one = sa(molecule)\n",
    "        sa_inactives_gen.append(sa_one)\n",
    "    except:\n",
    "        invalid += 1\n",
    "print(\"\\nTotal invalid:\", invalid)\n",
    "print(\"Total valid:\", len(sa_inactives_gen))\n",
    "\n",
    "invalid = 0\n",
    "sa_actives_train = []\n",
    "for molecule in actives_train_grammatical:\n",
    "    try:\n",
    "        sa_one = sa(molecule)\n",
    "        sa_actives_train.append(sa_one)\n",
    "    except:\n",
    "        invalid += 1\n",
    "print(\"\\nTotal invalid:\", invalid)\n",
    "print(\"Total valid:\", len(sa_actives_train))\n",
    "\n",
    "invalid = 0\n",
    "sa_inactives_train = []\n",
    "for molecule in inactives_train_grammatical:\n",
    "    try:\n",
    "        sa_one = sa(molecule)\n",
    "        sa_inactives_train.append(sa_one)\n",
    "    except:\n",
    "        invalid += 1\n",
    "print(\"\\nTotal invalid:\", invalid)\n",
    "print(\"Total valid:\", len(sa_inactives_train))\n",
    "\n",
    "print()\n",
    "sa_dict = {\"Generated actives\": sa_actives_gen,\n",
    "           \"Generated inactives\": sa_inactives_gen,\n",
    "           \"Training actives\": sa_actives_train,\n",
    "           \"Training inactives\": sa_inactives_train}\n",
    "\n",
    "for key,value in sa_dict.items():\n",
    "    print(key, \":\")\n",
    "    print(value[:20], \"\\n\")"
   ]
  },
  {
   "cell_type": "markdown",
   "id": "574ae571-1f4c-4826-8bc9-8bea5d3dad46",
   "metadata": {},
   "source": [
    "### QED\n",
    "\n",
    "> Description: QED stands for Quantitative Estimate of Drug-likeness. The oracle is caluated via RDKit, using a set of chemical rules about drug-likeliness defined by Bickerton et al. (https://tdcommons.ai/functions/oracles/#ibm-rxn-synthetic-accessibility)[https://tdcommons.ai/functions/oracles/]"
   ]
  },
  {
   "cell_type": "code",
   "execution_count": null,
   "id": "b871188f-eb4b-4ea5-ba8a-be0cad43cdb0",
   "metadata": {},
   "outputs": [],
   "source": [
    "# Address this error:\n",
    "# RDKit ERROR: Explicit valence for atom # 14 C, 5, is greater than permitted.\n",
    "inactives_gen_grammatical_keep = []\n",
    "invalid_valence = 0\n",
    "for molecule in inactives_gen_grammatical:\n",
    "        m = Chem.MolFromSmiles(molecule, sanitize = True)\n",
    "        try:\n",
    "            m = Chem.RemoveHs(m)\n",
    "            inactives_gen_grammatical_keep.append(molecule)\n",
    "        except:\n",
    "            invalid_valence += 1\n",
    "print(\"Total de novo inactives with invalid valence:\", invalid_valence)\n",
    "print(\"Total de novo inactives with valid valence:\", len(inactives_gen_grammatical_keep))"
   ]
  },
  {
   "cell_type": "code",
   "execution_count": null,
   "id": "e70be3e2-aea9-48c2-9c0f-82bc53e50495",
   "metadata": {},
   "outputs": [],
   "source": [
    "# Address this error:\n",
    "# RDKit ERROR: Explicit valence for atom # 14 C, 5, is greater than permitted.\n",
    "actives_gen_grammatical_keep = []\n",
    "invalid_valence = 0\n",
    "for molecule in actives_gen_grammatical:\n",
    "        m = Chem.MolFromSmiles(molecule, sanitize = True)\n",
    "        try:\n",
    "            m = Chem.RemoveHs(m)\n",
    "            actives_gen_grammatical_keep.append(molecule)\n",
    "        except:\n",
    "            invalid_valence += 1\n",
    "print(\"Total de novo actives with invalid valence:\", invalid_valence)\n",
    "print(\"Total de novo actives with valid valence:\", len(actives_gen_grammatical_keep))"
   ]
  },
  {
   "cell_type": "code",
   "execution_count": null,
   "id": "bd5ba179-2cba-423a-bfd6-4da0c81633ef",
   "metadata": {},
   "outputs": [],
   "source": [
    "# Quantitative Estimate of Drug-likeness.\n",
    "qed = Oracle(name = \"QED\")\n",
    "qed_actives_gen = qed(actives_gen_grammatical_keep) # Use only instances with proper valence.\n",
    "qed_inactives_gen = qed(inactives_gen_grammatical_keep) # Use only instances with proper valence.\n",
    "qed_actives_train = qed(actives_train_grammatical)\n",
    "qed_inactives_train = qed(inactives_train_grammatical)\n",
    "\n",
    "qed_dict = {\"Generated actives\": qed_actives_gen,\n",
    "            \"Generated inactives\": qed_inactives_gen,\n",
    "            \"Training actives\": qed_actives_train,\n",
    "            \"Training inactives\": qed_inactives_train}\n",
    "\n",
    "for key,value in qed_dict.items():\n",
    "    print(key, \":\")\n",
    "    print(value[:20], \"\\n\")"
   ]
  },
  {
   "cell_type": "markdown",
   "id": "eba1696e-9e55-454d-bf6e-5da811894ea3",
   "metadata": {},
   "source": [
    "### Octanol-water Partition Coefficient (LogP)\n",
    "\n",
    ">Description: The penalized logP score measures the solubility and synthetic accessibility of a compound. The oracle is caluated via RDKit. (https://tdcommons.ai/functions/oracles/#ibm-rxn-synthetic-accessibility)[https://tdcommons.ai/functions/oracles/]"
   ]
  },
  {
   "cell_type": "code",
   "execution_count": null,
   "id": "9ec09c4c-c3e6-450b-ab96-e23a7802c5d8",
   "metadata": {},
   "outputs": [],
   "source": [
    "# LogP.\n",
    "logp = Oracle(name = \"LogP\")\n",
    "\n",
    "'''\n",
    "logp_actives_gen = logp(actives_gen_grammatical)\n",
    "logp_inactives_gen = logp(inactives_gen_grammatical)\n",
    "logp_actives_train = logp(actives_train_grammatical)\n",
    "logp_inactives_train = logp(inactives_train_grammatical)\n",
    "'''\n",
    "\n",
    "invalid = 0\n",
    "logp_actives_gen = []\n",
    "for molecule in actives_gen_grammatical:\n",
    "    try:\n",
    "        logp_one = logp(molecule)\n",
    "        logp_actives_gen.append(logp_one)\n",
    "    except:\n",
    "        invalid += 1\n",
    "print(\"\\nTotal invalid:\", invalid)\n",
    "print(\"Total valid:\", len(logp_actives_gen))\n",
    "\n",
    "invalid = 0\n",
    "logp_inactives_gen = []\n",
    "for molecule in inactives_gen_grammatical:\n",
    "    try:\n",
    "        logp_one = logp(molecule)\n",
    "        logp_inactives_gen.append(logp_one)\n",
    "    except:\n",
    "        invalid += 1\n",
    "print(\"\\nTotal invalid:\", invalid)\n",
    "print(\"Total valid:\", len(logp_inactives_gen))\n",
    "\n",
    "invalid = 0\n",
    "logp_actives_train = []\n",
    "for molecule in actives_train_grammatical:\n",
    "    try:\n",
    "        logp_one = logp(molecule)\n",
    "        logp_actives_train.append(logp_one)\n",
    "    except:\n",
    "        invalid += 1\n",
    "print(\"\\nTotal invalid:\", invalid)\n",
    "print(\"Total valid:\", len(logp_actives_train))\n",
    "\n",
    "invalid = 0\n",
    "logp_inactives_train = []\n",
    "for molecule in inactives_train_grammatical:\n",
    "    try:\n",
    "        logp_one = logp(molecule)\n",
    "        logp_inactives_train.append(logp_one)\n",
    "    except:\n",
    "        invalid += 1\n",
    "print(\"\\nTotal invalid:\", invalid)\n",
    "print(\"Total valid:\", len(logp_inactives_train))\n",
    "\n",
    "print()\n",
    "logp_dict = {\"Generated actives\": logp_actives_gen,\n",
    "             \"Generated inactives\": logp_inactives_gen,\n",
    "             \"Training actives\": logp_actives_train,\n",
    "             \"Training inactives\": logp_inactives_train}\n",
    "\n",
    "for key,value in logp_dict.items():\n",
    "    print(key, \":\")\n",
    "    print(value[:20], \"\\n\")"
   ]
  },
  {
   "cell_type": "markdown",
   "id": "f0d8c4d9-ca43-409c-8736-559c3addd274",
   "metadata": {},
   "source": [
    "### Dictionary to dataframe"
   ]
  },
  {
   "cell_type": "code",
   "execution_count": null,
   "id": "199f37b9-c1c8-4a79-8d3e-59c26f9cbd96",
   "metadata": {},
   "outputs": [],
   "source": [
    "# SA.\n",
    "df_sa = pd.DataFrame()\n",
    "for key,value in sa_dict.items():\n",
    "    df_sa = pd.concat([df_sa, pd.DataFrame({\"Distribution\": [key] * len(value), \"Value\": value})])\n",
    "df_sa[\"Metric\"] = \"SA\"\n",
    "display(df_sa)"
   ]
  },
  {
   "cell_type": "code",
   "execution_count": null,
   "id": "ad5100ee-f8bd-44ac-a7c1-3740353fbcfc",
   "metadata": {},
   "outputs": [],
   "source": [
    "# QED.\n",
    "df_qed = pd.DataFrame()\n",
    "for key,value in qed_dict.items():\n",
    "    df_qed = pd.concat([df_qed, pd.DataFrame({\"Distribution\": [key] * len(value), \"Value\": value})])\n",
    "df_qed[\"Metric\"] = \"QED\"\n",
    "display(df_qed)"
   ]
  },
  {
   "cell_type": "code",
   "execution_count": null,
   "id": "0ffd4d0e-aee9-4bac-afd1-418a6d4f4639",
   "metadata": {},
   "outputs": [],
   "source": [
    "# LogP.\n",
    "df_logp = pd.DataFrame()\n",
    "for key,value in logp_dict.items():\n",
    "    df_logp = pd.concat([df_logp, pd.DataFrame({\"Distribution\": [key] * len(value), \"Value\": value})])\n",
    "df_logp[\"Metric\"] = \"LogP\"\n",
    "display(df_logp)"
   ]
  },
  {
   "cell_type": "code",
   "execution_count": null,
   "id": "f4ee0fe2-1af7-4dfb-8175-838b000268e6",
   "metadata": {},
   "outputs": [],
   "source": [
    "# Aggregate all results.\n",
    "df_metrics = pd.concat([df_sa, df_qed, df_logp]).reset_index(drop = True)\n",
    "print(df_metrics.info())\n",
    "display(df_metrics)"
   ]
  },
  {
   "cell_type": "markdown",
   "id": "67d74c98-f810-4143-9fe9-2ad3dada6b69",
   "metadata": {},
   "source": [
    "## Plot distributions"
   ]
  },
  {
   "cell_type": "code",
   "execution_count": null,
   "id": "cde9c0c3-d3b2-4c93-a18c-4e7e143e7fdb",
   "metadata": {},
   "outputs": [],
   "source": [
    "plot_distribution_basic(df_sa)"
   ]
  },
  {
   "cell_type": "code",
   "execution_count": null,
   "id": "39a1879e-f7db-4622-8b6d-ad447eb21553",
   "metadata": {},
   "outputs": [],
   "source": [
    "plot_distribution_basic(df_qed)"
   ]
  },
  {
   "cell_type": "code",
   "execution_count": null,
   "id": "d4ff0ba8-c99d-4638-ab45-d35ce3335f64",
   "metadata": {},
   "outputs": [],
   "source": [
    "plot_distribution_basic(df_logp)"
   ]
  },
  {
   "cell_type": "code",
   "execution_count": null,
   "id": "62f524fa-5d4f-4d29-b61f-ec2a23444472",
   "metadata": {},
   "outputs": [],
   "source": [
    "plot_distribution(df_metrics, save_path = \"./aae_finetune_100k_metrics.pdf\", save = True)"
   ]
  },
  {
   "cell_type": "markdown",
   "id": "6fbc949d-0975-4fe1-90ed-95d45fb7552d",
   "metadata": {},
   "source": [
    "## End of document"
   ]
  },
  {
   "cell_type": "code",
   "execution_count": null,
   "id": "25c63cfa-3045-476d-a564-965e9c4d053c",
   "metadata": {},
   "outputs": [],
   "source": []
  }
 ],
 "metadata": {
  "kernelspec": {
   "display_name": "Python 3 (ipykernel)",
   "language": "python",
   "name": "python3"
  },
  "language_info": {
   "codemirror_mode": {
    "name": "ipython",
    "version": 3
   },
   "file_extension": ".py",
   "mimetype": "text/x-python",
   "name": "python",
   "nbconvert_exporter": "python",
   "pygments_lexer": "ipython3",
   "version": "3.8.8"
  }
 },
 "nbformat": 4,
 "nbformat_minor": 5
}
