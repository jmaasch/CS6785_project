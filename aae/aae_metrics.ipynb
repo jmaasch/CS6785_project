{
 "cells": [
  {
   "cell_type": "markdown",
   "id": "7047db9b-37ab-4929-bfd1-d5969afe6620",
   "metadata": {},
   "source": [
    "# AAE with no pretraining: Performance evaluation\n",
    "\n",
    "Jacqueline R. M. A. Maasch | May 2022"
   ]
  },
  {
   "cell_type": "markdown",
   "id": "165eae80-6924-404f-bb17-45cf493b77cf",
   "metadata": {},
   "source": [
    "## Preamble"
   ]
  },
  {
   "cell_type": "code",
   "execution_count": 1,
   "id": "b49fbaff-9362-48a5-84b7-6ba7fc9a6a48",
   "metadata": {},
   "outputs": [],
   "source": [
    "# Importations.\n",
    "import moses\n",
    "import pandas as pd\n",
    "import numpy as np\n",
    "import time\n",
    "import sys\n",
    "import matplotlib.pyplot as plt\n",
    "import seaborn as sns\n",
    "from scipy.stats import wasserstein_distance\n",
    "from moses.metrics import weight, logP, SA, QED\n",
    "from moses.metrics.utils import get_mol, mapper\n",
    "from moses import get_dataset\n",
    "from collections import OrderedDict\n",
    "from tdc.chem_utils import MolFilter\n",
    "import warnings\n",
    "from tdc import Oracle\n",
    "from rdkit import Chem                                                                                                                                                                   \n",
    "from rdkit import RDLogger \n",
    "from random import sample\n",
    "import tdc\n",
    "from tdc import Evaluator\n",
    "from tdc.single_pred import HTS\n",
    "from importlib.metadata import version"
   ]
  },
  {
   "cell_type": "code",
   "execution_count": 2,
   "id": "4bfe0784-cba3-4427-8423-b3e822d26520",
   "metadata": {},
   "outputs": [
    {
     "name": "stdout",
     "output_type": "stream",
     "text": [
      "\n",
      "python version: 3.8.8 (default, Apr 13 2021, 12:59:45) \n",
      "[Clang 10.0.0 ]\n",
      "\n",
      "--- LIBRARY VERSIONS ---\n",
      "tdc:          0.3.6\n",
      "numpy:        1.22.3\n",
      "pandas:       1.2.4\n",
      "moses:        0.3.1\n",
      "rdkit:        2021.9.5.1\n",
      "scipy:        1.7.2\n",
      "seaborn:      0.11.1\n",
      "matplotlib:   3.3.4\n"
     ]
    }
   ],
   "source": [
    "# View versioning.\n",
    "print(\"\\npython version:\", sys.version)\n",
    "print(\"\\n--- LIBRARY VERSIONS ---\")\n",
    "print(\"tdc:         \", version(\"PyTDC\"))\n",
    "print(\"numpy:       \", version(\"numpy\"))\n",
    "print(\"pandas:      \", version(\"pandas\"))\n",
    "print(\"moses:       \", version(\"molsets\"))\n",
    "print(\"rdkit:       \", version(\"rdkit-pypi\"))\n",
    "print(\"scipy:       \", version(\"scipy\"))\n",
    "print(\"seaborn:     \", version(\"seaborn\"))\n",
    "print(\"matplotlib:  \", version(\"matplotlib\"))"
   ]
  },
  {
   "cell_type": "code",
   "execution_count": 3,
   "id": "65f02590-1c93-4268-87e6-7af42042832c",
   "metadata": {},
   "outputs": [],
   "source": [
    "%%capture\n",
    "# Installs.\n",
    "#!python3.8 -m pip install fcd_torch\n",
    "#!python3.8 -m pip install rxn4chemistry"
   ]
  },
  {
   "cell_type": "markdown",
   "id": "f78dc6e4-ecaa-450d-8a01-bceb24390854",
   "metadata": {},
   "source": [
    "## Define functions"
   ]
  },
  {
   "cell_type": "code",
   "execution_count": 58,
   "id": "8406dab1-94d5-4048-888b-a94e878c5479",
   "metadata": {},
   "outputs": [],
   "source": [
    "def compute_tdc_metrics(generated, training):\n",
    "    \n",
    "    metrics_dict = dict()\n",
    "    \n",
    "    kl = Evaluator(name = \"KL_Divergence\")\n",
    "    metrics_dict[\"KL divergence\"] = kl(generated, training)\n",
    "\n",
    "    uniqueness = Evaluator(name = \"Uniqueness\")\n",
    "    metrics_dict[\"Uniqueness\"] = uniqueness(generated)\n",
    "\n",
    "    validity = Evaluator(name = \"Validity\")\n",
    "    metrics_dict[\"Validity\"] = validity(generated)\n",
    "\n",
    "    novelty = Evaluator(name = \"Novelty\")\n",
    "    metrics_dict[\"Novelty\"] = novelty(generated, training)\n",
    "\n",
    "    #fcd = Evaluator(name = \"FCD_Distance\")\n",
    "    #metrics_dict[\"FCD distance\"] = fcd(generated, training)\n",
    "\n",
    "    diversity = Evaluator(name = \"Diversity\")\n",
    "    metrics_dict[\"Diversity\"] = diversity(generated)\n",
    "\n",
    "    return metrics_dict\n",
    "\n",
    "\n",
    "def remove_ungrammatical(generated):\n",
    "    # Disable warnings.\n",
    "    RDLogger.DisableLog(\"rdApp.*\")  \n",
    "    \n",
    "    # Filter molecules.\n",
    "    keep = []\n",
    "    invalid_string = 0\n",
    "    invalid_chemistry = 0\n",
    "    for molecule in generated:\n",
    "        m = Chem.MolFromSmiles(molecule, sanitize = False)\n",
    "        if m is None:\n",
    "            invalid_string += 1\n",
    "        else:\n",
    "            try:\n",
    "                Chem.SanitizeMol(m)\n",
    "                keep.append(molecule)\n",
    "            except:\n",
    "                invalid_chemistry += 1\n",
    "                \n",
    "    print(\"Total strings with invalid SMILES syntax:\", invalid_string)\n",
    "    print(\"Total strings with invalid chemistry:\", invalid_chemistry)\n",
    "    print(\"Total valid SMILES strings:\", len(keep))\n",
    "    print(\"Percent valid SMILES strings:\", (len(keep) / len(generated)))\n",
    "    \n",
    "    return keep\n",
    "\n",
    "\n",
    "def plot_distribution_basic(df, \n",
    "                            log_x = None, \n",
    "                            log_y = None, \n",
    "                            save_path = \"./plt.pdf\", \n",
    "                            save = False):\n",
    "    \n",
    "    sns.displot(data = df, \n",
    "                x = \"Value\", \n",
    "                hue = \"Distribution\", \n",
    "                col = \"Metric\",\n",
    "                kind = \"kde\", \n",
    "                log_scale = (log_x, log_y),\n",
    "                common_norm = True,\n",
    "                fill = True,\n",
    "                height = 5)\n",
    "    if save:\n",
    "        plt.savefig(save_path)\n",
    "    else:\n",
    "        plt.show()\n",
    "    \n",
    "    \n",
    "def plot_distribution(df, \n",
    "                      log_x = None, \n",
    "                      log_y = None, \n",
    "                      save_path = \"./plt.pdf\", \n",
    "                      save = False):\n",
    "    \n",
    "    g = sns.FacetGrid(df.reset_index(), \n",
    "                      col = \"Metric\",\n",
    "                      hue = \"Distribution\", \n",
    "                      sharex = False, \n",
    "                      sharey = False)\n",
    "    g.map_dataframe(sns.kdeplot, \n",
    "                    \"Value\",\n",
    "                    fill = True, \n",
    "                    log_scale = (log_x, log_y),\n",
    "                    common_norm = True).add_legend()\n",
    "    if save:\n",
    "        plt.savefig(save_path)\n",
    "    else:\n",
    "        plt.show()"
   ]
  },
  {
   "cell_type": "markdown",
   "id": "7aa6c3d8-51d9-4d6e-b1f6-44c38da5841e",
   "metadata": {},
   "source": [
    "## Read data\n",
    "\n",
    "### Generated molecules"
   ]
  },
  {
   "cell_type": "code",
   "execution_count": 5,
   "id": "5db30b54-2b42-4fe3-a683-9504e05b2397",
   "metadata": {},
   "outputs": [
    {
     "name": "stdout",
     "output_type": "stream",
     "text": [
      "<class 'pandas.core.frame.DataFrame'>\n",
      "RangeIndex: 100000 entries, 0 to 99999\n",
      "Data columns (total 1 columns):\n",
      " #   Column  Non-Null Count   Dtype \n",
      "---  ------  --------------   ----- \n",
      " 0   SMILES  100000 non-null  object\n",
      "dtypes: object(1)\n",
      "memory usage: 781.4+ KB\n",
      "None\n"
     ]
    },
    {
     "data": {
      "text/html": [
       "<div>\n",
       "<style scoped>\n",
       "    .dataframe tbody tr th:only-of-type {\n",
       "        vertical-align: middle;\n",
       "    }\n",
       "\n",
       "    .dataframe tbody tr th {\n",
       "        vertical-align: top;\n",
       "    }\n",
       "\n",
       "    .dataframe thead th {\n",
       "        text-align: right;\n",
       "    }\n",
       "</style>\n",
       "<table border=\"1\" class=\"dataframe\">\n",
       "  <thead>\n",
       "    <tr style=\"text-align: right;\">\n",
       "      <th></th>\n",
       "      <th>SMILES</th>\n",
       "    </tr>\n",
       "  </thead>\n",
       "  <tbody>\n",
       "    <tr>\n",
       "      <th>0</th>\n",
       "      <td>&lt;unk&gt;#csCSH1Occc3(O)3)C@CC2+([C@(H4O]3&lt;pad&gt;&lt;pa...</td>\n",
       "    </tr>\n",
       "    <tr>\n",
       "      <th>1</th>\n",
       "      <td>cc1cc()Occ(C)&lt;pad&gt;&lt;pad&gt;&lt;pad&gt;&lt;pad&gt;&lt;pad&gt;&lt;pad&gt;&lt;pa...</td>\n",
       "    </tr>\n",
       "    <tr>\n",
       "      <th>2</th>\n",
       "      <td>Fn1(SC@H]cCc[c3&lt;pad&gt;&lt;pad&gt;&lt;pad&gt;&lt;pad&gt;&lt;pad&gt;&lt;pad&gt;&lt;...</td>\n",
       "    </tr>\n",
       "    <tr>\n",
       "      <th>3</th>\n",
       "      <td>5cc113(O)2C&lt;pad&gt;&lt;pad&gt;&lt;pad&gt;&lt;pad&gt;&lt;pad&gt;&lt;pad&gt;&lt;pad&gt;...</td>\n",
       "    </tr>\n",
       "    <tr>\n",
       "      <th>4</th>\n",
       "      <td>4OO&lt;pad&gt;&lt;pad&gt;&lt;pad&gt;&lt;pad&gt;&lt;pad&gt;&lt;pad&gt;&lt;pad&gt;&lt;pad&gt;&lt;pa...</td>\n",
       "    </tr>\n",
       "  </tbody>\n",
       "</table>\n",
       "</div>"
      ],
      "text/plain": [
       "                                              SMILES\n",
       "0  <unk>#csCSH1Occc3(O)3)C@CC2+([C@(H4O]3<pad><pa...\n",
       "1  cc1cc()Occ(C)<pad><pad><pad><pad><pad><pad><pa...\n",
       "2  Fn1(SC@H]cCc[c3<pad><pad><pad><pad><pad><pad><...\n",
       "3  5cc113(O)2C<pad><pad><pad><pad><pad><pad><pad>...\n",
       "4  4OO<pad><pad><pad><pad><pad><pad><pad><pad><pa..."
      ]
     },
     "metadata": {},
     "output_type": "display_data"
    },
    {
     "name": "stdout",
     "output_type": "stream",
     "text": [
      "<class 'pandas.core.frame.DataFrame'>\n",
      "RangeIndex: 100000 entries, 0 to 99999\n",
      "Data columns (total 1 columns):\n",
      " #   Column  Non-Null Count   Dtype \n",
      "---  ------  --------------   ----- \n",
      " 0   SMILES  100000 non-null  object\n",
      "dtypes: object(1)\n",
      "memory usage: 781.4+ KB\n",
      "None\n"
     ]
    },
    {
     "data": {
      "text/html": [
       "<div>\n",
       "<style scoped>\n",
       "    .dataframe tbody tr th:only-of-type {\n",
       "        vertical-align: middle;\n",
       "    }\n",
       "\n",
       "    .dataframe tbody tr th {\n",
       "        vertical-align: top;\n",
       "    }\n",
       "\n",
       "    .dataframe thead th {\n",
       "        text-align: right;\n",
       "    }\n",
       "</style>\n",
       "<table border=\"1\" class=\"dataframe\">\n",
       "  <thead>\n",
       "    <tr style=\"text-align: right;\">\n",
       "      <th></th>\n",
       "      <th>SMILES</th>\n",
       "    </tr>\n",
       "  </thead>\n",
       "  <tbody>\n",
       "    <tr>\n",
       "      <th>0</th>\n",
       "      <td>s(Oc2ccccc2C2(C=N)N2CCC)1&lt;pad&gt;&lt;pad&gt;&lt;pad&gt;&lt;pad&gt;&lt;...</td>\n",
       "    </tr>\n",
       "    <tr>\n",
       "      <th>1</th>\n",
       "      <td>]c1cc(=O)c(C1&lt;pad&gt;&lt;pad&gt;&lt;pad&gt;&lt;pad&gt;&lt;pad&gt;&lt;pad&gt;&lt;pa...</td>\n",
       "    </tr>\n",
       "    <tr>\n",
       "      <th>2</th>\n",
       "      <td>C[C@H](OC]N[C@@]]1[C@]](C)C(CC(=O)c(O)[C@]H2CO...</td>\n",
       "    </tr>\n",
       "    <tr>\n",
       "      <th>3</th>\n",
       "      <td>=O]-1S(C)=O&lt;pad&gt;&lt;pad&gt;&lt;pad&gt;&lt;pad&gt;&lt;pad&gt;&lt;pad&gt;&lt;pad&gt;...</td>\n",
       "    </tr>\n",
       "    <tr>\n",
       "      <th>4</th>\n",
       "      <td>CNCc1cccc(FC12[C@@H]3C[C@@H](C)C(=O)[C@@]33CC(...</td>\n",
       "    </tr>\n",
       "  </tbody>\n",
       "</table>\n",
       "</div>"
      ],
      "text/plain": [
       "                                              SMILES\n",
       "0  s(Oc2ccccc2C2(C=N)N2CCC)1<pad><pad><pad><pad><...\n",
       "1  ]c1cc(=O)c(C1<pad><pad><pad><pad><pad><pad><pa...\n",
       "2  C[C@H](OC]N[C@@]]1[C@]](C)C(CC(=O)c(O)[C@]H2CO...\n",
       "3  =O]-1S(C)=O<pad><pad><pad><pad><pad><pad><pad>...\n",
       "4  CNCc1cccc(FC12[C@@H]3C[C@@H](C)C(=O)[C@@]33CC(..."
      ]
     },
     "metadata": {},
     "output_type": "display_data"
    }
   ],
   "source": [
    "# Read in generated molecules.\n",
    "df_active = pd.read_csv(\"../aae/generated_molecules_100k/gen_active.csv\")\n",
    "df_inactive = pd.read_csv(\"../aae/generated_molecules_100k/gen_inactive.csv\")\n",
    "\n",
    "print(df_active.info())\n",
    "display(df_active.head())\n",
    "\n",
    "print(df_inactive.info())\n",
    "display(df_inactive.head())"
   ]
  },
  {
   "cell_type": "markdown",
   "id": "fdf61708-d922-40d0-842a-db647f14cd89",
   "metadata": {},
   "source": [
    "### Training data from TDC"
   ]
  },
  {
   "cell_type": "code",
   "execution_count": 6,
   "id": "c12c6415-4dc6-4559-a1de-e5063e7788d3",
   "metadata": {},
   "outputs": [
    {
     "name": "stdout",
     "output_type": "stream",
     "text": [
      "<class 'pandas.core.frame.DataFrame'>\n",
      "RangeIndex: 132 entries, 0 to 131\n",
      "Data columns (total 1 columns):\n",
      " #   Column  Non-Null Count  Dtype \n",
      "---  ------  --------------  ----- \n",
      " 0   SMILES  132 non-null    object\n",
      "dtypes: object(1)\n",
      "memory usage: 1.2+ KB\n",
      "None\n"
     ]
    },
    {
     "data": {
      "text/html": [
       "<div>\n",
       "<style scoped>\n",
       "    .dataframe tbody tr th:only-of-type {\n",
       "        vertical-align: middle;\n",
       "    }\n",
       "\n",
       "    .dataframe tbody tr th {\n",
       "        vertical-align: top;\n",
       "    }\n",
       "\n",
       "    .dataframe thead th {\n",
       "        text-align: right;\n",
       "    }\n",
       "</style>\n",
       "<table border=\"1\" class=\"dataframe\">\n",
       "  <thead>\n",
       "    <tr style=\"text-align: right;\">\n",
       "      <th></th>\n",
       "      <th>SMILES</th>\n",
       "    </tr>\n",
       "  </thead>\n",
       "  <tbody>\n",
       "    <tr>\n",
       "      <th>0</th>\n",
       "      <td>NC(=O)c1ccc(NC(=O)[C@@H]2CCCO2)cc1</td>\n",
       "    </tr>\n",
       "    <tr>\n",
       "      <th>1</th>\n",
       "      <td>Cc1nccn1CC1CCc2c(c3ccccc3n2C)C1=O.Cl</td>\n",
       "    </tr>\n",
       "    <tr>\n",
       "      <th>2</th>\n",
       "      <td>COC(=O)Nc1sc(C)nc1-c1ccccc1</td>\n",
       "    </tr>\n",
       "    <tr>\n",
       "      <th>3</th>\n",
       "      <td>OC1CCN(Cc2ccsc2)CC1</td>\n",
       "    </tr>\n",
       "    <tr>\n",
       "      <th>4</th>\n",
       "      <td>CC(C(O)c1ccc(O)cc1)N1CCC(Cc2ccccc2)CC1.CC(C(O)...</td>\n",
       "    </tr>\n",
       "  </tbody>\n",
       "</table>\n",
       "</div>"
      ],
      "text/plain": [
       "                                              SMILES\n",
       "0                 NC(=O)c1ccc(NC(=O)[C@@H]2CCCO2)cc1\n",
       "1               Cc1nccn1CC1CCc2c(c3ccccc3n2C)C1=O.Cl\n",
       "2                        COC(=O)Nc1sc(C)nc1-c1ccccc1\n",
       "3                                OC1CCN(Cc2ccsc2)CC1\n",
       "4  CC(C(O)c1ccc(O)cc1)N1CCC(Cc2ccccc2)CC1.CC(C(O)..."
      ]
     },
     "metadata": {},
     "output_type": "display_data"
    },
    {
     "name": "stdout",
     "output_type": "stream",
     "text": [
      "<class 'pandas.core.frame.DataFrame'>\n",
      "RangeIndex: 1758 entries, 0 to 1757\n",
      "Data columns (total 1 columns):\n",
      " #   Column  Non-Null Count  Dtype \n",
      "---  ------  --------------  ----- \n",
      " 0   SMILES  1758 non-null   object\n",
      "dtypes: object(1)\n",
      "memory usage: 13.9+ KB\n",
      "None\n"
     ]
    },
    {
     "data": {
      "text/html": [
       "<div>\n",
       "<style scoped>\n",
       "    .dataframe tbody tr th:only-of-type {\n",
       "        vertical-align: middle;\n",
       "    }\n",
       "\n",
       "    .dataframe tbody tr th {\n",
       "        vertical-align: top;\n",
       "    }\n",
       "\n",
       "    .dataframe thead th {\n",
       "        text-align: right;\n",
       "    }\n",
       "</style>\n",
       "<table border=\"1\" class=\"dataframe\">\n",
       "  <thead>\n",
       "    <tr style=\"text-align: right;\">\n",
       "      <th></th>\n",
       "      <th>SMILES</th>\n",
       "    </tr>\n",
       "  </thead>\n",
       "  <tbody>\n",
       "    <tr>\n",
       "      <th>0</th>\n",
       "      <td>Nc1ccn([C@@H]2O[C@H](CO)[C@@H](O)[C@@H]2O)c(=O)n1</td>\n",
       "    </tr>\n",
       "    <tr>\n",
       "      <th>1</th>\n",
       "      <td>COc1cc(Br)c(C[N+]2(CCOCCC3CCC4CC3C4(C)C)CCOCC2...</td>\n",
       "    </tr>\n",
       "    <tr>\n",
       "      <th>2</th>\n",
       "      <td>O=C1CCc2ccc(OCCCCN3CCN(c4cccc(Cl)c4Cl)CC3)cc2N1</td>\n",
       "    </tr>\n",
       "    <tr>\n",
       "      <th>3</th>\n",
       "      <td>COCC1=C(C(=O)OC(C)OC(=O)OC(C)C)N2C(=O)[C@@H](N...</td>\n",
       "    </tr>\n",
       "    <tr>\n",
       "      <th>4</th>\n",
       "      <td>c1nc(N2CCC2)c2[nH]cnc2n1</td>\n",
       "    </tr>\n",
       "  </tbody>\n",
       "</table>\n",
       "</div>"
      ],
      "text/plain": [
       "                                              SMILES\n",
       "0  Nc1ccn([C@@H]2O[C@H](CO)[C@@H](O)[C@@H]2O)c(=O)n1\n",
       "1  COc1cc(Br)c(C[N+]2(CCOCCC3CCC4CC3C4(C)C)CCOCC2...\n",
       "2    O=C1CCc2ccc(OCCCCN3CCN(c4cccc(Cl)c4Cl)CC3)cc2N1\n",
       "3  COCC1=C(C(=O)OC(C)OC(=O)OC(C)C)N2C(=O)[C@@H](N...\n",
       "4                           c1nc(N2CCC2)c2[nH]cnc2n1"
      ]
     },
     "metadata": {},
     "output_type": "display_data"
    }
   ],
   "source": [
    "df_active_train = pd.read_csv(\"../sars_data/actives_train.csv\")\n",
    "df_inactive_train = pd.read_csv(\"../sars_data/inactives_train.csv\")\n",
    "\n",
    "print(df_active_train.info())\n",
    "display(df_active_train.head())\n",
    "print(df_inactive_train.info())\n",
    "display(df_inactive_train.head())"
   ]
  },
  {
   "cell_type": "markdown",
   "id": "03bd8022-2812-44cb-8718-b84dda8c902e",
   "metadata": {},
   "source": [
    "### Validation data"
   ]
  },
  {
   "cell_type": "code",
   "execution_count": 7,
   "id": "3f83c935-14ef-4a65-829c-57efc52080ed",
   "metadata": {},
   "outputs": [
    {
     "name": "stdout",
     "output_type": "stream",
     "text": [
      "<class 'pandas.core.frame.DataFrame'>\n",
      "RangeIndex: 34 entries, 0 to 33\n",
      "Data columns (total 1 columns):\n",
      " #   Column  Non-Null Count  Dtype \n",
      "---  ------  --------------  ----- \n",
      " 0   SMILES  34 non-null     object\n",
      "dtypes: object(1)\n",
      "memory usage: 400.0+ bytes\n",
      "None\n"
     ]
    },
    {
     "data": {
      "text/html": [
       "<div>\n",
       "<style scoped>\n",
       "    .dataframe tbody tr th:only-of-type {\n",
       "        vertical-align: middle;\n",
       "    }\n",
       "\n",
       "    .dataframe tbody tr th {\n",
       "        vertical-align: top;\n",
       "    }\n",
       "\n",
       "    .dataframe thead th {\n",
       "        text-align: right;\n",
       "    }\n",
       "</style>\n",
       "<table border=\"1\" class=\"dataframe\">\n",
       "  <thead>\n",
       "    <tr style=\"text-align: right;\">\n",
       "      <th></th>\n",
       "      <th>SMILES</th>\n",
       "    </tr>\n",
       "  </thead>\n",
       "  <tbody>\n",
       "    <tr>\n",
       "      <th>0</th>\n",
       "      <td>O=C(CCl)N1CCN(Cc2cccc3ccccc23)CC1</td>\n",
       "    </tr>\n",
       "    <tr>\n",
       "      <th>1</th>\n",
       "      <td>O=C(CCl)N1CCN(S(=O)(=O)c2cccs2)CC1</td>\n",
       "    </tr>\n",
       "    <tr>\n",
       "      <th>2</th>\n",
       "      <td>C[C@H]1CN(c2c(F)c(N)c3c(=O)c(C(=O)O)cn(C4CC4)c...</td>\n",
       "    </tr>\n",
       "    <tr>\n",
       "      <th>3</th>\n",
       "      <td>C/C=C/c1ccc(OC)cc1</td>\n",
       "    </tr>\n",
       "    <tr>\n",
       "      <th>4</th>\n",
       "      <td>Clc1cccc(CN2CCOCC2)c1</td>\n",
       "    </tr>\n",
       "  </tbody>\n",
       "</table>\n",
       "</div>"
      ],
      "text/plain": [
       "                                              SMILES\n",
       "0                  O=C(CCl)N1CCN(Cc2cccc3ccccc23)CC1\n",
       "1                 O=C(CCl)N1CCN(S(=O)(=O)c2cccs2)CC1\n",
       "2  C[C@H]1CN(c2c(F)c(N)c3c(=O)c(C(=O)O)cn(C4CC4)c...\n",
       "3                                 C/C=C/c1ccc(OC)cc1\n",
       "4                              Clc1cccc(CN2CCOCC2)c1"
      ]
     },
     "metadata": {},
     "output_type": "display_data"
    },
    {
     "name": "stdout",
     "output_type": "stream",
     "text": [
      "<class 'pandas.core.frame.DataFrame'>\n",
      "RangeIndex: 440 entries, 0 to 439\n",
      "Data columns (total 1 columns):\n",
      " #   Column  Non-Null Count  Dtype \n",
      "---  ------  --------------  ----- \n",
      " 0   SMILES  440 non-null    object\n",
      "dtypes: object(1)\n",
      "memory usage: 3.6+ KB\n",
      "None\n"
     ]
    },
    {
     "data": {
      "text/html": [
       "<div>\n",
       "<style scoped>\n",
       "    .dataframe tbody tr th:only-of-type {\n",
       "        vertical-align: middle;\n",
       "    }\n",
       "\n",
       "    .dataframe tbody tr th {\n",
       "        vertical-align: top;\n",
       "    }\n",
       "\n",
       "    .dataframe thead th {\n",
       "        text-align: right;\n",
       "    }\n",
       "</style>\n",
       "<table border=\"1\" class=\"dataframe\">\n",
       "  <thead>\n",
       "    <tr style=\"text-align: right;\">\n",
       "      <th></th>\n",
       "      <th>SMILES</th>\n",
       "    </tr>\n",
       "  </thead>\n",
       "  <tbody>\n",
       "    <tr>\n",
       "      <th>0</th>\n",
       "      <td>CCC1(C)CC(=O)NC1=O</td>\n",
       "    </tr>\n",
       "    <tr>\n",
       "      <th>1</th>\n",
       "      <td>CC(=O)N[C@@H](CCC(N)=O)C(=O)O</td>\n",
       "    </tr>\n",
       "    <tr>\n",
       "      <th>2</th>\n",
       "      <td>O=C1O[C@H]([C@@H](O)CO)C(O)=C1O</td>\n",
       "    </tr>\n",
       "    <tr>\n",
       "      <th>3</th>\n",
       "      <td>CC(C)n1cnc(S(N)(=O)=O)c1</td>\n",
       "    </tr>\n",
       "    <tr>\n",
       "      <th>4</th>\n",
       "      <td>Cc1ccc(=O)n(-c2ccccc2)c1</td>\n",
       "    </tr>\n",
       "  </tbody>\n",
       "</table>\n",
       "</div>"
      ],
      "text/plain": [
       "                            SMILES\n",
       "0               CCC1(C)CC(=O)NC1=O\n",
       "1    CC(=O)N[C@@H](CCC(N)=O)C(=O)O\n",
       "2  O=C1O[C@H]([C@@H](O)CO)C(O)=C1O\n",
       "3         CC(C)n1cnc(S(N)(=O)=O)c1\n",
       "4         Cc1ccc(=O)n(-c2ccccc2)c1"
      ]
     },
     "metadata": {},
     "output_type": "display_data"
    }
   ],
   "source": [
    "df_active_val = pd.read_csv(\"../sars_data/actives_val.csv\")\n",
    "df_inactive_val = pd.read_csv(\"../sars_data/inactives_val.csv\")\n",
    "\n",
    "print(df_active_val.info())\n",
    "display(df_active_val.head())\n",
    "print(df_inactive_val.info())\n",
    "display(df_inactive_val.head())"
   ]
  },
  {
   "cell_type": "markdown",
   "id": "d216549c-4021-4472-a3d2-d45415762afc",
   "metadata": {},
   "source": [
    "## Process data"
   ]
  },
  {
   "cell_type": "code",
   "execution_count": 17,
   "id": "d5abd621-1c1c-471c-895b-2950a07b65b8",
   "metadata": {},
   "outputs": [],
   "source": [
    "# Remove padding.\n",
    "remove_pad = lambda x: x.replace(\"<pad>\", \"\")\n",
    "df_active.SMILES = df_active.SMILES.map(remove_pad)\n",
    "df_inactive.SMILES = df_inactive.SMILES.map(remove_pad)"
   ]
  },
  {
   "cell_type": "code",
   "execution_count": 19,
   "id": "b584d3bc-3a5d-4b29-94f1-d7ac288ba291",
   "metadata": {},
   "outputs": [],
   "source": [
    "# Listify.\n",
    "actives_gen = list(df_active.SMILES)\n",
    "inactives_gen = list(df_inactive.SMILES)\n",
    "\n",
    "actives_train = list(df_active_train.SMILES)\n",
    "inactives_train = list(df_inactive_train.SMILES)\n",
    "\n",
    "actives_val = list(df_active_val.SMILES)\n",
    "inactives_val = list(df_inactive_val.SMILES)"
   ]
  },
  {
   "cell_type": "code",
   "execution_count": 20,
   "id": "339130cd-d674-4502-a4b5-7138a13f2476",
   "metadata": {},
   "outputs": [
    {
     "name": "stdout",
     "output_type": "stream",
     "text": [
      "--- de novo actives ---\n",
      "Total strings with invalid SMILES syntax: 94843\n",
      "Total strings with invalid chemistry: 1136\n",
      "Total valid SMILES strings: 4021\n",
      "Percent valid SMILES strings: 0.04021\n",
      "\n",
      "--- de novo inactives ---\n",
      "Total strings with invalid SMILES syntax: 96049\n",
      "Total strings with invalid chemistry: 1771\n",
      "Total valid SMILES strings: 2180\n",
      "Percent valid SMILES strings: 0.0218\n",
      "\n",
      "--- training actives ---\n",
      "Total strings with invalid SMILES syntax: 0\n",
      "Total strings with invalid chemistry: 0\n",
      "Total valid SMILES strings: 132\n",
      "Percent valid SMILES strings: 1.0\n",
      "\n",
      "--- training inactives ---\n",
      "Total strings with invalid SMILES syntax: 0\n",
      "Total strings with invalid chemistry: 0\n",
      "Total valid SMILES strings: 1758\n",
      "Percent valid SMILES strings: 1.0\n",
      "\n",
      "--- validation actives ---\n",
      "Total strings with invalid SMILES syntax: 0\n",
      "Total strings with invalid chemistry: 0\n",
      "Total valid SMILES strings: 34\n",
      "Percent valid SMILES strings: 1.0\n",
      "\n",
      "--- validation inactives ---\n",
      "Total strings with invalid SMILES syntax: 0\n",
      "Total strings with invalid chemistry: 0\n",
      "Total valid SMILES strings: 440\n",
      "Percent valid SMILES strings: 1.0\n"
     ]
    }
   ],
   "source": [
    "# Filter out molecules that do not pass RDKit checks.\n",
    "# Some metrics will require this step.\n",
    "print(\"--- de novo actives ---\")\n",
    "actives_gen_grammatical = remove_ungrammatical(actives_gen)\n",
    "print(\"\\n--- de novo inactives ---\")\n",
    "inactives_gen_grammatical = remove_ungrammatical(inactives_gen)\n",
    "print(\"\\n--- training actives ---\")\n",
    "actives_train_grammatical = remove_ungrammatical(actives_train)\n",
    "print(\"\\n--- training inactives ---\")\n",
    "inactives_train_grammatical = remove_ungrammatical(inactives_train)\n",
    "print(\"\\n--- validation actives ---\")\n",
    "actives_val_grammatical = remove_ungrammatical(actives_val)\n",
    "print(\"\\n--- validation inactives ---\")\n",
    "inactives_val_grammatical = remove_ungrammatical(inactives_val)"
   ]
  },
  {
   "cell_type": "markdown",
   "id": "fd4af4aa-1eca-4287-ae30-1573d1e0a039",
   "metadata": {},
   "source": [
    "## Global-level metrics\n",
    "\n",
    "### MOSES metrics"
   ]
  },
  {
   "cell_type": "code",
   "execution_count": 21,
   "id": "d8a762af-857d-4ba9-9de9-272d2488de33",
   "metadata": {},
   "outputs": [
    {
     "data": {
      "text/plain": [
       "\u001b[0;31mSignature:\u001b[0m\n",
       "\u001b[0mmoses\u001b[0m\u001b[0;34m.\u001b[0m\u001b[0mget_all_metrics\u001b[0m\u001b[0;34m(\u001b[0m\u001b[0;34m\u001b[0m\n",
       "\u001b[0;34m\u001b[0m    \u001b[0mgen\u001b[0m\u001b[0;34m,\u001b[0m\u001b[0;34m\u001b[0m\n",
       "\u001b[0;34m\u001b[0m    \u001b[0mk\u001b[0m\u001b[0;34m=\u001b[0m\u001b[0;32mNone\u001b[0m\u001b[0;34m,\u001b[0m\u001b[0;34m\u001b[0m\n",
       "\u001b[0;34m\u001b[0m    \u001b[0mn_jobs\u001b[0m\u001b[0;34m=\u001b[0m\u001b[0;36m1\u001b[0m\u001b[0;34m,\u001b[0m\u001b[0;34m\u001b[0m\n",
       "\u001b[0;34m\u001b[0m    \u001b[0mdevice\u001b[0m\u001b[0;34m=\u001b[0m\u001b[0;34m'cpu'\u001b[0m\u001b[0;34m,\u001b[0m\u001b[0;34m\u001b[0m\n",
       "\u001b[0;34m\u001b[0m    \u001b[0mbatch_size\u001b[0m\u001b[0;34m=\u001b[0m\u001b[0;36m512\u001b[0m\u001b[0;34m,\u001b[0m\u001b[0;34m\u001b[0m\n",
       "\u001b[0;34m\u001b[0m    \u001b[0mpool\u001b[0m\u001b[0;34m=\u001b[0m\u001b[0;32mNone\u001b[0m\u001b[0;34m,\u001b[0m\u001b[0;34m\u001b[0m\n",
       "\u001b[0;34m\u001b[0m    \u001b[0mtest\u001b[0m\u001b[0;34m=\u001b[0m\u001b[0;32mNone\u001b[0m\u001b[0;34m,\u001b[0m\u001b[0;34m\u001b[0m\n",
       "\u001b[0;34m\u001b[0m    \u001b[0mtest_scaffolds\u001b[0m\u001b[0;34m=\u001b[0m\u001b[0;32mNone\u001b[0m\u001b[0;34m,\u001b[0m\u001b[0;34m\u001b[0m\n",
       "\u001b[0;34m\u001b[0m    \u001b[0mptest\u001b[0m\u001b[0;34m=\u001b[0m\u001b[0;32mNone\u001b[0m\u001b[0;34m,\u001b[0m\u001b[0;34m\u001b[0m\n",
       "\u001b[0;34m\u001b[0m    \u001b[0mptest_scaffolds\u001b[0m\u001b[0;34m=\u001b[0m\u001b[0;32mNone\u001b[0m\u001b[0;34m,\u001b[0m\u001b[0;34m\u001b[0m\n",
       "\u001b[0;34m\u001b[0m    \u001b[0mtrain\u001b[0m\u001b[0;34m=\u001b[0m\u001b[0;32mNone\u001b[0m\u001b[0;34m,\u001b[0m\u001b[0;34m\u001b[0m\n",
       "\u001b[0;34m\u001b[0m\u001b[0;34m)\u001b[0m\u001b[0;34m\u001b[0m\u001b[0;34m\u001b[0m\u001b[0m\n",
       "\u001b[0;31mDocstring:\u001b[0m\n",
       "Computes all available metrics between test (scaffold test)\n",
       "and generated sets of SMILES.\n",
       "Parameters:\n",
       "    gen: list of generated SMILES\n",
       "    k: int or list with values for unique@k. Will calculate number of\n",
       "        unique molecules in the first k molecules. Default [1000, 10000]\n",
       "    n_jobs: number of workers for parallel processing\n",
       "    device: 'cpu' or 'cuda:n', where n is GPU device number\n",
       "    batch_size: batch size for FCD metric\n",
       "    pool: optional multiprocessing pool to use for parallelization\n",
       "\n",
       "    test (None or list): test SMILES. If None, will load\n",
       "        a default test set\n",
       "    test_scaffolds (None or list): scaffold test SMILES. If None, will\n",
       "        load a default scaffold test set\n",
       "    ptest (None or dict): precalculated statistics of the test set. If\n",
       "        None, will load default test statistics. If you specified a custom\n",
       "        test set, default test statistics will be ignored\n",
       "    ptest_scaffolds (None or dict): precalculated statistics of the\n",
       "        scaffold test set If None, will load default scaffold test\n",
       "        statistics. If you specified a custom test set, default test\n",
       "        statistics will be ignored\n",
       "    train (None or list): train SMILES. If None, will load a default\n",
       "        train set\n",
       "Available metrics:\n",
       "    * %valid\n",
       "    * %unique@k\n",
       "    * Frechet ChemNet Distance (FCD)\n",
       "    * Fragment similarity (Frag)\n",
       "    * Scaffold similarity (Scaf)\n",
       "    * Similarity to nearest neighbour (SNN)\n",
       "    * Internal diversity (IntDiv)\n",
       "    * Internal diversity 2: using square root of mean squared\n",
       "        Tanimoto similarity (IntDiv2)\n",
       "    * %passes filters (Filters)\n",
       "    * Distribution difference for logP, SA, QED, weight\n",
       "    * Novelty (molecules not present in train)\n",
       "\u001b[0;31mFile:\u001b[0m      /opt/anaconda3/lib/python3.8/site-packages/moses/metrics/metrics.py\n",
       "\u001b[0;31mType:\u001b[0m      function\n"
      ]
     },
     "metadata": {},
     "output_type": "display_data"
    }
   ],
   "source": [
    "moses.get_all_metrics?"
   ]
  },
  {
   "cell_type": "code",
   "execution_count": 22,
   "id": "e5870193-ddc6-4787-bdbd-836b71fd2b20",
   "metadata": {},
   "outputs": [
    {
     "name": "stdout",
     "output_type": "stream",
     "text": [
      "Complete in 89.70077967643738 seconds.\n"
     ]
    },
    {
     "data": {
      "text/plain": [
       "{'valid': 0.009739999999999971,\n",
       " 'unique@1000': 0.17145790554414783,\n",
       " 'unique@10000': 0.17145790554414783,\n",
       " 'FCD/Test': 37.41504355664309,\n",
       " 'SNN/Test': 0.03723723917732922,\n",
       " 'Frag/Test': 0.032833453750424346,\n",
       " 'Scaf/Test': 0.0,\n",
       " 'FCD/TestSF': 46.76235079852759,\n",
       " 'SNN/TestSF': 0.07137717393817843,\n",
       " 'Frag/TestSF': 0.006931219957724388,\n",
       " 'Scaf/TestSF': 0.0,\n",
       " 'IntDiv': 0.9282397888373541,\n",
       " 'IntDiv2': 0.7671993971267704,\n",
       " 'Filters': 0.7176591375770021,\n",
       " 'logP': 2.486604922092041,\n",
       " 'SA': 3.1953149650737473,\n",
       " 'QED': 0.28297369320472987,\n",
       " 'weight': 307.4180991061723,\n",
       " 'Novelty': 1.0}"
      ]
     },
     "metadata": {},
     "output_type": "display_data"
    }
   ],
   "source": [
    "# Compute MOSES metrics for de novo actives.\n",
    "start_time = time.time()\n",
    "metrics_active = moses.get_all_metrics(gen = actives_gen, train = actives_train, test = actives_val)\n",
    "print(\"Complete in {} seconds.\".format(time.time() - start_time))\n",
    "\n",
    "display(metrics_active)"
   ]
  },
  {
   "cell_type": "code",
   "execution_count": 23,
   "id": "6d4e0653-bf27-48ad-a7b7-561ceb8358db",
   "metadata": {},
   "outputs": [
    {
     "name": "stdout",
     "output_type": "stream",
     "text": [
      "Complete in 103.83566617965698 seconds.\n"
     ]
    },
    {
     "data": {
      "text/plain": [
       "{'valid': 0.010929999999999995,\n",
       " 'unique@1000': 0.657,\n",
       " 'unique@10000': 0.6486733760292772,\n",
       " 'FCD/Test': 21.235466940505955,\n",
       " 'SNN/Test': 0.1835810415368367,\n",
       " 'Frag/Test': 0.3902215821702695,\n",
       " 'Scaf/Test': 0.0057026594851220525,\n",
       " 'FCD/TestSF': 32.15082195276734,\n",
       " 'SNN/TestSF': 0.19106559648305477,\n",
       " 'Frag/TestSF': 0.34938266475473156,\n",
       " 'Scaf/TestSF': 0.0,\n",
       " 'IntDiv': 0.9428642080725788,\n",
       " 'IntDiv2': 0.8787681666715891,\n",
       " 'Filters': 0.7346752058554438,\n",
       " 'logP': 1.6599947468185985,\n",
       " 'SA': 1.08895406883316,\n",
       " 'QED': 0.1981709077805283,\n",
       " 'weight': 215.58800001455552,\n",
       " 'Novelty': 0.9943582510578279}"
      ]
     },
     "metadata": {},
     "output_type": "display_data"
    }
   ],
   "source": [
    "# Compute MOSES metrics for de novo inactives.\n",
    "start_time = time.time()\n",
    "metrics_inactive = moses.get_all_metrics(gen = inactives_gen, train = inactives_train, test = inactives_val)\n",
    "print(\"Complete in {} seconds.\".format(time.time() - start_time))\n",
    "\n",
    "display(metrics_inactive)"
   ]
  },
  {
   "cell_type": "markdown",
   "id": "b87123a4-958f-42ad-b976-ebb280e4b4c6",
   "metadata": {},
   "source": [
    "### TDC metrics"
   ]
  },
  {
   "cell_type": "code",
   "execution_count": 24,
   "id": "9c7249ad-d398-43d1-860e-6cb5d650560b",
   "metadata": {},
   "outputs": [],
   "source": [
    "# NOTE: must subsample generative inactives to < 10k to get TDC functions to work.\n",
    "# This is due to a glitch in TDC.\n",
    "#inactives_gen_grammatical_10k = sample(inactives_gen_grammatical, 10000)"
   ]
  },
  {
   "cell_type": "code",
   "execution_count": 26,
   "id": "fb5de6b6-8448-410d-b89b-b580957a6ebf",
   "metadata": {},
   "outputs": [],
   "source": [
    "%%capture\n",
    "# Throws error.\n",
    "'''\n",
    "ompute all metrics for active de novos vs their training data.\n",
    "compute_tdc_metrics(actives_gen_grammatical, actives_train_grammatical)\n",
    "'''"
   ]
  },
  {
   "cell_type": "code",
   "execution_count": 27,
   "id": "c78516be-0d9d-46ca-a2de-830a9522577e",
   "metadata": {},
   "outputs": [
    {
     "name": "stderr",
     "output_type": "stream",
     "text": [
      "RDKit WARNING: [19:00:17] WARNING: not removing hydrogen atom without neighbors\n",
      "[19:00:17] WARNING: not removing hydrogen atom without neighbors\n",
      "RDKit WARNING: [19:00:17] WARNING: not removing hydrogen atom without neighbors\n",
      "[19:00:17] WARNING: not removing hydrogen atom without neighbors\n",
      "RDKit ERROR: [19:00:17] Explicit valence for atom # 1 O, 3, is greater than permitted\n",
      "[19:00:17] Explicit valence for atom # 1 O, 3, is greater than permitted\n",
      "RDKit WARNING: [19:00:19] WARNING: not removing hydrogen atom without neighbors\n",
      "[19:00:19] WARNING: not removing hydrogen atom without neighbors\n",
      "RDKit ERROR: [19:00:19] Explicit valence for atom # 1 O, 3, is greater than permitted\n",
      "[19:00:19] Explicit valence for atom # 1 O, 3, is greater than permitted\n"
     ]
    },
    {
     "data": {
      "text/plain": [
       "0.022344437995587163"
      ]
     },
     "execution_count": 27,
     "metadata": {},
     "output_type": "execute_result"
    }
   ],
   "source": [
    "# KL divergence of active generated data and active training data.\n",
    "kl = Evaluator(name = \"KL_Divergence\")\n",
    "kl(actives_gen_grammatical, actives_train_grammatical)"
   ]
  },
  {
   "cell_type": "code",
   "execution_count": null,
   "id": "bc0adfe0-c023-4b14-a82c-05a5af44796a",
   "metadata": {},
   "outputs": [],
   "source": [
    "%%capture\n",
    "# Throws error.\n",
    "'''\n",
    "# Compute all metrics for inactive de novos vs their training data.\n",
    "compute_tdc_metrics(inactives_gen_grammatical_10k, inactives_train_grammatical)\n",
    "'''"
   ]
  },
  {
   "cell_type": "code",
   "execution_count": 29,
   "id": "765e057c-3928-4560-b24a-31961a39b5dc",
   "metadata": {},
   "outputs": [
    {
     "name": "stderr",
     "output_type": "stream",
     "text": [
      "RDKit ERROR: [19:00:38] Explicit valence for atom # 8 N, 4, is greater than permitted\n",
      "[19:00:38] Explicit valence for atom # 8 N, 4, is greater than permitted\n",
      "RDKit ERROR: [19:00:38] Explicit valence for atom # 11 C, 5, is greater than permitted\n",
      "[19:00:38] Explicit valence for atom # 11 C, 5, is greater than permitted\n",
      "RDKit ERROR: [19:00:39] Explicit valence for atom # 7 C, 5, is greater than permitted\n",
      "[19:00:39] Explicit valence for atom # 7 C, 5, is greater than permitted\n",
      "RDKit ERROR: [19:00:39] Explicit valence for atom # 1 C, 5, is greater than permitted\n",
      "[19:00:39] Explicit valence for atom # 1 C, 5, is greater than permitted\n",
      "RDKit ERROR: [19:00:39] Explicit valence for atom # 1 C, 5, is greater than permitted\n",
      "[19:00:39] Explicit valence for atom # 1 C, 5, is greater than permitted\n",
      "RDKit ERROR: [19:00:39] Explicit valence for atom # 5 N, 4, is greater than permitted\n",
      "[19:00:39] Explicit valence for atom # 5 N, 4, is greater than permitted\n",
      "RDKit ERROR: [19:00:46] Explicit valence for atom # 8 N, 4, is greater than permitted\n",
      "[19:00:46] Explicit valence for atom # 8 N, 4, is greater than permitted\n",
      "RDKit ERROR: [19:00:46] Explicit valence for atom # 11 C, 5, is greater than permitted\n",
      "[19:00:46] Explicit valence for atom # 11 C, 5, is greater than permitted\n",
      "RDKit ERROR: [19:00:46] Explicit valence for atom # 7 C, 5, is greater than permitted\n",
      "RDKit ERROR: [19:00:46] Explicit valence for atom # 1 C, 5, is greater than permitted\n",
      "[19:00:46] Explicit valence for atom # 7 C, 5, is greater than permitted\n",
      "RDKit ERROR: [19:00:46] Explicit valence for atom # 1 C, 5, is greater than permitted\n",
      "[19:00:46] Explicit valence for atom # 1 C, 5, is greater than permitted\n",
      "RDKit ERROR: [19:00:46] Explicit valence for atom # 5 N, 4, is greater than permitted\n",
      "[19:00:46] Explicit valence for atom # 1 C, 5, is greater than permitted\n",
      "[19:00:46] Explicit valence for atom # 5 N, 4, is greater than permitted\n"
     ]
    },
    {
     "data": {
      "text/plain": [
       "0.24361793840838972"
      ]
     },
     "execution_count": 29,
     "metadata": {},
     "output_type": "execute_result"
    }
   ],
   "source": [
    "# KL divergence of inactive generated data and inactive training data.\n",
    "kl(inactives_gen_grammatical, inactives_train_grammatical)"
   ]
  },
  {
   "cell_type": "code",
   "execution_count": 30,
   "id": "061901d6-3aec-4882-bf4b-a1c2457ff462",
   "metadata": {},
   "outputs": [
    {
     "data": {
      "text/plain": [
       "0.854377160131264"
      ]
     },
     "execution_count": 30,
     "metadata": {},
     "output_type": "execute_result"
    }
   ],
   "source": [
    "# KL divergence of active training data and inactive training data.\n",
    "kl(actives_train_grammatical, inactives_train_grammatical)"
   ]
  },
  {
   "cell_type": "code",
   "execution_count": 31,
   "id": "4e250857-9fa6-48a6-b775-dbabf07794d7",
   "metadata": {},
   "outputs": [
    {
     "name": "stderr",
     "output_type": "stream",
     "text": [
      "RDKit WARNING: [19:00:54] WARNING: not removing hydrogen atom without neighbors\n",
      "[19:00:54] WARNING: not removing hydrogen atom without neighbors\n",
      "RDKit WARNING: [19:00:55] WARNING: not removing hydrogen atom without neighbors\n",
      "[19:00:55] WARNING: not removing hydrogen atom without neighbors\n",
      "RDKit ERROR: [19:00:55] Explicit valence for atom # 1 O, 3, is greater than permitted\n",
      "[19:00:55] Explicit valence for atom # 1 O, 3, is greater than permitted\n",
      "RDKit WARNING: [19:01:01] WARNING: not removing hydrogen atom without neighbors\n",
      "[19:01:01] WARNING: not removing hydrogen atom without neighbors\n",
      "RDKit ERROR: [19:01:01] Explicit valence for atom # 1 O, 3, is greater than permitted\n",
      "[19:01:01] Explicit valence for atom # 1 O, 3, is greater than permitted\n"
     ]
    },
    {
     "data": {
      "text/plain": [
       "0.05378226775510575"
      ]
     },
     "execution_count": 31,
     "metadata": {},
     "output_type": "execute_result"
    }
   ],
   "source": [
    "# KL divergence of active de novos and inactive training data.\n",
    "kl(actives_gen_grammatical, inactives_train_grammatical)"
   ]
  },
  {
   "cell_type": "code",
   "execution_count": 33,
   "id": "6d6a5acd-9a67-43d1-aab8-f096f1b7a93f",
   "metadata": {},
   "outputs": [
    {
     "name": "stderr",
     "output_type": "stream",
     "text": [
      "RDKit ERROR: [19:01:13] Explicit valence for atom # 8 N, 4, is greater than permitted\n",
      "[19:01:13] Explicit valence for atom # 8 N, 4, is greater than permitted\n",
      "RDKit ERROR: [19:01:14] Explicit valence for atom # 11 C, 5, is greater than permitted\n",
      "[19:01:14] Explicit valence for atom # 11 C, 5, is greater than permitted\n",
      "RDKit ERROR: [19:01:14] Explicit valence for atom # 7 C, 5, is greater than permitted\n",
      "[19:01:14] Explicit valence for atom # 7 C, 5, is greater than permitted\n",
      "RDKit ERROR: [19:01:14] Explicit valence for atom # 1 C, 5, is greater than permitted\n",
      "[19:01:14] Explicit valence for atom # 1 C, 5, is greater than permitted\n",
      "RDKit ERROR: [19:01:15] Explicit valence for atom # 1 C, 5, is greater than permitted\n",
      "RDKit ERROR: [19:01:15] Explicit valence for atom # 5 N, 4, is greater than permitted\n",
      "[19:01:15] Explicit valence for atom # 1 C, 5, is greater than permitted\n",
      "[19:01:15] Explicit valence for atom # 5 N, 4, is greater than permitted\n",
      "RDKit ERROR: [19:01:16] Explicit valence for atom # 8 N, 4, is greater than permitted\n",
      "[19:01:16] Explicit valence for atom # 8 N, 4, is greater than permitted\n",
      "RDKit ERROR: [19:01:16] Explicit valence for atom # 11 C, 5, is greater than permitted\n",
      "[19:01:16] Explicit valence for atom # 11 C, 5, is greater than permitted\n",
      "RDKit ERROR: [19:01:16] Explicit valence for atom # 7 C, 5, is greater than permitted\n",
      "[19:01:16] Explicit valence for atom # 7 C, 5, is greater than permitted\n",
      "RDKit ERROR: [19:01:16] Explicit valence for atom # 1 C, 5, is greater than permitted\n",
      "[19:01:16] Explicit valence for atom # 1 C, 5, is greater than permitted\n",
      "RDKit ERROR: [19:01:16] Explicit valence for atom # 1 C, 5, is greater than permitted\n",
      "[19:01:16] Explicit valence for atom # 1 C, 5, is greater than permitted\n",
      "RDKit ERROR: [19:01:16] Explicit valence for atom # 5 N, 4, is greater than permitted\n",
      "[19:01:16] Explicit valence for atom # 5 N, 4, is greater than permitted\n"
     ]
    },
    {
     "data": {
      "text/plain": [
       "0.2171473265195969"
      ]
     },
     "execution_count": 33,
     "metadata": {},
     "output_type": "execute_result"
    }
   ],
   "source": [
    "# KL divergence of inactive de novos and active training data.\n",
    "kl(inactives_gen_grammatical, actives_train_grammatical)"
   ]
  },
  {
   "cell_type": "code",
   "execution_count": 35,
   "id": "b291a010-b61e-4cc9-9f8c-37b787696785",
   "metadata": {},
   "outputs": [
    {
     "name": "stderr",
     "output_type": "stream",
     "text": [
      "RDKit WARNING: [19:01:28] WARNING: not removing hydrogen atom without neighbors\n",
      "[19:01:28] WARNING: not removing hydrogen atom without neighbors\n",
      "RDKit WARNING: [19:01:28] WARNING: not removing hydrogen atom without neighbors\n",
      "[19:01:28] WARNING: not removing hydrogen atom without neighbors\n",
      "RDKit ERROR: [19:01:28] Explicit valence for atom # 1 O, 3, is greater than permitted\n",
      "[19:01:28] Explicit valence for atom # 1 O, 3, is greater than permitted\n",
      "RDKit ERROR: [19:01:29] Explicit valence for atom # 8 N, 4, is greater than permitted\n",
      "[19:01:29] Explicit valence for atom # 8 N, 4, is greater than permitted\n",
      "RDKit ERROR: [19:01:30] Explicit valence for atom # 11 C, 5, is greater than permitted\n",
      "[19:01:30] Explicit valence for atom # 11 C, 5, is greater than permitted\n",
      "RDKit ERROR: [19:01:30] Explicit valence for atom # 7 C, 5, is greater than permitted\n",
      "RDKit ERROR: [19:01:30] Explicit valence for atom # 1 C, 5, is greater than permitted\n",
      "RDKit ERROR: [19:01:30] Explicit valence for atom # 1 C, 5, is greater than permitted\n",
      "[19:01:30] Explicit valence for atom # 7 C, 5, is greater than permitted\n",
      "RDKit ERROR: [19:01:31] Explicit valence for atom # 5 N, 4, is greater than permitted\n",
      "[19:01:30] Explicit valence for atom # 1 C, 5, is greater than permitted\n",
      "[19:01:30] Explicit valence for atom # 1 C, 5, is greater than permitted\n",
      "[19:01:31] Explicit valence for atom # 5 N, 4, is greater than permitted\n",
      "RDKit ERROR: [19:01:31] Explicit valence for atom # 8 N, 4, is greater than permitted\n",
      "[19:01:31] Explicit valence for atom # 8 N, 4, is greater than permitted\n",
      "RDKit ERROR: [19:01:31] Explicit valence for atom # 11 C, 5, is greater than permitted\n",
      "[19:01:31] Explicit valence for atom # 11 C, 5, is greater than permitted\n",
      "RDKit ERROR: [19:01:31] Explicit valence for atom # 7 C, 5, is greater than permitted\n",
      "[19:01:31] Explicit valence for atom # 7 C, 5, is greater than permitted\n",
      "RDKit ERROR: [19:01:31] Explicit valence for atom # 1 C, 5, is greater than permitted\n",
      "[19:01:31] Explicit valence for atom # 1 C, 5, is greater than permitted\n",
      "RDKit ERROR: [19:01:31] Explicit valence for atom # 1 C, 5, is greater than permitted\n",
      "[19:01:31] Explicit valence for atom # 1 C, 5, is greater than permitted\n",
      "RDKit ERROR: [19:01:31] Explicit valence for atom # 5 N, 4, is greater than permitted\n",
      "[19:01:31] Explicit valence for atom # 5 N, 4, is greater than permitted\n",
      "RDKit WARNING: [19:01:32] WARNING: not removing hydrogen atom without neighbors\n",
      "[19:01:32] WARNING: not removing hydrogen atom without neighbors\n",
      "RDKit ERROR: [19:01:32] Explicit valence for atom # 1 O, 3, is greater than permitted\n",
      "[19:01:32] Explicit valence for atom # 1 O, 3, is greater than permitted\n"
     ]
    },
    {
     "data": {
      "text/plain": [
       "0.3628466299470602"
      ]
     },
     "execution_count": 35,
     "metadata": {},
     "output_type": "execute_result"
    }
   ],
   "source": [
    "# KL divergence of active de novos and inactive de novos.\n",
    "kl(actives_gen_grammatical, inactives_gen_grammatical)"
   ]
  },
  {
   "cell_type": "markdown",
   "id": "d2b15d80-c900-4e0f-ba6b-b130e1617cae",
   "metadata": {
    "tags": []
   },
   "source": [
    "## Molecule-level metrics\n",
    "\n",
    "### Synthetic accessibility\n",
    "\n",
    ">Description: Synthetic Accessibility Score stands for how hard or how easy it is to synthesize a given molecule, based on a combination of the molecule’s fragments contributions. The oracle is caluated via RDKit, using a set of chemical rules defined by Ertl et al. (https://tdcommons.ai/functions/oracles/#ibm-rxn-synthetic-accessibility)[https://tdcommons.ai/functions/oracles/#ibm-rxn-synthetic-accessibility]"
   ]
  },
  {
   "cell_type": "code",
   "execution_count": 48,
   "id": "ae9d03a9-2798-43a6-b0e2-4bbd7bc89523",
   "metadata": {},
   "outputs": [
    {
     "name": "stderr",
     "output_type": "stream",
     "text": [
      "RDKit WARNING: [19:17:35] WARNING: not removing hydrogen atom without neighbors\n",
      "[19:17:35] WARNING: not removing hydrogen atom without neighbors\n"
     ]
    },
    {
     "name": "stdout",
     "output_type": "stream",
     "text": [
      "\n",
      "Total invalid: 3047\n",
      "Total valid: 974\n",
      "\n",
      "Total invalid: 1081\n",
      "Total valid: 1099\n",
      "\n",
      "Total invalid: 0\n",
      "Total valid: 132\n",
      "\n",
      "Total invalid: 0\n",
      "Total valid: 1758\n",
      "\n",
      "Generated actives :\n",
      "[7.3284153846153846, 3.923225170503116, 6.467378682176442, 5.868476923076923, 8.479573080261886, 4.161787807865752, 7.3284153846153846, 2.772280115558061, 6.963984615384615, 7.3284153846153846, 5.868476923076923, 5.202260226641699, 6.667815384615385, 6.667815384615385, 6.635276923076923, 4.08999868818016, 6.963984615384615, 4.796106380487854, 6.667815384615385, 5.25302945741093] \n",
      "\n",
      "Generated inactives :\n",
      "[4.452400087542523, 4.190354840243397, 1.5461538156987498, 2.702022616029206, 2.964737756564565, 3.2169054377631445, 7.3284153846153846, 5.868476923076923, 6.667815384615385, 5.868476923076923, 4.249435601452837, 5.6843459462804224, 4.860448548277273, 4.699425077367906, 4.525662042058823, 4.796106380487854, 3.7736516677662557, 3.936978564428631, 2.701044842026315, 4.023580503597284] \n",
      "\n",
      "Training actives :\n",
      "[2.250644652759915, 3.152523613123961, 2.046193504917479, 2.1059531103327114, 4.347324441648668, 1.8418534350416884, 3.054888542720498, 2.18792885485969, 1.6667335034193016, 2.102310618299608, 2.058554629194486, 3.108002804603581, 3.21167562653525, 1.820711580342378, 6.769483231246683, 2.1418381844699574, 1.964040453329856, 1.5359575087690605, 2.141274629194484, 5.040402153133423] \n",
      "\n",
      "Training inactives :\n",
      "[3.548894614600127, 4.894520931229949, 2.3417132900326205, 4.208335607402816, 2.463989142721376, 2.4931207216687454, 7.279720621289028, 3.563874509172142, 3.3558364632643034, 3.3603500783386364, 4.270784061674063, 1.9580204964998433, 4.390327019354513, 2.5448055389811817, 4.636491016521498, 2.1939001768170083, 2.8721018691784153, 3.188459077120484, 2.69798303888437, 3.958573370751779] \n",
      "\n"
     ]
    }
   ],
   "source": [
    "# Synthetic accessibility.\n",
    "sa = Oracle(name = \"SA\")\n",
    "\n",
    "'''\n",
    "sa_actives_gen = sa(actives_gen_grammatical)\n",
    "sa_inactives_gen = sa(inactives_gen_grammatical)\n",
    "sa_actives_train = sa(actives_train_grammatical)\n",
    "sa_inactives_train = sa(inactives_train_grammatical)\n",
    "'''\n",
    "\n",
    "invalid = 0\n",
    "sa_actives_gen = []\n",
    "for molecule in actives_gen_grammatical:\n",
    "    try:\n",
    "        sa_one = sa(molecule)\n",
    "        sa_actives_gen.append(sa_one)\n",
    "    except:\n",
    "        invalid += 1\n",
    "print(\"\\nTotal invalid:\", invalid)\n",
    "print(\"Total valid:\", len(sa_actives_gen))\n",
    "\n",
    "invalid = 0\n",
    "sa_inactives_gen = []\n",
    "for molecule in inactives_gen_grammatical:\n",
    "    try:\n",
    "        sa_one = sa(molecule)\n",
    "        sa_inactives_gen.append(sa_one)\n",
    "    except:\n",
    "        invalid += 1\n",
    "print(\"\\nTotal invalid:\", invalid)\n",
    "print(\"Total valid:\", len(sa_inactives_gen))\n",
    "\n",
    "invalid = 0\n",
    "sa_actives_train = []\n",
    "for molecule in actives_train_grammatical:\n",
    "    try:\n",
    "        sa_one = sa(molecule)\n",
    "        sa_actives_train.append(sa_one)\n",
    "    except:\n",
    "        invalid += 1\n",
    "print(\"\\nTotal invalid:\", invalid)\n",
    "print(\"Total valid:\", len(sa_actives_train))\n",
    "\n",
    "invalid = 0\n",
    "sa_inactives_train = []\n",
    "for molecule in inactives_train_grammatical:\n",
    "    try:\n",
    "        sa_one = sa(molecule)\n",
    "        sa_inactives_train.append(sa_one)\n",
    "    except:\n",
    "        invalid += 1\n",
    "print(\"\\nTotal invalid:\", invalid)\n",
    "print(\"Total valid:\", len(sa_inactives_train))\n",
    "\n",
    "print()\n",
    "sa_dict = {\"Generated actives\": sa_actives_gen,\n",
    "           \"Generated inactives\": sa_inactives_gen,\n",
    "           \"Training actives\": sa_actives_train,\n",
    "           \"Training inactives\": sa_inactives_train}\n",
    "\n",
    "for key,value in sa_dict.items():\n",
    "    print(key, \":\")\n",
    "    print(value[:20], \"\\n\")"
   ]
  },
  {
   "cell_type": "markdown",
   "id": "574ae571-1f4c-4826-8bc9-8bea5d3dad46",
   "metadata": {},
   "source": [
    "### QED\n",
    "\n",
    "> Description: QED stands for Quantitative Estimate of Drug-likeness. The oracle is caluated via RDKit, using a set of chemical rules about drug-likeliness defined by Bickerton et al. (https://tdcommons.ai/functions/oracles/#ibm-rxn-synthetic-accessibility)[https://tdcommons.ai/functions/oracles/]"
   ]
  },
  {
   "cell_type": "code",
   "execution_count": 38,
   "id": "b871188f-eb4b-4ea5-ba8a-be0cad43cdb0",
   "metadata": {},
   "outputs": [
    {
     "name": "stdout",
     "output_type": "stream",
     "text": [
      "Total de novo inactives with invalid valence: 6\n",
      "Total de novo inactives with valid valence: 2174\n"
     ]
    },
    {
     "name": "stderr",
     "output_type": "stream",
     "text": [
      "RDKit ERROR: [19:02:32] Explicit valence for atom # 1 N, 4, is greater than permitted\n",
      "[19:02:32] Explicit valence for atom # 1 N, 4, is greater than permitted\n",
      "RDKit ERROR: [19:02:32] Explicit valence for atom # 2 C, 5, is greater than permitted\n",
      "[19:02:32] Explicit valence for atom # 2 C, 5, is greater than permitted\n",
      "RDKit ERROR: [19:02:32] Explicit valence for atom # 2 C, 5, is greater than permitted\n",
      "[19:02:32] Explicit valence for atom # 2 C, 5, is greater than permitted\n",
      "RDKit ERROR: [19:02:32] Explicit valence for atom # 6 C, 5, is greater than permitted\n",
      "[19:02:32] Explicit valence for atom # 6 C, 5, is greater than permitted\n",
      "RDKit ERROR: [19:02:32] Explicit valence for atom # 4 C, 5, is greater than permitted\n",
      "[19:02:32] Explicit valence for atom # 4 C, 5, is greater than permitted\n",
      "RDKit ERROR: [19:02:32] Explicit valence for atom # 5 N, 4, is greater than permitted\n",
      "[19:02:32] Explicit valence for atom # 5 N, 4, is greater than permitted\n"
     ]
    }
   ],
   "source": [
    "# Address this error:\n",
    "# RDKit ERROR: Explicit valence for atom # 14 C, 5, is greater than permitted.\n",
    "inactives_gen_grammatical_keep = []\n",
    "invalid_valence = 0\n",
    "for molecule in inactives_gen_grammatical:\n",
    "        m = Chem.MolFromSmiles(molecule, sanitize = True)\n",
    "        try:\n",
    "            m = Chem.RemoveHs(m)\n",
    "            inactives_gen_grammatical_keep.append(molecule)\n",
    "        except:\n",
    "            invalid_valence += 1\n",
    "print(\"Total de novo inactives with invalid valence:\", invalid_valence)\n",
    "print(\"Total de novo inactives with valid valence:\", len(inactives_gen_grammatical_keep))"
   ]
  },
  {
   "cell_type": "code",
   "execution_count": 41,
   "id": "e70be3e2-aea9-48c2-9c0f-82bc53e50495",
   "metadata": {},
   "outputs": [
    {
     "name": "stdout",
     "output_type": "stream",
     "text": [
      "Total de novo actives with invalid valence: 1\n",
      "Total de novo actives with valid valence: 4020\n"
     ]
    },
    {
     "name": "stderr",
     "output_type": "stream",
     "text": [
      "RDKit WARNING: [19:03:30] WARNING: not removing hydrogen atom without neighbors\n",
      "[19:03:30] WARNING: not removing hydrogen atom without neighbors\n",
      "RDKit WARNING: [19:03:30] WARNING: not removing hydrogen atom without neighbors\n",
      "RDKit ERROR: [19:03:30] Explicit valence for atom # 1 O, 3, is greater than permitted\n",
      "[19:03:30] WARNING: not removing hydrogen atom without neighbors\n",
      "[19:03:30] Explicit valence for atom # 1 O, 3, is greater than permitted\n"
     ]
    }
   ],
   "source": [
    "# Address this error:\n",
    "# RDKit ERROR: Explicit valence for atom # 14 C, 5, is greater than permitted.\n",
    "actives_gen_grammatical_keep = []\n",
    "invalid_valence = 0\n",
    "for molecule in actives_gen_grammatical:\n",
    "        m = Chem.MolFromSmiles(molecule, sanitize = True)\n",
    "        try:\n",
    "            m = Chem.RemoveHs(m)\n",
    "            actives_gen_grammatical_keep.append(molecule)\n",
    "        except:\n",
    "            invalid_valence += 1\n",
    "print(\"Total de novo actives with invalid valence:\", invalid_valence)\n",
    "print(\"Total de novo actives with valid valence:\", len(actives_gen_grammatical_keep))"
   ]
  },
  {
   "cell_type": "code",
   "execution_count": 42,
   "id": "bd5ba179-2cba-423a-bfd6-4da0c81633ef",
   "metadata": {},
   "outputs": [
    {
     "name": "stderr",
     "output_type": "stream",
     "text": [
      "RDKit WARNING: [19:03:32] WARNING: not removing hydrogen atom without neighbors\n",
      "[19:03:32] WARNING: not removing hydrogen atom without neighbors\n",
      "RDKit WARNING: [19:03:32] WARNING: not removing hydrogen atom without neighbors\n",
      "[19:03:32] WARNING: not removing hydrogen atom without neighbors\n"
     ]
    },
    {
     "name": "stdout",
     "output_type": "stream",
     "text": [
      "Generated actives :\n",
      "[0.33942358984550913, 0.3597849378839701, 0.33942358984550913, 0.33942358984550913, 0.33942358984550913, 0.28104491783005137, 0.25240152892555634, 0.33942358984550913, 0.3277476769246249, 0.33726523635157685, 0.33942358984550913, 0.33942358984550913, 0.33942358984550913, 0.33942358984550913, 0.33942358984550913, 0.33942358984550913, 0.33942358984550913, 0.32957849081585294, 0.33942358984550913, 0.33942358984550913] \n",
      "\n",
      "Generated inactives :\n",
      "[0.3757777790675996, 0.33942358984550913, 0.3360378915285156, 0.3916450287186053, 0.4061642540637318, 0.33942358984550913, 0.33942358984550913, 0.33942358984550913, 0.4633035330620455, 0.436419546037416, 0.3597849378839701, 0.33942358984550913, 0.33942358984550913, 0.33942358984550913, 0.33942358984550913, 0.33942358984550913, 0.33942358984550913, 0.3277476769246249, 0.3975550616040572, 0.3277476769246249] \n",
      "\n",
      "Training actives :\n",
      "[0.814913995911437, 0.7209997551181787, 0.8867424621741485, 0.7798427952514674, 0.08557107474966161, 0.7958887434961184, 0.6113669325066001, 0.40027146695899074, 0.7609207273542546, 0.8084862676024479, 0.8587178092321018, 0.7923102758601841, 0.8035850788958979, 0.7254421466615532, 0.19069761718670236, 0.7669857741342728, 0.7915462676183185, 0.7097425790327138, 0.7608532205240112, 0.1735646721832865] \n",
      "\n",
      "Training inactives :\n",
      "[0.4489304892314893, 0.30953975037902987, 0.6149801508040519, 0.13610908733951915, 0.6877352138422553, 0.7465495043161432, 0.09263818792629527, 0.23514857195132333, 0.45920678237514917, 0.5840740542387298, 0.15991632358230246, 0.4787047717416681, 0.315104276844689, 0.8097576266403491, 0.04053673766495884, 0.8787563784976642, 0.7695113239049232, 0.5524221811312743, 0.28041853664893823, 0.6868426969908572] \n",
      "\n"
     ]
    }
   ],
   "source": [
    "# Quantitative Estimate of Drug-likeness.\n",
    "qed = Oracle(name = \"QED\")\n",
    "qed_actives_gen = qed(actives_gen_grammatical_keep) # Use only instances with proper valence.\n",
    "qed_inactives_gen = qed(inactives_gen_grammatical_keep) # Use only instances with proper valence.\n",
    "qed_actives_train = qed(actives_train_grammatical)\n",
    "qed_inactives_train = qed(inactives_train_grammatical)\n",
    "\n",
    "qed_dict = {\"Generated actives\": qed_actives_gen,\n",
    "            \"Generated inactives\": qed_inactives_gen,\n",
    "            \"Training actives\": qed_actives_train,\n",
    "            \"Training inactives\": qed_inactives_train}\n",
    "\n",
    "for key,value in qed_dict.items():\n",
    "    print(key, \":\")\n",
    "    print(value[:20], \"\\n\")"
   ]
  },
  {
   "cell_type": "markdown",
   "id": "eba1696e-9e55-454d-bf6e-5da811894ea3",
   "metadata": {},
   "source": [
    "### Octanol-water Partition Coefficient (LogP)\n",
    "\n",
    ">Description: The penalized logP score measures the solubility and synthetic accessibility of a compound. The oracle is caluated via RDKit. (https://tdcommons.ai/functions/oracles/#ibm-rxn-synthetic-accessibility)[https://tdcommons.ai/functions/oracles/]"
   ]
  },
  {
   "cell_type": "code",
   "execution_count": 49,
   "id": "9ec09c4c-c3e6-450b-ab96-e23a7802c5d8",
   "metadata": {},
   "outputs": [
    {
     "name": "stderr",
     "output_type": "stream",
     "text": [
      "RDKit WARNING: [19:19:08] WARNING: not removing hydrogen atom without neighbors\n",
      "[19:19:08] WARNING: not removing hydrogen atom without neighbors\n"
     ]
    },
    {
     "name": "stdout",
     "output_type": "stream",
     "text": [
      "\n",
      "Total invalid: 3047\n",
      "Total valid: 974\n",
      "\n",
      "Total invalid: 1081\n",
      "Total valid: 1099\n",
      "\n",
      "Total invalid: 0\n",
      "Total valid: 132\n",
      "\n",
      "Total invalid: 0\n",
      "Total valid: 1758\n",
      "\n",
      "Generated actives :\n",
      "[-6.229620227953575, -2.653539816574265, -6.051714867816656, -5.496546478798415, -8.38925363427331, -3.8949041485491915, -6.229620227953575, -1.4893338822520295, -6.157242367197846, -6.229620227953575, -5.496546478798415, -5.149395394647295, -5.767617318560561, -5.767617318560561, -5.73520326931882, -2.2285901086298487, -6.157242367197846, -3.7814966822231053, -5.767617318560561, -4.529008412019673] \n",
      "\n",
      "Generated inactives :\n",
      "[-3.878301419032463, -2.3937501688212275, 0.5475979594993705, -1.352266373937938, -0.5677721811464765, -1.7993141826237062, -6.229620227953575, -5.496546478798415, -5.767617318560561, -5.496546478798415, -2.5462026501456383, -3.451023848643214, -3.690875728547925, -4.631744076332721, -2.9465591618950726, -3.7814966822231053, -1.28802833490386, -2.050584776241499, -1.3944586730653459, -3.326464082792856] \n",
      "\n",
      "Training actives :\n",
      "[0.0484155553967599, 0.8120953378368679, 1.962654773418923, 0.781015201939405, 0.6786972735424277, 1.4591486469849257, -3.1358662966839255, 1.8423064574376848, 0.09854068066290411, 1.7186468896416607, 1.3798779264818612, -0.5157831293074616, -0.8627063479388197, 1.4063579071453463, -38.94597913937183, 0.048857874177880234, 0.6483420331656747, 0.3603640459920372, 1.7236322595205082, -6.5201273168026415] \n",
      "\n",
      "Training inactives :\n",
      "[-3.9256028801494476, -2.152124689441258, 2.69745985116803, -2.353272119926953, -0.44458568172340474, 0.419214940307353, -65.60918351804446, -0.4933092106800674, -1.4194509093778664, -1.418186927201591, -1.4611179107198313, 0.80329941645672, -3.205639445095907, -0.9107766255479675, -8.521870267136446, 1.4360695806678057, 0.05949739187515257, 1.7847080656603937, 0.12412997844037216, 0.07434568141054365] \n",
      "\n"
     ]
    }
   ],
   "source": [
    "# LogP.\n",
    "logp = Oracle(name = \"LogP\")\n",
    "\n",
    "'''\n",
    "logp_actives_gen = logp(actives_gen_grammatical)\n",
    "logp_inactives_gen = logp(inactives_gen_grammatical)\n",
    "logp_actives_train = logp(actives_train_grammatical)\n",
    "logp_inactives_train = logp(inactives_train_grammatical)\n",
    "'''\n",
    "\n",
    "invalid = 0\n",
    "logp_actives_gen = []\n",
    "for molecule in actives_gen_grammatical:\n",
    "    try:\n",
    "        logp_one = logp(molecule)\n",
    "        logp_actives_gen.append(logp_one)\n",
    "    except:\n",
    "        invalid += 1\n",
    "print(\"\\nTotal invalid:\", invalid)\n",
    "print(\"Total valid:\", len(logp_actives_gen))\n",
    "\n",
    "invalid = 0\n",
    "logp_inactives_gen = []\n",
    "for molecule in inactives_gen_grammatical:\n",
    "    try:\n",
    "        logp_one = logp(molecule)\n",
    "        logp_inactives_gen.append(logp_one)\n",
    "    except:\n",
    "        invalid += 1\n",
    "print(\"\\nTotal invalid:\", invalid)\n",
    "print(\"Total valid:\", len(logp_inactives_gen))\n",
    "\n",
    "invalid = 0\n",
    "logp_actives_train = []\n",
    "for molecule in actives_train_grammatical:\n",
    "    try:\n",
    "        logp_one = logp(molecule)\n",
    "        logp_actives_train.append(logp_one)\n",
    "    except:\n",
    "        invalid += 1\n",
    "print(\"\\nTotal invalid:\", invalid)\n",
    "print(\"Total valid:\", len(logp_actives_train))\n",
    "\n",
    "invalid = 0\n",
    "logp_inactives_train = []\n",
    "for molecule in inactives_train_grammatical:\n",
    "    try:\n",
    "        logp_one = logp(molecule)\n",
    "        logp_inactives_train.append(logp_one)\n",
    "    except:\n",
    "        invalid += 1\n",
    "print(\"\\nTotal invalid:\", invalid)\n",
    "print(\"Total valid:\", len(logp_inactives_train))\n",
    "\n",
    "print()\n",
    "logp_dict = {\"Generated actives\": logp_actives_gen,\n",
    "             \"Generated inactives\": logp_inactives_gen,\n",
    "             \"Training actives\": logp_actives_train,\n",
    "             \"Training inactives\": logp_inactives_train}\n",
    "\n",
    "for key,value in logp_dict.items():\n",
    "    print(key, \":\")\n",
    "    print(value[:20], \"\\n\")"
   ]
  },
  {
   "cell_type": "markdown",
   "id": "f0d8c4d9-ca43-409c-8736-559c3addd274",
   "metadata": {},
   "source": [
    "### Dictionary to dataframe"
   ]
  },
  {
   "cell_type": "code",
   "execution_count": 60,
   "id": "199f37b9-c1c8-4a79-8d3e-59c26f9cbd96",
   "metadata": {},
   "outputs": [
    {
     "data": {
      "text/html": [
       "<div>\n",
       "<style scoped>\n",
       "    .dataframe tbody tr th:only-of-type {\n",
       "        vertical-align: middle;\n",
       "    }\n",
       "\n",
       "    .dataframe tbody tr th {\n",
       "        vertical-align: top;\n",
       "    }\n",
       "\n",
       "    .dataframe thead th {\n",
       "        text-align: right;\n",
       "    }\n",
       "</style>\n",
       "<table border=\"1\" class=\"dataframe\">\n",
       "  <thead>\n",
       "    <tr style=\"text-align: right;\">\n",
       "      <th></th>\n",
       "      <th>Distribution</th>\n",
       "      <th>Value</th>\n",
       "      <th>Metric</th>\n",
       "    </tr>\n",
       "  </thead>\n",
       "  <tbody>\n",
       "    <tr>\n",
       "      <th>0</th>\n",
       "      <td>Generated actives</td>\n",
       "      <td>7.328415</td>\n",
       "      <td>SA</td>\n",
       "    </tr>\n",
       "    <tr>\n",
       "      <th>1</th>\n",
       "      <td>Generated actives</td>\n",
       "      <td>3.923225</td>\n",
       "      <td>SA</td>\n",
       "    </tr>\n",
       "    <tr>\n",
       "      <th>2</th>\n",
       "      <td>Generated actives</td>\n",
       "      <td>6.467379</td>\n",
       "      <td>SA</td>\n",
       "    </tr>\n",
       "    <tr>\n",
       "      <th>3</th>\n",
       "      <td>Generated actives</td>\n",
       "      <td>5.868477</td>\n",
       "      <td>SA</td>\n",
       "    </tr>\n",
       "    <tr>\n",
       "      <th>4</th>\n",
       "      <td>Generated actives</td>\n",
       "      <td>8.479573</td>\n",
       "      <td>SA</td>\n",
       "    </tr>\n",
       "    <tr>\n",
       "      <th>...</th>\n",
       "      <td>...</td>\n",
       "      <td>...</td>\n",
       "      <td>...</td>\n",
       "    </tr>\n",
       "    <tr>\n",
       "      <th>1753</th>\n",
       "      <td>Training inactives</td>\n",
       "      <td>1.919343</td>\n",
       "      <td>SA</td>\n",
       "    </tr>\n",
       "    <tr>\n",
       "      <th>1754</th>\n",
       "      <td>Training inactives</td>\n",
       "      <td>2.494935</td>\n",
       "      <td>SA</td>\n",
       "    </tr>\n",
       "    <tr>\n",
       "      <th>1755</th>\n",
       "      <td>Training inactives</td>\n",
       "      <td>4.908138</td>\n",
       "      <td>SA</td>\n",
       "    </tr>\n",
       "    <tr>\n",
       "      <th>1756</th>\n",
       "      <td>Training inactives</td>\n",
       "      <td>2.417861</td>\n",
       "      <td>SA</td>\n",
       "    </tr>\n",
       "    <tr>\n",
       "      <th>1757</th>\n",
       "      <td>Training inactives</td>\n",
       "      <td>2.301900</td>\n",
       "      <td>SA</td>\n",
       "    </tr>\n",
       "  </tbody>\n",
       "</table>\n",
       "<p>3963 rows × 3 columns</p>\n",
       "</div>"
      ],
      "text/plain": [
       "            Distribution     Value Metric\n",
       "0      Generated actives  7.328415     SA\n",
       "1      Generated actives  3.923225     SA\n",
       "2      Generated actives  6.467379     SA\n",
       "3      Generated actives  5.868477     SA\n",
       "4      Generated actives  8.479573     SA\n",
       "...                  ...       ...    ...\n",
       "1753  Training inactives  1.919343     SA\n",
       "1754  Training inactives  2.494935     SA\n",
       "1755  Training inactives  4.908138     SA\n",
       "1756  Training inactives  2.417861     SA\n",
       "1757  Training inactives  2.301900     SA\n",
       "\n",
       "[3963 rows x 3 columns]"
      ]
     },
     "metadata": {},
     "output_type": "display_data"
    }
   ],
   "source": [
    "# SA.\n",
    "df_sa = pd.DataFrame()\n",
    "for key,value in sa_dict.items():\n",
    "    df_sa = pd.concat([df_sa, pd.DataFrame({\"Distribution\": [key] * len(value), \"Value\": value})])\n",
    "df_sa[\"Metric\"] = \"SA\"\n",
    "display(df_sa)"
   ]
  },
  {
   "cell_type": "code",
   "execution_count": 61,
   "id": "ad5100ee-f8bd-44ac-a7c1-3740353fbcfc",
   "metadata": {},
   "outputs": [
    {
     "data": {
      "text/html": [
       "<div>\n",
       "<style scoped>\n",
       "    .dataframe tbody tr th:only-of-type {\n",
       "        vertical-align: middle;\n",
       "    }\n",
       "\n",
       "    .dataframe tbody tr th {\n",
       "        vertical-align: top;\n",
       "    }\n",
       "\n",
       "    .dataframe thead th {\n",
       "        text-align: right;\n",
       "    }\n",
       "</style>\n",
       "<table border=\"1\" class=\"dataframe\">\n",
       "  <thead>\n",
       "    <tr style=\"text-align: right;\">\n",
       "      <th></th>\n",
       "      <th>Distribution</th>\n",
       "      <th>Value</th>\n",
       "      <th>Metric</th>\n",
       "    </tr>\n",
       "  </thead>\n",
       "  <tbody>\n",
       "    <tr>\n",
       "      <th>0</th>\n",
       "      <td>Generated actives</td>\n",
       "      <td>0.339424</td>\n",
       "      <td>QED</td>\n",
       "    </tr>\n",
       "    <tr>\n",
       "      <th>1</th>\n",
       "      <td>Generated actives</td>\n",
       "      <td>0.359785</td>\n",
       "      <td>QED</td>\n",
       "    </tr>\n",
       "    <tr>\n",
       "      <th>2</th>\n",
       "      <td>Generated actives</td>\n",
       "      <td>0.339424</td>\n",
       "      <td>QED</td>\n",
       "    </tr>\n",
       "    <tr>\n",
       "      <th>3</th>\n",
       "      <td>Generated actives</td>\n",
       "      <td>0.339424</td>\n",
       "      <td>QED</td>\n",
       "    </tr>\n",
       "    <tr>\n",
       "      <th>4</th>\n",
       "      <td>Generated actives</td>\n",
       "      <td>0.339424</td>\n",
       "      <td>QED</td>\n",
       "    </tr>\n",
       "    <tr>\n",
       "      <th>...</th>\n",
       "      <td>...</td>\n",
       "      <td>...</td>\n",
       "      <td>...</td>\n",
       "    </tr>\n",
       "    <tr>\n",
       "      <th>1753</th>\n",
       "      <td>Training inactives</td>\n",
       "      <td>0.736693</td>\n",
       "      <td>QED</td>\n",
       "    </tr>\n",
       "    <tr>\n",
       "      <th>1754</th>\n",
       "      <td>Training inactives</td>\n",
       "      <td>0.877740</td>\n",
       "      <td>QED</td>\n",
       "    </tr>\n",
       "    <tr>\n",
       "      <th>1755</th>\n",
       "      <td>Training inactives</td>\n",
       "      <td>0.675608</td>\n",
       "      <td>QED</td>\n",
       "    </tr>\n",
       "    <tr>\n",
       "      <th>1756</th>\n",
       "      <td>Training inactives</td>\n",
       "      <td>0.834182</td>\n",
       "      <td>QED</td>\n",
       "    </tr>\n",
       "    <tr>\n",
       "      <th>1757</th>\n",
       "      <td>Training inactives</td>\n",
       "      <td>0.415527</td>\n",
       "      <td>QED</td>\n",
       "    </tr>\n",
       "  </tbody>\n",
       "</table>\n",
       "<p>8084 rows × 3 columns</p>\n",
       "</div>"
      ],
      "text/plain": [
       "            Distribution     Value Metric\n",
       "0      Generated actives  0.339424    QED\n",
       "1      Generated actives  0.359785    QED\n",
       "2      Generated actives  0.339424    QED\n",
       "3      Generated actives  0.339424    QED\n",
       "4      Generated actives  0.339424    QED\n",
       "...                  ...       ...    ...\n",
       "1753  Training inactives  0.736693    QED\n",
       "1754  Training inactives  0.877740    QED\n",
       "1755  Training inactives  0.675608    QED\n",
       "1756  Training inactives  0.834182    QED\n",
       "1757  Training inactives  0.415527    QED\n",
       "\n",
       "[8084 rows x 3 columns]"
      ]
     },
     "metadata": {},
     "output_type": "display_data"
    }
   ],
   "source": [
    "# QED.\n",
    "df_qed = pd.DataFrame()\n",
    "for key,value in qed_dict.items():\n",
    "    df_qed = pd.concat([df_qed, pd.DataFrame({\"Distribution\": [key] * len(value), \"Value\": value})])\n",
    "df_qed[\"Metric\"] = \"QED\"\n",
    "display(df_qed)"
   ]
  },
  {
   "cell_type": "code",
   "execution_count": 63,
   "id": "0ffd4d0e-aee9-4bac-afd1-418a6d4f4639",
   "metadata": {},
   "outputs": [
    {
     "data": {
      "text/html": [
       "<div>\n",
       "<style scoped>\n",
       "    .dataframe tbody tr th:only-of-type {\n",
       "        vertical-align: middle;\n",
       "    }\n",
       "\n",
       "    .dataframe tbody tr th {\n",
       "        vertical-align: top;\n",
       "    }\n",
       "\n",
       "    .dataframe thead th {\n",
       "        text-align: right;\n",
       "    }\n",
       "</style>\n",
       "<table border=\"1\" class=\"dataframe\">\n",
       "  <thead>\n",
       "    <tr style=\"text-align: right;\">\n",
       "      <th></th>\n",
       "      <th>Distribution</th>\n",
       "      <th>Value</th>\n",
       "      <th>Metric</th>\n",
       "    </tr>\n",
       "  </thead>\n",
       "  <tbody>\n",
       "    <tr>\n",
       "      <th>0</th>\n",
       "      <td>Generated actives</td>\n",
       "      <td>-6.229620</td>\n",
       "      <td>LogP</td>\n",
       "    </tr>\n",
       "    <tr>\n",
       "      <th>1</th>\n",
       "      <td>Generated actives</td>\n",
       "      <td>-2.653540</td>\n",
       "      <td>LogP</td>\n",
       "    </tr>\n",
       "    <tr>\n",
       "      <th>2</th>\n",
       "      <td>Generated actives</td>\n",
       "      <td>-6.051715</td>\n",
       "      <td>LogP</td>\n",
       "    </tr>\n",
       "    <tr>\n",
       "      <th>3</th>\n",
       "      <td>Generated actives</td>\n",
       "      <td>-5.496546</td>\n",
       "      <td>LogP</td>\n",
       "    </tr>\n",
       "    <tr>\n",
       "      <th>4</th>\n",
       "      <td>Generated actives</td>\n",
       "      <td>-8.389254</td>\n",
       "      <td>LogP</td>\n",
       "    </tr>\n",
       "    <tr>\n",
       "      <th>...</th>\n",
       "      <td>...</td>\n",
       "      <td>...</td>\n",
       "      <td>...</td>\n",
       "    </tr>\n",
       "    <tr>\n",
       "      <th>1753</th>\n",
       "      <td>Training inactives</td>\n",
       "      <td>1.354121</td>\n",
       "      <td>LogP</td>\n",
       "    </tr>\n",
       "    <tr>\n",
       "      <th>1754</th>\n",
       "      <td>Training inactives</td>\n",
       "      <td>1.682860</td>\n",
       "      <td>LogP</td>\n",
       "    </tr>\n",
       "    <tr>\n",
       "      <th>1755</th>\n",
       "      <td>Training inactives</td>\n",
       "      <td>-1.982381</td>\n",
       "      <td>LogP</td>\n",
       "    </tr>\n",
       "    <tr>\n",
       "      <th>1756</th>\n",
       "      <td>Training inactives</td>\n",
       "      <td>0.699492</td>\n",
       "      <td>LogP</td>\n",
       "    </tr>\n",
       "    <tr>\n",
       "      <th>1757</th>\n",
       "      <td>Training inactives</td>\n",
       "      <td>3.700030</td>\n",
       "      <td>LogP</td>\n",
       "    </tr>\n",
       "  </tbody>\n",
       "</table>\n",
       "<p>3963 rows × 3 columns</p>\n",
       "</div>"
      ],
      "text/plain": [
       "            Distribution     Value Metric\n",
       "0      Generated actives -6.229620   LogP\n",
       "1      Generated actives -2.653540   LogP\n",
       "2      Generated actives -6.051715   LogP\n",
       "3      Generated actives -5.496546   LogP\n",
       "4      Generated actives -8.389254   LogP\n",
       "...                  ...       ...    ...\n",
       "1753  Training inactives  1.354121   LogP\n",
       "1754  Training inactives  1.682860   LogP\n",
       "1755  Training inactives -1.982381   LogP\n",
       "1756  Training inactives  0.699492   LogP\n",
       "1757  Training inactives  3.700030   LogP\n",
       "\n",
       "[3963 rows x 3 columns]"
      ]
     },
     "metadata": {},
     "output_type": "display_data"
    }
   ],
   "source": [
    "# LogP.\n",
    "df_logp = pd.DataFrame()\n",
    "for key,value in logp_dict.items():\n",
    "    df_logp = pd.concat([df_logp, pd.DataFrame({\"Distribution\": [key] * len(value), \"Value\": value})])\n",
    "df_logp[\"Metric\"] = \"LogP\"\n",
    "display(df_logp)"
   ]
  },
  {
   "cell_type": "code",
   "execution_count": 64,
   "id": "f4ee0fe2-1af7-4dfb-8175-838b000268e6",
   "metadata": {},
   "outputs": [
    {
     "name": "stdout",
     "output_type": "stream",
     "text": [
      "<class 'pandas.core.frame.DataFrame'>\n",
      "RangeIndex: 16010 entries, 0 to 16009\n",
      "Data columns (total 3 columns):\n",
      " #   Column        Non-Null Count  Dtype  \n",
      "---  ------        --------------  -----  \n",
      " 0   Distribution  16010 non-null  object \n",
      " 1   Value         16010 non-null  float64\n",
      " 2   Metric        16010 non-null  object \n",
      "dtypes: float64(1), object(2)\n",
      "memory usage: 375.4+ KB\n",
      "None\n"
     ]
    },
    {
     "data": {
      "text/html": [
       "<div>\n",
       "<style scoped>\n",
       "    .dataframe tbody tr th:only-of-type {\n",
       "        vertical-align: middle;\n",
       "    }\n",
       "\n",
       "    .dataframe tbody tr th {\n",
       "        vertical-align: top;\n",
       "    }\n",
       "\n",
       "    .dataframe thead th {\n",
       "        text-align: right;\n",
       "    }\n",
       "</style>\n",
       "<table border=\"1\" class=\"dataframe\">\n",
       "  <thead>\n",
       "    <tr style=\"text-align: right;\">\n",
       "      <th></th>\n",
       "      <th>Distribution</th>\n",
       "      <th>Value</th>\n",
       "      <th>Metric</th>\n",
       "    </tr>\n",
       "  </thead>\n",
       "  <tbody>\n",
       "    <tr>\n",
       "      <th>0</th>\n",
       "      <td>Generated actives</td>\n",
       "      <td>7.328415</td>\n",
       "      <td>SA</td>\n",
       "    </tr>\n",
       "    <tr>\n",
       "      <th>1</th>\n",
       "      <td>Generated actives</td>\n",
       "      <td>3.923225</td>\n",
       "      <td>SA</td>\n",
       "    </tr>\n",
       "    <tr>\n",
       "      <th>2</th>\n",
       "      <td>Generated actives</td>\n",
       "      <td>6.467379</td>\n",
       "      <td>SA</td>\n",
       "    </tr>\n",
       "    <tr>\n",
       "      <th>3</th>\n",
       "      <td>Generated actives</td>\n",
       "      <td>5.868477</td>\n",
       "      <td>SA</td>\n",
       "    </tr>\n",
       "    <tr>\n",
       "      <th>4</th>\n",
       "      <td>Generated actives</td>\n",
       "      <td>8.479573</td>\n",
       "      <td>SA</td>\n",
       "    </tr>\n",
       "    <tr>\n",
       "      <th>...</th>\n",
       "      <td>...</td>\n",
       "      <td>...</td>\n",
       "      <td>...</td>\n",
       "    </tr>\n",
       "    <tr>\n",
       "      <th>16005</th>\n",
       "      <td>Training inactives</td>\n",
       "      <td>1.354121</td>\n",
       "      <td>LogP</td>\n",
       "    </tr>\n",
       "    <tr>\n",
       "      <th>16006</th>\n",
       "      <td>Training inactives</td>\n",
       "      <td>1.682860</td>\n",
       "      <td>LogP</td>\n",
       "    </tr>\n",
       "    <tr>\n",
       "      <th>16007</th>\n",
       "      <td>Training inactives</td>\n",
       "      <td>-1.982381</td>\n",
       "      <td>LogP</td>\n",
       "    </tr>\n",
       "    <tr>\n",
       "      <th>16008</th>\n",
       "      <td>Training inactives</td>\n",
       "      <td>0.699492</td>\n",
       "      <td>LogP</td>\n",
       "    </tr>\n",
       "    <tr>\n",
       "      <th>16009</th>\n",
       "      <td>Training inactives</td>\n",
       "      <td>3.700030</td>\n",
       "      <td>LogP</td>\n",
       "    </tr>\n",
       "  </tbody>\n",
       "</table>\n",
       "<p>16010 rows × 3 columns</p>\n",
       "</div>"
      ],
      "text/plain": [
       "             Distribution     Value Metric\n",
       "0       Generated actives  7.328415     SA\n",
       "1       Generated actives  3.923225     SA\n",
       "2       Generated actives  6.467379     SA\n",
       "3       Generated actives  5.868477     SA\n",
       "4       Generated actives  8.479573     SA\n",
       "...                   ...       ...    ...\n",
       "16005  Training inactives  1.354121   LogP\n",
       "16006  Training inactives  1.682860   LogP\n",
       "16007  Training inactives -1.982381   LogP\n",
       "16008  Training inactives  0.699492   LogP\n",
       "16009  Training inactives  3.700030   LogP\n",
       "\n",
       "[16010 rows x 3 columns]"
      ]
     },
     "metadata": {},
     "output_type": "display_data"
    }
   ],
   "source": [
    "# Aggregate all results.\n",
    "df_metrics = pd.concat([df_sa, df_qed, df_logp]).reset_index(drop = True)\n",
    "print(df_metrics.info())\n",
    "display(df_metrics)"
   ]
  },
  {
   "cell_type": "markdown",
   "id": "67d74c98-f810-4143-9fe9-2ad3dada6b69",
   "metadata": {},
   "source": [
    "## Plot distributions"
   ]
  },
  {
   "cell_type": "code",
   "execution_count": 65,
   "id": "cde9c0c3-d3b2-4c93-a18c-4e7e143e7fdb",
   "metadata": {},
   "outputs": [
    {
     "data": {
      "image/png": "[encoded data removed]",
      "text/plain": [
       "<Figure size 497x360 with 1 Axes>"
      ]
     },
     "metadata": {
      "needs_background": "light"
     },
     "output_type": "display_data"
    }
   ],
   "source": [
    "plot_distribution_basic(df_sa)"
   ]
  },
  {
   "cell_type": "code",
   "execution_count": 71,
   "id": "39a1879e-f7db-4622-8b6d-ad447eb21553",
   "metadata": {},
   "outputs": [
    {
     "data": {
      "image/png": "[encoded data removed]",
      "text/plain": [
       "<Figure size 497x360 with 1 Axes>"
      ]
     },
     "metadata": {
      "needs_background": "light"
     },
     "output_type": "display_data"
    }
   ],
   "source": [
    "plot_distribution_basic(df_qed)"
   ]
  },
  {
   "cell_type": "code",
   "execution_count": 68,
   "id": "d4ff0ba8-c99d-4638-ab45-d35ce3335f64",
   "metadata": {},
   "outputs": [
    {
     "data": {
      "image/png": "[encoded data removed]",
      "text/plain": [
       "<Figure size 497x360 with 1 Axes>"
      ]
     },
     "metadata": {
      "needs_background": "light"
     },
     "output_type": "display_data"
    }
   ],
   "source": [
    "plot_distribution_basic(df_logp)"
   ]
  },
  {
   "cell_type": "code",
   "execution_count": 69,
   "id": "62f524fa-5d4f-4d29-b61f-ec2a23444472",
   "metadata": {},
   "outputs": [
    {
     "data": {
      "image/png": "[encoded data removed]",
      "text/plain": [
       "<Figure size 785x216 with 3 Axes>"
      ]
     },
     "metadata": {
      "needs_background": "light"
     },
     "output_type": "display_data"
    }
   ],
   "source": [
    "plot_distribution(df_metrics, save_path = \"./aae_metrics.pdf\", save = True)"
   ]
  },
  {
   "cell_type": "markdown",
   "id": "6fbc949d-0975-4fe1-90ed-95d45fb7552d",
   "metadata": {},
   "source": [
    "## End of document"
   ]
  },
  {
   "cell_type": "code",
   "execution_count": null,
   "id": "25c63cfa-3045-476d-a564-965e9c4d053c",
   "metadata": {},
   "outputs": [],
   "source": []
  }
 ],
 "metadata": {
  "kernelspec": {
   "display_name": "Python 3 (ipykernel)",
   "language": "python",
   "name": "python3"
  },
  "language_info": {
   "codemirror_mode": {
    "name": "ipython",
    "version": 3
   },
   "file_extension": ".py",
   "mimetype": "text/x-python",
   "name": "python",
   "nbconvert_exporter": "python",
   "pygments_lexer": "ipython3",
   "version": "3.8.8"
  }
 },
 "nbformat": 4,
 "nbformat_minor": 5
}
