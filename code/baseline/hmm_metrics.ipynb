{
 "cells": [
  {
   "cell_type": "markdown",
   "metadata": {},
   "source": [
    "# HMM: Performance evaluation\n",
    "\n",
    "Jacqueline R. M. A. Maasch | March 2022"
   ]
  },
  {
   "cell_type": "markdown",
   "metadata": {},
   "source": [
    "## Preamble"
   ]
  },
  {
   "cell_type": "code",
   "execution_count": 1,
   "metadata": {},
   "outputs": [],
   "source": [
    "# Importations.\n",
    "import moses\n",
    "import pandas as pd\n",
    "import numpy as np\n",
    "import time\n",
    "import matplotlib.pyplot as plt\n",
    "import seaborn as sns\n",
    "from scipy.stats import wasserstein_distance\n",
    "from moses.metrics import weight, logP, SA, QED\n",
    "from moses.metrics.utils import get_mol, mapper\n",
    "from moses import get_dataset\n",
    "from collections import OrderedDict\n",
    "from tdc.chem_utils import MolFilter\n",
    "import warnings\n",
    "from tdc import Oracle\n",
    "\n",
    "import tdc\n",
    "from tdc import Evaluator\n",
    "from tdc.single_pred import HTS\n",
    "from importlib.metadata import version"
   ]
  },
  {
   "cell_type": "code",
   "execution_count": 2,
   "metadata": {},
   "outputs": [],
   "source": [
    "%%capture\n",
    "# Installs.\n",
    "#!python3.8 -m pip install fcd_torch\n",
    "#!python3.8 -m pip install rxn4chemistry"
   ]
  },
  {
   "cell_type": "markdown",
   "metadata": {},
   "source": [
    "## Define functions"
   ]
  },
  {
   "cell_type": "code",
   "execution_count": 3,
   "metadata": {},
   "outputs": [],
   "source": [
    "def compute_tdc_metrics(generated, training):\n",
    "    \n",
    "    metrics_dict = dict()\n",
    "    \n",
    "    kl = Evaluator(name = \"KL_Divergence\")\n",
    "    metrics_dict[\"KL divergence\"] = kl(generated, training)\n",
    "\n",
    "    uniqueness = Evaluator(name = \"Uniqueness\")\n",
    "    metrics_dict[\"Uniqueness\"] = uniqueness(generated)\n",
    "\n",
    "    validity = Evaluator(name = \"Validity\")\n",
    "    metrics_dict[\"Validity\"] = validity(generated)\n",
    "\n",
    "    novelty = Evaluator(name = \"Novelty\")\n",
    "    metrics_dict[\"Novelty\"] = novelty(generated, training)\n",
    "\n",
    "    #fcd = Evaluator(name = \"FCD_Distance\")\n",
    "    #metrics_dict[\"FCD distance\"] = fcd(generated, training)\n",
    "\n",
    "    diversity = Evaluator(name = \"Diversity\")\n",
    "    metrics_dict[\"Diversity\"] = diversity(generated)\n",
    "\n",
    "    return metrics_dict\n",
    "\n",
    "\n",
    "def remove_ungrammatical(generated):\n",
    "    keep = []\n",
    "    for molecule in generated:\n",
    "        opening_parens = molecule.count(\"(\")\n",
    "        closing_parens = molecule.count(\")\")\n",
    "        if opening_parens == closing_parens:\n",
    "            keep.append(molecule)\n",
    "    return keep\n",
    "\n",
    "\n",
    "def plot_distribution(df, save_path=\"./plt.pdf\", save=False):\n",
    "    g = sns.FacetGrid(df.reset_index(), col=\"Metric\", hue=\"Distribution\", sharex=False)\n",
    "    g.map_dataframe(sns.kdeplot, \"Data\", fill=True, common_norm = True).add_legend()\n",
    "    if save:\n",
    "        plt.savefig(save_path)\n",
    "    else:\n",
    "        plt.show()"
   ]
  },
  {
   "cell_type": "markdown",
   "metadata": {},
   "source": [
    "## Read data\n",
    "\n",
    "### Generated molecules"
   ]
  },
  {
   "cell_type": "code",
   "execution_count": 4,
   "metadata": {},
   "outputs": [
    {
     "name": "stdout",
     "output_type": "stream",
     "text": [
      "<class 'pandas.core.frame.DataFrame'>\n",
      "RangeIndex: 2000 entries, 0 to 1999\n",
      "Data columns (total 2 columns):\n",
      " #   Column  Non-Null Count  Dtype \n",
      "---  ------  --------------  ----- \n",
      " 0   SMILES  2000 non-null   object\n",
      " 1   Active  2000 non-null   int64 \n",
      "dtypes: int64(1), object(1)\n",
      "memory usage: 31.4+ KB\n",
      "None\n"
     ]
    },
    {
     "data": {
      "text/html": [
       "<div>\n",
       "<style scoped>\n",
       "    .dataframe tbody tr th:only-of-type {\n",
       "        vertical-align: middle;\n",
       "    }\n",
       "\n",
       "    .dataframe tbody tr th {\n",
       "        vertical-align: top;\n",
       "    }\n",
       "\n",
       "    .dataframe thead th {\n",
       "        text-align: right;\n",
       "    }\n",
       "</style>\n",
       "<table border=\"1\" class=\"dataframe\">\n",
       "  <thead>\n",
       "    <tr style=\"text-align: right;\">\n",
       "      <th></th>\n",
       "      <th>SMILES</th>\n",
       "      <th>Active</th>\n",
       "    </tr>\n",
       "  </thead>\n",
       "  <tbody>\n",
       "    <tr>\n",
       "      <th>0</th>\n",
       "      <td>O=C(CCl)Nc1ccc(O)c(C2C=CS(=O)(=O)C2)c1</td>\n",
       "      <td>1</td>\n",
       "    </tr>\n",
       "    <tr>\n",
       "      <th>1</th>\n",
       "      <td>CO[C@@H]1O[C@H](C)C[C@@H](N(C=O)C(C)=Cc2ccc(Nc...</td>\n",
       "      <td>1</td>\n",
       "    </tr>\n",
       "    <tr>\n",
       "      <th>2</th>\n",
       "      <td>CC(=O)NC(=O)NCC1=C(C(=O)[O-])N2C(=O)[C@H]([C@H...</td>\n",
       "      <td>1</td>\n",
       "    </tr>\n",
       "    <tr>\n",
       "      <th>3</th>\n",
       "      <td>COc1ccc(-c2ccccc2)cc1CO[C@]1(C)C[C@H](C2CCC(O)...</td>\n",
       "      <td>1</td>\n",
       "    </tr>\n",
       "    <tr>\n",
       "      <th>4</th>\n",
       "      <td>Cc1ncc(NCn2cccn2)c(N)n1</td>\n",
       "      <td>1</td>\n",
       "    </tr>\n",
       "  </tbody>\n",
       "</table>\n",
       "</div>"
      ],
      "text/plain": [
       "                                              SMILES  Active\n",
       "0             O=C(CCl)Nc1ccc(O)c(C2C=CS(=O)(=O)C2)c1       1\n",
       "1  CO[C@@H]1O[C@H](C)C[C@@H](N(C=O)C(C)=Cc2ccc(Nc...       1\n",
       "2  CC(=O)NC(=O)NCC1=C(C(=O)[O-])N2C(=O)[C@H]([C@H...       1\n",
       "3  COc1ccc(-c2ccccc2)cc1CO[C@]1(C)C[C@H](C2CCC(O)...       1\n",
       "4                            Cc1ncc(NCn2cccn2)c(N)n1       1"
      ]
     },
     "metadata": {},
     "output_type": "display_data"
    }
   ],
   "source": [
    "# Read in generated molecules.\n",
    "df = pd.read_csv(\"comb_de_novo_2k.csv\")\n",
    "print(df.info())\n",
    "display(df.head())"
   ]
  },
  {
   "cell_type": "code",
   "execution_count": 5,
   "metadata": {},
   "outputs": [
    {
     "name": "stdout",
     "output_type": "stream",
     "text": [
      "<class 'pandas.core.frame.DataFrame'>\n",
      "Int64Index: 1000 entries, 0 to 999\n",
      "Data columns (total 2 columns):\n",
      " #   Column  Non-Null Count  Dtype \n",
      "---  ------  --------------  ----- \n",
      " 0   SMILES  1000 non-null   object\n",
      " 1   Active  1000 non-null   int64 \n",
      "dtypes: int64(1), object(1)\n",
      "memory usage: 23.4+ KB\n",
      "None\n"
     ]
    },
    {
     "data": {
      "text/html": [
       "<div>\n",
       "<style scoped>\n",
       "    .dataframe tbody tr th:only-of-type {\n",
       "        vertical-align: middle;\n",
       "    }\n",
       "\n",
       "    .dataframe tbody tr th {\n",
       "        vertical-align: top;\n",
       "    }\n",
       "\n",
       "    .dataframe thead th {\n",
       "        text-align: right;\n",
       "    }\n",
       "</style>\n",
       "<table border=\"1\" class=\"dataframe\">\n",
       "  <thead>\n",
       "    <tr style=\"text-align: right;\">\n",
       "      <th></th>\n",
       "      <th>SMILES</th>\n",
       "      <th>Active</th>\n",
       "    </tr>\n",
       "  </thead>\n",
       "  <tbody>\n",
       "    <tr>\n",
       "      <th>0</th>\n",
       "      <td>O=C(CCl)Nc1ccc(O)c(C2C=CS(=O)(=O)C2)c1</td>\n",
       "      <td>1</td>\n",
       "    </tr>\n",
       "    <tr>\n",
       "      <th>1</th>\n",
       "      <td>CO[C@@H]1O[C@H](C)C[C@@H](N(C=O)C(C)=Cc2ccc(Nc...</td>\n",
       "      <td>1</td>\n",
       "    </tr>\n",
       "    <tr>\n",
       "      <th>2</th>\n",
       "      <td>CC(=O)NC(=O)NCC1=C(C(=O)[O-])N2C(=O)[C@H]([C@H...</td>\n",
       "      <td>1</td>\n",
       "    </tr>\n",
       "    <tr>\n",
       "      <th>3</th>\n",
       "      <td>COc1ccc(-c2ccccc2)cc1CO[C@]1(C)C[C@H](C2CCC(O)...</td>\n",
       "      <td>1</td>\n",
       "    </tr>\n",
       "    <tr>\n",
       "      <th>4</th>\n",
       "      <td>Cc1ncc(NCn2cccn2)c(N)n1</td>\n",
       "      <td>1</td>\n",
       "    </tr>\n",
       "  </tbody>\n",
       "</table>\n",
       "</div>"
      ],
      "text/plain": [
       "                                              SMILES  Active\n",
       "0             O=C(CCl)Nc1ccc(O)c(C2C=CS(=O)(=O)C2)c1       1\n",
       "1  CO[C@@H]1O[C@H](C)C[C@@H](N(C=O)C(C)=Cc2ccc(Nc...       1\n",
       "2  CC(=O)NC(=O)NCC1=C(C(=O)[O-])N2C(=O)[C@H]([C@H...       1\n",
       "3  COc1ccc(-c2ccccc2)cc1CO[C@]1(C)C[C@H](C2CCC(O)...       1\n",
       "4                            Cc1ncc(NCn2cccn2)c(N)n1       1"
      ]
     },
     "metadata": {},
     "output_type": "display_data"
    },
    {
     "name": "stdout",
     "output_type": "stream",
     "text": [
      "<class 'pandas.core.frame.DataFrame'>\n",
      "Int64Index: 1000 entries, 1000 to 1999\n",
      "Data columns (total 2 columns):\n",
      " #   Column  Non-Null Count  Dtype \n",
      "---  ------  --------------  ----- \n",
      " 0   SMILES  1000 non-null   object\n",
      " 1   Active  1000 non-null   int64 \n",
      "dtypes: int64(1), object(1)\n",
      "memory usage: 23.4+ KB\n",
      "None\n"
     ]
    },
    {
     "data": {
      "text/html": [
       "<div>\n",
       "<style scoped>\n",
       "    .dataframe tbody tr th:only-of-type {\n",
       "        vertical-align: middle;\n",
       "    }\n",
       "\n",
       "    .dataframe tbody tr th {\n",
       "        vertical-align: top;\n",
       "    }\n",
       "\n",
       "    .dataframe thead th {\n",
       "        text-align: right;\n",
       "    }\n",
       "</style>\n",
       "<table border=\"1\" class=\"dataframe\">\n",
       "  <thead>\n",
       "    <tr style=\"text-align: right;\">\n",
       "      <th></th>\n",
       "      <th>SMILES</th>\n",
       "      <th>Active</th>\n",
       "    </tr>\n",
       "  </thead>\n",
       "  <tbody>\n",
       "    <tr>\n",
       "      <th>1000</th>\n",
       "      <td>COc1ccc(-c2ccc(-c3ccccc3)cc2)cc1</td>\n",
       "      <td>0</td>\n",
       "    </tr>\n",
       "    <tr>\n",
       "      <th>1001</th>\n",
       "      <td>C[C@]12CC[C@@H]3c4ccc(O)cc4C[C@@H](NC4CCCC4=O)...</td>\n",
       "      <td>0</td>\n",
       "    </tr>\n",
       "    <tr>\n",
       "      <th>1002</th>\n",
       "      <td>Fc1ccc(C(Nc2ccc(Oc3ccccc3)cc2)c2ccccc2)cc1</td>\n",
       "      <td>0</td>\n",
       "    </tr>\n",
       "    <tr>\n",
       "      <th>1003</th>\n",
       "      <td>Cc1ccc(S(=O)(=O)[N-]Cl)cc1</td>\n",
       "      <td>0</td>\n",
       "    </tr>\n",
       "    <tr>\n",
       "      <th>1004</th>\n",
       "      <td>Cc1c(NCC(=O)Oc2cnn3cccnc23)cnn1C</td>\n",
       "      <td>0</td>\n",
       "    </tr>\n",
       "  </tbody>\n",
       "</table>\n",
       "</div>"
      ],
      "text/plain": [
       "                                                 SMILES  Active\n",
       "1000                   COc1ccc(-c2ccc(-c3ccccc3)cc2)cc1       0\n",
       "1001  C[C@]12CC[C@@H]3c4ccc(O)cc4C[C@@H](NC4CCCC4=O)...       0\n",
       "1002         Fc1ccc(C(Nc2ccc(Oc3ccccc3)cc2)c2ccccc2)cc1       0\n",
       "1003                         Cc1ccc(S(=O)(=O)[N-]Cl)cc1       0\n",
       "1004                   Cc1c(NCC(=O)Oc2cnn3cccnc23)cnn1C       0"
      ]
     },
     "metadata": {},
     "output_type": "display_data"
    }
   ],
   "source": [
    "# Disaggregate molecules sampled from active model vs inactive model.\n",
    "df_active = df[df[\"Active\"] == 1]\n",
    "df_inactive = df[df[\"Active\"] == 0]\n",
    "\n",
    "print(df_active.info())\n",
    "display(df_active.head())\n",
    "\n",
    "print(df_inactive.info())\n",
    "display(df_inactive.head())"
   ]
  },
  {
   "cell_type": "markdown",
   "metadata": {},
   "source": [
    "### Training data from TDC"
   ]
  },
  {
   "cell_type": "code",
   "execution_count": 6,
   "metadata": {},
   "outputs": [
    {
     "name": "stderr",
     "output_type": "stream",
     "text": [
      "Found local copy...\n",
      "Loading...\n",
      "Done!\n",
      "Found local copy...\n",
      "Loading...\n",
      "Done!\n"
     ]
    },
    {
     "name": "stdout",
     "output_type": "stream",
     "text": [
      "dataset datatype: <class 'tdc.single_pred.hts.HTS'>\n",
      "data split datatype: <class 'dict'> \n",
      "\n"
     ]
    },
    {
     "data": {
      "text/plain": [
       "<tdc.single_pred.hts.HTS at 0x7fe74abc0580>"
      ]
     },
     "metadata": {},
     "output_type": "display_data"
    },
    {
     "name": "stdout",
     "output_type": "stream",
     "text": [
      "\n"
     ]
    },
    {
     "data": {
      "text/plain": [
       "{'train':       Drug_ID                                               Drug  Y\n",
       " 0           0                       CCOc1ccc2nc(S(N)(=O)=O)sc2c1  1\n",
       " 1           1  C[C@]12C/C(=C/O)C(=O)C[C@@H]1CC[C@@H]1[C@@H]2C...  1\n",
       " 2           2               Cc1nccn1CC1CCc2c(c3ccccc3n2C)C1=O.Cl  1\n",
       " 3           3  CC(=O)[C@H]1CC[C@H]2[C@@H]3CC=C4C[C@@H](O)CC[C...  1\n",
       " 4           4  C=C1CC[C@@]2(O)[C@H]3Cc4ccc(O)c5c4[C@@]2(CCN3C...  1\n",
       " ...       ...                                                ... ..\n",
       " 1034     1477                        O=C(CCCCCCC(=O)Nc1ccccc1)NO  0\n",
       " 1035     1478        COc1ccccc1OCCNCC(O)COc1cccc2[nH]c3ccccc3c12  0\n",
       " 1036     1481  Clc1ccc(C(Cn2ccnc2)OCc2csc3c(Cl)cccc23)c(Cl)c1...  0\n",
       " 1037     1482  CCSc1ccc2c(c1)N(CCCN1CCN(C)CC1)c1ccccc1S2.O=C(...  0\n",
       " 1038     1483  C=Cc1c(C)c2cc3nc(cc4[nH]c(cc5nc(cc1[nH]2)C(C)=...  0\n",
       " \n",
       " [1039 rows x 3 columns],\n",
       " 'valid':      Drug_ID                                               Drug  Y\n",
       " 0        581              CC(=O)OCC(CCn1cnc2cnc(N)nc21)COC(C)=O  0\n",
       " 1        375  CC(=O)S[C@@H]1CC2=CC(=O)CC[C@]2(C)[C@H]2CC[C@@...  0\n",
       " 2        703                   Nc1nc2c(ncn2CCC(CO)CO)c(=O)[nH]1  0\n",
       " 3       1039                       NC(=O)N1c2ccccc2C=Cc2ccccc21  0\n",
       " 4        610              O=C(O)CCc1nc(-c2ccccc2)c(-c2ccccc2)o1  0\n",
       " ..       ...                                                ... ..\n",
       " 143      784             CC(=O)N(CC(C)C(=O)O)c1c(I)cc(I)c(N)c1I  0\n",
       " 144     1160                          Cl.NCc1ccc(S(N)(=O)=O)cc1  0\n",
       " 145       48  CC(C(O)c1ccc(O)cc1)N1CCC(Cc2ccccc2)CC1.CC(C(O)...  1\n",
       " 146     1018  COCCCOc1cc(C[C@@H](C[C@H](N)[C@@H](O)C[C@H](C(...  0\n",
       " 147      186               N#Cc1ccc(C(c2ccc(C#N)cc2)n2cncn2)cc1  0\n",
       " \n",
       " [148 rows x 3 columns],\n",
       " 'test':      Drug_ID                                               Drug  Y\n",
       " 0        123               CCCCOc1cc(C(=O)NCCN(CC)CC)c2ccccc2n1  0\n",
       " 1        432  C[C@H](O)[C@H](O)[C@H]1CNc2nc(N)[nH]c(=O)c2N1....  0\n",
       " 2       1033         CS(=O)(=O)Nc1ccc([N+](=O)[O-])cc1Oc1ccccc1  0\n",
       " 3        529  CN1CCCCC1CCN1c2ccccc2Sc2ccc(S(C)=O)cc21.O=S(=O...  0\n",
       " 4       1417                 CNCCCC12CCC(c3ccccc31)c1ccccc12.Cl  0\n",
       " ..       ...                                                ... ..\n",
       " 292     1101      NS(=O)(=O)c1cc2c(cc1Cl)NC(Cc1ccccc1)NS2(=O)=O  0\n",
       " 293     1293                Cc1cc2c(cc1S(N)(=O)=O)S(=O)(=O)CCC2  0\n",
       " 294      543  NC(=O)c1cc[n+](CC2=C(C(=O)[O-])N3C(=O)[C@@H](N...  0\n",
       " 295     1472  CCOC1O[C@H]([C@@H](COCc2ccccc2)OCc2ccccc2)[C@H...  0\n",
       " 296     1013                 NS(=O)(=O)c1cc2c(cc1Cl)NCNS2(=O)=O  0\n",
       " \n",
       " [297 rows x 3 columns]}"
      ]
     },
     "metadata": {},
     "output_type": "display_data"
    }
   ],
   "source": [
    "# Default random state seed for TDC.\n",
    "# Read about split methods here: https://tdcommons.ai/functions/data_split/\n",
    "# Consider scaffold split over random split in the future.\n",
    "random_seed = 42\n",
    "\n",
    "# SARS-CoV-2 In Vitro, Touret et al.\n",
    "data_touret = HTS(name = \"SARSCoV2_Vitro_Touret\")\n",
    "split_touret = data_touret.get_split(method = \"random\", \n",
    "                                     seed = random_seed, \n",
    "                                     frac = [0.7, 0.1, 0.2])\n",
    "\n",
    "# SARS-CoV-2 3CL Protease, Diamond.\n",
    "data_diamond = HTS(name = \"SARSCoV2_3CLPro_Diamond\")\n",
    "split_diamond = data_diamond.get_split(method = \"random\", \n",
    "                                       seed = random_seed, \n",
    "                                       frac = [0.7, 0.1, 0.2])\n",
    "\n",
    "# Explore data.\n",
    "print(\"dataset datatype:\", type(data_touret))\n",
    "print(\"data split datatype:\", type(split_touret), \"\\n\")\n",
    "display(data_touret)\n",
    "print()\n",
    "display(split_touret)\n",
    "\n",
    "# Extract training / validation / testing sets.\n",
    "train_touret = split_touret.get(\"train\")\n",
    "val_touret = split_touret.get(\"valid\")\n",
    "test_touret = split_touret.get(\"test\")\n",
    "\n",
    "train_diamond = split_diamond.get(\"train\")\n",
    "val_diamond = split_diamond.get(\"valid\")\n",
    "test_diamond = split_diamond.get(\"test\")"
   ]
  },
  {
   "cell_type": "code",
   "execution_count": 7,
   "metadata": {},
   "outputs": [
    {
     "name": "stdout",
     "output_type": "stream",
     "text": [
      "\n",
      "~~~~~ TOURET: SARS-CoV-2 In Vitro, Touret et al. ~~~~~\n",
      "\n",
      "\n",
      "--- TRAINING SPLIT ---\n",
      "\n",
      "0    977\n",
      "1     62\n",
      "Name: Y, dtype: int64\n",
      "0    0.940327\n",
      "1    0.059673\n",
      "Name: Y, dtype: float64 \n",
      "\n",
      "<class 'pandas.core.frame.DataFrame'>\n",
      "RangeIndex: 1039 entries, 0 to 1038\n",
      "Data columns (total 3 columns):\n",
      " #   Column   Non-Null Count  Dtype \n",
      "---  ------   --------------  ----- \n",
      " 0   Drug_ID  1039 non-null   int64 \n",
      " 1   Drug     1039 non-null   object\n",
      " 2   Y        1039 non-null   int64 \n",
      "dtypes: int64(2), object(1)\n",
      "memory usage: 24.5+ KB\n",
      "None\n"
     ]
    },
    {
     "data": {
      "text/html": [
       "<div>\n",
       "<style scoped>\n",
       "    .dataframe tbody tr th:only-of-type {\n",
       "        vertical-align: middle;\n",
       "    }\n",
       "\n",
       "    .dataframe tbody tr th {\n",
       "        vertical-align: top;\n",
       "    }\n",
       "\n",
       "    .dataframe thead th {\n",
       "        text-align: right;\n",
       "    }\n",
       "</style>\n",
       "<table border=\"1\" class=\"dataframe\">\n",
       "  <thead>\n",
       "    <tr style=\"text-align: right;\">\n",
       "      <th></th>\n",
       "      <th>Drug_ID</th>\n",
       "      <th>Drug</th>\n",
       "      <th>Y</th>\n",
       "    </tr>\n",
       "  </thead>\n",
       "  <tbody>\n",
       "    <tr>\n",
       "      <th>0</th>\n",
       "      <td>0</td>\n",
       "      <td>CCOc1ccc2nc(S(N)(=O)=O)sc2c1</td>\n",
       "      <td>1</td>\n",
       "    </tr>\n",
       "    <tr>\n",
       "      <th>1</th>\n",
       "      <td>1</td>\n",
       "      <td>C[C@]12C/C(=C/O)C(=O)C[C@@H]1CC[C@@H]1[C@@H]2C...</td>\n",
       "      <td>1</td>\n",
       "    </tr>\n",
       "    <tr>\n",
       "      <th>2</th>\n",
       "      <td>2</td>\n",
       "      <td>Cc1nccn1CC1CCc2c(c3ccccc3n2C)C1=O.Cl</td>\n",
       "      <td>1</td>\n",
       "    </tr>\n",
       "    <tr>\n",
       "      <th>3</th>\n",
       "      <td>3</td>\n",
       "      <td>CC(=O)[C@H]1CC[C@H]2[C@@H]3CC=C4C[C@@H](O)CC[C...</td>\n",
       "      <td>1</td>\n",
       "    </tr>\n",
       "    <tr>\n",
       "      <th>4</th>\n",
       "      <td>4</td>\n",
       "      <td>C=C1CC[C@@]2(O)[C@H]3Cc4ccc(O)c5c4[C@@]2(CCN3C...</td>\n",
       "      <td>1</td>\n",
       "    </tr>\n",
       "  </tbody>\n",
       "</table>\n",
       "</div>"
      ],
      "text/plain": [
       "   Drug_ID                                               Drug  Y\n",
       "0        0                       CCOc1ccc2nc(S(N)(=O)=O)sc2c1  1\n",
       "1        1  C[C@]12C/C(=C/O)C(=O)C[C@@H]1CC[C@@H]1[C@@H]2C...  1\n",
       "2        2               Cc1nccn1CC1CCc2c(c3ccccc3n2C)C1=O.Cl  1\n",
       "3        3  CC(=O)[C@H]1CC[C@H]2[C@@H]3CC=C4C[C@@H](O)CC[C...  1\n",
       "4        4  C=C1CC[C@@]2(O)[C@H]3Cc4ccc(O)c5c4[C@@]2(CCN3C...  1"
      ]
     },
     "metadata": {},
     "output_type": "display_data"
    },
    {
     "name": "stdout",
     "output_type": "stream",
     "text": [
      "\n",
      "--- VALIDATION SPLIT ---\n",
      "\n",
      "0    141\n",
      "1      7\n",
      "Name: Y, dtype: int64\n",
      "0    0.952703\n",
      "1    0.047297\n",
      "Name: Y, dtype: float64 \n",
      "\n",
      "<class 'pandas.core.frame.DataFrame'>\n",
      "RangeIndex: 148 entries, 0 to 147\n",
      "Data columns (total 3 columns):\n",
      " #   Column   Non-Null Count  Dtype \n",
      "---  ------   --------------  ----- \n",
      " 0   Drug_ID  148 non-null    int64 \n",
      " 1   Drug     148 non-null    object\n",
      " 2   Y        148 non-null    int64 \n",
      "dtypes: int64(2), object(1)\n",
      "memory usage: 3.6+ KB\n",
      "None\n"
     ]
    },
    {
     "data": {
      "text/html": [
       "<div>\n",
       "<style scoped>\n",
       "    .dataframe tbody tr th:only-of-type {\n",
       "        vertical-align: middle;\n",
       "    }\n",
       "\n",
       "    .dataframe tbody tr th {\n",
       "        vertical-align: top;\n",
       "    }\n",
       "\n",
       "    .dataframe thead th {\n",
       "        text-align: right;\n",
       "    }\n",
       "</style>\n",
       "<table border=\"1\" class=\"dataframe\">\n",
       "  <thead>\n",
       "    <tr style=\"text-align: right;\">\n",
       "      <th></th>\n",
       "      <th>Drug_ID</th>\n",
       "      <th>Drug</th>\n",
       "      <th>Y</th>\n",
       "    </tr>\n",
       "  </thead>\n",
       "  <tbody>\n",
       "    <tr>\n",
       "      <th>0</th>\n",
       "      <td>581</td>\n",
       "      <td>CC(=O)OCC(CCn1cnc2cnc(N)nc21)COC(C)=O</td>\n",
       "      <td>0</td>\n",
       "    </tr>\n",
       "    <tr>\n",
       "      <th>1</th>\n",
       "      <td>375</td>\n",
       "      <td>CC(=O)S[C@@H]1CC2=CC(=O)CC[C@]2(C)[C@H]2CC[C@@...</td>\n",
       "      <td>0</td>\n",
       "    </tr>\n",
       "    <tr>\n",
       "      <th>2</th>\n",
       "      <td>703</td>\n",
       "      <td>Nc1nc2c(ncn2CCC(CO)CO)c(=O)[nH]1</td>\n",
       "      <td>0</td>\n",
       "    </tr>\n",
       "    <tr>\n",
       "      <th>3</th>\n",
       "      <td>1039</td>\n",
       "      <td>NC(=O)N1c2ccccc2C=Cc2ccccc21</td>\n",
       "      <td>0</td>\n",
       "    </tr>\n",
       "    <tr>\n",
       "      <th>4</th>\n",
       "      <td>610</td>\n",
       "      <td>O=C(O)CCc1nc(-c2ccccc2)c(-c2ccccc2)o1</td>\n",
       "      <td>0</td>\n",
       "    </tr>\n",
       "  </tbody>\n",
       "</table>\n",
       "</div>"
      ],
      "text/plain": [
       "   Drug_ID                                               Drug  Y\n",
       "0      581              CC(=O)OCC(CCn1cnc2cnc(N)nc21)COC(C)=O  0\n",
       "1      375  CC(=O)S[C@@H]1CC2=CC(=O)CC[C@]2(C)[C@H]2CC[C@@...  0\n",
       "2      703                   Nc1nc2c(ncn2CCC(CO)CO)c(=O)[nH]1  0\n",
       "3     1039                       NC(=O)N1c2ccccc2C=Cc2ccccc21  0\n",
       "4      610              O=C(O)CCc1nc(-c2ccccc2)c(-c2ccccc2)o1  0"
      ]
     },
     "metadata": {},
     "output_type": "display_data"
    },
    {
     "name": "stdout",
     "output_type": "stream",
     "text": [
      "\n",
      "--- TEST SPLIT ---\n",
      "\n",
      "0    278\n",
      "1     19\n",
      "Name: Y, dtype: int64\n",
      "0    0.936027\n",
      "1    0.063973\n",
      "Name: Y, dtype: float64 \n",
      "\n",
      "<class 'pandas.core.frame.DataFrame'>\n",
      "RangeIndex: 297 entries, 0 to 296\n",
      "Data columns (total 3 columns):\n",
      " #   Column   Non-Null Count  Dtype \n",
      "---  ------   --------------  ----- \n",
      " 0   Drug_ID  297 non-null    int64 \n",
      " 1   Drug     297 non-null    object\n",
      " 2   Y        297 non-null    int64 \n",
      "dtypes: int64(2), object(1)\n",
      "memory usage: 7.1+ KB\n",
      "None\n"
     ]
    },
    {
     "data": {
      "text/html": [
       "<div>\n",
       "<style scoped>\n",
       "    .dataframe tbody tr th:only-of-type {\n",
       "        vertical-align: middle;\n",
       "    }\n",
       "\n",
       "    .dataframe tbody tr th {\n",
       "        vertical-align: top;\n",
       "    }\n",
       "\n",
       "    .dataframe thead th {\n",
       "        text-align: right;\n",
       "    }\n",
       "</style>\n",
       "<table border=\"1\" class=\"dataframe\">\n",
       "  <thead>\n",
       "    <tr style=\"text-align: right;\">\n",
       "      <th></th>\n",
       "      <th>Drug_ID</th>\n",
       "      <th>Drug</th>\n",
       "      <th>Y</th>\n",
       "    </tr>\n",
       "  </thead>\n",
       "  <tbody>\n",
       "    <tr>\n",
       "      <th>0</th>\n",
       "      <td>123</td>\n",
       "      <td>CCCCOc1cc(C(=O)NCCN(CC)CC)c2ccccc2n1</td>\n",
       "      <td>0</td>\n",
       "    </tr>\n",
       "    <tr>\n",
       "      <th>1</th>\n",
       "      <td>432</td>\n",
       "      <td>C[C@H](O)[C@H](O)[C@H]1CNc2nc(N)[nH]c(=O)c2N1....</td>\n",
       "      <td>0</td>\n",
       "    </tr>\n",
       "    <tr>\n",
       "      <th>2</th>\n",
       "      <td>1033</td>\n",
       "      <td>CS(=O)(=O)Nc1ccc([N+](=O)[O-])cc1Oc1ccccc1</td>\n",
       "      <td>0</td>\n",
       "    </tr>\n",
       "    <tr>\n",
       "      <th>3</th>\n",
       "      <td>529</td>\n",
       "      <td>CN1CCCCC1CCN1c2ccccc2Sc2ccc(S(C)=O)cc21.O=S(=O...</td>\n",
       "      <td>0</td>\n",
       "    </tr>\n",
       "    <tr>\n",
       "      <th>4</th>\n",
       "      <td>1417</td>\n",
       "      <td>CNCCCC12CCC(c3ccccc31)c1ccccc12.Cl</td>\n",
       "      <td>0</td>\n",
       "    </tr>\n",
       "  </tbody>\n",
       "</table>\n",
       "</div>"
      ],
      "text/plain": [
       "   Drug_ID                                               Drug  Y\n",
       "0      123               CCCCOc1cc(C(=O)NCCN(CC)CC)c2ccccc2n1  0\n",
       "1      432  C[C@H](O)[C@H](O)[C@H]1CNc2nc(N)[nH]c(=O)c2N1....  0\n",
       "2     1033         CS(=O)(=O)Nc1ccc([N+](=O)[O-])cc1Oc1ccccc1  0\n",
       "3      529  CN1CCCCC1CCN1c2ccccc2Sc2ccc(S(C)=O)cc21.O=S(=O...  0\n",
       "4     1417                 CNCCCC12CCC(c3ccccc31)c1ccccc12.Cl  0"
      ]
     },
     "metadata": {},
     "output_type": "display_data"
    },
    {
     "name": "stdout",
     "output_type": "stream",
     "text": [
      "\n",
      "~~~~~ DIAMOND: SARS-CoV-2 3CL Protease, Diamond et al. ~~~~~\n",
      "\n",
      "\n",
      "--- TRAINING SPLIT ---\n",
      "\n",
      "0    568\n",
      "1     48\n",
      "Name: Y, dtype: int64\n",
      "0    0.922078\n",
      "1    0.077922\n",
      "Name: Y, dtype: float64 \n",
      "\n",
      "<class 'pandas.core.frame.DataFrame'>\n",
      "RangeIndex: 616 entries, 0 to 615\n",
      "Data columns (total 3 columns):\n",
      " #   Column   Non-Null Count  Dtype \n",
      "---  ------   --------------  ----- \n",
      " 0   Drug_ID  616 non-null    int64 \n",
      " 1   Drug     616 non-null    object\n",
      " 2   Y        616 non-null    int64 \n",
      "dtypes: int64(2), object(1)\n",
      "memory usage: 14.6+ KB\n",
      "None\n"
     ]
    },
    {
     "data": {
      "text/html": [
       "<div>\n",
       "<style scoped>\n",
       "    .dataframe tbody tr th:only-of-type {\n",
       "        vertical-align: middle;\n",
       "    }\n",
       "\n",
       "    .dataframe tbody tr th {\n",
       "        vertical-align: top;\n",
       "    }\n",
       "\n",
       "    .dataframe thead th {\n",
       "        text-align: right;\n",
       "    }\n",
       "</style>\n",
       "<table border=\"1\" class=\"dataframe\">\n",
       "  <thead>\n",
       "    <tr style=\"text-align: right;\">\n",
       "      <th></th>\n",
       "      <th>Drug_ID</th>\n",
       "      <th>Drug</th>\n",
       "      <th>Y</th>\n",
       "    </tr>\n",
       "  </thead>\n",
       "  <tbody>\n",
       "    <tr>\n",
       "      <th>0</th>\n",
       "      <td>1</td>\n",
       "      <td>CC(=O)NCCc1c[nH]c2ccc(F)cc12</td>\n",
       "      <td>1</td>\n",
       "    </tr>\n",
       "    <tr>\n",
       "      <th>1</th>\n",
       "      <td>2</td>\n",
       "      <td>NC(=O)[C@H]1CCC[C@H]1c1ccsc1</td>\n",
       "      <td>1</td>\n",
       "    </tr>\n",
       "    <tr>\n",
       "      <th>2</th>\n",
       "      <td>3</td>\n",
       "      <td>CN1CCCc2ccc(S(N)(=O)=O)cc21</td>\n",
       "      <td>1</td>\n",
       "    </tr>\n",
       "    <tr>\n",
       "      <th>3</th>\n",
       "      <td>4</td>\n",
       "      <td>CC(=O)Nc1ccc(Oc2ncccn2)cc1</td>\n",
       "      <td>1</td>\n",
       "    </tr>\n",
       "    <tr>\n",
       "      <th>4</th>\n",
       "      <td>6</td>\n",
       "      <td>O=C(CCl)N1CCN(S(=O)(=O)c2ccc(Cl)cc2)CC1</td>\n",
       "      <td>1</td>\n",
       "    </tr>\n",
       "  </tbody>\n",
       "</table>\n",
       "</div>"
      ],
      "text/plain": [
       "   Drug_ID                                     Drug  Y\n",
       "0        1             CC(=O)NCCc1c[nH]c2ccc(F)cc12  1\n",
       "1        2             NC(=O)[C@H]1CCC[C@H]1c1ccsc1  1\n",
       "2        3              CN1CCCc2ccc(S(N)(=O)=O)cc21  1\n",
       "3        4               CC(=O)Nc1ccc(Oc2ncccn2)cc1  1\n",
       "4        6  O=C(CCl)N1CCN(S(=O)(=O)c2ccc(Cl)cc2)CC1  1"
      ]
     },
     "metadata": {},
     "output_type": "display_data"
    },
    {
     "name": "stdout",
     "output_type": "stream",
     "text": [
      "\n",
      "--- VALIDATION SPLIT ---\n",
      "\n",
      "0    78\n",
      "1    10\n",
      "Name: Y, dtype: int64\n",
      "0    0.886364\n",
      "1    0.113636\n",
      "Name: Y, dtype: float64 \n",
      "\n",
      "<class 'pandas.core.frame.DataFrame'>\n",
      "RangeIndex: 88 entries, 0 to 87\n",
      "Data columns (total 3 columns):\n",
      " #   Column   Non-Null Count  Dtype \n",
      "---  ------   --------------  ----- \n",
      " 0   Drug_ID  88 non-null     int64 \n",
      " 1   Drug     88 non-null     object\n",
      " 2   Y        88 non-null     int64 \n",
      "dtypes: int64(2), object(1)\n",
      "memory usage: 2.2+ KB\n",
      "None\n"
     ]
    },
    {
     "data": {
      "text/html": [
       "<div>\n",
       "<style scoped>\n",
       "    .dataframe tbody tr th:only-of-type {\n",
       "        vertical-align: middle;\n",
       "    }\n",
       "\n",
       "    .dataframe tbody tr th {\n",
       "        vertical-align: top;\n",
       "    }\n",
       "\n",
       "    .dataframe thead th {\n",
       "        text-align: right;\n",
       "    }\n",
       "</style>\n",
       "<table border=\"1\" class=\"dataframe\">\n",
       "  <thead>\n",
       "    <tr style=\"text-align: right;\">\n",
       "      <th></th>\n",
       "      <th>Drug_ID</th>\n",
       "      <th>Drug</th>\n",
       "      <th>Y</th>\n",
       "    </tr>\n",
       "  </thead>\n",
       "  <tbody>\n",
       "    <tr>\n",
       "      <th>0</th>\n",
       "      <td>498</td>\n",
       "      <td>CC(=O)NCC1(c2ccccc2)CCOCC1</td>\n",
       "      <td>0</td>\n",
       "    </tr>\n",
       "    <tr>\n",
       "      <th>1</th>\n",
       "      <td>524</td>\n",
       "      <td>Nc1cc(C(F)(F)F)ccc1N1CCCCC1</td>\n",
       "      <td>0</td>\n",
       "    </tr>\n",
       "    <tr>\n",
       "      <th>2</th>\n",
       "      <td>410</td>\n",
       "      <td>Cn1cc(Oc2ncncc2Cl)cn1</td>\n",
       "      <td>0</td>\n",
       "    </tr>\n",
       "    <tr>\n",
       "      <th>3</th>\n",
       "      <td>233</td>\n",
       "      <td>CC1(C(N)=O)CCCN1</td>\n",
       "      <td>0</td>\n",
       "    </tr>\n",
       "    <tr>\n",
       "      <th>4</th>\n",
       "      <td>229</td>\n",
       "      <td>O=C(CCl)N1CCN(Cc2c(F)cccc2Cl)CC1</td>\n",
       "      <td>0</td>\n",
       "    </tr>\n",
       "  </tbody>\n",
       "</table>\n",
       "</div>"
      ],
      "text/plain": [
       "   Drug_ID                              Drug  Y\n",
       "0      498        CC(=O)NCC1(c2ccccc2)CCOCC1  0\n",
       "1      524       Nc1cc(C(F)(F)F)ccc1N1CCCCC1  0\n",
       "2      410             Cn1cc(Oc2ncncc2Cl)cn1  0\n",
       "3      233                  CC1(C(N)=O)CCCN1  0\n",
       "4      229  O=C(CCl)N1CCN(Cc2c(F)cccc2Cl)CC1  0"
      ]
     },
     "metadata": {},
     "output_type": "display_data"
    },
    {
     "name": "stdout",
     "output_type": "stream",
     "text": [
      "\n",
      "--- TEST SPLIT ---\n",
      "\n",
      "0    156\n",
      "1     20\n",
      "Name: Y, dtype: int64\n",
      "0    0.886364\n",
      "1    0.113636\n",
      "Name: Y, dtype: float64 \n",
      "\n",
      "<class 'pandas.core.frame.DataFrame'>\n",
      "RangeIndex: 176 entries, 0 to 175\n",
      "Data columns (total 3 columns):\n",
      " #   Column   Non-Null Count  Dtype \n",
      "---  ------   --------------  ----- \n",
      " 0   Drug_ID  176 non-null    int64 \n",
      " 1   Drug     176 non-null    object\n",
      " 2   Y        176 non-null    int64 \n",
      "dtypes: int64(2), object(1)\n",
      "memory usage: 4.2+ KB\n",
      "None\n"
     ]
    },
    {
     "data": {
      "text/html": [
       "<div>\n",
       "<style scoped>\n",
       "    .dataframe tbody tr th:only-of-type {\n",
       "        vertical-align: middle;\n",
       "    }\n",
       "\n",
       "    .dataframe tbody tr th {\n",
       "        vertical-align: top;\n",
       "    }\n",
       "\n",
       "    .dataframe thead th {\n",
       "        text-align: right;\n",
       "    }\n",
       "</style>\n",
       "<table border=\"1\" class=\"dataframe\">\n",
       "  <thead>\n",
       "    <tr style=\"text-align: right;\">\n",
       "      <th></th>\n",
       "      <th>Drug_ID</th>\n",
       "      <th>Drug</th>\n",
       "      <th>Y</th>\n",
       "    </tr>\n",
       "  </thead>\n",
       "  <tbody>\n",
       "    <tr>\n",
       "      <th>0</th>\n",
       "      <td>331</td>\n",
       "      <td>CCOc1ccc(NC(=O)NC(C)(C)C)cc1</td>\n",
       "      <td>0</td>\n",
       "    </tr>\n",
       "    <tr>\n",
       "      <th>1</th>\n",
       "      <td>247</td>\n",
       "      <td>C[C@H]1CN(C)CC[C@H]1CO</td>\n",
       "      <td>0</td>\n",
       "    </tr>\n",
       "    <tr>\n",
       "      <th>2</th>\n",
       "      <td>790</td>\n",
       "      <td>CC(C)C(=O)N1CCN(C(C)C)CC1</td>\n",
       "      <td>0</td>\n",
       "    </tr>\n",
       "    <tr>\n",
       "      <th>3</th>\n",
       "      <td>316</td>\n",
       "      <td>Cc1ccccc1C(=O)NC1CCN(C(=O)CCl)CC1</td>\n",
       "      <td>0</td>\n",
       "    </tr>\n",
       "    <tr>\n",
       "      <th>4</th>\n",
       "      <td>215</td>\n",
       "      <td>C[C@H]1NCCC[C@H]1C#N</td>\n",
       "      <td>0</td>\n",
       "    </tr>\n",
       "  </tbody>\n",
       "</table>\n",
       "</div>"
      ],
      "text/plain": [
       "   Drug_ID                               Drug  Y\n",
       "0      331       CCOc1ccc(NC(=O)NC(C)(C)C)cc1  0\n",
       "1      247             C[C@H]1CN(C)CC[C@H]1CO  0\n",
       "2      790          CC(C)C(=O)N1CCN(C(C)C)CC1  0\n",
       "3      316  Cc1ccccc1C(=O)NC1CCN(C(=O)CCl)CC1  0\n",
       "4      215               C[C@H]1NCCC[C@H]1C#N  0"
      ]
     },
     "metadata": {},
     "output_type": "display_data"
    }
   ],
   "source": [
    "# Explore data splits.\n",
    "print(\"\\n~~~~~ TOURET: SARS-CoV-2 In Vitro, Touret et al. ~~~~~\\n\")\n",
    "print(\"\\n--- TRAINING SPLIT ---\\n\")\n",
    "print(train_touret.Y.value_counts())\n",
    "print(train_touret.Y.value_counts(normalize = True), \"\\n\")\n",
    "print(train_touret.info())\n",
    "display(train_touret.head())\n",
    "print(\"\\n--- VALIDATION SPLIT ---\\n\")\n",
    "print(val_touret.Y.value_counts())\n",
    "print(val_touret.Y.value_counts(normalize = True), \"\\n\")\n",
    "print(val_touret.info())\n",
    "display(val_touret.head())\n",
    "print(\"\\n--- TEST SPLIT ---\\n\")\n",
    "print(test_touret.Y.value_counts())\n",
    "print(test_touret.Y.value_counts(normalize = True), \"\\n\")\n",
    "print(test_touret.info())\n",
    "display(test_touret.head())\n",
    "\n",
    "# Explore data splits.\n",
    "print(\"\\n~~~~~ DIAMOND: SARS-CoV-2 3CL Protease, Diamond et al. ~~~~~\\n\")\n",
    "print(\"\\n--- TRAINING SPLIT ---\\n\")\n",
    "print(train_diamond.Y.value_counts())\n",
    "print(train_diamond.Y.value_counts(normalize = True), \"\\n\")\n",
    "print(train_diamond.info())\n",
    "display(train_diamond.head())\n",
    "print(\"\\n--- VALIDATION SPLIT ---\\n\")\n",
    "print(val_diamond.Y.value_counts())\n",
    "print(val_diamond.Y.value_counts(normalize = True), \"\\n\")\n",
    "print(val_diamond.info())\n",
    "display(val_diamond.head())\n",
    "print(\"\\n--- TEST SPLIT ---\\n\")\n",
    "print(test_diamond.Y.value_counts())\n",
    "print(test_diamond.Y.value_counts(normalize = True), \"\\n\")\n",
    "print(test_diamond.info())\n",
    "display(test_diamond.head())"
   ]
  },
  {
   "cell_type": "code",
   "execution_count": 8,
   "metadata": {},
   "outputs": [
    {
     "name": "stdout",
     "output_type": "stream",
     "text": [
      "1    166\n",
      "Name: Y, dtype: int64\n",
      "<class 'pandas.core.frame.DataFrame'>\n",
      "Int64Index: 166 entries, 0 to 169\n",
      "Data columns (total 3 columns):\n",
      " #   Column   Non-Null Count  Dtype \n",
      "---  ------   --------------  ----- \n",
      " 0   Drug_ID  166 non-null    int64 \n",
      " 1   Drug     166 non-null    object\n",
      " 2   Y        166 non-null    int64 \n",
      "dtypes: int64(2), object(1)\n",
      "memory usage: 5.2+ KB\n",
      "None\n"
     ]
    },
    {
     "data": {
      "text/html": [
       "<div>\n",
       "<style scoped>\n",
       "    .dataframe tbody tr th:only-of-type {\n",
       "        vertical-align: middle;\n",
       "    }\n",
       "\n",
       "    .dataframe tbody tr th {\n",
       "        vertical-align: top;\n",
       "    }\n",
       "\n",
       "    .dataframe thead th {\n",
       "        text-align: right;\n",
       "    }\n",
       "</style>\n",
       "<table border=\"1\" class=\"dataframe\">\n",
       "  <thead>\n",
       "    <tr style=\"text-align: right;\">\n",
       "      <th></th>\n",
       "      <th>Drug_ID</th>\n",
       "      <th>Drug</th>\n",
       "      <th>Y</th>\n",
       "    </tr>\n",
       "  </thead>\n",
       "  <tbody>\n",
       "    <tr>\n",
       "      <th>0</th>\n",
       "      <td>0</td>\n",
       "      <td>CCOc1ccc2nc(S(N)(=O)=O)sc2c1</td>\n",
       "      <td>1</td>\n",
       "    </tr>\n",
       "    <tr>\n",
       "      <th>1</th>\n",
       "      <td>1</td>\n",
       "      <td>C[C@]12C/C(=C/O)C(=O)C[C@@H]1CC[C@@H]1[C@@H]2C...</td>\n",
       "      <td>1</td>\n",
       "    </tr>\n",
       "    <tr>\n",
       "      <th>2</th>\n",
       "      <td>2</td>\n",
       "      <td>Cc1nccn1CC1CCc2c(c3ccccc3n2C)C1=O.Cl</td>\n",
       "      <td>1</td>\n",
       "    </tr>\n",
       "    <tr>\n",
       "      <th>3</th>\n",
       "      <td>3</td>\n",
       "      <td>CC(=O)[C@H]1CC[C@H]2[C@@H]3CC=C4C[C@@H](O)CC[C...</td>\n",
       "      <td>1</td>\n",
       "    </tr>\n",
       "    <tr>\n",
       "      <th>4</th>\n",
       "      <td>4</td>\n",
       "      <td>C=C1CC[C@@]2(O)[C@H]3Cc4ccc(O)c5c4[C@@]2(CCN3C...</td>\n",
       "      <td>1</td>\n",
       "    </tr>\n",
       "  </tbody>\n",
       "</table>\n",
       "</div>"
      ],
      "text/plain": [
       "   Drug_ID                                               Drug  Y\n",
       "0        0                       CCOc1ccc2nc(S(N)(=O)=O)sc2c1  1\n",
       "1        1  C[C@]12C/C(=C/O)C(=O)C[C@@H]1CC[C@@H]1[C@@H]2C...  1\n",
       "2        2               Cc1nccn1CC1CCc2c(c3ccccc3n2C)C1=O.Cl  1\n",
       "3        3  CC(=O)[C@H]1CC[C@H]2[C@@H]3CC=C4C[C@@H](O)CC[C...  1\n",
       "4        4  C=C1CC[C@@]2(O)[C@H]3Cc4ccc(O)c5c4[C@@]2(CCN3C...  1"
      ]
     },
     "metadata": {},
     "output_type": "display_data"
    },
    {
     "name": "stdout",
     "output_type": "stream",
     "text": [
      "0    2198\n",
      "Name: Y, dtype: int64\n",
      "<class 'pandas.core.frame.DataFrame'>\n",
      "Int64Index: 2198 entries, 62 to 175\n",
      "Data columns (total 3 columns):\n",
      " #   Column   Non-Null Count  Dtype \n",
      "---  ------   --------------  ----- \n",
      " 0   Drug_ID  2198 non-null   int64 \n",
      " 1   Drug     2198 non-null   object\n",
      " 2   Y        2198 non-null   int64 \n",
      "dtypes: int64(2), object(1)\n",
      "memory usage: 68.7+ KB\n",
      "None\n"
     ]
    },
    {
     "data": {
      "text/html": [
       "<div>\n",
       "<style scoped>\n",
       "    .dataframe tbody tr th:only-of-type {\n",
       "        vertical-align: middle;\n",
       "    }\n",
       "\n",
       "    .dataframe tbody tr th {\n",
       "        vertical-align: top;\n",
       "    }\n",
       "\n",
       "    .dataframe thead th {\n",
       "        text-align: right;\n",
       "    }\n",
       "</style>\n",
       "<table border=\"1\" class=\"dataframe\">\n",
       "  <thead>\n",
       "    <tr style=\"text-align: right;\">\n",
       "      <th></th>\n",
       "      <th>Drug_ID</th>\n",
       "      <th>Drug</th>\n",
       "      <th>Y</th>\n",
       "    </tr>\n",
       "  </thead>\n",
       "  <tbody>\n",
       "    <tr>\n",
       "      <th>62</th>\n",
       "      <td>88</td>\n",
       "      <td>CC1=C(/C=C/C(C)=C/C=C/C(C)=C/C(=O)O)C(C)(C)CCC1</td>\n",
       "      <td>0</td>\n",
       "    </tr>\n",
       "    <tr>\n",
       "      <th>63</th>\n",
       "      <td>89</td>\n",
       "      <td>CCC(COC(=O)c1cc(OC)c(OC)c(OC)c1)(c1ccccc1)N(C)C</td>\n",
       "      <td>0</td>\n",
       "    </tr>\n",
       "    <tr>\n",
       "      <th>64</th>\n",
       "      <td>90</td>\n",
       "      <td>Clc1ccc(Nc2nnc(Cc3ccncc3)c3ccccc23)cc1</td>\n",
       "      <td>0</td>\n",
       "    </tr>\n",
       "    <tr>\n",
       "      <th>65</th>\n",
       "      <td>91</td>\n",
       "      <td>CC(C)=CCC1C(=O)N(c2ccccc2)N(c2ccccc2)C1=O</td>\n",
       "      <td>0</td>\n",
       "    </tr>\n",
       "    <tr>\n",
       "      <th>66</th>\n",
       "      <td>92</td>\n",
       "      <td>CCN1CCCC(OC(=O)C(c2ccccc2)c2ccccc2)C1.Cl</td>\n",
       "      <td>0</td>\n",
       "    </tr>\n",
       "  </tbody>\n",
       "</table>\n",
       "</div>"
      ],
      "text/plain": [
       "    Drug_ID                                             Drug  Y\n",
       "62       88  CC1=C(/C=C/C(C)=C/C=C/C(C)=C/C(=O)O)C(C)(C)CCC1  0\n",
       "63       89  CCC(COC(=O)c1cc(OC)c(OC)c(OC)c1)(c1ccccc1)N(C)C  0\n",
       "64       90           Clc1ccc(Nc2nnc(Cc3ccncc3)c3ccccc23)cc1  0\n",
       "65       91        CC(C)=CCC1C(=O)N(c2ccccc2)N(c2ccccc2)C1=O  0\n",
       "66       92         CCN1CCCC(OC(=O)C(c2ccccc2)c2ccccc2)C1.Cl  0"
      ]
     },
     "metadata": {},
     "output_type": "display_data"
    }
   ],
   "source": [
    "# Agreggate all actives.\n",
    "touret_pos = pd.concat([train_touret[train_touret.Y == 1],\n",
    "                        val_touret[val_touret.Y == 1],\n",
    "                        test_touret[test_touret.Y == 1]])\n",
    "\n",
    "diamond_pos = pd.concat([train_diamond[train_diamond.Y == 1],\n",
    "                         val_diamond[val_diamond.Y == 1],\n",
    "                         test_diamond[test_diamond.Y == 1]])\n",
    "df_train_active = pd.concat([touret_pos, diamond_pos])\n",
    "\n",
    "print(df_train_active.Y.value_counts())\n",
    "print(df_train_active.info())\n",
    "display(df_train_active.head())\n",
    "\n",
    "# Agreggate all inactives.\n",
    "touret_neg = pd.concat([train_touret[train_touret.Y == 0],\n",
    "                        val_touret[val_touret.Y == 0],\n",
    "                        test_touret[test_touret.Y == 0]])\n",
    "\n",
    "diamond_neg = pd.concat([train_diamond[train_diamond.Y == 0],\n",
    "                         val_diamond[val_diamond.Y == 0],\n",
    "                         test_diamond[test_diamond.Y == 0]])\n",
    "df_train_inactive = pd.concat([touret_neg, diamond_neg])\n",
    "\n",
    "print(df_train_inactive.Y.value_counts())\n",
    "print(df_train_inactive.info())\n",
    "display(df_train_inactive.head())"
   ]
  },
  {
   "cell_type": "code",
   "execution_count": 9,
   "metadata": {},
   "outputs": [
    {
     "name": "stdout",
     "output_type": "stream",
     "text": [
      "Total training actives: 166\n",
      "Total training inactives: 2198\n",
      "Total generated actives: 1000\n",
      "Total generated inactives: 1000 \n",
      "\n",
      "0                         CCOc1ccc2nc(S(N)(=O)=O)sc2c1\n",
      "1    C[C@]12C/C(=C/O)C(=O)C[C@@H]1CC[C@@H]1[C@@H]2C...\n",
      "2                 Cc1nccn1CC1CCc2c(c3ccccc3n2C)C1=O.Cl\n",
      "3    CC(=O)[C@H]1CC[C@H]2[C@@H]3CC=C4C[C@@H](O)CC[C...\n",
      "4    C=C1CC[C@@]2(O)[C@H]3Cc4ccc(O)c5c4[C@@]2(CCN3C...\n",
      "5                        C=CCOc1ccccc1OCC(O)CNC(C)C.Cl\n",
      "6                       CC(C)=C/C(C)=N/Nc1nncc2ccccc12\n",
      "7    CC[C@H]1OC(=O)[C@H](C)[C@@H](O[C@H]2C[C@@](C)(...\n",
      "8      CC1=C(/C=C/C(C)=C/C=C/C(C)=C\\C(=O)O)C(C)(C)CCC1\n",
      "9    COC(c1ccccc1)(c1ccccc1)[C@H](Oc1nc(C)cc(C)n1)C...\n",
      "Name: Drug, dtype: object\n",
      "0               O=C(CCl)Nc1ccc(O)c(C2C=CS(=O)(=O)C2)c1\n",
      "1    CO[C@@H]1O[C@H](C)C[C@@H](N(C=O)C(C)=Cc2ccc(Nc...\n",
      "2    CC(=O)NC(=O)NCC1=C(C(=O)[O-])N2C(=O)[C@H]([C@H...\n",
      "3    COc1ccc(-c2ccccc2)cc1CO[C@]1(C)C[C@H](C2CCC(O)...\n",
      "4                              Cc1ncc(NCn2cccn2)c(N)n1\n",
      "5            C=C[C@H]1CN2CC[C@H]1C[C@@H]2NCc1ccc(F)cc1\n",
      "6    O=C(CCl)N1CCC(N2CCC(CC(O)(P(=O)(O)O)P(=O)(O)O)...\n",
      "7                        NS(=O)(=O)c1ccc(-c2ccccc2)cc1\n",
      "8                                      c1ccc(C2CC2)cc1\n",
      "9                                                [Na+]\n",
      "Name: SMILES, dtype: object\n"
     ]
    }
   ],
   "source": [
    "# Extract SMILES for training and generated data.\n",
    "actives_train = df_train_active[\"Drug\"]\n",
    "inactives_train = df_train_inactive[\"Drug\"]\n",
    "actives_gen = df_active[\"SMILES\"]\n",
    "inactives_gen = df_inactive[\"SMILES\"]\n",
    "\n",
    "print(\"Total training actives:\", len(actives_train))\n",
    "print(\"Total training inactives:\", len(inactives_train))\n",
    "print(\"Total generated actives:\", len(actives_gen))\n",
    "print(\"Total generated inactives:\", len(inactives_gen), \"\\n\")\n",
    "print(actives_train[:10])\n",
    "print(actives_gen[:10])"
   ]
  },
  {
   "cell_type": "markdown",
   "metadata": {},
   "source": [
    "## Filter molecules\n",
    "\n",
    ">Function Description: This function identifies and removes typical not drug-like molecules (false positives) using various types of filters curated by Patrick Walters. This is a wrapper around his rd_filters GitHub package. Also checkout his blog post for more info. You can specify the rules for the filters. For example, specify what kinds of structure alerts to use and also the range for some properties. (https://tdcommons.ai/functions/data_process/#molecule-filters)[https://tdcommons.ai/functions/data_process/#molecule-filters]"
   ]
  },
  {
   "cell_type": "code",
   "execution_count": 10,
   "metadata": {},
   "outputs": [
    {
     "name": "stdout",
     "output_type": "stream",
     "text": [
      "Total grammatical actives: 1000\n",
      "Total ungrammatical actives: 0\n",
      "Percent ungrammatical actives: 1.0\n",
      "-------------------------------------------\n",
      "Total grammatical inactives: 1000\n",
      "Total ungrammatical inactives: 0\n",
      "Percent ungrammatical inactives: 1.0\n"
     ]
    }
   ],
   "source": [
    "# Remove molecules without matching parantheses.\n",
    "# Note that this step is not enough to demonstrate valid SMILES syntax.\n",
    "actives_grammatical = remove_ungrammatical(actives_gen)\n",
    "inactives_grammatical = remove_ungrammatical(inactives_gen)\n",
    "\n",
    "print(\"Total grammatical actives:\", len(actives_grammatical))\n",
    "print(\"Total ungrammatical actives:\", len(actives_gen) - len(actives_grammatical))\n",
    "print(\"Percent ungrammatical actives:\", len(actives_grammatical) / len(actives_gen))\n",
    "print(\"-------------------------------------------\")\n",
    "print(\"Total grammatical inactives:\", len(inactives_grammatical))\n",
    "print(\"Total ungrammatical inactives:\", len(inactives_gen) - len(inactives_grammatical))\n",
    "print(\"Percent ungrammatical inactives:\", len(inactives_grammatical) / len(inactives_gen))"
   ]
  },
  {
   "cell_type": "code",
   "execution_count": 11,
   "metadata": {},
   "outputs": [],
   "source": [
    "MolFilter?"
   ]
  },
  {
   "cell_type": "code",
   "execution_count": 12,
   "metadata": {},
   "outputs": [
    {
     "name": "stderr",
     "output_type": "stream",
     "text": [
      "MolFilter is using the following filters:\n",
      "HBA: [0, 10]\n",
      "HBD: [0, 5]\n",
      "LogP: [-5, 5]\n",
      "MW: [0, 500]\n",
      "Rot: [0, 10]\n",
      "Rule_BMS: True\n",
      "Rule_Dundee: True\n",
      "Rule_Glaxo: True\n",
      "Rule_Inpharmatica: True\n",
      "Rule_LINT: True\n",
      "Rule_MLSMR: True\n",
      "Rule_PAINS: True\n",
      "Rule_SureChEMBL: True\n",
      "TPSA: [0, 200]\n"
     ]
    }
   ],
   "source": [
    "# Init TDC filter.\n",
    "filters = MolFilter()"
   ]
  },
  {
   "cell_type": "markdown",
   "metadata": {},
   "source": [
    "### Actives"
   ]
  },
  {
   "cell_type": "code",
   "execution_count": 13,
   "metadata": {},
   "outputs": [],
   "source": [
    "# Filter active de novo molecules.\n",
    "actives_gen_filtered = filters(actives_grammatical)"
   ]
  },
  {
   "cell_type": "code",
   "execution_count": 14,
   "metadata": {},
   "outputs": [
    {
     "name": "stdout",
     "output_type": "stream",
     "text": [
      "Total active de novos post-filtering: 330\n",
      "-------------------------------------------\n",
      "['COc1ccc(-c2ccccc2)cc1CO[C@]1(C)C[C@H](C2CCC(O)CC2)O[C@@H](C)[C@@H]1O'\n",
      " 'NS(=O)(=O)c1ccc(-c2ccccc2)cc1' 'c1ccc(C2CC2)cc1' '[Na+]'\n",
      " 'c1ccc(CSc2ccccc2)cc1' 'CCN1CCC(N(C)C)CC1' 'Clc1ccc(CCN2CCCCCC2)s1'\n",
      " 'CN1CCCCC(c2ccccc2)(c2ncccn2)C1'\n",
      " 'CC1OC(N[C@H](C)CCc2ccc3c(c2)OCO3)CC(C)(O)C1O'\n",
      " 'c1ccc(C(CCNC2CCCN(c3ccccc3)C2)n2ccnc2)cc1' 'O=C(c1ccccc1)N1CCCCC1'\n",
      " 'CN1CCN2c3ncccc3Cc3ccccc3C2C1' 'O[C@@H](COc1ccccc1)c1ccccc1'\n",
      " 'Oc1cccc(Cc2ccccc2)c1' 'CN(C)C(=O)c1c[nH]c2ccc(F)cc12' 'CN(C)Cc1ccccc1'\n",
      " 'O' 'Cl' 'Cl' 'c1ccc(CCN2CCCCC2)nc1' 'COCCN1CCC(C(C)(C)O)CC1' 'Cl'\n",
      " 'Cc1ccc(C2(OC(C)(C)C)CCCCN(C)C2)cc1' 'CCNCc1ccc(C#N)cc1' 'Cl'\n",
      " 'CCNc1ccc(C)cc1' 'Cl' 'CCOc1ccc(Cl)cc1'\n",
      " 'Cc1ccc(-c2ccc(Cc3cccc(CCN)c3)cc2)cc1' 'C[C@H](CCc1ccsc1)OC1CC1'\n",
      " 'O=C(O)C1CCCCC1' 'CN1CCC[C@@H]1Nc1ccnc2cc(Cl)ccc12'\n",
      " 'CC1CN(Cc2ccccc2)CCO1' 'CC(CCc1ccc(Cl)cc1)NCc1ccccc1'\n",
      " 'CSc1c(CNc2ncccn2)ncnc1N1Cc2ccccc2C(c2ccccc2)C1' 'CNC(=O)Cc1c(C)cccc1C'\n",
      " 'O=C(Nc1cccc2ccccc12)c1ccccc1' 'COCCN1CCOCC1' 'O=S1(=O)CC(O)C1'\n",
      " 'NS(=O)(=O)c1ccc(-c2c[nH]c3ncccc23)cc1' 'CN(C)Cc1ccc(-c2ccsc2)cc1'\n",
      " 'CN(C)c1ccc(-c2nc3ccccc3[nH]2)cc1' 'CN1CCN(c2ccccc2)CC1' 'Cl'\n",
      " 'COc1ccccc1N1CCCCC1' 'CNC(C)C(O)c1ccc(O)c(-c2cccc(F)c2)c1' 'Cl'\n",
      " 'Clc1cccc(COC2CCCCC2)c1' 'COc1ccc(Nc2nn[nH]n2)cc1' 'Cl' 'Oc1ccccn1'\n",
      " 'N#Cc1ccc(N(c2ccc(O)c(-c3ccc(CNCC(=O)O)cc3)c2)c2ccco2)nc1' 'Cl'\n",
      " 'COc1ccccc1' 'Cl' 'CC(C)Nc1ccnc2cc(Cl)ccc12' 'Cl'\n",
      " 'CC1CN(c2cccc(-c3cc(C(=O)N4CCCCC4)ccc3O)c2)CCO1'\n",
      " 'Clc1ccc2c(OCc3ccccc3)ccnc2c1'\n",
      " 'CC1OC(c2ccc([C@@H]3C[C@@H](C)O[C@@H](CN(C)C)[C@@H]3O)cc2)CCC1CO' 'Cl'\n",
      " 'O=C1CCCN1c1ccccc1' 'Fc1ccc(N2CCN(CCCN3CCCC3)CC2)cc1' 'Cl'\n",
      " 'COc1sc(C)nc1CNc1cccc(F)c1'\n",
      " 'CS(=O)(=O)CC1CN(C[C@@H](O)c2nc3ccccc3[nH]2)CCO1' 'Cl' 'Cl'\n",
      " 'C1CCCN(CCCN2CCCOCC2)CC1' 'COCc1ccc2c(c1)OCO2' 'Cl' 'COCC1CCN(C(C)C)CC1'\n",
      " 'CN(C)CCc1cccc2ccccc12' 'Cl' 'CCc1ccc(OC)cc1' 'O[C@H](CN1CCOCC1)c1ccccc1'\n",
      " 'CC(C)NC(=O)C(C)(C)C' 'COCCN(C)C' 'Fc1ccc(CN2CCC(c3ccccc3)CC2)cc1'\n",
      " 'CN(C)C(=O)c1ccc(-c2cccc3ccccc23)cc1'\n",
      " 'CC(=O)N1CCN(C[C@H](O)[C@@H]2CCCO2)CC1'\n",
      " 'C[C@H]1CN(c2ccccc2CNc2ccccc2)C[C@@H](C)N1' 'Cl' 'CNCC(O)COc1ccccn1'\n",
      " 'CCN1CCN(C2C(C)OC(c3ccc(F)cc3)C(O)C2OC[C@H]2CCCN2C)CC1'\n",
      " 'COC1CCCN(C(=O)C2(C(C)(C)O)CCCC2)C1' 'Oc1ccccn1'\n",
      " 'O=S(=O)(CCn1ccnc1)c1ccccc1' 'Cc1ccncc1CC(=O)N1CCOCC1' 'Cl'\n",
      " 'CN1CCN(C(=O)C(Cc2ccc(-c3ccnc4cc(Cl)ccc34)cc2)N2CCCCC2)CC1'\n",
      " 'Cc1ccc(CNC(=O)C(C)(C)C)cc1' 'CC1OC(c2ccc(F)cc2)CCC1c1ccccc1'\n",
      " 'COC1CCN(C(C)=O)CC1' 'O=C(Cc1c[nH]c2ccc(F)cc12)Nc1ccc(Cl)cc1'\n",
      " 'CCC(=O)Nc1ccc2nccc(C3CC3)c2c1' 'CN(C)c1ccccc1F' 'O=C(Nc1ccccc1)c1cccs1'\n",
      " 'CC(N(C)C)C1(O)CCCC1' 'CCNCc1ccc(C#N)nc1' 'CN1CCN2c3ncccc3Cc3ccccc3C2C1'\n",
      " 'Cl' 'CC(C)N1CCN(c2ccc(N3CCN(c4ccc(C#N)cn4)CC3)cc2)CC1' 'Cl' 'O' 'Cl'\n",
      " 'CCNC(C)C(O)[C@H]1C[C@@H](C2CCCCC2)CN1c1ccsc1' 'Cl' 'Cl'\n",
      " 'C[C@H](O)[C@H](C(=O)N1CCN(C)CC1)N1CCC(c2ccccc2O)CC1'\n",
      " 'CC(c1ccccc1)N1CCN(c2ccccc2O)CC1'\n",
      " 'CCN1C[C@H](C2CCCCC2)C[C@@H]1C[C@H](C)OC' 'C1CN(C2CC2)CCO1'\n",
      " 'CC(=O)N1CCN(C(C)C)CC1' 'CC(C)NCc1ccc(F)cc1' 'COCc1ccccn1'\n",
      " 'CN(C)CCN1CCC(N(C)C)CC1' 'OC(CNc1ccccc1)COc1ccccc1' 'OCCOc1ccccc1'\n",
      " 'CCC(=O)N1CCN(c2ccccc2)CC1' 'Cl' 'CCNC(=O)N1CCN([C@H]2CCC[C@@H]2CO)CC1'\n",
      " 'Cc1cc(C)nc(-c2cc(C(=O)N(C)C)ccc2N2CCSCC2)n1'\n",
      " 'COc1c(Cc2cccc3ccccc23)nn2ccccc12' 'COC1CCN(c2c[nH]c3ccc(F)cc23)CC1' 'Cl'\n",
      " 'Cl' 'Oc1ccccn1' 'COCc1ccc(C)cc1'\n",
      " 'c1ccc(N2CCCC(N3CCN(Cc4ccsc4)CC3)C2)cc1' 'COCc1ccccc1CCOc1ccncc1' 'Cl'\n",
      " 'c1ccc(-c2nc3ccccc3s2)cc1' 'c1ccc(CN2CCCCCC2)nc1'\n",
      " 'CN(C)C(C)(C)CN[C@@H]1CCCO1' 'CCN1CNC(=O)C12CCN(C1CCN(c3ccccc3C)CC1)CC2'\n",
      " 'O=C(O)c1ccc(NC(=O)c2ncccn2)cc1' 'COCC(=O)O' 'Cc1cccc(NC(=O)c2nnnn2C)c1'\n",
      " 'Cl' 'O=S(=O)(CCc1ccccc1)c1ccccc1' 'COC[C@@H]1CCCO1' 'COc1ccsc1'\n",
      " 'c1cc(Nc2ccc3c(c2)OCO3)ccn1' 'c1ccc(Cc2ccccc2)cc1' 'Cl' 'Cl' 'O' 'Cl'\n",
      " 'OC1(c2nn[nH]n2)CCCC1' 'CC(C)N1CCOCC1' 'c1ccc(Nc2ccccc2)cc1'\n",
      " 'C[C@@H]1O[C@@H](N2CCCCC2)C[C@@](C)(Cc2cccc(Cl)c2)[C@H]1O' 'CCCOc1ccccc1'\n",
      " 'c1ccc(NCCN2CCCOCC2)cc1' 'Fc1cccc(Nc2ccccc2)c1'\n",
      " 'COCC(O)CN1CCN(c2ccc3nc(S(N)(=O)=O)sc3c2)CC1' 'c1ccc(NC2CCCCC2)cc1'\n",
      " 'COc1ccccc1N(C)C' 'CCNCC1CN([C@@H]2CCCO2)CCO1' 'C[C@@H](Cc1ccccc1)N(C)C'\n",
      " 'Cl' 'O=C(NCc1nc2ccccc2[nH]1)c1ccccc1'\n",
      " 'CC1OC(c2ccc(S(N)(=O)=O)cc2)CCC1Oc1ccccn1' 'COC1CCN(C(=O)c2ncccn2)CC1'\n",
      " 'CO[C@@H]1C[C@@H](C)O[C@@H](C(=O)O)[C@@H]1O' 'CC(C)OCc1ccc(-c2ccsc2)cc1'\n",
      " 'CC1CN(Cc2ccccn2)CCO1' 'Cl' 'O' 'CC(=O)N1CCC(c2ccc(C#N)cc2)CC1' 'Cl'\n",
      " 'CO[C@@H](C)Cc1ccccc1' 'Cn1nnnc1-n1c(CC2CCC(O)CC2)nc2ccccc21'\n",
      " 'Cc1ccccc1NC(=O)N(C)C' 'CCC(=O)N1CCC(c2ccc(-c3ccccc3)cc2)CC1'\n",
      " 'O=C(c1ccccc1-c1ccc(N2CCNCC2)cc1)N1CCC(c2ccccc2)CC1'\n",
      " 'c1cnc2[nH]cc([C@@H]3CCCO3)c2c1' 'O=S1(=O)CC(O)C1' 'Cl'\n",
      " 'CC(=O)N1CCN(c2cccc(F)c2)CC1' 'Clc1cccc(NCc2ccccc2)c1'\n",
      " 'CC1OC(Cc2ccc(C#N)cn2)CCC1c1ccccc1O' 'CCNC(=O)CN1CCN(C(C)C)CC1' 'Cl'\n",
      " 'N[C@@H]1CONC1=O' 'c1ccc2c(c1)OCC(C1=NCCN1)O2' 'Cl'\n",
      " 'c1ccc([C@@H]2CCCO2)cc1' 'CN(C)C(=O)Cc1ccccc1' 'CN(C)C(=O)CN1CCCC1'\n",
      " 'CO[C@H](C)CCc1ccnc2ccc(-c3nc(C)cc(C)n3)cc12' 'NC(=O)c1ccc(O)cc1'\n",
      " 'COc1ncnc(-c2ccc(S(N)(=O)=O)cc2)c1-c1cccnc1'\n",
      " 'CC(C)Nc1ccc(Nc2ccc(C#N)cc2)cc1'\n",
      " 'O=C(Cc1ccc(C(=O)O)c(-c2ccccc2)c1)NCC(=O)N1CCCC1=O' 'OCc1nc2ccccc2[nH]1'\n",
      " 'CC(=O)N1CCC(Nc2nc3ccccc3[nH]2)CC1' 'c1ccc(CNc2ccccc2)cc1'\n",
      " 'CC1C(O)CCCN1C(=O)CCN1CCSCC1' 'c1ccc(-c2ccc(Nc3ccccn3)cc2)cc1'\n",
      " 'c1ccc(N2CCN(c3ccccn3)CC2)cc1' 'CN1CCCCC(Oc2nc3ccccc3[nH]2)(c2ccccc2)C1'\n",
      " 'CCCc1ccc(OCc2ccc3c(c2)OCO3)cc1' 'COCC1(c2nc3ccccc3s2)CCCC1'\n",
      " 'c1ccc(N2CCC(c3cccs3)CC2)cc1'\n",
      " 'CC(C(O)c1cc(CC(=O)N2CCCC2)ccc1O)N1CCN(C)CC1'\n",
      " 'C[C@@H]1O[C@@H]([C@@H]2C[C@@H](C)O[C@@H](CNC(=O)c3ccncc3)[C@@H]2O)C[C@@](C)(CN(C)C)[C@H]1O'\n",
      " 'CCc1ccc2cc(C(=O)O)ccc2c1' 'CN(C)c1ccccc1CC(C)(C)N'\n",
      " 'O=C(c1ccccc1)N1CCN(CCc2nc3ccccc3n2-c2ccc(O)c(-n3ccnc3)c2)CC1' 'Cl' 'Cl'\n",
      " 'Cl' 'CN(C)Cc1ccc(C#N)cc1' 'Oc1ccc(COc2cccc(Cl)c2)cc1'\n",
      " 'CC(=O)NC1CCN(Cc2ccccc2)CC1' 'Cl' 'COCCN1CCN(c2cccc(Cl)c2)CC1'\n",
      " 'CCCN1CCN(c2ccccc2O)CC1'\n",
      " 'CC(C)N1CCN(C(=O)C2CCN(C3CCN(c4ccccc4)CC3)CC2)CC1'\n",
      " 'COCc1ccc(N2CCSCC2)cc1' 'CCOCc1c[nH]c2ccc(F)cc12'\n",
      " 'CCNC1CCN(C2CCC(O)CC2)CC1' 'Cc1cc(C)nc(NC(=O)Cc2ccc(Nc3ccccc3)cc2)n1'\n",
      " 'CCOC' 'CCN1CCCN(c2ccccc2OC)CC1' 'Cl' 'CC(=O)N1CCN(Cc2ccn(C)n2)CC1' 'Cl'\n",
      " 'NCCc1ccccc1C1CC1' 'O=C(O)c1cc(NC2CCC(O)CC2)cn1S(=O)(=O)c1cccnc1' 'Cl'\n",
      " 'Cc1ccccc1CCOc1ccccc1' 'CC(=O)Nc1ccccc1' 'c1ccc(C2(c3ccccc3)CCCC2)cc1'\n",
      " 'CC1CN(CC2(CN3CCC(c4cccc(O)c4)CC3)CCCC2)CCO1' 'N[C@@H]1CONC1=O'\n",
      " 'COC[C@@H](O)c1cccc(Cl)c1' 'Cl' 'Cc1nccn1COc1cn(C)nn1' 'CCN1CCOCC1'\n",
      " 'COCc1cccnc1' 'O=C(NC1CCCO1)c1ccc2c(c1)OCO2' 'COCC(O)c1ccc(F)cc1F'\n",
      " 'C[C@@H]1C[C@@H](c2ccc(C(N)=O)cc2)[C@@H](O)[C@H](N2CCCC2)O1' 'Cl'\n",
      " 'O=C(NC1CCCCC1)c1ccccc1' 'CCN(C)C' 'CC(CCc1ccccc1O)N1CCN(c2cccs2)CC1'\n",
      " 'COCc1ccc(O)cc1' 'Cc1ccc(C(=O)N(C)Cc2cccnc2)cc1' 'Cl'\n",
      " 'CCN1CCC2(CC1)C(=O)NCN2C(=O)Nc1ccc(C#N)cn1' 'Cl' 'CCC(=O)N1CCOC(CC)C1'\n",
      " 'Cl' 'COc1c[nH]c2ccc(C(N)=O)cc12' 'Cl' 'Cl'\n",
      " 'CN1CCCCC(C(=O)N2CCOCC2)(c2ccsc2)C1'\n",
      " 'COc1cccc(Nc2ccc3nc(S(N)(=O)=O)sc3c2)c1'\n",
      " 'CN1CCN(C(=O)Cc2cccc3ccccc23)CC1' 'COc1ccc(C)cc1'\n",
      " 'CC(C)N1CCN(Cc2ccc(Cl)cc2)CC1' 'O=C(Nc1nc2ccccc2[nH]1)c1ccc(O)cc1'\n",
      " 'Oc1cccc(CN2CCOC(CNc3ccccc3)C2)c1' 'CCN1CCCCC1' 'Cl'\n",
      " 'CC(=O)N1CCC(c2cccnc2)CC1' 'Cc1nccn1-c1cc(-c2ccccc2)ccc1C(N)=O'\n",
      " 'Cc1cccc(OC(C)(C)CNC(C)c2nc3ccccc3[nH]2)c1' 'CCCOc1ccccc1'\n",
      " 'CN1CCN(C(=O)[C@@H](CN2CCCC2)Nc2ccccc2N2CCOCC2)CC1'\n",
      " 'OC1CCN(c2ccc(-c3ccccn3)cc2)CC1' 'CC(=O)NCCc1ccc(F)cc1F' 'CCNc1ccsc1'\n",
      " 'CC(=O)NCc1cn(C)nn1' 'Clc1cccc(N2CCC(c3nc4ccccc4[nH]3)CC2)c1' 'Cl'\n",
      " 'c1ccc(OCCc2ccco2)cc1' 'CCOc1cccc(C(=O)O)c1'\n",
      " 'Fc1ccccc1[C@H]1CCC[C@@H]1Nc1ccccc1' '[Na+]' 'COCc1ccc(-c2ccco2)cc1'\n",
      " 'Cc1ccccc1Nc1ccccc1N1CCN(c2nn[nH]n2)CC1' 'Cl'\n",
      " 'COc1ccc(CC(OC)C(=O)N2CCCCC2)cc1' 'O=C(O)CN(c1ccc(Nc2ccccc2)cc1)c1ccccn1'\n",
      " 'Cl' 'COCC(O)CNc1ccsc1' 'c1ccc(Oc2ccccc2)cc1'\n",
      " 'Cc1nc(OC(C)(C)C)c(-c2ccc(F)cc2F)s1' 'COc1ccccc1'\n",
      " 'Cc1cccc(C)c1C(O)c1nc2cccc(-c3ccccc3)c2n1CN1CCN(C)CC1' 'O=S1(=O)CC(O)C1'\n",
      " 'Cn1ccc(NCc2ncccn2)n1' 'Cl' 'OCCN1CCCOCC1' 'Cl' 'CC(C)Oc1nn[nH]n1'\n",
      " '[Na+]' 'CCCc1cccc(CN2CCN(c3ccccc3)CC2)c1' 'CN1CCN2c3ncccc3Cc3ccccc3C2C1'\n",
      " 'CCc1ccc(Cl)cc1' 'Cc1cccc(C)c1NCC(=O)O'\n",
      " 'CC1OC(CN2CCC(N3CCN(c4cc(CCN)ccc4O)CC3)CC2)CC(C)(O)C1O'\n",
      " 'Cc1cccc(Nc2ccccc2)c1' 'CN(C)c1ccc(S(N)(=O)=O)cc1'\n",
      " 'Clc1ccc2c(Cc3ccccc3)ccnc2c1' 'Cc1ccc(CC[C@@H](C)Oc2ccccn2)cc1' 'Cl'\n",
      " 'CN1CCN(C(=O)Nc2nc3ccccc3[nH]2)CC1' 'COCc1ccccc1OC' 'CO[C@@H](C)Cc1cccs1'\n",
      " 'O=C(c1ccnc2cc(Cl)ccc12)N1CCSCC1' 'Cl' 'CCc1cccc(OC)c1'\n",
      " 'c1cncc(Oc2cccc3ccccc23)c1' 'COCc1ccc(F)cc1'\n",
      " 'O[C@@H](CNc1ccccc1F)c1ccccc1' 'Cl' 'CC(c1cccnc1)N(C)C'\n",
      " 'CC[C@H]1CCC[C@@H]1CCN1CCCCC1' 'Cl' 'OCCOc1cccc2sc(-c3ccccc3)nc12'\n",
      " 'CC1CN(Cc2ccsc2)CCO1' 'O=C(c1ccccc1)N1CCN(c2cccc3ccccc23)CC1'\n",
      " 'Cc1ccncc1CCN1CCN(C(=O)[C@@H](O)c2ccccc2)CC1' 'Cl']\n"
     ]
    }
   ],
   "source": [
    "# View filtered molecules.\n",
    "print(\"Total active de novos post-filtering:\", len(actives_gen_filtered)) \n",
    "print(\"-------------------------------------------\")\n",
    "print(actives_gen_filtered)"
   ]
  },
  {
   "cell_type": "markdown",
   "metadata": {},
   "source": [
    "### Inactives"
   ]
  },
  {
   "cell_type": "code",
   "execution_count": 15,
   "metadata": {},
   "outputs": [],
   "source": [
    "# Filter inactive de novo molecules.\n",
    "inactives_gen_filtered = filters(inactives_grammatical)"
   ]
  },
  {
   "cell_type": "code",
   "execution_count": 16,
   "metadata": {},
   "outputs": [
    {
     "name": "stdout",
     "output_type": "stream",
     "text": [
      "Total inactive de novos post-filtering: 355\n",
      "-------------------------------------------\n",
      "['Cc1ccc(Cn2c(=O)[nH]c3cc(Cl)ccc32)cc1' 'Cc1cc(N(C)C)no1' '[Na+]'\n",
      " 'CN1CCN(C(=O)NC2CC2)CC1'\n",
      " 'CC(C(=O)O)[C@H]1[C@@H](O)[C@H](O)[C@@H](O)CN1CCc1ccccc1'\n",
      " 'CCOc1ncnc2nc[nH]c12' 'CN(C)CCc1cc(Cl)cc2c1OCC(=O)N2C' '[Br-]'\n",
      " 'Cc1noc(Nc2ccccc2)n1' 'NC(=O)N(c1ccccc1)c1ccccc1F'\n",
      " 'Fc1ccc(N2CCN(c3ccccc3Cl)CC2)c(F)c1' 'CN1CCC(NCC2CCN(CCO)CC2)CC1'\n",
      " 'COC(C)C' 'NCC(=O)N1CCCCCC1' 'COc1ccnc(CNC(=O)c2ccc(F)cc2)n1' 'O'\n",
      " 'O=c1cccn[nH]1' 'O=C(O)CN1C(=O)[C@@H](NCC2=NCCN2)CCc2ccccc21'\n",
      " 'O=C(O)Cc1ccc2c(c1)OCO2' 'CCOc1c(Cl)nc(-c2cnn(C)c2)n1C1CCNCC1'\n",
      " 'CNc1cccc(-n2nnnc2-c2ccccc2)c1'\n",
      " 'CS(=O)(=O)c1ccc(N2CCC(c3cccc4c3CCC(=O)N4)CC2)cc1'\n",
      " 'COCC(O)COc1cccc2c1CCC(=O)N2' 'CNCCN1c2ccccc2CCc2ccccc21'\n",
      " 'CCCNc1cc2[nH]nnc2cc1-c1ccc(N2C[C@H](O)C[C@@H]2CN)cc1'\n",
      " 'CC(=O)N1Cc2ccccc2C[C@@H]1Nc1ccc2c(c1)OCO2' 'c1ccc(-c2cccs2)cc1'\n",
      " 'O=C(NC1CCN(C(=O)c2ccc(O)cc2)CC1)C1CCCN1' 'COc1cc(C#N)c(=O)[nH]c1C'\n",
      " 'C[C@H]1C[C@H](NCCN2CCC(Oc3ccccc3)CC2)c2cc(S(N)(=O)=O)sc2S1(=O)=O'\n",
      " 'CC=Cc1cc(C)n(CN)c1C' 'Cl' 'CCOC' 'Cl'\n",
      " 'CCN(C)c1ccc(Nc2nnc(-c3ccccc3)s2)cc1' 'c1ccc(-c2ccc(Nc3ccco3)cc2)cc1'\n",
      " 'Cl' 'CC(C(=O)O)C1CCN(c2ccccc2F)CC1' 'Br' 'Clc1ccc(-c2ccncc2)c(Cl)c1'\n",
      " 'CN1CCN(C(=O)N(C)C)CC1' 'CCOc1ccc(C2CCNC2)n1C' 'CC(C)Oc1ccc(Cl)cc1Cl'\n",
      " 'C[C@H](O)C(=O)NCc1ccccc1' 'Cl' 'Oc1ccccc1-c1cnc(-c2ccccc2Cl)s1'\n",
      " 'CN(C)C(=O)N1c2ccccc2Sc2ccc(Cl)cc21' 'COC1CSCN1'\n",
      " 'CC1CN(c2ccc(-c3ccccc3)cc2)CCN1' 'Cl' 'COCn1cccc1' 'CC(C)c1ccc(F)cc1'\n",
      " 'CN1CC[C@@]2(C)c3cc(Oc4ccccc4)ccc3N(C)[C@@H]12' 'Clc1ccc(NCc2ccccc2)cc1'\n",
      " 'O=C(Nc1ccc(-c2ccc(-c3ccccn3)cc2)cc1)NC1CC1' 'OCc1ccccc1'\n",
      " 'CN(C)c1ccc2[nH]ccc2c1' 'c1n[nH]cc1CC1=NCCN1' 'O'\n",
      " 'O=C(O)Cc1ccccc1Oc1ccccc1' 'CCNc1ccc2nc(C(=O)[O-])[nH]c2c1'\n",
      " 'CNc1ccc(C)cc1' 'COc1cc(C)c(Cc2ccccc2)nn1'\n",
      " 'CC(=O)NCc1cn(-c2ccccc2)c2c(F)c(C3(c4ccco4)CCOCC3)c(F)cc2c1=O'\n",
      " 'c1ccc(CNc2ccc3ccccc3n2)cc1' 'CCNc1ccc(C(=O)O)cc1' 'CCOCC' 'CCc1cccnc1'\n",
      " 'Cn1nnc(NC2=NCCN2)n1' 'Cc1nc(-c2ccc(Cl)cc2)cs1' 'CC(=O)N(C)C1(C)CCCCN1'\n",
      " 'Clc1ccc(Oc2ccc(Cl)cc2)cc1' 'Fc1ccc(-c2ccccc2)cc1' 'CCN(C)C(C)=O'\n",
      " 'CCOc1ccc(O)c2[nH]c(=O)ccc12' 'Cc1cccc(C)c1-c1ccccc1' 'c1ccc(NC2CC2)cc1'\n",
      " 'O' 'COCc1cc(C)n[nH]1' 'CC1(Oc2ccccc2)CCCN1' 'Cc1csc(-c2ccc(F)cc2)n1'\n",
      " 'CC(=O)Nc1nc2ccccc2[nH]1' 'c1ccc(Oc2ncccn2)cc1' 'CC(C)N(C)C'\n",
      " 'C[C@@H]1O[C@@H](CN2CCCCC2)C[C@@](C)(O)[C@H]1O' 'Cc1nc(C)c(CO)s1' 'Cl'\n",
      " 'COCc1cc(OC)ccc1[C@]1(C)C[C@H](C2CCN(c3nnc(C)s3)C2=O)O[C@@H](C)[C@@H]1O'\n",
      " 'COc1cccc(Cl)c1C' 'Cn1ncc(Cl)c1OCC(=O)O' 'CC(C)CC1CCCO1'\n",
      " 'CC(=O)Nc1ccc(Cl)cc1'\n",
      " 'CO[C@H]1[C@@H](N)C[C@H](c2ccc(Cl)cc2)[C@H](NC(=O)c2ccccc2C#N)[C@H]1O'\n",
      " 'O=C(O)c1cscn1' 'CCO[C@H]1CCCN1C(=O)c1ccccc1Cl'\n",
      " 'COCc1ccc(N2[C@H]3CC[C@@H]2Cc2ncccc23)cc1' 'CN(C)c1ccc(Cl)cc1' 'Cl'\n",
      " 'CN[C@@H]1C[C@H]1N' 'c1ccc(Nc2ccccc2)cc1'\n",
      " 'N#Cc1ccc(C(=O)N2CCC(Nc3ccccc3)CC2)cc1'\n",
      " 'Cn1cc(N[C@H]2[C@@H](N)C[C@@H](N)[C@H](Oc3ccccc3Cl)[C@H]2O)c(C(N)=O)n1'\n",
      " '[Na+]' 'Clc1ccc(-c2ccccc2-n2ccnc2)c(Cl)c1'\n",
      " 'Cc1cccc(C(C)N2C[C@H](COc3ccccc3)C[C@@H]2C)c1' 'FC(F)Oc1ccccn1'\n",
      " 'COCc1ccncc1' 'CCNc1ccccc1' 'Cc1cc(C)nc(-c2cc(O)cc(O)c2)n1' 'Cl' 'Cl'\n",
      " 'CNC(=O)N(C)C' 'COc1ncc(C)s1' 'Cl' 'CC(C)c1cc(O)cc(O)c1'\n",
      " 'c1ccc(Nc2c[nH]c3ccccc23)cc1' 'CC(=O)N(C)c1ccc(-c2cncs2)cc1'\n",
      " 'Cc1ccc(Nc2ccccc2C)c(C[C@H](C(=O)NC2=NCCN2)N2CCNCC2)c1'\n",
      " 'COc1nnc(NC(C)=O)s1' 'Clc1ccc(Nc2cccc(Cl)c2)cc1' 'CNC(=O)c1ccc(F)cc1'\n",
      " 'Cc1cc(C(C)N)nnc1NCc1cn(C)c2ccc(-c3ccc(C#N)cc3)cc12' 'Cl'\n",
      " 'CC(=O)Nc1ccc2c(c1)c(-c1ccccc1Cl)c(C)n2C(=O)[C@@H]1CCC(=O)N1'\n",
      " 'CC(C)[C@H](N)C(=O)N1CCN(C(=O)c2ccccc2F)CC1'\n",
      " 'CCOc1ccc(-c2ccc(-c3ccc(O)cc3)nn2)s1' 'COCC(O)CO' 'Cc1cccc(C)c1-c1ccccc1'\n",
      " 'NCc1cc(Cl)ccc1-c1ccccc1' 'CCN(C)c1ccccc1' 'CCOC'\n",
      " 'CCn1cnc2c(=O)[nH]cnc21'\n",
      " 'C[C@H]1O[C@@H](c2cc(Cl)ccc2O)C[C@H](O)[C@H]1N(C)C'\n",
      " 'CC(C)[C@H](N)C(=O)N[C@H]1CCCN(c2ccccn2)[C@@H]1C' 'CC(C)CN(C)C'\n",
      " 'NC1CCN(C(=O)c2ccco2)C1' 'C[C@@H]1O[C@@H](c2ccccc2)C[C@H](N)[C@@H]1O'\n",
      " 'CCc1nc(NC(=O)c2ccc(F)cc2F)cs1' 'CN1C[C@@H](c2cccc(F)c2)C[C@H]1Nc1ccccc1'\n",
      " 'CC(=O)N1CCCC1' 'Cc1nn(C)c2c(O)nncc12'\n",
      " 'C[C@H]1CNCC[C@H]1C(C)(C)CC(C)(C)C' 'O=C(c1ccccc1)N1CCSCC1' 'CCc1ccccc1'\n",
      " 'O=C(Nc1ccccc1)c1nc2ccccc2n1CO'\n",
      " 'COC[C@@H]1O[C@H](N2CCC3CC32N2CCC=C(F)C2)[C@H](O)[C@@H](O)[C@@H]1N'\n",
      " 'CCCCn1c(N2CCN(C(C)=O)CC2)nc2ccccc21' 'N#CC1CC1' 'COCc1ccc(C(=O)[O-])cc1'\n",
      " 'CCNc1ccccc1' 'CC(C)Nc1cn(-c2ccccc2)nn1'\n",
      " 'CN1CCC(CCN[C@@H]2CN3CCC2CC3)C1=O' 'COCC(O)CN1c2ccccc2NC(=O)c2csc(C)c21'\n",
      " 'Cc1nnc(-c2oc(-c3ccccc3F)nc2[C@H]2C[C@H](N)[C@H](O)[C@H](C)O2)s1'\n",
      " 'COc1ccncc1' 'c1ccc(N2CCCC2)cc1' 'CC(=O)NCc1ccccc1F' 'CN(C)c1ccc(Cl)cc1'\n",
      " 'Cc1ccccc1Nc1ccc(F)cc1'\n",
      " 'COc1cc([C@H]2OC(CN)=CC[C@H]2N)c(C)cc1[C@H]1CCCN[C@H]1C'\n",
      " 'CN[C@H]1C[C@@](C)(c2ccccn2)[C@@H](O)[C@H](C)O1'\n",
      " 'N[C@H]1CCN(C(=O)CCc2cc(Cl)ccc2O)C1' 'Cc1ccc(-c2ccccc2)cc1'\n",
      " 'CCS(=O)(=O)CCc1ccc(NC(C)C)cc1' 'CCN1CCC(c2ccccc2C)(C(C)C(=O)[O-])C1'\n",
      " 'CC(C)(C)Oc1ccccc1' 'N#Cc1ccon1' 'c1ccc(CN2CCOCC2)cc1' 'CC(C)Nc1ncccn1'\n",
      " '[Na+]' 'COCC1=NCCN1' 'COC1(C2CCCCC2)CCCCC1' 'COc1ccc(Nc2ccc(F)cc2)cc1'\n",
      " 'CC(=O)N(C)C' 'CCc1ccc(-c2cccc(O)c2)cc1N(C)C' 'COc1cc(-c2cccnc2)ccc1F'\n",
      " 'COc1ccc2nc(NC(=O)C(C)C)[nH]c2c1' 'CCOC' 'CCNCc1ccccc1'\n",
      " 'Clc1ccc(Nc2cnns2)cc1' 'O' 'Cc1noc(-c2ccccc2)c1C' 'Cc1ccc(N(C)C)cc1'\n",
      " 'Cc1c(C(=O)N(C)C)c(=O)n(C(C)N)n1C' 'CCOc1ccc(F)cc1'\n",
      " 'CCn1nc(C[C@H]2CO[C@@H]3[C@@H](NC(C)=O)CO[C@H]23)c2ccccc21'\n",
      " 'O=C(O)CNc1ccc(F)cc1' 'CCN[C@@H]1C[C@H]1C' 'COc1nnco1'\n",
      " 'CC(C(=O)O)N1CCN(C)CC1' 'Cl' 'COc1ccc(F)cc1'\n",
      " 'NCC[C@@H](Nc1ccccc1)C(=O)N1c2ccccc2Sc2ccccc21' '[Na+]' 'COc1ccccc1'\n",
      " 'CN(C)c1cccc(F)c1' 'Oc1ccc(-n2cncn2)cc1' 'Cl'\n",
      " 'OC(CN1CCC(c2cccc(Cl)c2)CC1)c1ccncc1'\n",
      " 'NC(=O)[C@@H]1O[C@H](N2c3ccccc3Sc3ccc(Cl)cc32)[C@H](N)[C@@H](O)[C@@H]1O'\n",
      " 'Cc1nc([C@H](N)C(=O)N2CCOC(CC(=O)O)C2)cs1' 'Cl'\n",
      " 'Cc1ccc(C(=O)N(C)c2ccc(Cl)cc2)cc1' 'CN(C)C(=O)C(O)c1ccccc1'\n",
      " 'COCC(O)CNc1ccc2c(c1)NC(=O)CC2' 'Cl' 'NCC[C@H](O)C(=O)Nc1ccccc1'\n",
      " 'Fc1ccc(C2CCNCC2)cc1' 'Cc1cccc(C)c1N(C)C' 'O'\n",
      " 'CN(C)c1ccc(COc2ccnc3ccc(CC(=O)O)cc23)cc1' 'CNC(C)(C)C' 'CCOC'\n",
      " 'COc1c(-c2cnccn2)sc2cc(O)ccc12' 'Cn1c(NCc2ccccc2)nc2ccccc21'\n",
      " 'Cn1cc(C(=O)NCC(=O)O)cn1' 'CS(=O)(=O)c1ccc(Oc2ccccc2)cc1'\n",
      " 'COCC(O)[C@H]1C[C@@H](C)C=C2C=C[C@H](C)[C@@H](OC(F)(F)F)[C@H]21'\n",
      " 'CN(C)c1cc(-c2ccc(F)cc2)ccc1Nc1ccccc1CCC(N)=O' 'CC(C)(C)Nc1ccccc1'\n",
      " '[Ca+2]' 'NS(=O)(=O)CN1CCCNC1=O' 'O=C(O)c1cc(=O)[nH]c(=O)[nH]1'\n",
      " 'Fc1ccc2c(c1)CC[C@H](c1ccccc1-c1cnccn1)O2'\n",
      " 'CN1CCC[C@@H]1C(=O)N1CC[C@H](N)C1' 'Cc1cc(NC2CCC2)no1'\n",
      " 'Cc1ccccc1Oc1cccnc1' 'CN(C)CCNC(=O)c1cc(O)cc(O)c1'\n",
      " 'Fc1ccc(Oc2ccn[nH]2)cc1' '[Cl-]' 'COCCS(C)(=O)=O' '[Na+]' 'CCOC'\n",
      " 'Cc1nc(C)c(C(=O)NC2CCC(C#N)(c3ccccc3)CC2)s1' 'Cl' 'Cc1ccccc1Nc1ccccc1'\n",
      " 'CC(=O)N1CCN(C(C)CN(C)C)CC1' 'N#CCC(N)=O'\n",
      " 'CS(=O)(=O)c1ccc(N2CCN(Cn3cnc(S(N)(=O)=O)c3)CC2)c(CO)c1'\n",
      " 'Clc1ccc(-c2ccncc2)cc1' 'CC(C)(C)Oc1ccco1' '[Na+]'\n",
      " 'O=C(O)c1cccc(C(F)(F)F)c1' 'Cl' 'CN(C)C(=O)c1cccnc1NCc1ccccc1' 'COCCN'\n",
      " 'CC(CN(C)C)Oc1ccccc1-c1ccccc1'\n",
      " 'CC[C@H](CO)N[C@H]1O[C@@H](c2ccccc2)[C@@H](O)[C@H](O)[C@H]1N'\n",
      " 'CC(=O)N[C@@H]1C[C@@H](C)O[C@@H](CNC(C)(C)C)[C@@H]1O'\n",
      " 'CN(C)CC(O)[C@@H]1CCOC[C@@H]1N' 'CC(C)(C)Nc1ccc(Nc2ccc(NCC(=O)O)nn2)cc1'\n",
      " 'O=C(NCCN1CCCCCC1)c1ccccc1' 'Cl'\n",
      " 'CC[C@@H]1O[C@H](C)C[C@@H](c2ccccc2)[C@H]1O'\n",
      " 'COc1nc2ccc(N(C)c3cc(Cl)cc(Cl)c3O)cc2[nH]1'\n",
      " 'NC1CCN(Cc2ncc(-c3ccccc3)cc2Cl)C1'\n",
      " 'CC1=C(C(=O)N2CCNCC2)C(CNc2ccc(Cl)cc2)C(C(=O)N2CCC=C(F)C2)=C(C)N1'\n",
      " 'COCc1ccccc1' 'Clc1ccc(N2CCCN(CCc3ccccc3)CC2)cc1' 'OCc1ncccn1'\n",
      " 'CC1(CNc2c[nH]c3ccccc23)CCCN1' 'CO[C@@H]1COC[C@H]1c1ccc(F)cc1'\n",
      " 'Cc1nsc([C@@H]2C[C@@H](C)O[C@@H](c3ccc4ncccc4c3)[C@@H]2O)n1'\n",
      " 'c1ccc(-c2ccc3nc(-c4ccccc4)[nH]c3c2)cc1' '[Br-]' 'NCc1ccccc1Oc1ccncc1'\n",
      " 'CCN1CCNCC1' '[Na+]' 'Clc1ccc(OCCc2ccccc2)cc1' '[Na+]'\n",
      " 'Cc1csc(-c2ccccc2)n1' 'c1ccc(N2CCC(Nc3nc4ccccc4[nH]3)CC2)cc1'\n",
      " 'CC(C)(O)[C@@H]1O[C@H](C(N)=O)[C@@H](O)C[C@H]1N' 'CNc1c[nH]c2ccccc12'\n",
      " 'c1ccc(-c2ccccc2)cc1' 'Cl' 'NC(=O)c1cccc(Nc2ccc(Cl)cc2Cl)c1'\n",
      " 'CCN1CCCCCC1' 'NCc1ccc(Cl)cc1' 'Cc1cccc(N2CCOCC2)c1'\n",
      " 'COc1c[nH]c2ccc(-c3ccccc3Cl)cc12' 'Cc1cc(C2CC2)on1' 'c1ccc(-c2ccccc2)cc1'\n",
      " 'CSCCN1CCOCC1' 'N#Cc1ccc(CNCc2ccccc2)cc1' 'O=C1CCCN1c1ccccc1' 'Cl'\n",
      " 'COc1ccc(-n2c(=O)[nH]c3ccccc32)cc1' 'CCNc1ccc(N(C)C)cc1' 'Cl'\n",
      " 'NC(=O)c1ccc2c(c1)N(C(=O)c1cccs1)c1ccccc1S2' 'COc1ccc(Oc2ccncc2)cc1'\n",
      " 'NC(=O)C1(c2ccccc2F)CCCNC1' 'Cl' 'NC(=O)C(O)c1ccc(N2CCOCC2)cc1'\n",
      " 'Cn1cncc1C1CC1' 'CC(=O)N(C)C' 'Cc1ccc(OC2(C3=NCCN3)Cc3ccccc3O2)cc1'\n",
      " 'CN1C[C@H](Cc2ccccc2)C=C2c3cccc4[nH]cc(c34)C[C@H]21' 'Cc1cn[nH]c1' 'Cl'\n",
      " 'OC1CC(OCC2CNc3ccccc3C2)C1' 'COc1ccccc1C(O)C(N)=O' 'Fc1ccc(Nc2ccccc2)cc1'\n",
      " 'CC(N)c1cccnc1' 'N#Cc1ccc(-c2ccccc2)cc1' 'CO[C@@H](C)Cc1ccccc1-c1nccs1'\n",
      " 'CC(C(=O)N(C)C)C1CCOC1' 'Cc1ccsc1C(=O)[O-]' 'c1ccc2[nH]c(N3CCCCC3)nc2c1'\n",
      " 'c1ccc(C2CCCO2)cc1' 'O=C(O)C1(c2ccc(N3CCCC3)cc2)CCNC1'\n",
      " 'NC(=O)c1cccnc1NCc1ccc(F)cc1' 'Cc1cc(C(C)(C)C)ccc1-c1nnn(C)n1' 'Cl'\n",
      " 'Cn1cc(N(c2ccccc2)c2ccccc2)cn1' 'COc1ccc(CC(=O)O)cc1'\n",
      " 'CCCOc1ccc(OC(C)(C)C)cc1' 'Cl'\n",
      " 'O=C1Cc2c(cccc2-c2ccc(-c3ccccc3)c(CO)c2)N1' 'NCc1ccccc1'\n",
      " 'Cc1noc(Nc2ccccc2)c1C' 'O=C(O)COc1cc(-c2ccc(Cl)cc2)c2ccccc2n1'\n",
      " 'CN1CCN(CCNc2ccncc2)CC1' 'CC(C)CC(=O)N1CCN(C)CC1' 'Oc1ccc(N2CCOCC2)cc1'\n",
      " 'CN(C)Cc1cccc(F)c1'\n",
      " 'C[C@H]1C=CC2=C[C@@H](O)C[C@H](C(N)=O)[C@@H]2[C@@H]1N1CCN(C(C)(C)C)CC1'\n",
      " 'CCNc1ccc(C(=O)O)cc1' 'Cl' 'Oc1ccccc1OCCC1CCCN1' 'CCNc1cncc(F)c1'\n",
      " 'CC(=O)N1CCN(C(c2ncc(C3CCCCN3C)cc2Cl)C2CCNCC2)CC1'\n",
      " 'Cc1cccc(C)c1Oc1ccc2[nH]cc(C3CNCCO3)c2c1' 'CCNC(=O)Nc1c[nH]nn1'\n",
      " 'O=C(O)[C@H]1CCOC1' 'Cl' 'Cc1cc(Nc2cccnc2)ccc1C1CCCNC1'\n",
      " 'CO[C@H]1[C@H](c2ccc(Cl)cc2)[C@H](O)[C@H](NCC(O)CO)OC1(C)C' 'Cl'\n",
      " 'CC(C)Nc1ccccc1' 'COc1ccc(NC2CCCNC2)cc1' 'c1ccc(-n2ccnc2)cc1'\n",
      " 'CCNc1ccc(C2CCCN2)cc1' 'O=C(O)c1ccc2nc(Oc3ccccc3)[nH]c2c1'\n",
      " 'Cc1cccc(Cc2ccc(O)cc2)c1' 'CCOc1cc(C)no1' 'OC1CC(N2CCC=C(F)C2)C1'\n",
      " 'O=c1[nH]c2ccccc2n1-c1ccc(F)cc1' 'CC(=O)NCCN1CCSCC1' 'Cl'\n",
      " 'Clc1ccccc1Nc1cn(C2CC2)nn1' 'COc1ccccc1N(c1cccc(C)c1)C1CC1' 'COCC(N)=O'\n",
      " 'CCCc1ccc(-c2cncc(F)c2)cc1']\n"
     ]
    }
   ],
   "source": [
    "# View filtered molecules.\n",
    "print(\"Total inactive de novos post-filtering:\", len(inactives_gen_filtered)) \n",
    "print(\"-------------------------------------------\")\n",
    "print(inactives_gen_filtered)"
   ]
  },
  {
   "cell_type": "markdown",
   "metadata": {},
   "source": [
    "### Training data"
   ]
  },
  {
   "cell_type": "code",
   "execution_count": 17,
   "metadata": {},
   "outputs": [
    {
     "name": "stdout",
     "output_type": "stream",
     "text": [
      "Total valid training actives: 44\n",
      "Total invalid training actives: 122\n",
      "Percent invalid training actives: 0.26506024096385544\n",
      "-------------------------------------------\n",
      "Total valid training inactives: 803\n",
      "Total invalid training inactives: 1395\n",
      "Percent invalid training inactives: 0.3653321201091902\n"
     ]
    }
   ],
   "source": [
    "# Filter training data.\n",
    "# Filter active de novo molecules.\n",
    "actives_train_filtered = filters(list(actives_train))\n",
    "inactives_train_filtered = filters(list(inactives_train))\n",
    "\n",
    "print(\"Total valid training actives:\", len(actives_train_filtered))\n",
    "print(\"Total invalid training actives:\", len(actives_train) - len(actives_train_filtered))\n",
    "print(\"Percent invalid training actives:\", len(actives_train_filtered) / len(actives_train))\n",
    "print(\"-------------------------------------------\")\n",
    "print(\"Total valid training inactives:\", len(inactives_train_filtered))\n",
    "print(\"Total invalid training inactives:\", len(inactives_train) - len(inactives_train_filtered))\n",
    "print(\"Percent invalid training inactives:\", len(inactives_train_filtered) / len(inactives_train))"
   ]
  },
  {
   "cell_type": "markdown",
   "metadata": {},
   "source": [
    "## Global-level metrics\n",
    "\n",
    "### MOSES metrics"
   ]
  },
  {
   "cell_type": "code",
   "execution_count": 18,
   "metadata": {},
   "outputs": [],
   "source": [
    "moses.get_all_metrics?"
   ]
  },
  {
   "cell_type": "code",
   "execution_count": 19,
   "metadata": {},
   "outputs": [
    {
     "name": "stdout",
     "output_type": "stream",
     "text": [
      "Complete in 56.129886865615845 seconds.\n"
     ]
    },
    {
     "data": {
      "text/plain": [
       "{'valid': 1.0,\n",
       " 'unique@1000': 0.89,\n",
       " 'unique@10000': 0.89,\n",
       " 'FCD/Test': 11.961587081749485,\n",
       " 'SNN/Test': 0.346468840977177,\n",
       " 'Frag/Test': 0.9511806898280473,\n",
       " 'Scaf/Test': 0.23091200759531483,\n",
       " 'FCD/TestSF': 15.050816248532769,\n",
       " 'SNN/TestSF': 0.37558236404135825,\n",
       " 'Frag/TestSF': 0.8337061872677112,\n",
       " 'Scaf/TestSF': 0.05913677968050712,\n",
       " 'IntDiv': 0.8968132696642875,\n",
       " 'IntDiv2': 0.8675210799051527,\n",
       " 'Filters': 0.692,\n",
       " 'logP': 0.690162263975904,\n",
       " 'SA': 0.4460903005282873,\n",
       " 'QED': 0.09722546292884496,\n",
       " 'weight': 57.369348156626515,\n",
       " 'Novelty': 0.9921348314606742}"
      ]
     },
     "metadata": {},
     "output_type": "display_data"
    }
   ],
   "source": [
    "# Compute MOSES metrics for de novo actives.\n",
    "start_time = time.time()\n",
    "metrics_active = moses.get_all_metrics(gen = list(actives_gen), test = list(actives_train))\n",
    "print(\"Complete in {} seconds.\".format(time.time() - start_time))\n",
    "\n",
    "display(metrics_active)"
   ]
  },
  {
   "cell_type": "code",
   "execution_count": 20,
   "metadata": {},
   "outputs": [
    {
     "data": {
      "text/plain": [
       "{'valid': 1.0,\n",
       " 'unique@1000': 0.89,\n",
       " 'unique@10000': 0.89,\n",
       " 'FCD/Test': 11.961587081749485,\n",
       " 'SNN/Test': 0.346468840977177,\n",
       " 'Frag/Test': 0.9511806898280473,\n",
       " 'Scaf/Test': 0.23091200759531483,\n",
       " 'FCD/TestSF': 15.050816248532769,\n",
       " 'SNN/TestSF': 0.37558236404135825,\n",
       " 'Frag/TestSF': 0.8337061872677112,\n",
       " 'Scaf/TestSF': 0.05913677968050712,\n",
       " 'IntDiv': 0.8968132696642875,\n",
       " 'IntDiv2': 0.8675210799051527,\n",
       " 'Filters': 0.692,\n",
       " 'logP': 0.690162263975904,\n",
       " 'SA': 0.4460903005282873,\n",
       " 'QED': 0.09722546292884496,\n",
       " 'weight': 57.369348156626515,\n",
       " 'Novelty': 0.9921348314606742}"
      ]
     },
     "metadata": {},
     "output_type": "display_data"
    }
   ],
   "source": [
    "display(metrics_active)"
   ]
  },
  {
   "cell_type": "code",
   "execution_count": 21,
   "metadata": {},
   "outputs": [
    {
     "name": "stdout",
     "output_type": "stream",
     "text": [
      "Complete in 63.62913227081299 seconds.\n"
     ]
    },
    {
     "data": {
      "text/plain": [
       "{'valid': 1.0,\n",
       " 'unique@1000': 0.945,\n",
       " 'unique@10000': 0.945,\n",
       " 'FCD/Test': 13.406871953619628,\n",
       " 'SNN/Test': 0.3679108689986169,\n",
       " 'Frag/Test': 0.8717110247822509,\n",
       " 'Scaf/Test': 0.16647943501680373,\n",
       " 'FCD/TestSF': 14.219754532853209,\n",
       " 'SNN/TestSF': 0.3548770117126405,\n",
       " 'Frag/TestSF': 0.8695295611810305,\n",
       " 'Scaf/TestSF': 0.015000269791277554,\n",
       " 'IntDiv': 0.9038048569521904,\n",
       " 'IntDiv2': 0.8841642675329617,\n",
       " 'Filters': 0.79,\n",
       " 'logP': 1.2790661836914032,\n",
       " 'SA': 0.9554717061680631,\n",
       " 'QED': 0.26316212147628204,\n",
       " 'weight': 137.43454442070956,\n",
       " 'Novelty': 0.9883597883597883}"
      ]
     },
     "metadata": {},
     "output_type": "display_data"
    }
   ],
   "source": [
    "# Compute MOSES metrics for de novo inactives.\n",
    "start_time = time.time()\n",
    "metrics_inactive = moses.get_all_metrics(gen = list(inactives_gen), train = list(inactives_train))\n",
    "print(\"Complete in {} seconds.\".format(time.time() - start_time))\n",
    "\n",
    "display(metrics_inactive)"
   ]
  },
  {
   "cell_type": "markdown",
   "metadata": {},
   "source": [
    "### TDC metrics"
   ]
  },
  {
   "cell_type": "code",
   "execution_count": 22,
   "metadata": {},
   "outputs": [
    {
     "data": {
      "text/plain": [
       "{'KL divergence': 0.9092355745604911,\n",
       " 'Uniqueness': 0.89,\n",
       " 'Validity': 1.0,\n",
       " 'Novelty': 0.9820224719101124,\n",
       " 'Diversity': 0.8931414069330533}"
      ]
     },
     "execution_count": 22,
     "metadata": {},
     "output_type": "execute_result"
    }
   ],
   "source": [
    "# Compute all metrics for active de novos vs their training data.\n",
    "compute_tdc_metrics(actives_gen, actives_train)"
   ]
  },
  {
   "cell_type": "code",
   "execution_count": 23,
   "metadata": {},
   "outputs": [
    {
     "data": {
      "text/plain": [
       "{'KL divergence': 0.8897613803339549,\n",
       " 'Uniqueness': 0.945,\n",
       " 'Validity': 1.0,\n",
       " 'Novelty': 0.9883597883597883,\n",
       " 'Diversity': 0.9046137412637492}"
      ]
     },
     "execution_count": 23,
     "metadata": {},
     "output_type": "execute_result"
    }
   ],
   "source": [
    "# Compute all metrics for inactive de novos vs their training data.\n",
    "compute_tdc_metrics(inactives_gen, inactives_train)"
   ]
  },
  {
   "cell_type": "code",
   "execution_count": 24,
   "metadata": {},
   "outputs": [
    {
     "data": {
      "text/plain": [
       "0.8907899756080644"
      ]
     },
     "execution_count": 24,
     "metadata": {},
     "output_type": "execute_result"
    }
   ],
   "source": [
    "# KL divergence of active training data and inactive training data.\n",
    "kl = Evaluator(name = \"KL_Divergence\")\n",
    "kl(actives_train, inactives_train)"
   ]
  },
  {
   "cell_type": "code",
   "execution_count": 25,
   "metadata": {},
   "outputs": [
    {
     "data": {
      "text/plain": [
       "0.8933037680900047"
      ]
     },
     "execution_count": 25,
     "metadata": {},
     "output_type": "execute_result"
    }
   ],
   "source": [
    "# KL divergence of active de novos and inactive training data.\n",
    "kl(actives_gen, inactives_train)"
   ]
  },
  {
   "cell_type": "code",
   "execution_count": 26,
   "metadata": {},
   "outputs": [
    {
     "data": {
      "text/plain": [
       "0.889118489694653"
      ]
     },
     "execution_count": 26,
     "metadata": {},
     "output_type": "execute_result"
    }
   ],
   "source": [
    "# KL divergence of inactive de novos and active training data.\n",
    "kl(inactives_gen, actives_train)"
   ]
  },
  {
   "cell_type": "code",
   "execution_count": 27,
   "metadata": {},
   "outputs": [
    {
     "data": {
      "text/plain": [
       "0.9471762637747988"
      ]
     },
     "execution_count": 27,
     "metadata": {},
     "output_type": "execute_result"
    }
   ],
   "source": [
    "# KL divergence of active de novos and inactive de novos.\n",
    "kl(actives_gen, inactives_gen)"
   ]
  },
  {
   "cell_type": "markdown",
   "metadata": {
    "tags": []
   },
   "source": [
    "## Molecule-level metrics\n",
    "\n",
    "### Synthetic accessibility\n",
    "\n",
    ">Description: Synthetic Accessibility Score stands for how hard or how easy it is to synthesize a given molecule, based on a combination of the molecule’s fragments contributions. The oracle is caluated via RDKit, using a set of chemical rules defined by Ertl et al. (https://tdcommons.ai/functions/oracles/#ibm-rxn-synthetic-accessibility)[https://tdcommons.ai/functions/oracles/#ibm-rxn-synthetic-accessibility]"
   ]
  },
  {
   "cell_type": "code",
   "execution_count": 28,
   "metadata": {},
   "outputs": [],
   "source": [
    "# IBM synthetic accessibility.\n",
    "# Obtain API key from: https://rxn.res.ibm.com/rxn/user/profile\n",
    "#ibm = Oracle(name = \"IBM_RXN\")\n",
    "#key = \"apk-d6e326462714f9eb93ecd699f6fa06ce3ee32da5e2bcbef7e4fd56e7125957f889b11a42a682dd3b2c911bfb2d2e8fa3040cc361eda7bb6212b052e7c0ed44b00226457cbe97d334e39817bc95f64e68\"\n",
    "#ibm(actives_gen_filtered, key)\n",
    "#ibm(actives_gen_filtered, key, output = \"result\")"
   ]
  },
  {
   "cell_type": "code",
   "execution_count": 29,
   "metadata": {},
   "outputs": [
    {
     "name": "stderr",
     "output_type": "stream",
     "text": [
      "Found local copy...\n"
     ]
    },
    {
     "name": "stdout",
     "output_type": "stream",
     "text": [
      "Generated actives :\n",
      "[3.7992534305636454, 1.3969607830406403, 1.2620812616634272, 8.479573080261886, 1.3366520142635672, 1.981891105527998, 1.9724474544682522, 2.9058371192443033, 4.077044523809392, 3.0206579555524256, 1.3205518802512373, 2.8223307307175762, 1.915899009442814, 1.4307672648666223, 2.0176449386913458, 1.2889924435985893, 5.868476923076923, 6.251046153846153, 6.251046153846153, 1.7400069593185101] \n",
      "\n",
      "Generated inactives :\n",
      "[1.867351507627081, 2.665243391840942, 8.479573080261886, 1.87032436539344, 3.670887396179494, 2.582300242726518, 2.5804870115492147, 8.479573080261886, 2.0561543249076113, 1.8496733126097862, 1.761124389662939, 2.2071399822049322, 1.9266759347359166, 1.8308410310863117, 1.9975463794219532, 5.868476923076923, 2.5467835865240787, 3.1280379487882977, 1.8040892302583078, 2.9699928512014004] \n",
      "\n",
      "Training actives :\n",
      "[2.198228894928752, 4.4563594992655755, 3.152523613123961, 4.079407639578063, 5.315203149844731, 2.6477496355415653, 2.720193706534902, 6.132848975793428, 3.111289719637865, 2.9277322319403467, 4.392585044088333, 2.141274629194484, 2.9537487694281754, 4.195950139224815, 4.083137348765697, 3.0556003526166293, 4.559936737085865, 4.038635681173189, 5.490601327315808, 2.855674349754082] \n",
      "\n",
      "Training inactives :\n",
      "[3.111289719637865, 2.8201074187788233, 2.1177165168419236, 2.5083097270669423, 2.585192660292101, 1.580039750008826, 2.6166742414035244, 3.5377295050291924, 2.5444294894636617, 2.9790863613020377, 1.6141800413765282, 3.897562757011803, 2.8286020054074115, 4.157835695134578, 3.3182385809176083, 2.65373124688173, 3.2058229449984044, 2.3312714163834762, 5.022618808585562, 2.5672591282022594] \n",
      "\n"
     ]
    }
   ],
   "source": [
    "# Synthetic accessibility.\n",
    "sa = Oracle(name = \"SA\")\n",
    "sa_actives_gen = sa(list(actives_gen_filtered))\n",
    "sa_inactives_gen = sa(list(inactives_gen_filtered))\n",
    "sa_actives_train = sa(list(actives_train))\n",
    "sa_inactives_train = sa(list(inactives_train))\n",
    "\n",
    "sa_dict = {\"Generated actives\": sa_actives_gen,\n",
    "           \"Generated inactives\": sa_inactives_gen,\n",
    "           \"Training actives\": sa_actives_train,\n",
    "           \"Training inactives\": sa_inactives_train}\n",
    "\n",
    "for key,value in sa_dict.items():\n",
    "    print(key, \":\")\n",
    "    print(value[:20], \"\\n\")"
   ]
  },
  {
   "cell_type": "markdown",
   "metadata": {},
   "source": [
    "### QED\n",
    "\n",
    "> Description: QED stands for Quantitative Estimate of Drug-likeness. The oracle is caluated via RDKit, using a set of chemical rules about drug-likeliness defined by Bickerton et al. (https://tdcommons.ai/functions/oracles/#ibm-rxn-synthetic-accessibility)[https://tdcommons.ai/functions/oracles/]"
   ]
  },
  {
   "cell_type": "code",
   "execution_count": 30,
   "metadata": {},
   "outputs": [
    {
     "name": "stdout",
     "output_type": "stream",
     "text": [
      "Generated actives :\n",
      "[0.6799093877732707, 0.8619961908267948, 0.5312966219394869, 0.24667223026474422, 0.6752628415345541, 0.5890334307441442, 0.7803258940851515, 0.8375265880094737, 0.756830957175495, 0.6879157221540766, 0.6635330470985762, 0.7292796247091089, 0.8475932840665674, 0.7603045299219545, 0.7607800993337877, 0.5968214218758865, 0.3277476769246249, 0.3651643237938947, 0.3651643237938947, 0.7254065268981411] \n",
      "\n",
      "Generated inactives :\n",
      "[0.7633093154900111, 0.5628493694200419, 0.24667223026474422, 0.6258457643276165, 0.5965400296751143, 0.7109534710337233, 0.8380871942460422, 0.2907254081066362, 0.7590682724597922, 0.8463211784250305, 0.8287807308953679, 0.744629756036077, 0.45127679326201153, 0.5950653599747266, 0.9066281957553696, 0.3277476769246249, 0.48454658204851075, 0.7113554189725537, 0.7383677088580421, 0.9409912162995548] \n",
      "\n",
      "Training actives :\n",
      "[0.9002834195387214, 0.5104218936123291, 0.7209997551181788, 0.7224207015753511, 0.7802626642446739, 0.687851007974509, 0.6605656276883497, 0.23847544119122638, 0.5295731957656133, 0.6774712956679046, 0.034223021660319826, 0.7608532205240113, 0.4445646399161154, 0.38589285607070656, 0.42775692478339256, 0.43902707907398214, 0.562816868972934, 0.7362676475612524, 0.021258056024081737, 0.6752822895943631] \n",
      "\n",
      "Training inactives :\n",
      "[0.5295731957656133, 0.6112141813104895, 0.5638252652189537, 0.6319230176826856, 0.7465755393175725, 0.5501217966938848, 0.6575808245048168, 0.7856488020836657, 0.8598014441128611, 0.8253037253105497, 0.8416077318632275, 0.9256729590726124, 0.876131841357561, 0.7887459000179493, 0.6902887957170618, 0.30542835862062895, 0.7186547199139044, 0.6516049396209824, 0.6684104451867194, 0.40818931541952863] \n",
      "\n"
     ]
    }
   ],
   "source": [
    "# Quantitative Estimate of Drug-likeness.\n",
    "qed = Oracle(name = \"QED\")\n",
    "qed_actives_gen = qed(list(actives_gen_filtered))\n",
    "qed_inactives_gen = qed(list(inactives_gen_filtered))\n",
    "qed_actives_train = qed(list(actives_train))\n",
    "qed_inactives_train = qed(list(inactives_train))\n",
    "\n",
    "qed_dict = {\"Generated actives\": qed_actives_gen,\n",
    "            \"Generated inactives\": qed_inactives_gen,\n",
    "            \"Training actives\": qed_actives_train,\n",
    "            \"Training inactives\": qed_inactives_train}\n",
    "\n",
    "for key,value in qed_dict.items():\n",
    "    print(key, \":\")\n",
    "    print(value[:20], \"\\n\")"
   ]
  },
  {
   "cell_type": "markdown",
   "metadata": {},
   "source": [
    "### Octanol-water Partition Coefficient (LogP)\n",
    "\n",
    ">Description: The penalized logP score measures the solubility and synthetic accessibility of a compound. The oracle is caluated via RDKit. (https://tdcommons.ai/functions/oracles/#ibm-rxn-synthetic-accessibility)[https://tdcommons.ai/functions/oracles/]"
   ]
  },
  {
   "cell_type": "code",
   "execution_count": 31,
   "metadata": {},
   "outputs": [
    {
     "name": "stdout",
     "output_type": "stream",
     "text": [
      "Generated actives :\n",
      "[0.8564965881122057, 1.8381231174829928, 2.3924614523659025, -10.142971271684964, 3.289454120911425, 0.460994286436041, -1.0803569649598375, -2.8566490968521983, -1.6757921808042398, 1.3683117248640675, 2.1471080449841056, -3.0349923004019788, 1.7718967252130615, 2.4822073464065117, 1.0989076611289699, 1.7914057741567837, -5.496546478798415, -5.0864760929506385, -5.0864760929506385, 1.502554209116504] \n",
      "\n",
      "Generated inactives :\n",
      "[2.2071264792003342, -0.3471870661665941, -10.142971271684964, -0.05110443298527212, -2.482571909888826, -0.45503660997981665, 0.2775872034995668, -10.142971271684964, 1.1313640265471474, 2.0211160342192653, 2.7564275130902547, -0.26785673238192254, 0.5334426089615061, -3.331328452569565, 0.8061465875331755, -5.496546478798415, -1.0968599332676003, -5.122847532723794, 0.6813502172835411, 0.13162121961490875] \n",
      "\n",
      "Training actives :\n",
      "[0.4176466442261634, -0.15906842628465578, 0.8120953378368679, 0.37286120786020116, -19.693242150900094, 0.6232930401745391, 1.2146781342350446, -35.37979139271014, 2.292398803380044, 1.0576057268836379, -0.25169514741864285, 1.7236322595205082, 0.7576670804641163, -4.047858822285329, -0.7426452223260565, -0.5649740489602321, -0.7725530436749629, 0.04375886745668134, 1.9786447769885736, -0.10241262335139567] \n",
      "\n",
      "Training inactives :\n",
      "[2.292398803380044, 1.3405689347600336, 3.073075142939068, 1.8663511124922727, 1.992961010553508, 1.1367875481574274, 2.2984193993523347, -0.6861453742876955, -1.633208217726156, 1.169009878068977, 2.2323356016154112, -0.9406358597856652, -21.069359869402163, -21.700561907297708, 0.2862988660512733, 2.4381592078315464, 0.7385013750039013, 1.2627554025294965, -2.2566555270718553, -0.828534553714047] \n",
      "\n"
     ]
    }
   ],
   "source": [
    "# LogP.\n",
    "logp = Oracle(name = \"LogP\")\n",
    "logp_actives_gen = logp(list(actives_gen_filtered))\n",
    "logp_inactives_gen = logp(list(inactives_gen_filtered))\n",
    "logp_actives_train = logp(list(actives_train))\n",
    "logp_inactives_train = logp(list(inactives_train))\n",
    "\n",
    "logp_dict = {\"Generated actives\": logp_actives_gen,\n",
    "             \"Generated inactives\": logp_inactives_gen,\n",
    "             \"Training actives\": logp_actives_train,\n",
    "             \"Training inactives\": logp_inactives_train}\n",
    "\n",
    "for key,value in logp_dict.items():\n",
    "    print(key, \":\")\n",
    "    print(value[:20], \"\\n\")"
   ]
  },
  {
   "cell_type": "markdown",
   "metadata": {},
   "source": [
    "### Dictionary to dataframe"
   ]
  },
  {
   "cell_type": "code",
   "execution_count": 32,
   "metadata": {},
   "outputs": [
    {
     "data": {
      "text/html": [
       "<div>\n",
       "<style scoped>\n",
       "    .dataframe tbody tr th:only-of-type {\n",
       "        vertical-align: middle;\n",
       "    }\n",
       "\n",
       "    .dataframe tbody tr th {\n",
       "        vertical-align: top;\n",
       "    }\n",
       "\n",
       "    .dataframe thead th {\n",
       "        text-align: right;\n",
       "    }\n",
       "</style>\n",
       "<table border=\"1\" class=\"dataframe\">\n",
       "  <thead>\n",
       "    <tr style=\"text-align: right;\">\n",
       "      <th></th>\n",
       "      <th>Distribution</th>\n",
       "      <th>Data</th>\n",
       "      <th>Metric</th>\n",
       "    </tr>\n",
       "  </thead>\n",
       "  <tbody>\n",
       "    <tr>\n",
       "      <th>0</th>\n",
       "      <td>Generated actives</td>\n",
       "      <td>3.799253</td>\n",
       "      <td>SA</td>\n",
       "    </tr>\n",
       "    <tr>\n",
       "      <th>1</th>\n",
       "      <td>Generated actives</td>\n",
       "      <td>1.396961</td>\n",
       "      <td>SA</td>\n",
       "    </tr>\n",
       "    <tr>\n",
       "      <th>2</th>\n",
       "      <td>Generated actives</td>\n",
       "      <td>1.262081</td>\n",
       "      <td>SA</td>\n",
       "    </tr>\n",
       "    <tr>\n",
       "      <th>3</th>\n",
       "      <td>Generated actives</td>\n",
       "      <td>8.479573</td>\n",
       "      <td>SA</td>\n",
       "    </tr>\n",
       "    <tr>\n",
       "      <th>4</th>\n",
       "      <td>Generated actives</td>\n",
       "      <td>1.336652</td>\n",
       "      <td>SA</td>\n",
       "    </tr>\n",
       "    <tr>\n",
       "      <th>...</th>\n",
       "      <td>...</td>\n",
       "      <td>...</td>\n",
       "      <td>...</td>\n",
       "    </tr>\n",
       "    <tr>\n",
       "      <th>2193</th>\n",
       "      <td>Training inactives</td>\n",
       "      <td>1.674759</td>\n",
       "      <td>SA</td>\n",
       "    </tr>\n",
       "    <tr>\n",
       "      <th>2194</th>\n",
       "      <td>Training inactives</td>\n",
       "      <td>3.183066</td>\n",
       "      <td>SA</td>\n",
       "    </tr>\n",
       "    <tr>\n",
       "      <th>2195</th>\n",
       "      <td>Training inactives</td>\n",
       "      <td>2.691874</td>\n",
       "      <td>SA</td>\n",
       "    </tr>\n",
       "    <tr>\n",
       "      <th>2196</th>\n",
       "      <td>Training inactives</td>\n",
       "      <td>2.428605</td>\n",
       "      <td>SA</td>\n",
       "    </tr>\n",
       "    <tr>\n",
       "      <th>2197</th>\n",
       "      <td>Training inactives</td>\n",
       "      <td>3.699699</td>\n",
       "      <td>SA</td>\n",
       "    </tr>\n",
       "  </tbody>\n",
       "</table>\n",
       "<p>3049 rows × 3 columns</p>\n",
       "</div>"
      ],
      "text/plain": [
       "            Distribution      Data Metric\n",
       "0      Generated actives  3.799253     SA\n",
       "1      Generated actives  1.396961     SA\n",
       "2      Generated actives  1.262081     SA\n",
       "3      Generated actives  8.479573     SA\n",
       "4      Generated actives  1.336652     SA\n",
       "...                  ...       ...    ...\n",
       "2193  Training inactives  1.674759     SA\n",
       "2194  Training inactives  3.183066     SA\n",
       "2195  Training inactives  2.691874     SA\n",
       "2196  Training inactives  2.428605     SA\n",
       "2197  Training inactives  3.699699     SA\n",
       "\n",
       "[3049 rows x 3 columns]"
      ]
     },
     "metadata": {},
     "output_type": "display_data"
    }
   ],
   "source": [
    "# SA.\n",
    "df_sa = pd.DataFrame()\n",
    "for key,value in sa_dict.items():\n",
    "    df_sa = pd.concat([df_sa, pd.DataFrame({\"Distribution\": [key] * len(value), \"Data\": value})])\n",
    "df_sa[\"Metric\"] = \"SA\"\n",
    "display(df_sa)"
   ]
  },
  {
   "cell_type": "code",
   "execution_count": 33,
   "metadata": {},
   "outputs": [
    {
     "data": {
      "text/html": [
       "<div>\n",
       "<style scoped>\n",
       "    .dataframe tbody tr th:only-of-type {\n",
       "        vertical-align: middle;\n",
       "    }\n",
       "\n",
       "    .dataframe tbody tr th {\n",
       "        vertical-align: top;\n",
       "    }\n",
       "\n",
       "    .dataframe thead th {\n",
       "        text-align: right;\n",
       "    }\n",
       "</style>\n",
       "<table border=\"1\" class=\"dataframe\">\n",
       "  <thead>\n",
       "    <tr style=\"text-align: right;\">\n",
       "      <th></th>\n",
       "      <th>Distribution</th>\n",
       "      <th>Data</th>\n",
       "      <th>Metric</th>\n",
       "    </tr>\n",
       "  </thead>\n",
       "  <tbody>\n",
       "    <tr>\n",
       "      <th>0</th>\n",
       "      <td>Generated actives</td>\n",
       "      <td>0.679909</td>\n",
       "      <td>QED</td>\n",
       "    </tr>\n",
       "    <tr>\n",
       "      <th>1</th>\n",
       "      <td>Generated actives</td>\n",
       "      <td>0.861996</td>\n",
       "      <td>QED</td>\n",
       "    </tr>\n",
       "    <tr>\n",
       "      <th>2</th>\n",
       "      <td>Generated actives</td>\n",
       "      <td>0.531297</td>\n",
       "      <td>QED</td>\n",
       "    </tr>\n",
       "    <tr>\n",
       "      <th>3</th>\n",
       "      <td>Generated actives</td>\n",
       "      <td>0.246672</td>\n",
       "      <td>QED</td>\n",
       "    </tr>\n",
       "    <tr>\n",
       "      <th>4</th>\n",
       "      <td>Generated actives</td>\n",
       "      <td>0.675263</td>\n",
       "      <td>QED</td>\n",
       "    </tr>\n",
       "    <tr>\n",
       "      <th>...</th>\n",
       "      <td>...</td>\n",
       "      <td>...</td>\n",
       "      <td>...</td>\n",
       "    </tr>\n",
       "    <tr>\n",
       "      <th>2193</th>\n",
       "      <td>Training inactives</td>\n",
       "      <td>0.903181</td>\n",
       "      <td>QED</td>\n",
       "    </tr>\n",
       "    <tr>\n",
       "      <th>2194</th>\n",
       "      <td>Training inactives</td>\n",
       "      <td>0.628192</td>\n",
       "      <td>QED</td>\n",
       "    </tr>\n",
       "    <tr>\n",
       "      <th>2195</th>\n",
       "      <td>Training inactives</td>\n",
       "      <td>0.665903</td>\n",
       "      <td>QED</td>\n",
       "    </tr>\n",
       "    <tr>\n",
       "      <th>2196</th>\n",
       "      <td>Training inactives</td>\n",
       "      <td>0.688329</td>\n",
       "      <td>QED</td>\n",
       "    </tr>\n",
       "    <tr>\n",
       "      <th>2197</th>\n",
       "      <td>Training inactives</td>\n",
       "      <td>0.401417</td>\n",
       "      <td>QED</td>\n",
       "    </tr>\n",
       "  </tbody>\n",
       "</table>\n",
       "<p>3049 rows × 3 columns</p>\n",
       "</div>"
      ],
      "text/plain": [
       "            Distribution      Data Metric\n",
       "0      Generated actives  0.679909    QED\n",
       "1      Generated actives  0.861996    QED\n",
       "2      Generated actives  0.531297    QED\n",
       "3      Generated actives  0.246672    QED\n",
       "4      Generated actives  0.675263    QED\n",
       "...                  ...       ...    ...\n",
       "2193  Training inactives  0.903181    QED\n",
       "2194  Training inactives  0.628192    QED\n",
       "2195  Training inactives  0.665903    QED\n",
       "2196  Training inactives  0.688329    QED\n",
       "2197  Training inactives  0.401417    QED\n",
       "\n",
       "[3049 rows x 3 columns]"
      ]
     },
     "metadata": {},
     "output_type": "display_data"
    }
   ],
   "source": [
    "# QED.\n",
    "df_qed = pd.DataFrame()\n",
    "for key,value in qed_dict.items():\n",
    "    df_qed = pd.concat([df_qed, pd.DataFrame({\"Distribution\": [key] * len(value), \"Data\": value})])\n",
    "df_qed[\"Metric\"] = \"QED\"\n",
    "display(df_qed)"
   ]
  },
  {
   "cell_type": "code",
   "execution_count": 34,
   "metadata": {},
   "outputs": [
    {
     "data": {
      "text/html": [
       "<div>\n",
       "<style scoped>\n",
       "    .dataframe tbody tr th:only-of-type {\n",
       "        vertical-align: middle;\n",
       "    }\n",
       "\n",
       "    .dataframe tbody tr th {\n",
       "        vertical-align: top;\n",
       "    }\n",
       "\n",
       "    .dataframe thead th {\n",
       "        text-align: right;\n",
       "    }\n",
       "</style>\n",
       "<table border=\"1\" class=\"dataframe\">\n",
       "  <thead>\n",
       "    <tr style=\"text-align: right;\">\n",
       "      <th></th>\n",
       "      <th>Distribution</th>\n",
       "      <th>Data</th>\n",
       "      <th>Metric</th>\n",
       "    </tr>\n",
       "  </thead>\n",
       "  <tbody>\n",
       "    <tr>\n",
       "      <th>0</th>\n",
       "      <td>Generated actives</td>\n",
       "      <td>0.856497</td>\n",
       "      <td>LogP</td>\n",
       "    </tr>\n",
       "    <tr>\n",
       "      <th>1</th>\n",
       "      <td>Generated actives</td>\n",
       "      <td>1.838123</td>\n",
       "      <td>LogP</td>\n",
       "    </tr>\n",
       "    <tr>\n",
       "      <th>2</th>\n",
       "      <td>Generated actives</td>\n",
       "      <td>2.392461</td>\n",
       "      <td>LogP</td>\n",
       "    </tr>\n",
       "    <tr>\n",
       "      <th>3</th>\n",
       "      <td>Generated actives</td>\n",
       "      <td>-10.142971</td>\n",
       "      <td>LogP</td>\n",
       "    </tr>\n",
       "    <tr>\n",
       "      <th>4</th>\n",
       "      <td>Generated actives</td>\n",
       "      <td>3.289454</td>\n",
       "      <td>LogP</td>\n",
       "    </tr>\n",
       "    <tr>\n",
       "      <th>...</th>\n",
       "      <td>...</td>\n",
       "      <td>...</td>\n",
       "      <td>...</td>\n",
       "    </tr>\n",
       "    <tr>\n",
       "      <th>2193</th>\n",
       "      <td>Training inactives</td>\n",
       "      <td>2.422638</td>\n",
       "      <td>LogP</td>\n",
       "    </tr>\n",
       "    <tr>\n",
       "      <th>2194</th>\n",
       "      <td>Training inactives</td>\n",
       "      <td>-1.263570</td>\n",
       "      <td>LogP</td>\n",
       "    </tr>\n",
       "    <tr>\n",
       "      <th>2195</th>\n",
       "      <td>Training inactives</td>\n",
       "      <td>-0.875203</td>\n",
       "      <td>LogP</td>\n",
       "    </tr>\n",
       "    <tr>\n",
       "      <th>2196</th>\n",
       "      <td>Training inactives</td>\n",
       "      <td>-0.389376</td>\n",
       "      <td>LogP</td>\n",
       "    </tr>\n",
       "    <tr>\n",
       "      <th>2197</th>\n",
       "      <td>Training inactives</td>\n",
       "      <td>-2.817976</td>\n",
       "      <td>LogP</td>\n",
       "    </tr>\n",
       "  </tbody>\n",
       "</table>\n",
       "<p>3049 rows × 3 columns</p>\n",
       "</div>"
      ],
      "text/plain": [
       "            Distribution       Data Metric\n",
       "0      Generated actives   0.856497   LogP\n",
       "1      Generated actives   1.838123   LogP\n",
       "2      Generated actives   2.392461   LogP\n",
       "3      Generated actives -10.142971   LogP\n",
       "4      Generated actives   3.289454   LogP\n",
       "...                  ...        ...    ...\n",
       "2193  Training inactives   2.422638   LogP\n",
       "2194  Training inactives  -1.263570   LogP\n",
       "2195  Training inactives  -0.875203   LogP\n",
       "2196  Training inactives  -0.389376   LogP\n",
       "2197  Training inactives  -2.817976   LogP\n",
       "\n",
       "[3049 rows x 3 columns]"
      ]
     },
     "metadata": {},
     "output_type": "display_data"
    }
   ],
   "source": [
    "# LogP.\n",
    "df_logp = pd.DataFrame()\n",
    "for key,value in logp_dict.items():\n",
    "    df_logp = pd.concat([df_logp, pd.DataFrame({\"Distribution\": [key] * len(value), \"Data\": value})])\n",
    "df_logp[\"Metric\"] = \"LogP\"\n",
    "display(df_logp)"
   ]
  },
  {
   "cell_type": "code",
   "execution_count": 35,
   "metadata": {},
   "outputs": [
    {
     "name": "stdout",
     "output_type": "stream",
     "text": [
      "<class 'pandas.core.frame.DataFrame'>\n",
      "RangeIndex: 9147 entries, 0 to 9146\n",
      "Data columns (total 3 columns):\n",
      " #   Column        Non-Null Count  Dtype  \n",
      "---  ------        --------------  -----  \n",
      " 0   Distribution  9147 non-null   object \n",
      " 1   Data          9147 non-null   float64\n",
      " 2   Metric        9147 non-null   object \n",
      "dtypes: float64(1), object(2)\n",
      "memory usage: 214.5+ KB\n",
      "None\n"
     ]
    },
    {
     "data": {
      "text/html": [
       "<div>\n",
       "<style scoped>\n",
       "    .dataframe tbody tr th:only-of-type {\n",
       "        vertical-align: middle;\n",
       "    }\n",
       "\n",
       "    .dataframe tbody tr th {\n",
       "        vertical-align: top;\n",
       "    }\n",
       "\n",
       "    .dataframe thead th {\n",
       "        text-align: right;\n",
       "    }\n",
       "</style>\n",
       "<table border=\"1\" class=\"dataframe\">\n",
       "  <thead>\n",
       "    <tr style=\"text-align: right;\">\n",
       "      <th></th>\n",
       "      <th>Distribution</th>\n",
       "      <th>Data</th>\n",
       "      <th>Metric</th>\n",
       "    </tr>\n",
       "  </thead>\n",
       "  <tbody>\n",
       "    <tr>\n",
       "      <th>0</th>\n",
       "      <td>Generated actives</td>\n",
       "      <td>3.799253</td>\n",
       "      <td>SA</td>\n",
       "    </tr>\n",
       "    <tr>\n",
       "      <th>1</th>\n",
       "      <td>Generated actives</td>\n",
       "      <td>1.396961</td>\n",
       "      <td>SA</td>\n",
       "    </tr>\n",
       "    <tr>\n",
       "      <th>2</th>\n",
       "      <td>Generated actives</td>\n",
       "      <td>1.262081</td>\n",
       "      <td>SA</td>\n",
       "    </tr>\n",
       "    <tr>\n",
       "      <th>3</th>\n",
       "      <td>Generated actives</td>\n",
       "      <td>8.479573</td>\n",
       "      <td>SA</td>\n",
       "    </tr>\n",
       "    <tr>\n",
       "      <th>4</th>\n",
       "      <td>Generated actives</td>\n",
       "      <td>1.336652</td>\n",
       "      <td>SA</td>\n",
       "    </tr>\n",
       "    <tr>\n",
       "      <th>...</th>\n",
       "      <td>...</td>\n",
       "      <td>...</td>\n",
       "      <td>...</td>\n",
       "    </tr>\n",
       "    <tr>\n",
       "      <th>9142</th>\n",
       "      <td>Training inactives</td>\n",
       "      <td>2.422638</td>\n",
       "      <td>LogP</td>\n",
       "    </tr>\n",
       "    <tr>\n",
       "      <th>9143</th>\n",
       "      <td>Training inactives</td>\n",
       "      <td>-1.263570</td>\n",
       "      <td>LogP</td>\n",
       "    </tr>\n",
       "    <tr>\n",
       "      <th>9144</th>\n",
       "      <td>Training inactives</td>\n",
       "      <td>-0.875203</td>\n",
       "      <td>LogP</td>\n",
       "    </tr>\n",
       "    <tr>\n",
       "      <th>9145</th>\n",
       "      <td>Training inactives</td>\n",
       "      <td>-0.389376</td>\n",
       "      <td>LogP</td>\n",
       "    </tr>\n",
       "    <tr>\n",
       "      <th>9146</th>\n",
       "      <td>Training inactives</td>\n",
       "      <td>-2.817976</td>\n",
       "      <td>LogP</td>\n",
       "    </tr>\n",
       "  </tbody>\n",
       "</table>\n",
       "<p>9147 rows × 3 columns</p>\n",
       "</div>"
      ],
      "text/plain": [
       "            Distribution      Data Metric\n",
       "0      Generated actives  3.799253     SA\n",
       "1      Generated actives  1.396961     SA\n",
       "2      Generated actives  1.262081     SA\n",
       "3      Generated actives  8.479573     SA\n",
       "4      Generated actives  1.336652     SA\n",
       "...                  ...       ...    ...\n",
       "9142  Training inactives  2.422638   LogP\n",
       "9143  Training inactives -1.263570   LogP\n",
       "9144  Training inactives -0.875203   LogP\n",
       "9145  Training inactives -0.389376   LogP\n",
       "9146  Training inactives -2.817976   LogP\n",
       "\n",
       "[9147 rows x 3 columns]"
      ]
     },
     "metadata": {},
     "output_type": "display_data"
    }
   ],
   "source": [
    "# Aggregate all results.\n",
    "df_metrics = pd.concat([df_sa, df_qed, df_logp]).reset_index(drop = True)\n",
    "print(df_metrics.info())\n",
    "display(df_metrics)"
   ]
  },
  {
   "cell_type": "markdown",
   "metadata": {},
   "source": [
    "## Plot distributions"
   ]
  },
  {
   "cell_type": "code",
   "execution_count": 36,
   "metadata": {},
   "outputs": [
    {
     "data": {
      "image/png": "[encoded data removed]",
      "text/plain": [
       "<Figure size 353x216 with 1 Axes>"
      ]
     },
     "metadata": {
      "needs_background": "light"
     },
     "output_type": "display_data"
    }
   ],
   "source": [
    "plot_distribution(df_sa)"
   ]
  },
  {
   "cell_type": "code",
   "execution_count": 37,
   "metadata": {},
   "outputs": [
    {
     "data": {
      "image/png": "[encoded data removed]",
      "text/plain": [
       "<Figure size 353x216 with 1 Axes>"
      ]
     },
     "metadata": {
      "needs_background": "light"
     },
     "output_type": "display_data"
    }
   ],
   "source": [
    "plot_distribution(df_qed)"
   ]
  },
  {
   "cell_type": "code",
   "execution_count": 38,
   "metadata": {},
   "outputs": [
    {
     "data": {
      "image/png": "[encoded data removed]",
      "text/plain": [
       "<Figure size 353x216 with 1 Axes>"
      ]
     },
     "metadata": {
      "needs_background": "light"
     },
     "output_type": "display_data"
    }
   ],
   "source": [
    "plot_distribution(df_logp)"
   ]
  },
  {
   "cell_type": "code",
   "execution_count": 39,
   "metadata": {},
   "outputs": [
    {
     "data": {
      "image/png": "[encoded data removed]",
      "text/plain": [
       "<Figure size 785x216 with 3 Axes>"
      ]
     },
     "metadata": {
      "needs_background": "light"
     },
     "output_type": "display_data"
    }
   ],
   "source": [
    "g = sns.FacetGrid(df_metrics.reset_index(), col=\"Metric\", hue=\"Distribution\", sharex=False, sharey=False)\n",
    "g.map_dataframe(sns.kdeplot, \"Data\", fill=True, common_norm = True).add_legend()\n",
    "plt.savefig(\"comb_metric_all.pdf\")"
   ]
  },
  {
   "cell_type": "markdown",
   "metadata": {},
   "source": [
    "## End of document"
   ]
  },
  {
   "cell_type": "code",
   "execution_count": null,
   "metadata": {},
   "outputs": [],
   "source": []
  }
 ],
 "metadata": {
  "kernelspec": {
   "display_name": "Python 3",
   "language": "python",
   "name": "python3"
  },
  "language_info": {
   "codemirror_mode": {
    "name": "ipython",
    "version": 3
   },
   "file_extension": ".py",
   "mimetype": "text/x-python",
   "name": "python",
   "nbconvert_exporter": "python",
   "pygments_lexer": "ipython3",
   "version": "3.8.13"
  }
 },
 "nbformat": 4,
 "nbformat_minor": 5
}
