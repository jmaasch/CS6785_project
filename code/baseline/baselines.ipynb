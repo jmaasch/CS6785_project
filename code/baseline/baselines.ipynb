{
 "cells": [
  {
   "cell_type": "markdown",
   "metadata": {},
   "source": [
    "# Deep generative modeling for SARS-CoV-2 drug discovery: non-neural baselines\n",
    "\n",
    "Training a Hidden Markov Model as a non-neural baseline.\n",
    "\n",
    "Jacqueline R. M. A. Maasch | March 2022"
   ]
  },
  {
   "cell_type": "markdown",
   "metadata": {},
   "source": [
    "## Preamble"
   ]
  },
  {
   "cell_type": "code",
   "execution_count": 1,
   "metadata": {},
   "outputs": [],
   "source": [
    "%%capture\n",
    "# Install Therapeutics Data Commons.\n",
    "#!python3.8 -m pip install PyTDC\n",
    "\n",
    "# Install pomegranate for HMM model.\n",
    "#!python3.8 -m pip install pomegranate\n",
    "\n",
    "# Needed to resolve error in loading pomegranate.\n",
    "#!python3.8 -m pip install numpy --upgrade numpy\n",
    "\n",
    "# Necessary prior to installing moses.\n",
    "#!python3.8 -m conda install -yq -c rdkit rdkit\n",
    "#!python3.8 -m pip install rdkit-pypi # << This one worked on my machine.\n",
    "\n",
    "# Install moses.\n",
    "#!python3.8 -m pip install molsets\n",
    "\n",
    "\n",
    "\n",
    "# Enviroment setup - Ian on g2 cluster\n",
    "# conda create -n cs6785_py38 python=3.8\n",
    "# conda install -c rdkit rdkit\n",
    "# pip install pomegranate # version: 0.14.8\n",
    "# conda install lfs-git\n",
    "# clone the repository from the Github\n",
    "# remove the pomegranate in the sertup.py\n",
    "# run python setup.py install\n",
    "# conda install pandas\n",
    "# pip install PyTDC \n",
    "# conda install requests\n",
    "# pip install rdkit-pypi"
   ]
  },
  {
   "cell_type": "code",
   "execution_count": 2,
   "metadata": {},
   "outputs": [
    {
     "name": "stdout",
     "output_type": "stream",
     "text": [
      "\n",
      "python version: 3.8.13 | packaged by conda-forge | (default, Mar 25 2022, 06:04:18) \n",
      "[GCC 10.3.0]\n",
      "\n",
      "--- LIBRARY VERSIONS ---\n",
      "tdc:          0.3.6\n",
      "numpy:        1.22.3\n",
      "pandas:       1.1.3\n",
      "moses:        1.0\n",
      "rdkit:        2022.3.1\n",
      "pomegranate:  0.14.8\n"
     ]
    }
   ],
   "source": [
    "# Importations.\n",
    "import pandas as pd\n",
    "import numpy as np\n",
    "import tdc\n",
    "from tdc.single_pred import HTS\n",
    "from moses_hmm import HMM\n",
    "from moses_ngram import NGram\n",
    "from moses_combinatorial import CombinatorialGenerator\n",
    "import sys\n",
    "from importlib.metadata import version\n",
    "from datetime import datetime\n",
    "\n",
    "# View versioning.\n",
    "print(\"\\npython version:\", sys.version)\n",
    "print(\"\\n--- LIBRARY VERSIONS ---\")\n",
    "print(\"tdc:         \", version(\"PyTDC\"))\n",
    "print(\"numpy:       \", version(\"numpy\"))\n",
    "print(\"pandas:      \", version(\"pandas\"))\n",
    "print(\"moses:       \", version(\"molsets\"))\n",
    "print(\"rdkit:       \", version(\"rdkit-pypi\"))\n",
    "print(\"pomegranate: \", version(\"pomegranate\"))"
   ]
  },
  {
   "cell_type": "markdown",
   "metadata": {},
   "source": [
    "## Define functions"
   ]
  },
  {
   "cell_type": "markdown",
   "metadata": {},
   "source": [
    "## Load data\n",
    "\n",
    "Data from the [Therapeutics Data Commons](https://tdcommons.ai/single_pred_tasks/hts/).\n",
    "\n",
    "**SARS-CoV-2 In Vitro, Touret et al.**\n",
    "- Dataset Description: An in-vitro screen of the Prestwick chemical library composed of 1,480 approved drugs in an infected cell-based assay. From MIT AiCures.\n",
    "- Task Description: Binary classification. Given a drug SMILES string, predict its activity against SARSCoV2.\n",
    "- Dataset Statistics: 1,480 drugs.\n",
    "\n",
    "**SARS-CoV-2 3CL Protease, Diamond.**\n",
    "- Dataset Description: A large XChem crystallographic fragment screen against SARS-CoV-2 main protease at high resolution. From MIT AiCures.\n",
    "- Task Description: Binary classification. Given a drug SMILES string, predict its activity against SARSCoV2 3CL Protease.\n",
    "- Dataset Statistics: 879 drugs."
   ]
  },
  {
   "cell_type": "code",
   "execution_count": 3,
   "metadata": {},
   "outputs": [
    {
     "name": "stderr",
     "output_type": "stream",
     "text": [
      "Found local copy...\n",
      "Loading...\n",
      "Done!\n",
      "Found local copy...\n",
      "Loading...\n",
      "Done!\n"
     ]
    }
   ],
   "source": [
    "# Default random state seed for TDC.\n",
    "# Read about split methods here: https://tdcommons.ai/functions/data_split/\n",
    "# Consider scaffold split over random split in the future.\n",
    "random_seed = 42\n",
    "\n",
    "# SARS-CoV-2 In Vitro, Touret et al.\n",
    "data_touret = HTS(name = \"SARSCoV2_Vitro_Touret\")\n",
    "split_touret = data_touret.get_split(method = \"random\", \n",
    "                                     seed = random_seed, \n",
    "                                     frac = [0.7, 0.1, 0.2])\n",
    "\n",
    "# SARS-CoV-2 3CL Protease, Diamond.\n",
    "data_diamond = HTS(name = \"SARSCoV2_3CLPro_Diamond\")\n",
    "split_diamond = data_diamond.get_split(method = \"random\", \n",
    "                                       seed = random_seed, \n",
    "                                       frac = [0.7, 0.1, 0.2])"
   ]
  },
  {
   "cell_type": "code",
   "execution_count": 4,
   "metadata": {},
   "outputs": [
    {
     "name": "stdout",
     "output_type": "stream",
     "text": [
      "dataset datatype: <class 'tdc.single_pred.hts.HTS'>\n",
      "data split datatype: <class 'dict'> \n",
      "\n"
     ]
    },
    {
     "data": {
      "text/plain": [
       "<tdc.single_pred.hts.HTS at 0x7f1b0d13f070>"
      ]
     },
     "metadata": {},
     "output_type": "display_data"
    },
    {
     "name": "stdout",
     "output_type": "stream",
     "text": [
      "\n"
     ]
    },
    {
     "data": {
      "text/plain": [
       "{'train':       Drug_ID                                               Drug  Y\n",
       " 0           0                       CCOc1ccc2nc(S(N)(=O)=O)sc2c1  1\n",
       " 1           1  C[C@]12C/C(=C/O)C(=O)C[C@@H]1CC[C@@H]1[C@@H]2C...  1\n",
       " 2           2               Cc1nccn1CC1CCc2c(c3ccccc3n2C)C1=O.Cl  1\n",
       " 3           3  CC(=O)[C@H]1CC[C@H]2[C@@H]3CC=C4C[C@@H](O)CC[C...  1\n",
       " 4           4  C=C1CC[C@@]2(O)[C@H]3Cc4ccc(O)c5c4[C@@]2(CCN3C...  1\n",
       " ...       ...                                                ... ..\n",
       " 1034     1477                        O=C(CCCCCCC(=O)Nc1ccccc1)NO  0\n",
       " 1035     1478        COc1ccccc1OCCNCC(O)COc1cccc2[nH]c3ccccc3c12  0\n",
       " 1036     1481  Clc1ccc(C(Cn2ccnc2)OCc2csc3c(Cl)cccc23)c(Cl)c1...  0\n",
       " 1037     1482  CCSc1ccc2c(c1)N(CCCN1CCN(C)CC1)c1ccccc1S2.O=C(...  0\n",
       " 1038     1483  C=Cc1c(C)c2cc3nc(cc4[nH]c(cc5nc(cc1[nH]2)C(C)=...  0\n",
       " \n",
       " [1039 rows x 3 columns],\n",
       " 'valid':      Drug_ID                                               Drug  Y\n",
       " 0        581              CC(=O)OCC(CCn1cnc2cnc(N)nc21)COC(C)=O  0\n",
       " 1        375  CC(=O)S[C@@H]1CC2=CC(=O)CC[C@]2(C)[C@H]2CC[C@@...  0\n",
       " 2        703                   Nc1nc2c(ncn2CCC(CO)CO)c(=O)[nH]1  0\n",
       " 3       1039                       NC(=O)N1c2ccccc2C=Cc2ccccc21  0\n",
       " 4        610              O=C(O)CCc1nc(-c2ccccc2)c(-c2ccccc2)o1  0\n",
       " ..       ...                                                ... ..\n",
       " 143      784             CC(=O)N(CC(C)C(=O)O)c1c(I)cc(I)c(N)c1I  0\n",
       " 144     1160                          Cl.NCc1ccc(S(N)(=O)=O)cc1  0\n",
       " 145       48  CC(C(O)c1ccc(O)cc1)N1CCC(Cc2ccccc2)CC1.CC(C(O)...  1\n",
       " 146     1018  COCCCOc1cc(C[C@@H](C[C@H](N)[C@@H](O)C[C@H](C(...  0\n",
       " 147      186               N#Cc1ccc(C(c2ccc(C#N)cc2)n2cncn2)cc1  0\n",
       " \n",
       " [148 rows x 3 columns],\n",
       " 'test':      Drug_ID                                               Drug  Y\n",
       " 0        123               CCCCOc1cc(C(=O)NCCN(CC)CC)c2ccccc2n1  0\n",
       " 1        432  C[C@H](O)[C@H](O)[C@H]1CNc2nc(N)[nH]c(=O)c2N1....  0\n",
       " 2       1033         CS(=O)(=O)Nc1ccc([N+](=O)[O-])cc1Oc1ccccc1  0\n",
       " 3        529  CN1CCCCC1CCN1c2ccccc2Sc2ccc(S(C)=O)cc21.O=S(=O...  0\n",
       " 4       1417                 CNCCCC12CCC(c3ccccc31)c1ccccc12.Cl  0\n",
       " ..       ...                                                ... ..\n",
       " 292     1101      NS(=O)(=O)c1cc2c(cc1Cl)NC(Cc1ccccc1)NS2(=O)=O  0\n",
       " 293     1293                Cc1cc2c(cc1S(N)(=O)=O)S(=O)(=O)CCC2  0\n",
       " 294      543  NC(=O)c1cc[n+](CC2=C(C(=O)[O-])N3C(=O)[C@@H](N...  0\n",
       " 295     1472  CCOC1O[C@H]([C@@H](COCc2ccccc2)OCc2ccccc2)[C@H...  0\n",
       " 296     1013                 NS(=O)(=O)c1cc2c(cc1Cl)NCNS2(=O)=O  0\n",
       " \n",
       " [297 rows x 3 columns]}"
      ]
     },
     "metadata": {},
     "output_type": "display_data"
    }
   ],
   "source": [
    "# Explore data.\n",
    "print(\"dataset datatype:\", type(data_touret))\n",
    "print(\"data split datatype:\", type(split_touret), \"\\n\")\n",
    "display(data_touret)\n",
    "print()\n",
    "display(split_touret)"
   ]
  },
  {
   "cell_type": "markdown",
   "metadata": {},
   "source": [
    "## Process data\n",
    "\n",
    "### Extract splits"
   ]
  },
  {
   "cell_type": "code",
   "execution_count": 5,
   "metadata": {},
   "outputs": [],
   "source": [
    "# Extract training / validation / testing sets.\n",
    "train_touret = split_touret.get(\"train\")\n",
    "val_touret = split_touret.get(\"valid\")\n",
    "test_touret = split_touret.get(\"test\")\n",
    "\n",
    "train_diamond = split_diamond.get(\"train\")\n",
    "val_diamond = split_diamond.get(\"valid\")\n",
    "test_diamond = split_diamond.get(\"test\")"
   ]
  },
  {
   "cell_type": "code",
   "execution_count": 6,
   "metadata": {},
   "outputs": [
    {
     "name": "stdout",
     "output_type": "stream",
     "text": [
      "\n",
      "~~~~~ TOURET: SARS-CoV-2 In Vitro, Touret et al. ~~~~~\n",
      "\n",
      "\n",
      "--- TRAINING SPLIT ---\n",
      "\n",
      "0    977\n",
      "1     62\n",
      "Name: Y, dtype: int64\n",
      "0    0.940327\n",
      "1    0.059673\n",
      "Name: Y, dtype: float64 \n",
      "\n",
      "<class 'pandas.core.frame.DataFrame'>\n",
      "RangeIndex: 1039 entries, 0 to 1038\n",
      "Data columns (total 3 columns):\n",
      " #   Column   Non-Null Count  Dtype \n",
      "---  ------   --------------  ----- \n",
      " 0   Drug_ID  1039 non-null   int64 \n",
      " 1   Drug     1039 non-null   object\n",
      " 2   Y        1039 non-null   int64 \n",
      "dtypes: int64(2), object(1)\n",
      "memory usage: 24.5+ KB\n",
      "None\n"
     ]
    },
    {
     "data": {
      "text/html": [
       "<div>\n",
       "<style scoped>\n",
       "    .dataframe tbody tr th:only-of-type {\n",
       "        vertical-align: middle;\n",
       "    }\n",
       "\n",
       "    .dataframe tbody tr th {\n",
       "        vertical-align: top;\n",
       "    }\n",
       "\n",
       "    .dataframe thead th {\n",
       "        text-align: right;\n",
       "    }\n",
       "</style>\n",
       "<table border=\"1\" class=\"dataframe\">\n",
       "  <thead>\n",
       "    <tr style=\"text-align: right;\">\n",
       "      <th></th>\n",
       "      <th>Drug_ID</th>\n",
       "      <th>Drug</th>\n",
       "      <th>Y</th>\n",
       "    </tr>\n",
       "  </thead>\n",
       "  <tbody>\n",
       "    <tr>\n",
       "      <th>0</th>\n",
       "      <td>0</td>\n",
       "      <td>CCOc1ccc2nc(S(N)(=O)=O)sc2c1</td>\n",
       "      <td>1</td>\n",
       "    </tr>\n",
       "    <tr>\n",
       "      <th>1</th>\n",
       "      <td>1</td>\n",
       "      <td>C[C@]12C/C(=C/O)C(=O)C[C@@H]1CC[C@@H]1[C@@H]2C...</td>\n",
       "      <td>1</td>\n",
       "    </tr>\n",
       "    <tr>\n",
       "      <th>2</th>\n",
       "      <td>2</td>\n",
       "      <td>Cc1nccn1CC1CCc2c(c3ccccc3n2C)C1=O.Cl</td>\n",
       "      <td>1</td>\n",
       "    </tr>\n",
       "    <tr>\n",
       "      <th>3</th>\n",
       "      <td>3</td>\n",
       "      <td>CC(=O)[C@H]1CC[C@H]2[C@@H]3CC=C4C[C@@H](O)CC[C...</td>\n",
       "      <td>1</td>\n",
       "    </tr>\n",
       "    <tr>\n",
       "      <th>4</th>\n",
       "      <td>4</td>\n",
       "      <td>C=C1CC[C@@]2(O)[C@H]3Cc4ccc(O)c5c4[C@@]2(CCN3C...</td>\n",
       "      <td>1</td>\n",
       "    </tr>\n",
       "  </tbody>\n",
       "</table>\n",
       "</div>"
      ],
      "text/plain": [
       "   Drug_ID                                               Drug  Y\n",
       "0        0                       CCOc1ccc2nc(S(N)(=O)=O)sc2c1  1\n",
       "1        1  C[C@]12C/C(=C/O)C(=O)C[C@@H]1CC[C@@H]1[C@@H]2C...  1\n",
       "2        2               Cc1nccn1CC1CCc2c(c3ccccc3n2C)C1=O.Cl  1\n",
       "3        3  CC(=O)[C@H]1CC[C@H]2[C@@H]3CC=C4C[C@@H](O)CC[C...  1\n",
       "4        4  C=C1CC[C@@]2(O)[C@H]3Cc4ccc(O)c5c4[C@@]2(CCN3C...  1"
      ]
     },
     "metadata": {},
     "output_type": "display_data"
    },
    {
     "name": "stdout",
     "output_type": "stream",
     "text": [
      "\n",
      "--- VALIDATION SPLIT ---\n",
      "\n",
      "0    141\n",
      "1      7\n",
      "Name: Y, dtype: int64\n",
      "0    0.952703\n",
      "1    0.047297\n",
      "Name: Y, dtype: float64 \n",
      "\n",
      "<class 'pandas.core.frame.DataFrame'>\n",
      "RangeIndex: 148 entries, 0 to 147\n",
      "Data columns (total 3 columns):\n",
      " #   Column   Non-Null Count  Dtype \n",
      "---  ------   --------------  ----- \n",
      " 0   Drug_ID  148 non-null    int64 \n",
      " 1   Drug     148 non-null    object\n",
      " 2   Y        148 non-null    int64 \n",
      "dtypes: int64(2), object(1)\n",
      "memory usage: 3.6+ KB\n",
      "None\n"
     ]
    },
    {
     "data": {
      "text/html": [
       "<div>\n",
       "<style scoped>\n",
       "    .dataframe tbody tr th:only-of-type {\n",
       "        vertical-align: middle;\n",
       "    }\n",
       "\n",
       "    .dataframe tbody tr th {\n",
       "        vertical-align: top;\n",
       "    }\n",
       "\n",
       "    .dataframe thead th {\n",
       "        text-align: right;\n",
       "    }\n",
       "</style>\n",
       "<table border=\"1\" class=\"dataframe\">\n",
       "  <thead>\n",
       "    <tr style=\"text-align: right;\">\n",
       "      <th></th>\n",
       "      <th>Drug_ID</th>\n",
       "      <th>Drug</th>\n",
       "      <th>Y</th>\n",
       "    </tr>\n",
       "  </thead>\n",
       "  <tbody>\n",
       "    <tr>\n",
       "      <th>0</th>\n",
       "      <td>581</td>\n",
       "      <td>CC(=O)OCC(CCn1cnc2cnc(N)nc21)COC(C)=O</td>\n",
       "      <td>0</td>\n",
       "    </tr>\n",
       "    <tr>\n",
       "      <th>1</th>\n",
       "      <td>375</td>\n",
       "      <td>CC(=O)S[C@@H]1CC2=CC(=O)CC[C@]2(C)[C@H]2CC[C@@...</td>\n",
       "      <td>0</td>\n",
       "    </tr>\n",
       "    <tr>\n",
       "      <th>2</th>\n",
       "      <td>703</td>\n",
       "      <td>Nc1nc2c(ncn2CCC(CO)CO)c(=O)[nH]1</td>\n",
       "      <td>0</td>\n",
       "    </tr>\n",
       "    <tr>\n",
       "      <th>3</th>\n",
       "      <td>1039</td>\n",
       "      <td>NC(=O)N1c2ccccc2C=Cc2ccccc21</td>\n",
       "      <td>0</td>\n",
       "    </tr>\n",
       "    <tr>\n",
       "      <th>4</th>\n",
       "      <td>610</td>\n",
       "      <td>O=C(O)CCc1nc(-c2ccccc2)c(-c2ccccc2)o1</td>\n",
       "      <td>0</td>\n",
       "    </tr>\n",
       "  </tbody>\n",
       "</table>\n",
       "</div>"
      ],
      "text/plain": [
       "   Drug_ID                                               Drug  Y\n",
       "0      581              CC(=O)OCC(CCn1cnc2cnc(N)nc21)COC(C)=O  0\n",
       "1      375  CC(=O)S[C@@H]1CC2=CC(=O)CC[C@]2(C)[C@H]2CC[C@@...  0\n",
       "2      703                   Nc1nc2c(ncn2CCC(CO)CO)c(=O)[nH]1  0\n",
       "3     1039                       NC(=O)N1c2ccccc2C=Cc2ccccc21  0\n",
       "4      610              O=C(O)CCc1nc(-c2ccccc2)c(-c2ccccc2)o1  0"
      ]
     },
     "metadata": {},
     "output_type": "display_data"
    },
    {
     "name": "stdout",
     "output_type": "stream",
     "text": [
      "\n",
      "--- TEST SPLIT ---\n",
      "\n",
      "0    278\n",
      "1     19\n",
      "Name: Y, dtype: int64\n",
      "0    0.936027\n",
      "1    0.063973\n",
      "Name: Y, dtype: float64 \n",
      "\n",
      "<class 'pandas.core.frame.DataFrame'>\n",
      "RangeIndex: 297 entries, 0 to 296\n",
      "Data columns (total 3 columns):\n",
      " #   Column   Non-Null Count  Dtype \n",
      "---  ------   --------------  ----- \n",
      " 0   Drug_ID  297 non-null    int64 \n",
      " 1   Drug     297 non-null    object\n",
      " 2   Y        297 non-null    int64 \n",
      "dtypes: int64(2), object(1)\n",
      "memory usage: 7.1+ KB\n",
      "None\n"
     ]
    },
    {
     "data": {
      "text/html": [
       "<div>\n",
       "<style scoped>\n",
       "    .dataframe tbody tr th:only-of-type {\n",
       "        vertical-align: middle;\n",
       "    }\n",
       "\n",
       "    .dataframe tbody tr th {\n",
       "        vertical-align: top;\n",
       "    }\n",
       "\n",
       "    .dataframe thead th {\n",
       "        text-align: right;\n",
       "    }\n",
       "</style>\n",
       "<table border=\"1\" class=\"dataframe\">\n",
       "  <thead>\n",
       "    <tr style=\"text-align: right;\">\n",
       "      <th></th>\n",
       "      <th>Drug_ID</th>\n",
       "      <th>Drug</th>\n",
       "      <th>Y</th>\n",
       "    </tr>\n",
       "  </thead>\n",
       "  <tbody>\n",
       "    <tr>\n",
       "      <th>0</th>\n",
       "      <td>123</td>\n",
       "      <td>CCCCOc1cc(C(=O)NCCN(CC)CC)c2ccccc2n1</td>\n",
       "      <td>0</td>\n",
       "    </tr>\n",
       "    <tr>\n",
       "      <th>1</th>\n",
       "      <td>432</td>\n",
       "      <td>C[C@H](O)[C@H](O)[C@H]1CNc2nc(N)[nH]c(=O)c2N1....</td>\n",
       "      <td>0</td>\n",
       "    </tr>\n",
       "    <tr>\n",
       "      <th>2</th>\n",
       "      <td>1033</td>\n",
       "      <td>CS(=O)(=O)Nc1ccc([N+](=O)[O-])cc1Oc1ccccc1</td>\n",
       "      <td>0</td>\n",
       "    </tr>\n",
       "    <tr>\n",
       "      <th>3</th>\n",
       "      <td>529</td>\n",
       "      <td>CN1CCCCC1CCN1c2ccccc2Sc2ccc(S(C)=O)cc21.O=S(=O...</td>\n",
       "      <td>0</td>\n",
       "    </tr>\n",
       "    <tr>\n",
       "      <th>4</th>\n",
       "      <td>1417</td>\n",
       "      <td>CNCCCC12CCC(c3ccccc31)c1ccccc12.Cl</td>\n",
       "      <td>0</td>\n",
       "    </tr>\n",
       "  </tbody>\n",
       "</table>\n",
       "</div>"
      ],
      "text/plain": [
       "   Drug_ID                                               Drug  Y\n",
       "0      123               CCCCOc1cc(C(=O)NCCN(CC)CC)c2ccccc2n1  0\n",
       "1      432  C[C@H](O)[C@H](O)[C@H]1CNc2nc(N)[nH]c(=O)c2N1....  0\n",
       "2     1033         CS(=O)(=O)Nc1ccc([N+](=O)[O-])cc1Oc1ccccc1  0\n",
       "3      529  CN1CCCCC1CCN1c2ccccc2Sc2ccc(S(C)=O)cc21.O=S(=O...  0\n",
       "4     1417                 CNCCCC12CCC(c3ccccc31)c1ccccc12.Cl  0"
      ]
     },
     "metadata": {},
     "output_type": "display_data"
    },
    {
     "name": "stdout",
     "output_type": "stream",
     "text": [
      "\n",
      "~~~~~ DIAMOND: SARS-CoV-2 3CL Protease, Diamond et al. ~~~~~\n",
      "\n",
      "\n",
      "--- TRAINING SPLIT ---\n",
      "\n",
      "0    568\n",
      "1     48\n",
      "Name: Y, dtype: int64\n",
      "0    0.922078\n",
      "1    0.077922\n",
      "Name: Y, dtype: float64 \n",
      "\n",
      "<class 'pandas.core.frame.DataFrame'>\n",
      "RangeIndex: 616 entries, 0 to 615\n",
      "Data columns (total 3 columns):\n",
      " #   Column   Non-Null Count  Dtype \n",
      "---  ------   --------------  ----- \n",
      " 0   Drug_ID  616 non-null    int64 \n",
      " 1   Drug     616 non-null    object\n",
      " 2   Y        616 non-null    int64 \n",
      "dtypes: int64(2), object(1)\n",
      "memory usage: 14.6+ KB\n",
      "None\n"
     ]
    },
    {
     "data": {
      "text/html": [
       "<div>\n",
       "<style scoped>\n",
       "    .dataframe tbody tr th:only-of-type {\n",
       "        vertical-align: middle;\n",
       "    }\n",
       "\n",
       "    .dataframe tbody tr th {\n",
       "        vertical-align: top;\n",
       "    }\n",
       "\n",
       "    .dataframe thead th {\n",
       "        text-align: right;\n",
       "    }\n",
       "</style>\n",
       "<table border=\"1\" class=\"dataframe\">\n",
       "  <thead>\n",
       "    <tr style=\"text-align: right;\">\n",
       "      <th></th>\n",
       "      <th>Drug_ID</th>\n",
       "      <th>Drug</th>\n",
       "      <th>Y</th>\n",
       "    </tr>\n",
       "  </thead>\n",
       "  <tbody>\n",
       "    <tr>\n",
       "      <th>0</th>\n",
       "      <td>1</td>\n",
       "      <td>CC(=O)NCCc1c[nH]c2ccc(F)cc12</td>\n",
       "      <td>1</td>\n",
       "    </tr>\n",
       "    <tr>\n",
       "      <th>1</th>\n",
       "      <td>2</td>\n",
       "      <td>NC(=O)[C@H]1CCC[C@H]1c1ccsc1</td>\n",
       "      <td>1</td>\n",
       "    </tr>\n",
       "    <tr>\n",
       "      <th>2</th>\n",
       "      <td>3</td>\n",
       "      <td>CN1CCCc2ccc(S(N)(=O)=O)cc21</td>\n",
       "      <td>1</td>\n",
       "    </tr>\n",
       "    <tr>\n",
       "      <th>3</th>\n",
       "      <td>4</td>\n",
       "      <td>CC(=O)Nc1ccc(Oc2ncccn2)cc1</td>\n",
       "      <td>1</td>\n",
       "    </tr>\n",
       "    <tr>\n",
       "      <th>4</th>\n",
       "      <td>6</td>\n",
       "      <td>O=C(CCl)N1CCN(S(=O)(=O)c2ccc(Cl)cc2)CC1</td>\n",
       "      <td>1</td>\n",
       "    </tr>\n",
       "  </tbody>\n",
       "</table>\n",
       "</div>"
      ],
      "text/plain": [
       "   Drug_ID                                     Drug  Y\n",
       "0        1             CC(=O)NCCc1c[nH]c2ccc(F)cc12  1\n",
       "1        2             NC(=O)[C@H]1CCC[C@H]1c1ccsc1  1\n",
       "2        3              CN1CCCc2ccc(S(N)(=O)=O)cc21  1\n",
       "3        4               CC(=O)Nc1ccc(Oc2ncccn2)cc1  1\n",
       "4        6  O=C(CCl)N1CCN(S(=O)(=O)c2ccc(Cl)cc2)CC1  1"
      ]
     },
     "metadata": {},
     "output_type": "display_data"
    },
    {
     "name": "stdout",
     "output_type": "stream",
     "text": [
      "\n",
      "--- VALIDATION SPLIT ---\n",
      "\n",
      "0    78\n",
      "1    10\n",
      "Name: Y, dtype: int64\n",
      "0    0.886364\n",
      "1    0.113636\n",
      "Name: Y, dtype: float64 \n",
      "\n",
      "<class 'pandas.core.frame.DataFrame'>\n",
      "RangeIndex: 88 entries, 0 to 87\n",
      "Data columns (total 3 columns):\n",
      " #   Column   Non-Null Count  Dtype \n",
      "---  ------   --------------  ----- \n",
      " 0   Drug_ID  88 non-null     int64 \n",
      " 1   Drug     88 non-null     object\n",
      " 2   Y        88 non-null     int64 \n",
      "dtypes: int64(2), object(1)\n",
      "memory usage: 2.2+ KB\n",
      "None\n"
     ]
    },
    {
     "data": {
      "text/html": [
       "<div>\n",
       "<style scoped>\n",
       "    .dataframe tbody tr th:only-of-type {\n",
       "        vertical-align: middle;\n",
       "    }\n",
       "\n",
       "    .dataframe tbody tr th {\n",
       "        vertical-align: top;\n",
       "    }\n",
       "\n",
       "    .dataframe thead th {\n",
       "        text-align: right;\n",
       "    }\n",
       "</style>\n",
       "<table border=\"1\" class=\"dataframe\">\n",
       "  <thead>\n",
       "    <tr style=\"text-align: right;\">\n",
       "      <th></th>\n",
       "      <th>Drug_ID</th>\n",
       "      <th>Drug</th>\n",
       "      <th>Y</th>\n",
       "    </tr>\n",
       "  </thead>\n",
       "  <tbody>\n",
       "    <tr>\n",
       "      <th>0</th>\n",
       "      <td>498</td>\n",
       "      <td>CC(=O)NCC1(c2ccccc2)CCOCC1</td>\n",
       "      <td>0</td>\n",
       "    </tr>\n",
       "    <tr>\n",
       "      <th>1</th>\n",
       "      <td>524</td>\n",
       "      <td>Nc1cc(C(F)(F)F)ccc1N1CCCCC1</td>\n",
       "      <td>0</td>\n",
       "    </tr>\n",
       "    <tr>\n",
       "      <th>2</th>\n",
       "      <td>410</td>\n",
       "      <td>Cn1cc(Oc2ncncc2Cl)cn1</td>\n",
       "      <td>0</td>\n",
       "    </tr>\n",
       "    <tr>\n",
       "      <th>3</th>\n",
       "      <td>233</td>\n",
       "      <td>CC1(C(N)=O)CCCN1</td>\n",
       "      <td>0</td>\n",
       "    </tr>\n",
       "    <tr>\n",
       "      <th>4</th>\n",
       "      <td>229</td>\n",
       "      <td>O=C(CCl)N1CCN(Cc2c(F)cccc2Cl)CC1</td>\n",
       "      <td>0</td>\n",
       "    </tr>\n",
       "  </tbody>\n",
       "</table>\n",
       "</div>"
      ],
      "text/plain": [
       "   Drug_ID                              Drug  Y\n",
       "0      498        CC(=O)NCC1(c2ccccc2)CCOCC1  0\n",
       "1      524       Nc1cc(C(F)(F)F)ccc1N1CCCCC1  0\n",
       "2      410             Cn1cc(Oc2ncncc2Cl)cn1  0\n",
       "3      233                  CC1(C(N)=O)CCCN1  0\n",
       "4      229  O=C(CCl)N1CCN(Cc2c(F)cccc2Cl)CC1  0"
      ]
     },
     "metadata": {},
     "output_type": "display_data"
    },
    {
     "name": "stdout",
     "output_type": "stream",
     "text": [
      "\n",
      "--- TEST SPLIT ---\n",
      "\n",
      "0    156\n",
      "1     20\n",
      "Name: Y, dtype: int64\n",
      "0    0.886364\n",
      "1    0.113636\n",
      "Name: Y, dtype: float64 \n",
      "\n",
      "<class 'pandas.core.frame.DataFrame'>\n",
      "RangeIndex: 176 entries, 0 to 175\n",
      "Data columns (total 3 columns):\n",
      " #   Column   Non-Null Count  Dtype \n",
      "---  ------   --------------  ----- \n",
      " 0   Drug_ID  176 non-null    int64 \n",
      " 1   Drug     176 non-null    object\n",
      " 2   Y        176 non-null    int64 \n",
      "dtypes: int64(2), object(1)\n",
      "memory usage: 4.2+ KB\n",
      "None\n"
     ]
    },
    {
     "data": {
      "text/html": [
       "<div>\n",
       "<style scoped>\n",
       "    .dataframe tbody tr th:only-of-type {\n",
       "        vertical-align: middle;\n",
       "    }\n",
       "\n",
       "    .dataframe tbody tr th {\n",
       "        vertical-align: top;\n",
       "    }\n",
       "\n",
       "    .dataframe thead th {\n",
       "        text-align: right;\n",
       "    }\n",
       "</style>\n",
       "<table border=\"1\" class=\"dataframe\">\n",
       "  <thead>\n",
       "    <tr style=\"text-align: right;\">\n",
       "      <th></th>\n",
       "      <th>Drug_ID</th>\n",
       "      <th>Drug</th>\n",
       "      <th>Y</th>\n",
       "    </tr>\n",
       "  </thead>\n",
       "  <tbody>\n",
       "    <tr>\n",
       "      <th>0</th>\n",
       "      <td>331</td>\n",
       "      <td>CCOc1ccc(NC(=O)NC(C)(C)C)cc1</td>\n",
       "      <td>0</td>\n",
       "    </tr>\n",
       "    <tr>\n",
       "      <th>1</th>\n",
       "      <td>247</td>\n",
       "      <td>C[C@H]1CN(C)CC[C@H]1CO</td>\n",
       "      <td>0</td>\n",
       "    </tr>\n",
       "    <tr>\n",
       "      <th>2</th>\n",
       "      <td>790</td>\n",
       "      <td>CC(C)C(=O)N1CCN(C(C)C)CC1</td>\n",
       "      <td>0</td>\n",
       "    </tr>\n",
       "    <tr>\n",
       "      <th>3</th>\n",
       "      <td>316</td>\n",
       "      <td>Cc1ccccc1C(=O)NC1CCN(C(=O)CCl)CC1</td>\n",
       "      <td>0</td>\n",
       "    </tr>\n",
       "    <tr>\n",
       "      <th>4</th>\n",
       "      <td>215</td>\n",
       "      <td>C[C@H]1NCCC[C@H]1C#N</td>\n",
       "      <td>0</td>\n",
       "    </tr>\n",
       "  </tbody>\n",
       "</table>\n",
       "</div>"
      ],
      "text/plain": [
       "   Drug_ID                               Drug  Y\n",
       "0      331       CCOc1ccc(NC(=O)NC(C)(C)C)cc1  0\n",
       "1      247             C[C@H]1CN(C)CC[C@H]1CO  0\n",
       "2      790          CC(C)C(=O)N1CCN(C(C)C)CC1  0\n",
       "3      316  Cc1ccccc1C(=O)NC1CCN(C(=O)CCl)CC1  0\n",
       "4      215               C[C@H]1NCCC[C@H]1C#N  0"
      ]
     },
     "metadata": {},
     "output_type": "display_data"
    }
   ],
   "source": [
    "# Explore data splits.\n",
    "print(\"\\n~~~~~ TOURET: SARS-CoV-2 In Vitro, Touret et al. ~~~~~\\n\")\n",
    "print(\"\\n--- TRAINING SPLIT ---\\n\")\n",
    "print(train_touret.Y.value_counts())\n",
    "print(train_touret.Y.value_counts(normalize = True), \"\\n\")\n",
    "print(train_touret.info())\n",
    "display(train_touret.head())\n",
    "print(\"\\n--- VALIDATION SPLIT ---\\n\")\n",
    "print(val_touret.Y.value_counts())\n",
    "print(val_touret.Y.value_counts(normalize = True), \"\\n\")\n",
    "print(val_touret.info())\n",
    "display(val_touret.head())\n",
    "print(\"\\n--- TEST SPLIT ---\\n\")\n",
    "print(test_touret.Y.value_counts())\n",
    "print(test_touret.Y.value_counts(normalize = True), \"\\n\")\n",
    "print(test_touret.info())\n",
    "display(test_touret.head())\n",
    "\n",
    "# Explore data splits.\n",
    "print(\"\\n~~~~~ DIAMOND: SARS-CoV-2 3CL Protease, Diamond et al. ~~~~~\\n\")\n",
    "print(\"\\n--- TRAINING SPLIT ---\\n\")\n",
    "print(train_diamond.Y.value_counts())\n",
    "print(train_diamond.Y.value_counts(normalize = True), \"\\n\")\n",
    "print(train_diamond.info())\n",
    "display(train_diamond.head())\n",
    "print(\"\\n--- VALIDATION SPLIT ---\\n\")\n",
    "print(val_diamond.Y.value_counts())\n",
    "print(val_diamond.Y.value_counts(normalize = True), \"\\n\")\n",
    "print(val_diamond.info())\n",
    "display(val_diamond.head())\n",
    "print(\"\\n--- TEST SPLIT ---\\n\")\n",
    "print(test_diamond.Y.value_counts())\n",
    "print(test_diamond.Y.value_counts(normalize = True), \"\\n\")\n",
    "print(test_diamond.info())\n",
    "display(test_diamond.head())"
   ]
  },
  {
   "cell_type": "markdown",
   "metadata": {},
   "source": [
    "### Separate actives and inactives"
   ]
  },
  {
   "cell_type": "code",
   "execution_count": 7,
   "metadata": {},
   "outputs": [],
   "source": [
    "# Agreggate all actives.\n",
    "touret_pos = pd.concat([train_touret[train_touret.Y == 1],\n",
    "                        val_touret[val_touret.Y == 1],\n",
    "                        test_touret[test_touret.Y == 1]])\n",
    "\n",
    "diamond_pos = pd.concat([train_diamond[train_diamond.Y == 1],\n",
    "                         val_diamond[val_diamond.Y == 1],\n",
    "                         test_diamond[test_diamond.Y == 1]])\n",
    "actives = pd.concat([touret_pos, diamond_pos])"
   ]
  },
  {
   "cell_type": "code",
   "execution_count": 8,
   "metadata": {},
   "outputs": [
    {
     "name": "stdout",
     "output_type": "stream",
     "text": [
      "1    166\n",
      "Name: Y, dtype: int64\n",
      "<class 'pandas.core.frame.DataFrame'>\n",
      "Int64Index: 166 entries, 0 to 169\n",
      "Data columns (total 3 columns):\n",
      " #   Column   Non-Null Count  Dtype \n",
      "---  ------   --------------  ----- \n",
      " 0   Drug_ID  166 non-null    int64 \n",
      " 1   Drug     166 non-null    object\n",
      " 2   Y        166 non-null    int64 \n",
      "dtypes: int64(2), object(1)\n",
      "memory usage: 5.2+ KB\n",
      "None\n"
     ]
    },
    {
     "data": {
      "text/html": [
       "<div>\n",
       "<style scoped>\n",
       "    .dataframe tbody tr th:only-of-type {\n",
       "        vertical-align: middle;\n",
       "    }\n",
       "\n",
       "    .dataframe tbody tr th {\n",
       "        vertical-align: top;\n",
       "    }\n",
       "\n",
       "    .dataframe thead th {\n",
       "        text-align: right;\n",
       "    }\n",
       "</style>\n",
       "<table border=\"1\" class=\"dataframe\">\n",
       "  <thead>\n",
       "    <tr style=\"text-align: right;\">\n",
       "      <th></th>\n",
       "      <th>Drug_ID</th>\n",
       "      <th>Drug</th>\n",
       "      <th>Y</th>\n",
       "    </tr>\n",
       "  </thead>\n",
       "  <tbody>\n",
       "    <tr>\n",
       "      <th>0</th>\n",
       "      <td>0</td>\n",
       "      <td>CCOc1ccc2nc(S(N)(=O)=O)sc2c1</td>\n",
       "      <td>1</td>\n",
       "    </tr>\n",
       "    <tr>\n",
       "      <th>1</th>\n",
       "      <td>1</td>\n",
       "      <td>C[C@]12C/C(=C/O)C(=O)C[C@@H]1CC[C@@H]1[C@@H]2C...</td>\n",
       "      <td>1</td>\n",
       "    </tr>\n",
       "    <tr>\n",
       "      <th>2</th>\n",
       "      <td>2</td>\n",
       "      <td>Cc1nccn1CC1CCc2c(c3ccccc3n2C)C1=O.Cl</td>\n",
       "      <td>1</td>\n",
       "    </tr>\n",
       "    <tr>\n",
       "      <th>3</th>\n",
       "      <td>3</td>\n",
       "      <td>CC(=O)[C@H]1CC[C@H]2[C@@H]3CC=C4C[C@@H](O)CC[C...</td>\n",
       "      <td>1</td>\n",
       "    </tr>\n",
       "    <tr>\n",
       "      <th>4</th>\n",
       "      <td>4</td>\n",
       "      <td>C=C1CC[C@@]2(O)[C@H]3Cc4ccc(O)c5c4[C@@]2(CCN3C...</td>\n",
       "      <td>1</td>\n",
       "    </tr>\n",
       "  </tbody>\n",
       "</table>\n",
       "</div>"
      ],
      "text/plain": [
       "   Drug_ID                                               Drug  Y\n",
       "0        0                       CCOc1ccc2nc(S(N)(=O)=O)sc2c1  1\n",
       "1        1  C[C@]12C/C(=C/O)C(=O)C[C@@H]1CC[C@@H]1[C@@H]2C...  1\n",
       "2        2               Cc1nccn1CC1CCc2c(c3ccccc3n2C)C1=O.Cl  1\n",
       "3        3  CC(=O)[C@H]1CC[C@H]2[C@@H]3CC=C4C[C@@H](O)CC[C...  1\n",
       "4        4  C=C1CC[C@@]2(O)[C@H]3Cc4ccc(O)c5c4[C@@]2(CCN3C...  1"
      ]
     },
     "metadata": {},
     "output_type": "display_data"
    }
   ],
   "source": [
    "print(actives.Y.value_counts())\n",
    "print(actives.info())\n",
    "display(actives.head())"
   ]
  },
  {
   "cell_type": "code",
   "execution_count": 9,
   "metadata": {},
   "outputs": [],
   "source": [
    "# Agreggate all inactives.\n",
    "touret_neg = pd.concat([train_touret[train_touret.Y == 0],\n",
    "                        val_touret[val_touret.Y == 0],\n",
    "                        test_touret[test_touret.Y == 0]])\n",
    "\n",
    "diamond_neg = pd.concat([train_diamond[train_diamond.Y == 0],\n",
    "                         val_diamond[val_diamond.Y == 0],\n",
    "                         test_diamond[test_diamond.Y == 0]])\n",
    "inactives = pd.concat([touret_neg, diamond_neg])"
   ]
  },
  {
   "cell_type": "code",
   "execution_count": 10,
   "metadata": {},
   "outputs": [
    {
     "name": "stdout",
     "output_type": "stream",
     "text": [
      "0    2198\n",
      "Name: Y, dtype: int64\n",
      "<class 'pandas.core.frame.DataFrame'>\n",
      "Int64Index: 2198 entries, 62 to 175\n",
      "Data columns (total 3 columns):\n",
      " #   Column   Non-Null Count  Dtype \n",
      "---  ------   --------------  ----- \n",
      " 0   Drug_ID  2198 non-null   int64 \n",
      " 1   Drug     2198 non-null   object\n",
      " 2   Y        2198 non-null   int64 \n",
      "dtypes: int64(2), object(1)\n",
      "memory usage: 68.7+ KB\n",
      "None\n"
     ]
    },
    {
     "data": {
      "text/html": [
       "<div>\n",
       "<style scoped>\n",
       "    .dataframe tbody tr th:only-of-type {\n",
       "        vertical-align: middle;\n",
       "    }\n",
       "\n",
       "    .dataframe tbody tr th {\n",
       "        vertical-align: top;\n",
       "    }\n",
       "\n",
       "    .dataframe thead th {\n",
       "        text-align: right;\n",
       "    }\n",
       "</style>\n",
       "<table border=\"1\" class=\"dataframe\">\n",
       "  <thead>\n",
       "    <tr style=\"text-align: right;\">\n",
       "      <th></th>\n",
       "      <th>Drug_ID</th>\n",
       "      <th>Drug</th>\n",
       "      <th>Y</th>\n",
       "    </tr>\n",
       "  </thead>\n",
       "  <tbody>\n",
       "    <tr>\n",
       "      <th>62</th>\n",
       "      <td>88</td>\n",
       "      <td>CC1=C(/C=C/C(C)=C/C=C/C(C)=C/C(=O)O)C(C)(C)CCC1</td>\n",
       "      <td>0</td>\n",
       "    </tr>\n",
       "    <tr>\n",
       "      <th>63</th>\n",
       "      <td>89</td>\n",
       "      <td>CCC(COC(=O)c1cc(OC)c(OC)c(OC)c1)(c1ccccc1)N(C)C</td>\n",
       "      <td>0</td>\n",
       "    </tr>\n",
       "    <tr>\n",
       "      <th>64</th>\n",
       "      <td>90</td>\n",
       "      <td>Clc1ccc(Nc2nnc(Cc3ccncc3)c3ccccc23)cc1</td>\n",
       "      <td>0</td>\n",
       "    </tr>\n",
       "    <tr>\n",
       "      <th>65</th>\n",
       "      <td>91</td>\n",
       "      <td>CC(C)=CCC1C(=O)N(c2ccccc2)N(c2ccccc2)C1=O</td>\n",
       "      <td>0</td>\n",
       "    </tr>\n",
       "    <tr>\n",
       "      <th>66</th>\n",
       "      <td>92</td>\n",
       "      <td>CCN1CCCC(OC(=O)C(c2ccccc2)c2ccccc2)C1.Cl</td>\n",
       "      <td>0</td>\n",
       "    </tr>\n",
       "  </tbody>\n",
       "</table>\n",
       "</div>"
      ],
      "text/plain": [
       "    Drug_ID                                             Drug  Y\n",
       "62       88  CC1=C(/C=C/C(C)=C/C=C/C(C)=C/C(=O)O)C(C)(C)CCC1  0\n",
       "63       89  CCC(COC(=O)c1cc(OC)c(OC)c(OC)c1)(c1ccccc1)N(C)C  0\n",
       "64       90           Clc1ccc(Nc2nnc(Cc3ccncc3)c3ccccc23)cc1  0\n",
       "65       91        CC(C)=CCC1C(=O)N(c2ccccc2)N(c2ccccc2)C1=O  0\n",
       "66       92         CCN1CCCC(OC(=O)C(c2ccccc2)c2ccccc2)C1.Cl  0"
      ]
     },
     "metadata": {},
     "output_type": "display_data"
    }
   ],
   "source": [
    "print(inactives.Y.value_counts())\n",
    "print(inactives.info())\n",
    "display(inactives.head())"
   ]
  },
  {
   "cell_type": "markdown",
   "metadata": {},
   "source": [
    "## Train Hidden Markov Model, NGram, Combinatorial\n",
    "\n",
    "### Fit models\n",
    "\n",
    "Fit separate models for molecules that demonstrated activity and molecules that did not."
   ]
  },
  {
   "cell_type": "code",
   "execution_count": 17,
   "metadata": {},
   "outputs": [
    {
     "name": "stdout",
     "output_type": "stream",
     "text": [
      "HMM Time = 0:22:30.710662\n",
      "NGram Time = 0:00:00.072013\n",
      "Comb Time = 0:00:00.093822\n"
     ]
    }
   ],
   "source": [
    "# Train HMM on actives.\n",
    "\n",
    "start = datetime.now()\n",
    "hmm_active = HMM()\n",
    "hmm_active = hmm_active.fit(actives.Drug)\n",
    "end = datetime.now()\n",
    "print(\"HMM Time =\", end-start)\n",
    "\n",
    "start = datetime.now()\n",
    "ngram_active = NGram()\n",
    "ngram_active.fit(actives.Drug)\n",
    "end = datetime.now()\n",
    "print(\"NGram Time =\", end-start)\n",
    "\n",
    "start = datetime.now()\n",
    "comb_active = CombinatorialGenerator()\n",
    "comb_active.fit(actives.Drug)\n",
    "end = datetime.now()\n",
    "print(\"Comb Time =\", end-start)\n"
   ]
  },
  {
   "cell_type": "code",
   "execution_count": 20,
   "metadata": {},
   "outputs": [
    {
     "name": "stdout",
     "output_type": "stream",
     "text": [
      "HMM Time = 5:39:23.626083\n",
      "NGram Time = 0:00:00.928925\n",
      "Comb Time = 0:00:01.183941\n"
     ]
    }
   ],
   "source": [
    "start = datetime.now()\n",
    "hmm_inactive = HMM()\n",
    "hmm_inactive = hmm_inactive.fit(inactives.Drug)\n",
    "end = datetime.now()\n",
    "print(\"HMM Time =\", end-start)\n",
    "\n",
    "start = datetime.now()\n",
    "ngram_inactive = NGram()\n",
    "ngram_inactive.fit(inactives.Drug)\n",
    "end = datetime.now()\n",
    "print(\"NGram Time =\", end-start)\n",
    "\n",
    "start = datetime.now()\n",
    "comb_inactive = CombinatorialGenerator()\n",
    "comb_inactive.fit(inactives.Drug)\n",
    "end = datetime.now()\n",
    "print(\"Comb Time =\", end-start)"
   ]
  },
  {
   "cell_type": "markdown",
   "metadata": {},
   "source": [
    "## Save trained models"
   ]
  },
  {
   "cell_type": "code",
   "execution_count": 21,
   "metadata": {},
   "outputs": [],
   "source": [
    "# Pickle models.\n",
    "path = \"/home/yl759/cs6785/CS6785_project/data/pickled_model/\"\n",
    "hmm_active.save(path + \"hmm_active.pkl\")\n",
    "hmm_inactive.save(path + \"hmm_inactive.pkl\")\n",
    "ngram_active.save(path + \"ngram_active.pkl\")\n",
    "ngram_inactive.save(path + \"ngram_inactive.pkl\")\n",
    "comb_active.save(path + \"comb_active.pkl\")\n",
    "comb_inactive.save(path + \"comb_inactive.pkl\")"
   ]
  },
  {
   "cell_type": "code",
   "execution_count": null,
   "metadata": {},
   "outputs": [],
   "source": [
    "# # Test loading pickled models.\n",
    "# test_hmm_active = HMM().load(path + active_name)\n",
    "# test_hmm_inactive = HMM().load(path + inactive_name)\n",
    "# print(\"ACTIVE SAMPLE =\", test_hmm_active.generate_one())\n",
    "# print(\"INACTIVE SAMPLE =\", test_hmm_inactive.generate_one())"
   ]
  },
  {
   "cell_type": "markdown",
   "metadata": {},
   "source": [
    "## Generate novel molecules"
   ]
  },
  {
   "cell_type": "code",
   "execution_count": null,
   "metadata": {},
   "outputs": [],
   "source": [
    "# Generate 1000 de novo SARS-CoV-2 \"actives.\"\n",
    "de_novo_actives = []\n",
    "for i in range(1000):\n",
    "    de_novo = hmm_active.generate_one()\n",
    "    de_novo_actives.append(de_novo)\n",
    "    if i % 100 == 0:\n",
    "        print(de_novo)\n",
    "        \n",
    "print(len(de_novo_actives))"
   ]
  },
  {
   "cell_type": "code",
   "execution_count": null,
   "metadata": {},
   "outputs": [],
   "source": [
    "# Generate 1000 de novo SARS-CoV-2 \"inactives.\"\n",
    "de_novo_inactives = []\n",
    "for i in range(1000):\n",
    "    de_novo = hmm_inactive.generate_one()\n",
    "    de_novo_inactives.append(de_novo)\n",
    "    if i % 100 == 0:\n",
    "        print(de_novo)\n",
    "        \n",
    "print(len(de_novo_inactives))"
   ]
  },
  {
   "cell_type": "markdown",
   "metadata": {},
   "source": [
    "### Export de novo samples"
   ]
  },
  {
   "cell_type": "code",
   "execution_count": null,
   "metadata": {},
   "outputs": [],
   "source": [
    "# Export as CSV.\n",
    "df_de_novo_actives = pd.DataFrame({\"SMILES\": de_novo_actives,\n",
    "                                   \"Active\": [1] * len(de_novo_actives)})\n",
    "df_de_novo_inactives = pd.DataFrame({\"SMILES\": de_novo_inactives,\n",
    "                                     \"Active\": [0] * len(de_novo_inactives)})\n",
    "df_de_novo = pd.concat([df_de_novo_actives, df_de_novo_inactives])\n",
    "df_de_novo.to_csv(\"hmm_de_novo_2k.csv\", index = False)"
   ]
  },
  {
   "cell_type": "code",
   "execution_count": null,
   "metadata": {},
   "outputs": [],
   "source": [
    "df_de_novo"
   ]
  },
  {
   "cell_type": "code",
   "execution_count": null,
   "metadata": {},
   "outputs": [],
   "source": [
    "df_de_novo.Active.value_counts()"
   ]
  },
  {
   "cell_type": "markdown",
   "metadata": {},
   "source": [
    "## Examine de novo molecule distributions"
   ]
  },
  {
   "cell_type": "code",
   "execution_count": null,
   "metadata": {},
   "outputs": [],
   "source": []
  },
  {
   "cell_type": "code",
   "execution_count": null,
   "metadata": {},
   "outputs": [],
   "source": []
  },
  {
   "cell_type": "code",
   "execution_count": null,
   "metadata": {},
   "outputs": [],
   "source": []
  }
 ],
 "metadata": {
  "kernelspec": {
   "display_name": "Python 3",
   "language": "python",
   "name": "python3"
  },
  "language_info": {
   "codemirror_mode": {
    "name": "ipython",
    "version": 3
   },
   "file_extension": ".py",
   "mimetype": "text/x-python",
   "name": "python",
   "nbconvert_exporter": "python",
   "pygments_lexer": "ipython3",
   "version": "3.8.13"
  }
 },
 "nbformat": 4,
 "nbformat_minor": 5
}
