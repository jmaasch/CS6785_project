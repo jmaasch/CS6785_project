{
 "cells": [
  {
   "cell_type": "markdown",
   "id": "f9fa6d24-516a-4b44-a84f-9464aa819d04",
   "metadata": {},
   "source": [
    "# Canonicalize SMILES strings\n",
    "\n",
    "Jacqueline R. M. A. Maasch | May 2022"
   ]
  },
  {
   "cell_type": "markdown",
   "id": "fda69461-05ff-4f32-8bf1-fc125678048b",
   "metadata": {},
   "source": [
    "## Preamble"
   ]
  },
  {
   "cell_type": "code",
   "execution_count": 3,
   "id": "353d472d-0392-4129-acd0-2bf3206fb59f",
   "metadata": {},
   "outputs": [],
   "source": [
    "from rdkit import Chem\n",
    "import pandas as pd"
   ]
  },
  {
   "cell_type": "markdown",
   "id": "f4e7a284-430e-4979-a488-1da78ab55605",
   "metadata": {},
   "source": [
    "## Define functions"
   ]
  },
  {
   "cell_type": "code",
   "execution_count": 13,
   "id": "2abb4ceb-d0ae-49ae-a687-97f261784936",
   "metadata": {},
   "outputs": [],
   "source": [
    "def canonicalize(smiles_strings):\n",
    "    canonical_smiles = []\n",
    "    noncanonical = 0\n",
    "    for smiles in smiles_strings:\n",
    "        canonical = Chem.MolToSmiles(Chem.MolFromSmiles(smiles), canonical = True)\n",
    "        canonical_smiles.append(canonical)\n",
    "        if (smiles != canonical):\n",
    "            noncanonical += 1\n",
    "    print(\"\\nTotal SMILES that were not canonical:\", noncanonical)\n",
    "    return canonical_smiles"
   ]
  },
  {
   "cell_type": "markdown",
   "id": "5b9e4c4d-63eb-426f-ae7d-4c8bd0553ee7",
   "metadata": {},
   "source": [
    "## Read data"
   ]
  },
  {
   "cell_type": "code",
   "execution_count": 4,
   "id": "f4695a18-07a7-44d1-87df-07866d1ee3a2",
   "metadata": {},
   "outputs": [],
   "source": [
    "# Read CSV files.\n",
    "df_actives_train = pd.read_csv(\"actives_train.csv\")\n",
    "df_actives_val = pd.read_csv(\"actives_val.csv\")\n",
    "\n",
    "df_inactives_train = pd.read_csv(\"inactives_train.csv\")\n",
    "df_inactives_val = pd.read_csv(\"inactives_val.csv\")"
   ]
  },
  {
   "cell_type": "code",
   "execution_count": 5,
   "id": "0bd26bc7-a3e7-4825-98e0-0775413d57ab",
   "metadata": {},
   "outputs": [
    {
     "name": "stdout",
     "output_type": "stream",
     "text": [
      "<class 'pandas.core.frame.DataFrame'>\n",
      "RangeIndex: 132 entries, 0 to 131\n",
      "Data columns (total 1 columns):\n",
      " #   Column  Non-Null Count  Dtype \n",
      "---  ------  --------------  ----- \n",
      " 0   SMILES  132 non-null    object\n",
      "dtypes: object(1)\n",
      "memory usage: 1.2+ KB\n",
      "None\n"
     ]
    },
    {
     "data": {
      "text/html": [
       "<div>\n",
       "<style scoped>\n",
       "    .dataframe tbody tr th:only-of-type {\n",
       "        vertical-align: middle;\n",
       "    }\n",
       "\n",
       "    .dataframe tbody tr th {\n",
       "        vertical-align: top;\n",
       "    }\n",
       "\n",
       "    .dataframe thead th {\n",
       "        text-align: right;\n",
       "    }\n",
       "</style>\n",
       "<table border=\"1\" class=\"dataframe\">\n",
       "  <thead>\n",
       "    <tr style=\"text-align: right;\">\n",
       "      <th></th>\n",
       "      <th>SMILES</th>\n",
       "    </tr>\n",
       "  </thead>\n",
       "  <tbody>\n",
       "    <tr>\n",
       "      <th>0</th>\n",
       "      <td>NC(=O)c1ccc(NC(=O)[C@@H]2CCCO2)cc1</td>\n",
       "    </tr>\n",
       "    <tr>\n",
       "      <th>1</th>\n",
       "      <td>Cc1nccn1CC1CCc2c(c3ccccc3n2C)C1=O.Cl</td>\n",
       "    </tr>\n",
       "    <tr>\n",
       "      <th>2</th>\n",
       "      <td>COC(=O)Nc1sc(C)nc1-c1ccccc1</td>\n",
       "    </tr>\n",
       "    <tr>\n",
       "      <th>3</th>\n",
       "      <td>OC1CCN(Cc2ccsc2)CC1</td>\n",
       "    </tr>\n",
       "    <tr>\n",
       "      <th>4</th>\n",
       "      <td>CC(C(O)c1ccc(O)cc1)N1CCC(Cc2ccccc2)CC1.CC(C(O)...</td>\n",
       "    </tr>\n",
       "  </tbody>\n",
       "</table>\n",
       "</div>"
      ],
      "text/plain": [
       "                                              SMILES\n",
       "0                 NC(=O)c1ccc(NC(=O)[C@@H]2CCCO2)cc1\n",
       "1               Cc1nccn1CC1CCc2c(c3ccccc3n2C)C1=O.Cl\n",
       "2                        COC(=O)Nc1sc(C)nc1-c1ccccc1\n",
       "3                                OC1CCN(Cc2ccsc2)CC1\n",
       "4  CC(C(O)c1ccc(O)cc1)N1CCC(Cc2ccccc2)CC1.CC(C(O)..."
      ]
     },
     "metadata": {},
     "output_type": "display_data"
    },
    {
     "name": "stdout",
     "output_type": "stream",
     "text": [
      "<class 'pandas.core.frame.DataFrame'>\n",
      "RangeIndex: 34 entries, 0 to 33\n",
      "Data columns (total 1 columns):\n",
      " #   Column  Non-Null Count  Dtype \n",
      "---  ------  --------------  ----- \n",
      " 0   SMILES  34 non-null     object\n",
      "dtypes: object(1)\n",
      "memory usage: 400.0+ bytes\n",
      "None\n"
     ]
    },
    {
     "data": {
      "text/html": [
       "<div>\n",
       "<style scoped>\n",
       "    .dataframe tbody tr th:only-of-type {\n",
       "        vertical-align: middle;\n",
       "    }\n",
       "\n",
       "    .dataframe tbody tr th {\n",
       "        vertical-align: top;\n",
       "    }\n",
       "\n",
       "    .dataframe thead th {\n",
       "        text-align: right;\n",
       "    }\n",
       "</style>\n",
       "<table border=\"1\" class=\"dataframe\">\n",
       "  <thead>\n",
       "    <tr style=\"text-align: right;\">\n",
       "      <th></th>\n",
       "      <th>SMILES</th>\n",
       "    </tr>\n",
       "  </thead>\n",
       "  <tbody>\n",
       "    <tr>\n",
       "      <th>0</th>\n",
       "      <td>O=C(CCl)N1CCN(Cc2cccc3ccccc23)CC1</td>\n",
       "    </tr>\n",
       "    <tr>\n",
       "      <th>1</th>\n",
       "      <td>O=C(CCl)N1CCN(S(=O)(=O)c2cccs2)CC1</td>\n",
       "    </tr>\n",
       "    <tr>\n",
       "      <th>2</th>\n",
       "      <td>C[C@H]1CN(c2c(F)c(N)c3c(=O)c(C(=O)O)cn(C4CC4)c...</td>\n",
       "    </tr>\n",
       "    <tr>\n",
       "      <th>3</th>\n",
       "      <td>C/C=C/c1ccc(OC)cc1</td>\n",
       "    </tr>\n",
       "    <tr>\n",
       "      <th>4</th>\n",
       "      <td>Clc1cccc(CN2CCOCC2)c1</td>\n",
       "    </tr>\n",
       "  </tbody>\n",
       "</table>\n",
       "</div>"
      ],
      "text/plain": [
       "                                              SMILES\n",
       "0                  O=C(CCl)N1CCN(Cc2cccc3ccccc23)CC1\n",
       "1                 O=C(CCl)N1CCN(S(=O)(=O)c2cccs2)CC1\n",
       "2  C[C@H]1CN(c2c(F)c(N)c3c(=O)c(C(=O)O)cn(C4CC4)c...\n",
       "3                                 C/C=C/c1ccc(OC)cc1\n",
       "4                              Clc1cccc(CN2CCOCC2)c1"
      ]
     },
     "metadata": {},
     "output_type": "display_data"
    },
    {
     "name": "stdout",
     "output_type": "stream",
     "text": [
      "<class 'pandas.core.frame.DataFrame'>\n",
      "RangeIndex: 1758 entries, 0 to 1757\n",
      "Data columns (total 1 columns):\n",
      " #   Column  Non-Null Count  Dtype \n",
      "---  ------  --------------  ----- \n",
      " 0   SMILES  1758 non-null   object\n",
      "dtypes: object(1)\n",
      "memory usage: 13.9+ KB\n",
      "None\n"
     ]
    },
    {
     "data": {
      "text/html": [
       "<div>\n",
       "<style scoped>\n",
       "    .dataframe tbody tr th:only-of-type {\n",
       "        vertical-align: middle;\n",
       "    }\n",
       "\n",
       "    .dataframe tbody tr th {\n",
       "        vertical-align: top;\n",
       "    }\n",
       "\n",
       "    .dataframe thead th {\n",
       "        text-align: right;\n",
       "    }\n",
       "</style>\n",
       "<table border=\"1\" class=\"dataframe\">\n",
       "  <thead>\n",
       "    <tr style=\"text-align: right;\">\n",
       "      <th></th>\n",
       "      <th>SMILES</th>\n",
       "    </tr>\n",
       "  </thead>\n",
       "  <tbody>\n",
       "    <tr>\n",
       "      <th>0</th>\n",
       "      <td>Nc1ccn([C@@H]2O[C@H](CO)[C@@H](O)[C@@H]2O)c(=O)n1</td>\n",
       "    </tr>\n",
       "    <tr>\n",
       "      <th>1</th>\n",
       "      <td>COc1cc(Br)c(C[N+]2(CCOCCC3CCC4CC3C4(C)C)CCOCC2...</td>\n",
       "    </tr>\n",
       "    <tr>\n",
       "      <th>2</th>\n",
       "      <td>O=C1CCc2ccc(OCCCCN3CCN(c4cccc(Cl)c4Cl)CC3)cc2N1</td>\n",
       "    </tr>\n",
       "    <tr>\n",
       "      <th>3</th>\n",
       "      <td>COCC1=C(C(=O)OC(C)OC(=O)OC(C)C)N2C(=O)[C@@H](N...</td>\n",
       "    </tr>\n",
       "    <tr>\n",
       "      <th>4</th>\n",
       "      <td>c1nc(N2CCC2)c2[nH]cnc2n1</td>\n",
       "    </tr>\n",
       "  </tbody>\n",
       "</table>\n",
       "</div>"
      ],
      "text/plain": [
       "                                              SMILES\n",
       "0  Nc1ccn([C@@H]2O[C@H](CO)[C@@H](O)[C@@H]2O)c(=O)n1\n",
       "1  COc1cc(Br)c(C[N+]2(CCOCCC3CCC4CC3C4(C)C)CCOCC2...\n",
       "2    O=C1CCc2ccc(OCCCCN3CCN(c4cccc(Cl)c4Cl)CC3)cc2N1\n",
       "3  COCC1=C(C(=O)OC(C)OC(=O)OC(C)C)N2C(=O)[C@@H](N...\n",
       "4                           c1nc(N2CCC2)c2[nH]cnc2n1"
      ]
     },
     "metadata": {},
     "output_type": "display_data"
    },
    {
     "name": "stdout",
     "output_type": "stream",
     "text": [
      "<class 'pandas.core.frame.DataFrame'>\n",
      "RangeIndex: 440 entries, 0 to 439\n",
      "Data columns (total 1 columns):\n",
      " #   Column  Non-Null Count  Dtype \n",
      "---  ------  --------------  ----- \n",
      " 0   SMILES  440 non-null    object\n",
      "dtypes: object(1)\n",
      "memory usage: 3.6+ KB\n",
      "None\n"
     ]
    },
    {
     "data": {
      "text/html": [
       "<div>\n",
       "<style scoped>\n",
       "    .dataframe tbody tr th:only-of-type {\n",
       "        vertical-align: middle;\n",
       "    }\n",
       "\n",
       "    .dataframe tbody tr th {\n",
       "        vertical-align: top;\n",
       "    }\n",
       "\n",
       "    .dataframe thead th {\n",
       "        text-align: right;\n",
       "    }\n",
       "</style>\n",
       "<table border=\"1\" class=\"dataframe\">\n",
       "  <thead>\n",
       "    <tr style=\"text-align: right;\">\n",
       "      <th></th>\n",
       "      <th>SMILES</th>\n",
       "    </tr>\n",
       "  </thead>\n",
       "  <tbody>\n",
       "    <tr>\n",
       "      <th>0</th>\n",
       "      <td>CCC1(C)CC(=O)NC1=O</td>\n",
       "    </tr>\n",
       "    <tr>\n",
       "      <th>1</th>\n",
       "      <td>CC(=O)N[C@@H](CCC(N)=O)C(=O)O</td>\n",
       "    </tr>\n",
       "    <tr>\n",
       "      <th>2</th>\n",
       "      <td>O=C1O[C@H]([C@@H](O)CO)C(O)=C1O</td>\n",
       "    </tr>\n",
       "    <tr>\n",
       "      <th>3</th>\n",
       "      <td>CC(C)n1cnc(S(N)(=O)=O)c1</td>\n",
       "    </tr>\n",
       "    <tr>\n",
       "      <th>4</th>\n",
       "      <td>Cc1ccc(=O)n(-c2ccccc2)c1</td>\n",
       "    </tr>\n",
       "  </tbody>\n",
       "</table>\n",
       "</div>"
      ],
      "text/plain": [
       "                            SMILES\n",
       "0               CCC1(C)CC(=O)NC1=O\n",
       "1    CC(=O)N[C@@H](CCC(N)=O)C(=O)O\n",
       "2  O=C1O[C@H]([C@@H](O)CO)C(O)=C1O\n",
       "3         CC(C)n1cnc(S(N)(=O)=O)c1\n",
       "4         Cc1ccc(=O)n(-c2ccccc2)c1"
      ]
     },
     "metadata": {},
     "output_type": "display_data"
    }
   ],
   "source": [
    "# Explore data.\n",
    "print(df_actives_train.info())\n",
    "display(df_actives_train.head())\n",
    "\n",
    "print(df_actives_val.info())\n",
    "display(df_actives_val.head())\n",
    "\n",
    "print(df_inactives_train.info())\n",
    "display(df_inactives_train.head())\n",
    "\n",
    "print(df_inactives_val.info())\n",
    "display(df_inactives_val.head())"
   ]
  },
  {
   "cell_type": "code",
   "execution_count": 6,
   "id": "d4660acd-d5cf-46ba-9adc-f028ed36872d",
   "metadata": {},
   "outputs": [
    {
     "name": "stdout",
     "output_type": "stream",
     "text": [
      "Total actives for training: 132\n",
      "Total actives for validation: 34\n",
      "Total inactives for training: 1758\n",
      "Total inactives for validation: 440\n"
     ]
    }
   ],
   "source": [
    "print(\"Total actives for training:\", len(df_actives_train))\n",
    "print(\"Total actives for validation:\", len(df_actives_val))\n",
    "print(\"Total inactives for training:\", len(df_inactives_train))\n",
    "print(\"Total inactives for validation:\", len(df_inactives_val))"
   ]
  },
  {
   "cell_type": "markdown",
   "id": "6f561748-ab9c-4168-94a9-bc992a76c225",
   "metadata": {},
   "source": [
    "## Canonicalize SMILES"
   ]
  },
  {
   "cell_type": "code",
   "execution_count": 14,
   "id": "4a79ece2-14cb-4b5d-928c-be14ba4f83e1",
   "metadata": {},
   "outputs": [
    {
     "name": "stdout",
     "output_type": "stream",
     "text": [
      "\n",
      "Total SMILES that were not canonical: 0\n",
      "\n",
      "Total SMILES that were not canonical: 0\n"
     ]
    }
   ],
   "source": [
    "# Canonicalize active molecules.\n",
    "actives_train_canonical = canonicalize(df_actives_train[\"SMILES\"])\n",
    "actives_val_canonical = canonicalize(df_actives_val[\"SMILES\"])"
   ]
  },
  {
   "cell_type": "code",
   "execution_count": 15,
   "id": "99cfd4c4-42c8-4301-9f02-20e8cad57bab",
   "metadata": {},
   "outputs": [
    {
     "name": "stdout",
     "output_type": "stream",
     "text": [
      "\n",
      "Total SMILES that were not canonical: 0\n",
      "\n",
      "Total SMILES that were not canonical: 0\n"
     ]
    }
   ],
   "source": [
    "# Canonicalize inactive molecules.\n",
    "inactives_train_canonical = canonicalize(df_inactives_train[\"SMILES\"])\n",
    "inactives_val_canonical = canonicalize(df_inactives_val[\"SMILES\"])"
   ]
  },
  {
   "cell_type": "markdown",
   "id": "34ad5621-0b87-4c81-a8ab-dc8a8c6b1728",
   "metadata": {},
   "source": [
    "## Export data"
   ]
  },
  {
   "cell_type": "code",
   "execution_count": null,
   "id": "171d2cf0-db42-4cd2-afa4-4f34b8a253f7",
   "metadata": {},
   "outputs": [],
   "source": []
  },
  {
   "cell_type": "code",
   "execution_count": null,
   "id": "ae445648-f41c-4693-8db7-8e03c16ffb8a",
   "metadata": {},
   "outputs": [],
   "source": []
  },
  {
   "cell_type": "markdown",
   "id": "09e9a6bf-49b7-4680-997a-edbdfccc3868",
   "metadata": {},
   "source": [
    "## End of document"
   ]
  },
  {
   "cell_type": "code",
   "execution_count": null,
   "id": "b4b534be-919a-4946-aff1-b52a21482925",
   "metadata": {},
   "outputs": [],
   "source": []
  }
 ],
 "metadata": {
  "kernelspec": {
   "display_name": "Python 3 (ipykernel)",
   "language": "python",
   "name": "python3"
  },
  "language_info": {
   "codemirror_mode": {
    "name": "ipython",
    "version": 3
   },
   "file_extension": ".py",
   "mimetype": "text/x-python",
   "name": "python",
   "nbconvert_exporter": "python",
   "pygments_lexer": "ipython3",
   "version": "3.8.8"
  }
 },
 "nbformat": 4,
 "nbformat_minor": 5
}
