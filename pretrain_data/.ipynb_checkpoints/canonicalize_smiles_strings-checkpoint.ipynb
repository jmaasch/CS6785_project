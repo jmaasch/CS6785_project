{
 "cells": [
  {
   "cell_type": "markdown",
   "id": "f9fa6d24-516a-4b44-a84f-9464aa819d04",
   "metadata": {},
   "source": [
    "# Canonicalize SMILES strings\n",
    "\n",
    "Jacqueline R. M. A. Maasch | May 2022"
   ]
  },
  {
   "cell_type": "markdown",
   "id": "fda69461-05ff-4f32-8bf1-fc125678048b",
   "metadata": {},
   "source": [
    "## Preamble"
   ]
  },
  {
   "cell_type": "code",
   "execution_count": 17,
   "id": "353d472d-0392-4129-acd0-2bf3206fb59f",
   "metadata": {},
   "outputs": [],
   "source": [
    "from rdkit import Chem\n",
    "import pandas as pd"
   ]
  },
  {
   "cell_type": "markdown",
   "id": "f4e7a284-430e-4979-a488-1da78ab55605",
   "metadata": {},
   "source": [
    "## Define functions"
   ]
  },
  {
   "cell_type": "code",
   "execution_count": 18,
   "id": "2abb4ceb-d0ae-49ae-a687-97f261784936",
   "metadata": {},
   "outputs": [],
   "source": [
    "def canonicalize(smiles_strings):\n",
    "    canonical_smiles = []\n",
    "    noncanonical = 0\n",
    "    for smiles in smiles_strings:\n",
    "        canonical = Chem.MolToSmiles(Chem.MolFromSmiles(smiles), canonical = True)\n",
    "        canonical_smiles.append(canonical)\n",
    "        if (smiles != canonical):\n",
    "            noncanonical += 1\n",
    "    print(\"\\nTotal SMILES that were not canonical:\", noncanonical)\n",
    "    return canonical_smiles"
   ]
  },
  {
   "cell_type": "markdown",
   "id": "5b9e4c4d-63eb-426f-ae7d-4c8bd0553ee7",
   "metadata": {},
   "source": [
    "## Read data"
   ]
  },
  {
   "cell_type": "code",
   "execution_count": 19,
   "id": "f4695a18-07a7-44d1-87df-07866d1ee3a2",
   "metadata": {},
   "outputs": [],
   "source": [
    "# Read CSV files.\n",
    "df_train = pd.read_csv(\"train_100k.csv\")\n",
    "df_test = pd.read_csv(\"test_25k.csv\")"
   ]
  },
  {
   "cell_type": "code",
   "execution_count": 20,
   "id": "0bd26bc7-a3e7-4825-98e0-0775413d57ab",
   "metadata": {},
   "outputs": [
    {
     "name": "stdout",
     "output_type": "stream",
     "text": [
      "<class 'pandas.core.frame.DataFrame'>\n",
      "RangeIndex: 100000 entries, 0 to 99999\n",
      "Data columns (total 2 columns):\n",
      " #   Column  Non-Null Count   Dtype \n",
      "---  ------  --------------   ----- \n",
      " 0   SMILES  100000 non-null  object\n",
      " 1   SPLIT   100000 non-null  object\n",
      "dtypes: object(2)\n",
      "memory usage: 1.5+ MB\n",
      "None\n"
     ]
    },
    {
     "data": {
      "text/html": [
       "<div>\n",
       "<style scoped>\n",
       "    .dataframe tbody tr th:only-of-type {\n",
       "        vertical-align: middle;\n",
       "    }\n",
       "\n",
       "    .dataframe tbody tr th {\n",
       "        vertical-align: top;\n",
       "    }\n",
       "\n",
       "    .dataframe thead th {\n",
       "        text-align: right;\n",
       "    }\n",
       "</style>\n",
       "<table border=\"1\" class=\"dataframe\">\n",
       "  <thead>\n",
       "    <tr style=\"text-align: right;\">\n",
       "      <th></th>\n",
       "      <th>SMILES</th>\n",
       "      <th>SPLIT</th>\n",
       "    </tr>\n",
       "  </thead>\n",
       "  <tbody>\n",
       "    <tr>\n",
       "      <th>0</th>\n",
       "      <td>CNC(=O)c1ccc(Sc2ncc(C(C)C)n2C2CC2)nn1</td>\n",
       "      <td>train</td>\n",
       "    </tr>\n",
       "    <tr>\n",
       "      <th>1</th>\n",
       "      <td>CCC(C)(C)C(=O)Nc1ccc(NC(=O)OC(C)(C)C)nc1</td>\n",
       "      <td>train</td>\n",
       "    </tr>\n",
       "    <tr>\n",
       "      <th>2</th>\n",
       "      <td>COc1ccc2c(c1)CN(C(=O)NCc1cccc(C)n1)CC2</td>\n",
       "      <td>train</td>\n",
       "    </tr>\n",
       "    <tr>\n",
       "      <th>3</th>\n",
       "      <td>COc1cccc(OC)c1CNC1COc2ccccc2C1</td>\n",
       "      <td>train</td>\n",
       "    </tr>\n",
       "    <tr>\n",
       "      <th>4</th>\n",
       "      <td>Cc1cccc(C)c1CCNC(=O)c1ccc(-n2ccnn2)cc1</td>\n",
       "      <td>train</td>\n",
       "    </tr>\n",
       "  </tbody>\n",
       "</table>\n",
       "</div>"
      ],
      "text/plain": [
       "                                     SMILES  SPLIT\n",
       "0     CNC(=O)c1ccc(Sc2ncc(C(C)C)n2C2CC2)nn1  train\n",
       "1  CCC(C)(C)C(=O)Nc1ccc(NC(=O)OC(C)(C)C)nc1  train\n",
       "2    COc1ccc2c(c1)CN(C(=O)NCc1cccc(C)n1)CC2  train\n",
       "3            COc1cccc(OC)c1CNC1COc2ccccc2C1  train\n",
       "4    Cc1cccc(C)c1CCNC(=O)c1ccc(-n2ccnn2)cc1  train"
      ]
     },
     "metadata": {},
     "output_type": "display_data"
    },
    {
     "name": "stdout",
     "output_type": "stream",
     "text": [
      "<class 'pandas.core.frame.DataFrame'>\n",
      "RangeIndex: 25000 entries, 0 to 24999\n",
      "Data columns (total 2 columns):\n",
      " #   Column  Non-Null Count  Dtype \n",
      "---  ------  --------------  ----- \n",
      " 0   SMILES  25000 non-null  object\n",
      " 1   SPLIT   25000 non-null  object\n",
      "dtypes: object(2)\n",
      "memory usage: 390.8+ KB\n",
      "None\n"
     ]
    },
    {
     "data": {
      "text/html": [
       "<div>\n",
       "<style scoped>\n",
       "    .dataframe tbody tr th:only-of-type {\n",
       "        vertical-align: middle;\n",
       "    }\n",
       "\n",
       "    .dataframe tbody tr th {\n",
       "        vertical-align: top;\n",
       "    }\n",
       "\n",
       "    .dataframe thead th {\n",
       "        text-align: right;\n",
       "    }\n",
       "</style>\n",
       "<table border=\"1\" class=\"dataframe\">\n",
       "  <thead>\n",
       "    <tr style=\"text-align: right;\">\n",
       "      <th></th>\n",
       "      <th>SMILES</th>\n",
       "      <th>SPLIT</th>\n",
       "    </tr>\n",
       "  </thead>\n",
       "  <tbody>\n",
       "    <tr>\n",
       "      <th>0</th>\n",
       "      <td>CC(C)Cc1noc(C2CCN(S(=O)(=O)c3ccccc3)CC2)n1</td>\n",
       "      <td>test</td>\n",
       "    </tr>\n",
       "    <tr>\n",
       "      <th>1</th>\n",
       "      <td>CC(C)CC(=O)Nc1cc2c(cc1N)OCCO2</td>\n",
       "      <td>test</td>\n",
       "    </tr>\n",
       "    <tr>\n",
       "      <th>2</th>\n",
       "      <td>CC(Oc1cccc(C#N)c1)C(=O)N1CCc2ccc(Cl)cc2C1</td>\n",
       "      <td>test</td>\n",
       "    </tr>\n",
       "    <tr>\n",
       "      <th>3</th>\n",
       "      <td>Cc1ccc(NC(=O)CN(C)S(C)(=O)=O)c(O)c1</td>\n",
       "      <td>test</td>\n",
       "    </tr>\n",
       "    <tr>\n",
       "      <th>4</th>\n",
       "      <td>COCc1cc(N2CCc3ccccc3C2)n2nccc2n1</td>\n",
       "      <td>test</td>\n",
       "    </tr>\n",
       "  </tbody>\n",
       "</table>\n",
       "</div>"
      ],
      "text/plain": [
       "                                       SMILES SPLIT\n",
       "0  CC(C)Cc1noc(C2CCN(S(=O)(=O)c3ccccc3)CC2)n1  test\n",
       "1               CC(C)CC(=O)Nc1cc2c(cc1N)OCCO2  test\n",
       "2   CC(Oc1cccc(C#N)c1)C(=O)N1CCc2ccc(Cl)cc2C1  test\n",
       "3         Cc1ccc(NC(=O)CN(C)S(C)(=O)=O)c(O)c1  test\n",
       "4            COCc1cc(N2CCc3ccccc3C2)n2nccc2n1  test"
      ]
     },
     "metadata": {},
     "output_type": "display_data"
    }
   ],
   "source": [
    "# Explore data.\n",
    "print(df_train.info())\n",
    "display(df_train.head())\n",
    "\n",
    "print(df_test.info())\n",
    "display(df_test.head())"
   ]
  },
  {
   "cell_type": "code",
   "execution_count": 21,
   "id": "d4660acd-d5cf-46ba-9adc-f028ed36872d",
   "metadata": {},
   "outputs": [
    {
     "name": "stdout",
     "output_type": "stream",
     "text": [
      "Total actives for training: 100000\n",
      "Total actives for validation: 25000\n"
     ]
    }
   ],
   "source": [
    "print(\"Total actives for training:\", len(df_train))\n",
    "print(\"Total actives for validation:\", len(df_test))"
   ]
  },
  {
   "cell_type": "markdown",
   "id": "6f561748-ab9c-4168-94a9-bc992a76c225",
   "metadata": {},
   "source": [
    "## Canonicalize SMILES"
   ]
  },
  {
   "cell_type": "code",
   "execution_count": 22,
   "id": "4a79ece2-14cb-4b5d-928c-be14ba4f83e1",
   "metadata": {},
   "outputs": [
    {
     "name": "stdout",
     "output_type": "stream",
     "text": [
      "\n",
      "Total SMILES that were not canonical: 12\n"
     ]
    }
   ],
   "source": [
    "# Canonicalize training set molecules.\n",
    "train_canonical = canonicalize(df_train[\"SMILES\"])"
   ]
  },
  {
   "cell_type": "code",
   "execution_count": 23,
   "id": "99cfd4c4-42c8-4301-9f02-20e8cad57bab",
   "metadata": {},
   "outputs": [
    {
     "name": "stdout",
     "output_type": "stream",
     "text": [
      "\n",
      "Total SMILES that were not canonical: 6\n"
     ]
    }
   ],
   "source": [
    "# Canonicalize testing set molecules.\n",
    "test_canonical = canonicalize(df_test[\"SMILES\"])"
   ]
  },
  {
   "cell_type": "code",
   "execution_count": 24,
   "id": "be81c973-1c3a-4173-8bca-7b8c19e3b3d7",
   "metadata": {},
   "outputs": [
    {
     "name": "stdout",
     "output_type": "stream",
     "text": [
      "<class 'pandas.core.frame.DataFrame'>\n",
      "RangeIndex: 100000 entries, 0 to 99999\n",
      "Data columns (total 1 columns):\n",
      " #   Column  Non-Null Count   Dtype \n",
      "---  ------  --------------   ----- \n",
      " 0   SMILES  100000 non-null  object\n",
      "dtypes: object(1)\n",
      "memory usage: 781.4+ KB\n",
      "None\n"
     ]
    },
    {
     "data": {
      "text/html": [
       "<div>\n",
       "<style scoped>\n",
       "    .dataframe tbody tr th:only-of-type {\n",
       "        vertical-align: middle;\n",
       "    }\n",
       "\n",
       "    .dataframe tbody tr th {\n",
       "        vertical-align: top;\n",
       "    }\n",
       "\n",
       "    .dataframe thead th {\n",
       "        text-align: right;\n",
       "    }\n",
       "</style>\n",
       "<table border=\"1\" class=\"dataframe\">\n",
       "  <thead>\n",
       "    <tr style=\"text-align: right;\">\n",
       "      <th></th>\n",
       "      <th>SMILES</th>\n",
       "    </tr>\n",
       "  </thead>\n",
       "  <tbody>\n",
       "    <tr>\n",
       "      <th>0</th>\n",
       "      <td>CNC(=O)c1ccc(Sc2ncc(C(C)C)n2C2CC2)nn1</td>\n",
       "    </tr>\n",
       "    <tr>\n",
       "      <th>1</th>\n",
       "      <td>CCC(C)(C)C(=O)Nc1ccc(NC(=O)OC(C)(C)C)nc1</td>\n",
       "    </tr>\n",
       "    <tr>\n",
       "      <th>2</th>\n",
       "      <td>COc1ccc2c(c1)CN(C(=O)NCc1cccc(C)n1)CC2</td>\n",
       "    </tr>\n",
       "    <tr>\n",
       "      <th>3</th>\n",
       "      <td>COc1cccc(OC)c1CNC1COc2ccccc2C1</td>\n",
       "    </tr>\n",
       "    <tr>\n",
       "      <th>4</th>\n",
       "      <td>Cc1cccc(C)c1CCNC(=O)c1ccc(-n2ccnn2)cc1</td>\n",
       "    </tr>\n",
       "  </tbody>\n",
       "</table>\n",
       "</div>"
      ],
      "text/plain": [
       "                                     SMILES\n",
       "0     CNC(=O)c1ccc(Sc2ncc(C(C)C)n2C2CC2)nn1\n",
       "1  CCC(C)(C)C(=O)Nc1ccc(NC(=O)OC(C)(C)C)nc1\n",
       "2    COc1ccc2c(c1)CN(C(=O)NCc1cccc(C)n1)CC2\n",
       "3            COc1cccc(OC)c1CNC1COc2ccccc2C1\n",
       "4    Cc1cccc(C)c1CCNC(=O)c1ccc(-n2ccnn2)cc1"
      ]
     },
     "metadata": {},
     "output_type": "display_data"
    },
    {
     "name": "stdout",
     "output_type": "stream",
     "text": [
      "<class 'pandas.core.frame.DataFrame'>\n",
      "RangeIndex: 25000 entries, 0 to 24999\n",
      "Data columns (total 1 columns):\n",
      " #   Column  Non-Null Count  Dtype \n",
      "---  ------  --------------  ----- \n",
      " 0   SMILES  25000 non-null  object\n",
      "dtypes: object(1)\n",
      "memory usage: 195.4+ KB\n",
      "None\n"
     ]
    },
    {
     "data": {
      "text/html": [
       "<div>\n",
       "<style scoped>\n",
       "    .dataframe tbody tr th:only-of-type {\n",
       "        vertical-align: middle;\n",
       "    }\n",
       "\n",
       "    .dataframe tbody tr th {\n",
       "        vertical-align: top;\n",
       "    }\n",
       "\n",
       "    .dataframe thead th {\n",
       "        text-align: right;\n",
       "    }\n",
       "</style>\n",
       "<table border=\"1\" class=\"dataframe\">\n",
       "  <thead>\n",
       "    <tr style=\"text-align: right;\">\n",
       "      <th></th>\n",
       "      <th>SMILES</th>\n",
       "    </tr>\n",
       "  </thead>\n",
       "  <tbody>\n",
       "    <tr>\n",
       "      <th>0</th>\n",
       "      <td>CC(C)Cc1noc(C2CCN(S(=O)(=O)c3ccccc3)CC2)n1</td>\n",
       "    </tr>\n",
       "    <tr>\n",
       "      <th>1</th>\n",
       "      <td>CC(C)CC(=O)Nc1cc2c(cc1N)OCCO2</td>\n",
       "    </tr>\n",
       "    <tr>\n",
       "      <th>2</th>\n",
       "      <td>CC(Oc1cccc(C#N)c1)C(=O)N1CCc2ccc(Cl)cc2C1</td>\n",
       "    </tr>\n",
       "    <tr>\n",
       "      <th>3</th>\n",
       "      <td>Cc1ccc(NC(=O)CN(C)S(C)(=O)=O)c(O)c1</td>\n",
       "    </tr>\n",
       "    <tr>\n",
       "      <th>4</th>\n",
       "      <td>COCc1cc(N2CCc3ccccc3C2)n2nccc2n1</td>\n",
       "    </tr>\n",
       "  </tbody>\n",
       "</table>\n",
       "</div>"
      ],
      "text/plain": [
       "                                       SMILES\n",
       "0  CC(C)Cc1noc(C2CCN(S(=O)(=O)c3ccccc3)CC2)n1\n",
       "1               CC(C)CC(=O)Nc1cc2c(cc1N)OCCO2\n",
       "2   CC(Oc1cccc(C#N)c1)C(=O)N1CCc2ccc(Cl)cc2C1\n",
       "3         Cc1ccc(NC(=O)CN(C)S(C)(=O)=O)c(O)c1\n",
       "4            COCc1cc(N2CCc3ccccc3C2)n2nccc2n1"
      ]
     },
     "metadata": {},
     "output_type": "display_data"
    }
   ],
   "source": [
    "# Convert to dataframes.\n",
    "train_canonical = pd.DataFrame({\"SMILES\": train_canonical})\n",
    "test_canonical = pd.DataFrame({\"SMILES\": test_canonical})\n",
    "\n",
    "print(train_canonical.info())\n",
    "display(train_canonical.head())\n",
    "\n",
    "print(test_canonical.info())\n",
    "display(test_canonical.head())"
   ]
  },
  {
   "cell_type": "markdown",
   "id": "34ad5621-0b87-4c81-a8ab-dc8a8c6b1728",
   "metadata": {},
   "source": [
    "## Export data"
   ]
  },
  {
   "cell_type": "code",
   "execution_count": 25,
   "id": "171d2cf0-db42-4cd2-afa4-4f34b8a253f7",
   "metadata": {},
   "outputs": [],
   "source": [
    "train_canonical.to_csv(\"train_100k_canonical.csv\", index = False)"
   ]
  },
  {
   "cell_type": "code",
   "execution_count": 26,
   "id": "ae445648-f41c-4693-8db7-8e03c16ffb8a",
   "metadata": {},
   "outputs": [],
   "source": [
    "test_canonical.to_csv(\"test_25k_canonical.csv\", index = False)"
   ]
  },
  {
   "cell_type": "markdown",
   "id": "09e9a6bf-49b7-4680-997a-edbdfccc3868",
   "metadata": {},
   "source": [
    "## End of document"
   ]
  },
  {
   "cell_type": "code",
   "execution_count": null,
   "id": "b4b534be-919a-4946-aff1-b52a21482925",
   "metadata": {},
   "outputs": [],
   "source": []
  }
 ],
 "metadata": {
  "kernelspec": {
   "display_name": "Python 3 (ipykernel)",
   "language": "python",
   "name": "python3"
  },
  "language_info": {
   "codemirror_mode": {
    "name": "ipython",
    "version": 3
   },
   "file_extension": ".py",
   "mimetype": "text/x-python",
   "name": "python",
   "nbconvert_exporter": "python",
   "pygments_lexer": "ipython3",
   "version": "3.8.8"
  }
 },
 "nbformat": 4,
 "nbformat_minor": 5
}
