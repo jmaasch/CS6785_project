{
 "cells": [
  {
   "cell_type": "markdown",
   "id": "7047db9b-37ab-4929-bfd1-d5969afe6620",
   "metadata": {},
   "source": [
    "# AAE with no pretraining: Performance evaluation\n",
    "\n",
    "Jacqueline R. M. A. Maasch | May 2022"
   ]
  },
  {
   "cell_type": "markdown",
   "id": "165eae80-6924-404f-bb17-45cf493b77cf",
   "metadata": {},
   "source": [
    "## Preamble"
   ]
  },
  {
   "cell_type": "code",
   "execution_count": 1,
   "id": "b49fbaff-9362-48a5-84b7-6ba7fc9a6a48",
   "metadata": {},
   "outputs": [],
   "source": [
    "# Importations.\n",
    "import moses\n",
    "import pandas as pd\n",
    "import numpy as np\n",
    "import time\n",
    "import sys\n",
    "import matplotlib.pyplot as plt\n",
    "import seaborn as sns\n",
    "from scipy.stats import wasserstein_distance\n",
    "from moses.metrics import weight, logP, SA, QED\n",
    "from moses.metrics.utils import get_mol, mapper\n",
    "from moses import get_dataset\n",
    "from collections import OrderedDict\n",
    "from tdc.chem_utils import MolFilter\n",
    "import warnings\n",
    "from tdc import Oracle\n",
    "from rdkit import Chem                                                                                                                                                                   \n",
    "from rdkit import RDLogger \n",
    "from random import sample\n",
    "import tdc\n",
    "from tdc import Evaluator\n",
    "from tdc.single_pred import HTS\n",
    "from importlib.metadata import version"
   ]
  },
  {
   "cell_type": "code",
   "execution_count": 2,
   "id": "4bfe0784-cba3-4427-8423-b3e822d26520",
   "metadata": {},
   "outputs": [
    {
     "name": "stdout",
     "output_type": "stream",
     "text": [
      "\n",
      "python version: 3.8.8 (default, Apr 13 2021, 12:59:45) \n",
      "[Clang 10.0.0 ]\n",
      "\n",
      "--- LIBRARY VERSIONS ---\n",
      "tdc:          0.3.6\n",
      "numpy:        1.22.3\n",
      "pandas:       1.2.4\n",
      "moses:        0.3.1\n",
      "rdkit:        2021.9.5.1\n",
      "scipy:        1.7.2\n",
      "seaborn:      0.11.1\n",
      "matplotlib:   3.3.4\n"
     ]
    }
   ],
   "source": [
    "# View versioning.\n",
    "print(\"\\npython version:\", sys.version)\n",
    "print(\"\\n--- LIBRARY VERSIONS ---\")\n",
    "print(\"tdc:         \", version(\"PyTDC\"))\n",
    "print(\"numpy:       \", version(\"numpy\"))\n",
    "print(\"pandas:      \", version(\"pandas\"))\n",
    "print(\"moses:       \", version(\"molsets\"))\n",
    "print(\"rdkit:       \", version(\"rdkit-pypi\"))\n",
    "print(\"scipy:       \", version(\"scipy\"))\n",
    "print(\"seaborn:     \", version(\"seaborn\"))\n",
    "print(\"matplotlib:  \", version(\"matplotlib\"))"
   ]
  },
  {
   "cell_type": "code",
   "execution_count": 3,
   "id": "65f02590-1c93-4268-87e6-7af42042832c",
   "metadata": {},
   "outputs": [],
   "source": [
    "%%capture\n",
    "# Installs.\n",
    "#!python3.8 -m pip install fcd_torch\n",
    "#!python3.8 -m pip install rxn4chemistry"
   ]
  },
  {
   "cell_type": "markdown",
   "id": "f78dc6e4-ecaa-450d-8a01-bceb24390854",
   "metadata": {},
   "source": [
    "## Define functions"
   ]
  },
  {
   "cell_type": "code",
   "execution_count": 4,
   "id": "8406dab1-94d5-4048-888b-a94e878c5479",
   "metadata": {},
   "outputs": [],
   "source": [
    "def compute_tdc_metrics(generated, training):\n",
    "    \n",
    "    metrics_dict = dict()\n",
    "    \n",
    "    kl = Evaluator(name = \"KL_Divergence\")\n",
    "    metrics_dict[\"KL divergence\"] = kl(generated, training)\n",
    "\n",
    "    uniqueness = Evaluator(name = \"Uniqueness\")\n",
    "    metrics_dict[\"Uniqueness\"] = uniqueness(generated)\n",
    "\n",
    "    validity = Evaluator(name = \"Validity\")\n",
    "    metrics_dict[\"Validity\"] = validity(generated)\n",
    "\n",
    "    novelty = Evaluator(name = \"Novelty\")\n",
    "    metrics_dict[\"Novelty\"] = novelty(generated, training)\n",
    "\n",
    "    #fcd = Evaluator(name = \"FCD_Distance\")\n",
    "    #metrics_dict[\"FCD distance\"] = fcd(generated, training)\n",
    "\n",
    "    diversity = Evaluator(name = \"Diversity\")\n",
    "    metrics_dict[\"Diversity\"] = diversity(generated)\n",
    "\n",
    "    return metrics_dict\n",
    "\n",
    "\n",
    "def remove_ungrammatical(generated):\n",
    "    # Disable warnings.\n",
    "    RDLogger.DisableLog(\"rdApp.*\")  \n",
    "    \n",
    "    # Filter molecules.\n",
    "    keep = []\n",
    "    invalid_string = 0\n",
    "    invalid_chemistry = 0\n",
    "    for molecule in generated:\n",
    "        m = Chem.MolFromSmiles(molecule, sanitize = False)\n",
    "        if m is None:\n",
    "            invalid_string += 1\n",
    "        else:\n",
    "            try:\n",
    "                Chem.SanitizeMol(m)\n",
    "                keep.append(molecule)\n",
    "            except:\n",
    "                invalid_chemistry += 1\n",
    "                \n",
    "    print(\"Total strings with invalid SMILES syntax:\", invalid_string)\n",
    "    print(\"Total strings with invalid chemistry:\", invalid_chemistry)\n",
    "    print(\"Total valid SMILES strings:\", len(keep))\n",
    "    print(\"Percent valid SMILES strings:\", (len(keep) / len(generated)))\n",
    "    \n",
    "    return keep\n",
    "\n",
    "\n",
    "def plot_distribution_basic(df, \n",
    "                            log_x = None, \n",
    "                            log_y = None, \n",
    "                            save_path = \"./plt.pdf\", \n",
    "                            save = False):\n",
    "    \n",
    "    sns.displot(data = df, \n",
    "                x = \"Value\", \n",
    "                hue = \"Distribution\", \n",
    "                col = \"Metric\",\n",
    "                kind = \"kde\", \n",
    "                log_scale = (log_x, log_y),\n",
    "                common_norm = True,\n",
    "                fill = True,\n",
    "                height = 5)\n",
    "    if save:\n",
    "        plt.savefig(save_path)\n",
    "    else:\n",
    "        plt.show()\n",
    "    \n",
    "    \n",
    "def plot_distribution(df, \n",
    "                      log_x = None, \n",
    "                      log_y = None, \n",
    "                      save_path = \"./plt.pdf\", \n",
    "                      save = False):\n",
    "    \n",
    "    g = sns.FacetGrid(df.reset_index(), \n",
    "                      col = \"Metric\",\n",
    "                      hue = \"Distribution\", \n",
    "                      sharex = False, \n",
    "                      sharey = False)\n",
    "    g.map_dataframe(sns.kdeplot, \n",
    "                    \"Value\",\n",
    "                    fill = True, \n",
    "                    log_scale = (log_x, log_y),\n",
    "                    common_norm = True).add_legend()\n",
    "    if save:\n",
    "        plt.savefig(save_path)\n",
    "    else:\n",
    "        plt.show()"
   ]
  },
  {
   "cell_type": "markdown",
   "id": "7aa6c3d8-51d9-4d6e-b1f6-44c38da5841e",
   "metadata": {},
   "source": [
    "## Read data\n",
    "\n",
    "### Generated molecules"
   ]
  },
  {
   "cell_type": "code",
   "execution_count": 5,
   "id": "5db30b54-2b42-4fe3-a683-9504e05b2397",
   "metadata": {},
   "outputs": [
    {
     "name": "stdout",
     "output_type": "stream",
     "text": [
      "<class 'pandas.core.frame.DataFrame'>\n",
      "RangeIndex: 100000 entries, 0 to 99999\n",
      "Data columns (total 1 columns):\n",
      " #   Column  Non-Null Count   Dtype \n",
      "---  ------  --------------   ----- \n",
      " 0   SMILES  100000 non-null  object\n",
      "dtypes: object(1)\n",
      "memory usage: 781.4+ KB\n",
      "None\n"
     ]
    },
    {
     "data": {
      "text/html": [
       "<div>\n",
       "<style scoped>\n",
       "    .dataframe tbody tr th:only-of-type {\n",
       "        vertical-align: middle;\n",
       "    }\n",
       "\n",
       "    .dataframe tbody tr th {\n",
       "        vertical-align: top;\n",
       "    }\n",
       "\n",
       "    .dataframe thead th {\n",
       "        text-align: right;\n",
       "    }\n",
       "</style>\n",
       "<table border=\"1\" class=\"dataframe\">\n",
       "  <thead>\n",
       "    <tr style=\"text-align: right;\">\n",
       "      <th></th>\n",
       "      <th>SMILES</th>\n",
       "    </tr>\n",
       "  </thead>\n",
       "  <tbody>\n",
       "    <tr>\n",
       "      <th>0</th>\n",
       "      <td>CN(C)CCCN1c2ccccc2Sc2ccccc23-c1cncnc1&lt;pad&gt;&lt;pad...</td>\n",
       "    </tr>\n",
       "    <tr>\n",
       "      <th>1</th>\n",
       "      <td>Cc1sc(=O)[[nH]2cccc122CCN(C(=O)CCl)CC1)c1c2cn(...</td>\n",
       "    </tr>\n",
       "    <tr>\n",
       "      <th>2</th>\n",
       "      <td>Cc1[nH]ccc1C2CCN(C(=O)CCl)CC1)C2&lt;pad&gt;&lt;pad&gt;&lt;pad...</td>\n",
       "    </tr>\n",
       "    <tr>\n",
       "      <th>3</th>\n",
       "      <td>OCC1(c2ccccn2)CCCC1&lt;pad&gt;&lt;pad&gt;&lt;pad&gt;&lt;pad&gt;&lt;pad&gt;&lt;p...</td>\n",
       "    </tr>\n",
       "    <tr>\n",
       "      <th>4</th>\n",
       "      <td>COc1ccccc1CNC(C)C(C)OCCC(=O)C(C)(C)C&lt;pad&gt;&lt;pad&gt;...</td>\n",
       "    </tr>\n",
       "  </tbody>\n",
       "</table>\n",
       "</div>"
      ],
      "text/plain": [
       "                                              SMILES\n",
       "0  CN(C)CCCN1c2ccccc2Sc2ccccc23-c1cncnc1<pad><pad...\n",
       "1  Cc1sc(=O)[[nH]2cccc122CCN(C(=O)CCl)CC1)c1c2cn(...\n",
       "2  Cc1[nH]ccc1C2CCN(C(=O)CCl)CC1)C2<pad><pad><pad...\n",
       "3  OCC1(c2ccccn2)CCCC1<pad><pad><pad><pad><pad><p...\n",
       "4  COc1ccccc1CNC(C)C(C)OCCC(=O)C(C)(C)C<pad><pad>..."
      ]
     },
     "metadata": {},
     "output_type": "display_data"
    },
    {
     "name": "stdout",
     "output_type": "stream",
     "text": [
      "<class 'pandas.core.frame.DataFrame'>\n",
      "RangeIndex: 100000 entries, 0 to 99999\n",
      "Data columns (total 1 columns):\n",
      " #   Column  Non-Null Count   Dtype \n",
      "---  ------  --------------   ----- \n",
      " 0   SMILES  100000 non-null  object\n",
      "dtypes: object(1)\n",
      "memory usage: 781.4+ KB\n",
      "None\n"
     ]
    },
    {
     "data": {
      "text/html": [
       "<div>\n",
       "<style scoped>\n",
       "    .dataframe tbody tr th:only-of-type {\n",
       "        vertical-align: middle;\n",
       "    }\n",
       "\n",
       "    .dataframe tbody tr th {\n",
       "        vertical-align: top;\n",
       "    }\n",
       "\n",
       "    .dataframe thead th {\n",
       "        text-align: right;\n",
       "    }\n",
       "</style>\n",
       "<table border=\"1\" class=\"dataframe\">\n",
       "  <thead>\n",
       "    <tr style=\"text-align: right;\">\n",
       "      <th></th>\n",
       "      <th>SMILES</th>\n",
       "    </tr>\n",
       "  </thead>\n",
       "  <tbody>\n",
       "    <tr>\n",
       "      <th>0</th>\n",
       "      <td>C1COCCN1c1ccc(Cl)cc1&lt;pad&gt;&lt;pad&gt;&lt;pad&gt;&lt;pad&gt;&lt;pad&gt;&lt;...</td>\n",
       "    </tr>\n",
       "    <tr>\n",
       "      <th>1</th>\n",
       "      <td>CC(NS(=O)(=O)c1ccc(O)cc1)NC1=NCN(CCO)C(=O)CN&lt;p...</td>\n",
       "    </tr>\n",
       "    <tr>\n",
       "      <th>2</th>\n",
       "      <td>C[CB&lt;unk&gt;]1CN[C&lt;unk&gt;&lt;unk&gt;H]2c3ccccc3CCC(N)=O&lt;u...</td>\n",
       "    </tr>\n",
       "    <tr>\n",
       "      <th>3</th>\n",
       "      <td>COc1cc(N2CCOCC2)c(OC)c2c1cnc2[n&lt;unk&gt;]1c1cccc(F...</td>\n",
       "    </tr>\n",
       "    <tr>\n",
       "      <th>4</th>\n",
       "      <td>Cc1nc2ccc(F)cc2n[nH]1&lt;pad&gt;&lt;pad&gt;&lt;pad&gt;&lt;pad&gt;&lt;pad&gt;...</td>\n",
       "    </tr>\n",
       "  </tbody>\n",
       "</table>\n",
       "</div>"
      ],
      "text/plain": [
       "                                              SMILES\n",
       "0  C1COCCN1c1ccc(Cl)cc1<pad><pad><pad><pad><pad><...\n",
       "1  CC(NS(=O)(=O)c1ccc(O)cc1)NC1=NCN(CCO)C(=O)CN<p...\n",
       "2  C[CB<unk>]1CN[C<unk><unk>H]2c3ccccc3CCC(N)=O<u...\n",
       "3  COc1cc(N2CCOCC2)c(OC)c2c1cnc2[n<unk>]1c1cccc(F...\n",
       "4  Cc1nc2ccc(F)cc2n[nH]1<pad><pad><pad><pad><pad>..."
      ]
     },
     "metadata": {},
     "output_type": "display_data"
    }
   ],
   "source": [
    "# Read in generated molecules.\n",
    "df_active = pd.read_csv(\"../aae/generated_molecules_100k/gen_active_finetune_100k.csv\")\n",
    "df_inactive = pd.read_csv(\"../aae/generated_molecules_100k/gen_inactive_finetune_100k.csv\")\n",
    "\n",
    "print(df_active.info())\n",
    "display(df_active.head())\n",
    "\n",
    "print(df_inactive.info())\n",
    "display(df_inactive.head())"
   ]
  },
  {
   "cell_type": "markdown",
   "id": "fdf61708-d922-40d0-842a-db647f14cd89",
   "metadata": {},
   "source": [
    "### Training data from TDC"
   ]
  },
  {
   "cell_type": "code",
   "execution_count": 6,
   "id": "c12c6415-4dc6-4559-a1de-e5063e7788d3",
   "metadata": {},
   "outputs": [
    {
     "name": "stdout",
     "output_type": "stream",
     "text": [
      "<class 'pandas.core.frame.DataFrame'>\n",
      "RangeIndex: 132 entries, 0 to 131\n",
      "Data columns (total 1 columns):\n",
      " #   Column  Non-Null Count  Dtype \n",
      "---  ------  --------------  ----- \n",
      " 0   SMILES  132 non-null    object\n",
      "dtypes: object(1)\n",
      "memory usage: 1.2+ KB\n",
      "None\n"
     ]
    },
    {
     "data": {
      "text/html": [
       "<div>\n",
       "<style scoped>\n",
       "    .dataframe tbody tr th:only-of-type {\n",
       "        vertical-align: middle;\n",
       "    }\n",
       "\n",
       "    .dataframe tbody tr th {\n",
       "        vertical-align: top;\n",
       "    }\n",
       "\n",
       "    .dataframe thead th {\n",
       "        text-align: right;\n",
       "    }\n",
       "</style>\n",
       "<table border=\"1\" class=\"dataframe\">\n",
       "  <thead>\n",
       "    <tr style=\"text-align: right;\">\n",
       "      <th></th>\n",
       "      <th>SMILES</th>\n",
       "    </tr>\n",
       "  </thead>\n",
       "  <tbody>\n",
       "    <tr>\n",
       "      <th>0</th>\n",
       "      <td>NC(=O)c1ccc(NC(=O)[C@@H]2CCCO2)cc1</td>\n",
       "    </tr>\n",
       "    <tr>\n",
       "      <th>1</th>\n",
       "      <td>Cc1nccn1CC1CCc2c(c3ccccc3n2C)C1=O.Cl</td>\n",
       "    </tr>\n",
       "    <tr>\n",
       "      <th>2</th>\n",
       "      <td>COC(=O)Nc1sc(C)nc1-c1ccccc1</td>\n",
       "    </tr>\n",
       "    <tr>\n",
       "      <th>3</th>\n",
       "      <td>OC1CCN(Cc2ccsc2)CC1</td>\n",
       "    </tr>\n",
       "    <tr>\n",
       "      <th>4</th>\n",
       "      <td>CC(C(O)c1ccc(O)cc1)N1CCC(Cc2ccccc2)CC1.CC(C(O)...</td>\n",
       "    </tr>\n",
       "  </tbody>\n",
       "</table>\n",
       "</div>"
      ],
      "text/plain": [
       "                                              SMILES\n",
       "0                 NC(=O)c1ccc(NC(=O)[C@@H]2CCCO2)cc1\n",
       "1               Cc1nccn1CC1CCc2c(c3ccccc3n2C)C1=O.Cl\n",
       "2                        COC(=O)Nc1sc(C)nc1-c1ccccc1\n",
       "3                                OC1CCN(Cc2ccsc2)CC1\n",
       "4  CC(C(O)c1ccc(O)cc1)N1CCC(Cc2ccccc2)CC1.CC(C(O)..."
      ]
     },
     "metadata": {},
     "output_type": "display_data"
    },
    {
     "name": "stdout",
     "output_type": "stream",
     "text": [
      "<class 'pandas.core.frame.DataFrame'>\n",
      "RangeIndex: 1758 entries, 0 to 1757\n",
      "Data columns (total 1 columns):\n",
      " #   Column  Non-Null Count  Dtype \n",
      "---  ------  --------------  ----- \n",
      " 0   SMILES  1758 non-null   object\n",
      "dtypes: object(1)\n",
      "memory usage: 13.9+ KB\n",
      "None\n"
     ]
    },
    {
     "data": {
      "text/html": [
       "<div>\n",
       "<style scoped>\n",
       "    .dataframe tbody tr th:only-of-type {\n",
       "        vertical-align: middle;\n",
       "    }\n",
       "\n",
       "    .dataframe tbody tr th {\n",
       "        vertical-align: top;\n",
       "    }\n",
       "\n",
       "    .dataframe thead th {\n",
       "        text-align: right;\n",
       "    }\n",
       "</style>\n",
       "<table border=\"1\" class=\"dataframe\">\n",
       "  <thead>\n",
       "    <tr style=\"text-align: right;\">\n",
       "      <th></th>\n",
       "      <th>SMILES</th>\n",
       "    </tr>\n",
       "  </thead>\n",
       "  <tbody>\n",
       "    <tr>\n",
       "      <th>0</th>\n",
       "      <td>Nc1ccn([C@@H]2O[C@H](CO)[C@@H](O)[C@@H]2O)c(=O)n1</td>\n",
       "    </tr>\n",
       "    <tr>\n",
       "      <th>1</th>\n",
       "      <td>COc1cc(Br)c(C[N+]2(CCOCCC3CCC4CC3C4(C)C)CCOCC2...</td>\n",
       "    </tr>\n",
       "    <tr>\n",
       "      <th>2</th>\n",
       "      <td>O=C1CCc2ccc(OCCCCN3CCN(c4cccc(Cl)c4Cl)CC3)cc2N1</td>\n",
       "    </tr>\n",
       "    <tr>\n",
       "      <th>3</th>\n",
       "      <td>COCC1=C(C(=O)OC(C)OC(=O)OC(C)C)N2C(=O)[C@@H](N...</td>\n",
       "    </tr>\n",
       "    <tr>\n",
       "      <th>4</th>\n",
       "      <td>c1nc(N2CCC2)c2[nH]cnc2n1</td>\n",
       "    </tr>\n",
       "  </tbody>\n",
       "</table>\n",
       "</div>"
      ],
      "text/plain": [
       "                                              SMILES\n",
       "0  Nc1ccn([C@@H]2O[C@H](CO)[C@@H](O)[C@@H]2O)c(=O)n1\n",
       "1  COc1cc(Br)c(C[N+]2(CCOCCC3CCC4CC3C4(C)C)CCOCC2...\n",
       "2    O=C1CCc2ccc(OCCCCN3CCN(c4cccc(Cl)c4Cl)CC3)cc2N1\n",
       "3  COCC1=C(C(=O)OC(C)OC(=O)OC(C)C)N2C(=O)[C@@H](N...\n",
       "4                           c1nc(N2CCC2)c2[nH]cnc2n1"
      ]
     },
     "metadata": {},
     "output_type": "display_data"
    }
   ],
   "source": [
    "df_active_train = pd.read_csv(\"../sars_data/actives_train.csv\")\n",
    "df_inactive_train = pd.read_csv(\"../sars_data/inactives_train.csv\")\n",
    "\n",
    "print(df_active_train.info())\n",
    "display(df_active_train.head())\n",
    "print(df_inactive_train.info())\n",
    "display(df_inactive_train.head())"
   ]
  },
  {
   "cell_type": "markdown",
   "id": "03bd8022-2812-44cb-8718-b84dda8c902e",
   "metadata": {},
   "source": [
    "### Validation data"
   ]
  },
  {
   "cell_type": "code",
   "execution_count": 7,
   "id": "3f83c935-14ef-4a65-829c-57efc52080ed",
   "metadata": {},
   "outputs": [
    {
     "name": "stdout",
     "output_type": "stream",
     "text": [
      "<class 'pandas.core.frame.DataFrame'>\n",
      "RangeIndex: 34 entries, 0 to 33\n",
      "Data columns (total 1 columns):\n",
      " #   Column  Non-Null Count  Dtype \n",
      "---  ------  --------------  ----- \n",
      " 0   SMILES  34 non-null     object\n",
      "dtypes: object(1)\n",
      "memory usage: 400.0+ bytes\n",
      "None\n"
     ]
    },
    {
     "data": {
      "text/html": [
       "<div>\n",
       "<style scoped>\n",
       "    .dataframe tbody tr th:only-of-type {\n",
       "        vertical-align: middle;\n",
       "    }\n",
       "\n",
       "    .dataframe tbody tr th {\n",
       "        vertical-align: top;\n",
       "    }\n",
       "\n",
       "    .dataframe thead th {\n",
       "        text-align: right;\n",
       "    }\n",
       "</style>\n",
       "<table border=\"1\" class=\"dataframe\">\n",
       "  <thead>\n",
       "    <tr style=\"text-align: right;\">\n",
       "      <th></th>\n",
       "      <th>SMILES</th>\n",
       "    </tr>\n",
       "  </thead>\n",
       "  <tbody>\n",
       "    <tr>\n",
       "      <th>0</th>\n",
       "      <td>O=C(CCl)N1CCN(Cc2cccc3ccccc23)CC1</td>\n",
       "    </tr>\n",
       "    <tr>\n",
       "      <th>1</th>\n",
       "      <td>O=C(CCl)N1CCN(S(=O)(=O)c2cccs2)CC1</td>\n",
       "    </tr>\n",
       "    <tr>\n",
       "      <th>2</th>\n",
       "      <td>C[C@H]1CN(c2c(F)c(N)c3c(=O)c(C(=O)O)cn(C4CC4)c...</td>\n",
       "    </tr>\n",
       "    <tr>\n",
       "      <th>3</th>\n",
       "      <td>C/C=C/c1ccc(OC)cc1</td>\n",
       "    </tr>\n",
       "    <tr>\n",
       "      <th>4</th>\n",
       "      <td>Clc1cccc(CN2CCOCC2)c1</td>\n",
       "    </tr>\n",
       "  </tbody>\n",
       "</table>\n",
       "</div>"
      ],
      "text/plain": [
       "                                              SMILES\n",
       "0                  O=C(CCl)N1CCN(Cc2cccc3ccccc23)CC1\n",
       "1                 O=C(CCl)N1CCN(S(=O)(=O)c2cccs2)CC1\n",
       "2  C[C@H]1CN(c2c(F)c(N)c3c(=O)c(C(=O)O)cn(C4CC4)c...\n",
       "3                                 C/C=C/c1ccc(OC)cc1\n",
       "4                              Clc1cccc(CN2CCOCC2)c1"
      ]
     },
     "metadata": {},
     "output_type": "display_data"
    },
    {
     "name": "stdout",
     "output_type": "stream",
     "text": [
      "<class 'pandas.core.frame.DataFrame'>\n",
      "RangeIndex: 440 entries, 0 to 439\n",
      "Data columns (total 1 columns):\n",
      " #   Column  Non-Null Count  Dtype \n",
      "---  ------  --------------  ----- \n",
      " 0   SMILES  440 non-null    object\n",
      "dtypes: object(1)\n",
      "memory usage: 3.6+ KB\n",
      "None\n"
     ]
    },
    {
     "data": {
      "text/html": [
       "<div>\n",
       "<style scoped>\n",
       "    .dataframe tbody tr th:only-of-type {\n",
       "        vertical-align: middle;\n",
       "    }\n",
       "\n",
       "    .dataframe tbody tr th {\n",
       "        vertical-align: top;\n",
       "    }\n",
       "\n",
       "    .dataframe thead th {\n",
       "        text-align: right;\n",
       "    }\n",
       "</style>\n",
       "<table border=\"1\" class=\"dataframe\">\n",
       "  <thead>\n",
       "    <tr style=\"text-align: right;\">\n",
       "      <th></th>\n",
       "      <th>SMILES</th>\n",
       "    </tr>\n",
       "  </thead>\n",
       "  <tbody>\n",
       "    <tr>\n",
       "      <th>0</th>\n",
       "      <td>CCC1(C)CC(=O)NC1=O</td>\n",
       "    </tr>\n",
       "    <tr>\n",
       "      <th>1</th>\n",
       "      <td>CC(=O)N[C@@H](CCC(N)=O)C(=O)O</td>\n",
       "    </tr>\n",
       "    <tr>\n",
       "      <th>2</th>\n",
       "      <td>O=C1O[C@H]([C@@H](O)CO)C(O)=C1O</td>\n",
       "    </tr>\n",
       "    <tr>\n",
       "      <th>3</th>\n",
       "      <td>CC(C)n1cnc(S(N)(=O)=O)c1</td>\n",
       "    </tr>\n",
       "    <tr>\n",
       "      <th>4</th>\n",
       "      <td>Cc1ccc(=O)n(-c2ccccc2)c1</td>\n",
       "    </tr>\n",
       "  </tbody>\n",
       "</table>\n",
       "</div>"
      ],
      "text/plain": [
       "                            SMILES\n",
       "0               CCC1(C)CC(=O)NC1=O\n",
       "1    CC(=O)N[C@@H](CCC(N)=O)C(=O)O\n",
       "2  O=C1O[C@H]([C@@H](O)CO)C(O)=C1O\n",
       "3         CC(C)n1cnc(S(N)(=O)=O)c1\n",
       "4         Cc1ccc(=O)n(-c2ccccc2)c1"
      ]
     },
     "metadata": {},
     "output_type": "display_data"
    }
   ],
   "source": [
    "df_active_val = pd.read_csv(\"../sars_data/actives_val.csv\")\n",
    "df_inactive_val = pd.read_csv(\"../sars_data/inactives_val.csv\")\n",
    "\n",
    "print(df_active_val.info())\n",
    "display(df_active_val.head())\n",
    "print(df_inactive_val.info())\n",
    "display(df_inactive_val.head())"
   ]
  },
  {
   "cell_type": "markdown",
   "id": "d216549c-4021-4472-a3d2-d45415762afc",
   "metadata": {},
   "source": [
    "## Process data"
   ]
  },
  {
   "cell_type": "code",
   "execution_count": 8,
   "id": "d5abd621-1c1c-471c-895b-2950a07b65b8",
   "metadata": {},
   "outputs": [],
   "source": [
    "# Remove padding.\n",
    "remove_pad = lambda x: x.replace(\"<pad>\", \"\")\n",
    "df_active.SMILES = df_active.SMILES.map(remove_pad)\n",
    "df_inactive.SMILES = df_inactive.SMILES.map(remove_pad)"
   ]
  },
  {
   "cell_type": "code",
   "execution_count": 9,
   "id": "b584d3bc-3a5d-4b29-94f1-d7ac288ba291",
   "metadata": {},
   "outputs": [],
   "source": [
    "# Listify.\n",
    "actives_gen = list(df_active.SMILES)\n",
    "inactives_gen = list(df_inactive.SMILES)\n",
    "\n",
    "actives_train = list(df_active_train.SMILES)\n",
    "inactives_train = list(df_inactive_train.SMILES)\n",
    "\n",
    "actives_val = list(df_active_val.SMILES)\n",
    "inactives_val = list(df_inactive_val.SMILES)"
   ]
  },
  {
   "cell_type": "code",
   "execution_count": 10,
   "id": "339130cd-d674-4502-a4b5-7138a13f2476",
   "metadata": {},
   "outputs": [
    {
     "name": "stdout",
     "output_type": "stream",
     "text": [
      "--- de novo actives ---\n",
      "Total strings with invalid SMILES syntax: 52131\n",
      "Total strings with invalid chemistry: 7297\n",
      "Total valid SMILES strings: 40572\n",
      "Percent valid SMILES strings: 0.40572\n",
      "\n",
      "--- de novo inactives ---\n",
      "Total strings with invalid SMILES syntax: 63495\n",
      "Total strings with invalid chemistry: 5203\n",
      "Total valid SMILES strings: 31302\n",
      "Percent valid SMILES strings: 0.31302\n",
      "\n",
      "--- training actives ---\n",
      "Total strings with invalid SMILES syntax: 0\n",
      "Total strings with invalid chemistry: 0\n",
      "Total valid SMILES strings: 132\n",
      "Percent valid SMILES strings: 1.0\n",
      "\n",
      "--- training inactives ---\n",
      "Total strings with invalid SMILES syntax: 0\n",
      "Total strings with invalid chemistry: 0\n",
      "Total valid SMILES strings: 1758\n",
      "Percent valid SMILES strings: 1.0\n",
      "\n",
      "--- validation actives ---\n",
      "Total strings with invalid SMILES syntax: 0\n",
      "Total strings with invalid chemistry: 0\n",
      "Total valid SMILES strings: 34\n",
      "Percent valid SMILES strings: 1.0\n",
      "\n",
      "--- validation inactives ---\n",
      "Total strings with invalid SMILES syntax: 0\n",
      "Total strings with invalid chemistry: 0\n",
      "Total valid SMILES strings: 440\n",
      "Percent valid SMILES strings: 1.0\n"
     ]
    }
   ],
   "source": [
    "# Filter out molecules that do not pass RDKit checks.\n",
    "# Some metrics will require this step.\n",
    "print(\"--- de novo actives ---\")\n",
    "actives_gen_grammatical = remove_ungrammatical(actives_gen)\n",
    "print(\"\\n--- de novo inactives ---\")\n",
    "inactives_gen_grammatical = remove_ungrammatical(inactives_gen)\n",
    "print(\"\\n--- training actives ---\")\n",
    "actives_train_grammatical = remove_ungrammatical(actives_train)\n",
    "print(\"\\n--- training inactives ---\")\n",
    "inactives_train_grammatical = remove_ungrammatical(inactives_train)\n",
    "print(\"\\n--- validation actives ---\")\n",
    "actives_val_grammatical = remove_ungrammatical(actives_val)\n",
    "print(\"\\n--- validation inactives ---\")\n",
    "inactives_val_grammatical = remove_ungrammatical(inactives_val)"
   ]
  },
  {
   "cell_type": "markdown",
   "id": "fd4af4aa-1eca-4287-ae30-1573d1e0a039",
   "metadata": {},
   "source": [
    "## Global-level metrics\n",
    "\n",
    "### MOSES metrics"
   ]
  },
  {
   "cell_type": "code",
   "execution_count": 11,
   "id": "d8a762af-857d-4ba9-9de9-272d2488de33",
   "metadata": {},
   "outputs": [
    {
     "data": {
      "text/plain": [
       "\u001b[0;31mSignature:\u001b[0m\n",
       "\u001b[0mmoses\u001b[0m\u001b[0;34m.\u001b[0m\u001b[0mget_all_metrics\u001b[0m\u001b[0;34m(\u001b[0m\u001b[0;34m\u001b[0m\n",
       "\u001b[0;34m\u001b[0m    \u001b[0mgen\u001b[0m\u001b[0;34m,\u001b[0m\u001b[0;34m\u001b[0m\n",
       "\u001b[0;34m\u001b[0m    \u001b[0mk\u001b[0m\u001b[0;34m=\u001b[0m\u001b[0;32mNone\u001b[0m\u001b[0;34m,\u001b[0m\u001b[0;34m\u001b[0m\n",
       "\u001b[0;34m\u001b[0m    \u001b[0mn_jobs\u001b[0m\u001b[0;34m=\u001b[0m\u001b[0;36m1\u001b[0m\u001b[0;34m,\u001b[0m\u001b[0;34m\u001b[0m\n",
       "\u001b[0;34m\u001b[0m    \u001b[0mdevice\u001b[0m\u001b[0;34m=\u001b[0m\u001b[0;34m'cpu'\u001b[0m\u001b[0;34m,\u001b[0m\u001b[0;34m\u001b[0m\n",
       "\u001b[0;34m\u001b[0m    \u001b[0mbatch_size\u001b[0m\u001b[0;34m=\u001b[0m\u001b[0;36m512\u001b[0m\u001b[0;34m,\u001b[0m\u001b[0;34m\u001b[0m\n",
       "\u001b[0;34m\u001b[0m    \u001b[0mpool\u001b[0m\u001b[0;34m=\u001b[0m\u001b[0;32mNone\u001b[0m\u001b[0;34m,\u001b[0m\u001b[0;34m\u001b[0m\n",
       "\u001b[0;34m\u001b[0m    \u001b[0mtest\u001b[0m\u001b[0;34m=\u001b[0m\u001b[0;32mNone\u001b[0m\u001b[0;34m,\u001b[0m\u001b[0;34m\u001b[0m\n",
       "\u001b[0;34m\u001b[0m    \u001b[0mtest_scaffolds\u001b[0m\u001b[0;34m=\u001b[0m\u001b[0;32mNone\u001b[0m\u001b[0;34m,\u001b[0m\u001b[0;34m\u001b[0m\n",
       "\u001b[0;34m\u001b[0m    \u001b[0mptest\u001b[0m\u001b[0;34m=\u001b[0m\u001b[0;32mNone\u001b[0m\u001b[0;34m,\u001b[0m\u001b[0;34m\u001b[0m\n",
       "\u001b[0;34m\u001b[0m    \u001b[0mptest_scaffolds\u001b[0m\u001b[0;34m=\u001b[0m\u001b[0;32mNone\u001b[0m\u001b[0;34m,\u001b[0m\u001b[0;34m\u001b[0m\n",
       "\u001b[0;34m\u001b[0m    \u001b[0mtrain\u001b[0m\u001b[0;34m=\u001b[0m\u001b[0;32mNone\u001b[0m\u001b[0;34m,\u001b[0m\u001b[0;34m\u001b[0m\n",
       "\u001b[0;34m\u001b[0m\u001b[0;34m)\u001b[0m\u001b[0;34m\u001b[0m\u001b[0;34m\u001b[0m\u001b[0m\n",
       "\u001b[0;31mDocstring:\u001b[0m\n",
       "Computes all available metrics between test (scaffold test)\n",
       "and generated sets of SMILES.\n",
       "Parameters:\n",
       "    gen: list of generated SMILES\n",
       "    k: int or list with values for unique@k. Will calculate number of\n",
       "        unique molecules in the first k molecules. Default [1000, 10000]\n",
       "    n_jobs: number of workers for parallel processing\n",
       "    device: 'cpu' or 'cuda:n', where n is GPU device number\n",
       "    batch_size: batch size for FCD metric\n",
       "    pool: optional multiprocessing pool to use for parallelization\n",
       "\n",
       "    test (None or list): test SMILES. If None, will load\n",
       "        a default test set\n",
       "    test_scaffolds (None or list): scaffold test SMILES. If None, will\n",
       "        load a default scaffold test set\n",
       "    ptest (None or dict): precalculated statistics of the test set. If\n",
       "        None, will load default test statistics. If you specified a custom\n",
       "        test set, default test statistics will be ignored\n",
       "    ptest_scaffolds (None or dict): precalculated statistics of the\n",
       "        scaffold test set If None, will load default scaffold test\n",
       "        statistics. If you specified a custom test set, default test\n",
       "        statistics will be ignored\n",
       "    train (None or list): train SMILES. If None, will load a default\n",
       "        train set\n",
       "Available metrics:\n",
       "    * %valid\n",
       "    * %unique@k\n",
       "    * Frechet ChemNet Distance (FCD)\n",
       "    * Fragment similarity (Frag)\n",
       "    * Scaffold similarity (Scaf)\n",
       "    * Similarity to nearest neighbour (SNN)\n",
       "    * Internal diversity (IntDiv)\n",
       "    * Internal diversity 2: using square root of mean squared\n",
       "        Tanimoto similarity (IntDiv2)\n",
       "    * %passes filters (Filters)\n",
       "    * Distribution difference for logP, SA, QED, weight\n",
       "    * Novelty (molecules not present in train)\n",
       "\u001b[0;31mFile:\u001b[0m      /opt/anaconda3/lib/python3.8/site-packages/moses/metrics/metrics.py\n",
       "\u001b[0;31mType:\u001b[0m      function\n"
      ]
     },
     "metadata": {},
     "output_type": "display_data"
    }
   ],
   "source": [
    "moses.get_all_metrics?"
   ]
  },
  {
   "cell_type": "code",
   "execution_count": 12,
   "id": "e5870193-ddc6-4787-bdbd-836b71fd2b20",
   "metadata": {},
   "outputs": [
    {
     "name": "stdout",
     "output_type": "stream",
     "text": [
      "Complete in 1824.1145498752594 seconds.\n"
     ]
    },
    {
     "data": {
      "text/plain": [
       "{'valid': 0.40561,\n",
       " 'unique@1000': 0.795,\n",
       " 'unique@10000': 0.6456,\n",
       " 'FCD/Test': 27.731477221782583,\n",
       " 'SNN/Test': 0.26568331194929534,\n",
       " 'Frag/Test': 0.7513167000007519,\n",
       " 'Scaf/Test': 0.17295211640984975,\n",
       " 'FCD/TestSF': 12.606457723016646,\n",
       " 'SNN/TestSF': 0.4908132280029579,\n",
       " 'Frag/TestSF': 0.8844874533709745,\n",
       " 'Scaf/TestSF': 0.21355807330359056,\n",
       " 'IntDiv': 0.8647058488019307,\n",
       " 'IntDiv2': 0.8471251846154894,\n",
       " 'Filters': 0.7852370503685806,\n",
       " 'logP': 0.5326188731351622,\n",
       " 'SA': 0.5739626341799797,\n",
       " 'QED': 0.11139110358950138,\n",
       " 'weight': 97.28311777395564,\n",
       " 'Novelty': 0.9965445749827229}"
      ]
     },
     "metadata": {},
     "output_type": "display_data"
    }
   ],
   "source": [
    "# Compute MOSES metrics for de novo actives.\n",
    "start_time = time.time()\n",
    "metrics_active = moses.get_all_metrics(gen = actives_gen, train = actives_train, test = actives_val)\n",
    "print(\"Complete in {} seconds.\".format(time.time() - start_time))\n",
    "\n",
    "display(metrics_active)"
   ]
  },
  {
   "cell_type": "code",
   "execution_count": 13,
   "id": "6d4e0653-bf27-48ad-a7b7-561ceb8358db",
   "metadata": {},
   "outputs": [
    {
     "name": "stdout",
     "output_type": "stream",
     "text": [
      "Complete in 1769.4673569202423 seconds.\n"
     ]
    },
    {
     "data": {
      "text/plain": [
       "{'valid': 0.31294999999999995,\n",
       " 'unique@1000': 0.981,\n",
       " 'unique@10000': 0.9,\n",
       " 'FCD/Test': 7.357704096392801,\n",
       " 'SNN/Test': 0.3326266378774956,\n",
       " 'Frag/Test': 0.9248819135019402,\n",
       " 'Scaf/Test': 0.23595537622884688,\n",
       " 'FCD/TestSF': 8.505827850033754,\n",
       " 'SNN/TestSF': 0.45681772872134224,\n",
       " 'Frag/TestSF': 0.9227287686476084,\n",
       " 'Scaf/TestSF': 0.12700935413779202,\n",
       " 'IntDiv': 0.8800330380505298,\n",
       " 'IntDiv2': 0.8687070661258735,\n",
       " 'Filters': 0.9354849017414922,\n",
       " 'logP': 0.5609151000159771,\n",
       " 'SA': 0.47981750801262657,\n",
       " 'QED': 0.08960402809584411,\n",
       " 'weight': 90.33732731666406,\n",
       " 'Novelty': 0.9920118680817072}"
      ]
     },
     "metadata": {},
     "output_type": "display_data"
    }
   ],
   "source": [
    "# Compute MOSES metrics for de novo inactives.\n",
    "start_time = time.time()\n",
    "metrics_inactive = moses.get_all_metrics(gen = inactives_gen, train = inactives_train, test = inactives_val)\n",
    "print(\"Complete in {} seconds.\".format(time.time() - start_time))\n",
    "\n",
    "display(metrics_inactive)"
   ]
  },
  {
   "cell_type": "markdown",
   "id": "b87123a4-958f-42ad-b976-ebb280e4b4c6",
   "metadata": {},
   "source": [
    "### TDC metrics"
   ]
  },
  {
   "cell_type": "code",
   "execution_count": 14,
   "id": "9c7249ad-d398-43d1-860e-6cb5d650560b",
   "metadata": {},
   "outputs": [],
   "source": [
    "# NOTE: must subsample generative inactives to < 10k to get TDC functions to work.\n",
    "# This is due to a glitch in TDC.\n",
    "actives_gen_grammatical_10k = sample(actives_gen_grammatical, 10000)\n",
    "inactives_gen_grammatical_10k = sample(inactives_gen_grammatical, 10000)"
   ]
  },
  {
   "cell_type": "code",
   "execution_count": 15,
   "id": "fb5de6b6-8448-410d-b89b-b580957a6ebf",
   "metadata": {},
   "outputs": [],
   "source": [
    "%%capture\n",
    "# Throws error.\n",
    "'''\n",
    "ompute all metrics for active de novos vs their training data.\n",
    "compute_tdc_metrics(actives_gen_grammatical, actives_train_grammatical)\n",
    "'''"
   ]
  },
  {
   "cell_type": "code",
   "execution_count": 16,
   "id": "c78516be-0d9d-46ca-a2de-830a9522577e",
   "metadata": {},
   "outputs": [
    {
     "name": "stderr",
     "output_type": "stream",
     "text": [
      "RDKit ERROR: [10:23:13] Explicit valence for atom # 19 O, 3, is greater than permitted\n",
      "[10:23:13] Explicit valence for atom # 19 O, 3, is greater than permitted\n",
      "RDKit ERROR: [10:23:37] Explicit valence for atom # 1 O, 3, is greater than permitted\n",
      "[10:23:37] Explicit valence for atom # 1 O, 3, is greater than permitted\n",
      "RDKit ERROR: [10:23:42] Explicit valence for atom # 19 O, 3, is greater than permitted\n",
      "[10:23:42] Explicit valence for atom # 19 O, 3, is greater than permitted\n",
      "RDKit ERROR: [10:23:44] Explicit valence for atom # 1 O, 3, is greater than permitted\n",
      "[10:23:44] Explicit valence for atom # 1 O, 3, is greater than permitted\n"
     ]
    },
    {
     "data": {
      "text/plain": [
       "0.5425133962360658"
      ]
     },
     "execution_count": 16,
     "metadata": {},
     "output_type": "execute_result"
    }
   ],
   "source": [
    "# KL divergence of active generated data and active training data.\n",
    "kl = Evaluator(name = \"KL_Divergence\")\n",
    "kl(actives_gen_grammatical_10k, actives_train_grammatical)"
   ]
  },
  {
   "cell_type": "code",
   "execution_count": 17,
   "id": "bc0adfe0-c023-4b14-a82c-05a5af44796a",
   "metadata": {},
   "outputs": [],
   "source": [
    "%%capture\n",
    "# Throws error.\n",
    "'''\n",
    "# Compute all metrics for inactive de novos vs their training data.\n",
    "compute_tdc_metrics(inactives_gen_grammatical_10k, inactives_train_grammatical)\n",
    "'''"
   ]
  },
  {
   "cell_type": "code",
   "execution_count": 18,
   "id": "765e057c-3928-4560-b24a-31961a39b5dc",
   "metadata": {},
   "outputs": [
    {
     "name": "stderr",
     "output_type": "stream",
     "text": [
      "RDKit ERROR: [10:24:25] Explicit valence for atom # 5 O, 3, is greater than permitted\n",
      "[10:24:25] Explicit valence for atom # 5 O, 3, is greater than permitted\n",
      "RDKit ERROR: [10:24:35] Explicit valence for atom # 2 O, 3, is greater than permitted\n",
      "[10:24:35] Explicit valence for atom # 2 O, 3, is greater than permitted\n",
      "RDKit ERROR: [10:25:03] Explicit valence for atom # 5 O, 3, is greater than permitted\n",
      "[10:25:03] Explicit valence for atom # 5 O, 3, is greater than permitted\n",
      "RDKit ERROR: [10:25:03] Explicit valence for atom # 2 O, 3, is greater than permitted\n",
      "[10:25:03] Explicit valence for atom # 2 O, 3, is greater than permitted\n"
     ]
    },
    {
     "data": {
      "text/plain": [
       "0.6586387843979673"
      ]
     },
     "execution_count": 18,
     "metadata": {},
     "output_type": "execute_result"
    }
   ],
   "source": [
    "# KL divergence of inactive generated data and inactive training data.\n",
    "kl(inactives_gen_grammatical_10k, inactives_train_grammatical)"
   ]
  },
  {
   "cell_type": "code",
   "execution_count": 19,
   "id": "061901d6-3aec-4882-bf4b-a1c2457ff462",
   "metadata": {},
   "outputs": [
    {
     "data": {
      "text/plain": [
       "0.854377160131264"
      ]
     },
     "execution_count": 19,
     "metadata": {},
     "output_type": "execute_result"
    }
   ],
   "source": [
    "# KL divergence of active training data and inactive training data.\n",
    "kl(actives_train_grammatical, inactives_train_grammatical)"
   ]
  },
  {
   "cell_type": "code",
   "execution_count": 20,
   "id": "4e250857-9fa6-48a6-b775-dbabf07794d7",
   "metadata": {},
   "outputs": [
    {
     "name": "stderr",
     "output_type": "stream",
     "text": [
      "RDKit ERROR: [10:25:32] Explicit valence for atom # 19 O, 3, is greater than permitted\n",
      "[10:25:32] Explicit valence for atom # 19 O, 3, is greater than permitted\n",
      "RDKit ERROR: [10:25:58] Explicit valence for atom # 1 O, 3, is greater than permitted\n",
      "[10:25:58] Explicit valence for atom # 1 O, 3, is greater than permitted\n",
      "RDKit ERROR: [10:26:17] Explicit valence for atom # 19 O, 3, is greater than permitted\n",
      "[10:26:17] Explicit valence for atom # 19 O, 3, is greater than permitted\n",
      "RDKit ERROR: [10:26:20] Explicit valence for atom # 1 O, 3, is greater than permitted\n",
      "[10:26:20] Explicit valence for atom # 1 O, 3, is greater than permitted\n"
     ]
    },
    {
     "data": {
      "text/plain": [
       "0.5543583321313578"
      ]
     },
     "execution_count": 20,
     "metadata": {},
     "output_type": "execute_result"
    }
   ],
   "source": [
    "# KL divergence of active de novos and inactive training data.\n",
    "kl(actives_gen_grammatical_10k, inactives_train_grammatical)"
   ]
  },
  {
   "cell_type": "code",
   "execution_count": 21,
   "id": "6d6a5acd-9a67-43d1-aab8-f096f1b7a93f",
   "metadata": {},
   "outputs": [
    {
     "name": "stderr",
     "output_type": "stream",
     "text": [
      "RDKit ERROR: [10:27:08] Explicit valence for atom # 5 O, 3, is greater than permitted\n",
      "[10:27:08] Explicit valence for atom # 5 O, 3, is greater than permitted\n",
      "RDKit ERROR: [10:27:14] Explicit valence for atom # 2 O, 3, is greater than permitted\n",
      "[10:27:14] Explicit valence for atom # 2 O, 3, is greater than permitted\n",
      "RDKit ERROR: [10:27:42] Explicit valence for atom # 5 O, 3, is greater than permitted\n",
      "[10:27:42] Explicit valence for atom # 5 O, 3, is greater than permitted\n",
      "RDKit ERROR: [10:27:42] Explicit valence for atom # 2 O, 3, is greater than permitted\n",
      "[10:27:42] Explicit valence for atom # 2 O, 3, is greater than permitted\n"
     ]
    },
    {
     "data": {
      "text/plain": [
       "0.6364758134328496"
      ]
     },
     "execution_count": 21,
     "metadata": {},
     "output_type": "execute_result"
    }
   ],
   "source": [
    "# KL divergence of inactive de novos and active training data.\n",
    "kl(inactives_gen_grammatical_10k, actives_train_grammatical)"
   ]
  },
  {
   "cell_type": "code",
   "execution_count": 22,
   "id": "b291a010-b61e-4cc9-9f8c-37b787696785",
   "metadata": {},
   "outputs": [
    {
     "name": "stderr",
     "output_type": "stream",
     "text": [
      "RDKit ERROR: [10:28:18] Explicit valence for atom # 19 O, 3, is greater than permitted\n",
      "[10:28:18] Explicit valence for atom # 19 O, 3, is greater than permitted\n",
      "RDKit ERROR: [10:28:43] Explicit valence for atom # 1 O, 3, is greater than permitted\n",
      "[10:28:43] Explicit valence for atom # 1 O, 3, is greater than permitted\n",
      "RDKit ERROR: [10:28:51] Explicit valence for atom # 5 O, 3, is greater than permitted\n",
      "[10:28:51] Explicit valence for atom # 5 O, 3, is greater than permitted\n",
      "RDKit ERROR: [10:28:55] Explicit valence for atom # 2 O, 3, is greater than permitted\n",
      "[10:28:55] Explicit valence for atom # 2 O, 3, is greater than permitted\n",
      "RDKit ERROR: [10:29:13] Explicit valence for atom # 5 O, 3, is greater than permitted\n",
      "[10:29:13] Explicit valence for atom # 5 O, 3, is greater than permitted\n",
      "RDKit ERROR: [10:29:13] Explicit valence for atom # 2 O, 3, is greater than permitted\n",
      "[10:29:13] Explicit valence for atom # 2 O, 3, is greater than permitted\n",
      "RDKit ERROR: [10:29:33] Explicit valence for atom # 19 O, 3, is greater than permitted\n",
      "[10:29:33] Explicit valence for atom # 19 O, 3, is greater than permitted\n",
      "RDKit ERROR: [10:29:34] Explicit valence for atom # 1 O, 3, is greater than permitted\n",
      "[10:29:34] Explicit valence for atom # 1 O, 3, is greater than permitted\n"
     ]
    },
    {
     "data": {
      "text/plain": [
       "0.9298249250435345"
      ]
     },
     "execution_count": 22,
     "metadata": {},
     "output_type": "execute_result"
    }
   ],
   "source": [
    "# KL divergence of active de novos and inactive de novos.\n",
    "kl(actives_gen_grammatical_10k, inactives_gen_grammatical_10k)"
   ]
  },
  {
   "cell_type": "markdown",
   "id": "d2b15d80-c900-4e0f-ba6b-b130e1617cae",
   "metadata": {
    "tags": []
   },
   "source": [
    "## Molecule-level metrics\n",
    "\n",
    "### Synthetic accessibility\n",
    "\n",
    ">Description: Synthetic Accessibility Score stands for how hard or how easy it is to synthesize a given molecule, based on a combination of the molecule’s fragments contributions. The oracle is caluated via RDKit, using a set of chemical rules defined by Ertl et al. (https://tdcommons.ai/functions/oracles/#ibm-rxn-synthetic-accessibility)[https://tdcommons.ai/functions/oracles/#ibm-rxn-synthetic-accessibility]"
   ]
  },
  {
   "cell_type": "code",
   "execution_count": 23,
   "id": "ae9d03a9-2798-43a6-b0e2-4bbd7bc89523",
   "metadata": {},
   "outputs": [
    {
     "name": "stderr",
     "output_type": "stream",
     "text": [
      "Found local copy...\n"
     ]
    },
    {
     "name": "stdout",
     "output_type": "stream",
     "text": [
      "\n",
      "Total invalid: 0\n",
      "Total valid: 40572\n",
      "\n",
      "Total invalid: 0\n",
      "Total valid: 31302\n",
      "\n",
      "Total invalid: 0\n",
      "Total valid: 132\n",
      "\n",
      "Total invalid: 0\n",
      "Total valid: 1758\n",
      "\n",
      "Generated actives :\n",
      "[2.444174567822591, 3.1297156045707855, 1.6954951532691265, 2.342270593665903, 3.4433566567611464, 2.3306837967471967, 2.3279506013213993, 2.7064180846242323, 3.062761469453859, 1.8098447186399245, 1.6358716390096664, 1.7274231070995612, 1.8961222887689537, 3.3955761676560243, 1.7691135383843353, 2.09852586660144, 1.4468635255155569, 2.1677879030440668, 1.9605035049174795, 1.5359575087690605] \n",
      "\n",
      "Generated inactives :\n",
      "[1.5480842844217833, 2.8673298605977227, 2.419538259554404, 2.293584751435393, 1.341038050426306, 2.4544270941963404, 1.5605150192781299, 1.8793987418021416, 2.736657272145761, 2.1485060129798814, 2.145383586524078, 1.7257251893055248, 1.659452704098424, 2.0535680286049214, 3.6394786751571964, 3.059952225902707, 2.216545453447207, 1.943327222536297, 2.970738104231158, 2.859794489739338] \n",
      "\n",
      "Training actives :\n",
      "[2.250644652759915, 3.152523613123961, 2.046193504917479, 2.1059531103327114, 4.347324441648668, 1.8418534350416884, 3.054888542720498, 2.18792885485969, 1.6667335034193016, 2.102310618299608, 2.058554629194486, 3.108002804603581, 3.21167562653525, 1.820711580342378, 6.769483231246683, 2.1418381844699574, 1.964040453329856, 1.5359575087690605, 2.141274629194484, 5.040402153133423] \n",
      "\n",
      "Training inactives :\n",
      "[3.548894614600127, 4.894520931229949, 2.3417132900326205, 4.208335607402816, 2.463989142721376, 2.4931207216687454, 7.279720621289028, 3.563874509172142, 3.3558364632643034, 3.3603500783386364, 4.270784061674063, 1.9580204964998433, 4.390327019354513, 2.5448055389811817, 4.636491016521498, 2.1939001768170083, 2.8721018691784153, 3.188459077120484, 2.69798303888437, 3.958573370751779] \n",
      "\n"
     ]
    }
   ],
   "source": [
    "# Synthetic accessibility.\n",
    "sa = Oracle(name = \"SA\")\n",
    "\n",
    "'''\n",
    "sa_actives_gen = sa(actives_gen_grammatical)\n",
    "sa_inactives_gen = sa(inactives_gen_grammatical)\n",
    "sa_actives_train = sa(actives_train_grammatical)\n",
    "sa_inactives_train = sa(inactives_train_grammatical)\n",
    "'''\n",
    "\n",
    "invalid = 0\n",
    "sa_actives_gen = []\n",
    "for molecule in actives_gen_grammatical:\n",
    "    try:\n",
    "        sa_one = sa(molecule)\n",
    "        sa_actives_gen.append(sa_one)\n",
    "    except:\n",
    "        invalid += 1\n",
    "print(\"\\nTotal invalid:\", invalid)\n",
    "print(\"Total valid:\", len(sa_actives_gen))\n",
    "\n",
    "invalid = 0\n",
    "sa_inactives_gen = []\n",
    "for molecule in inactives_gen_grammatical:\n",
    "    try:\n",
    "        sa_one = sa(molecule)\n",
    "        sa_inactives_gen.append(sa_one)\n",
    "    except:\n",
    "        invalid += 1\n",
    "print(\"\\nTotal invalid:\", invalid)\n",
    "print(\"Total valid:\", len(sa_inactives_gen))\n",
    "\n",
    "invalid = 0\n",
    "sa_actives_train = []\n",
    "for molecule in actives_train_grammatical:\n",
    "    try:\n",
    "        sa_one = sa(molecule)\n",
    "        sa_actives_train.append(sa_one)\n",
    "    except:\n",
    "        invalid += 1\n",
    "print(\"\\nTotal invalid:\", invalid)\n",
    "print(\"Total valid:\", len(sa_actives_train))\n",
    "\n",
    "invalid = 0\n",
    "sa_inactives_train = []\n",
    "for molecule in inactives_train_grammatical:\n",
    "    try:\n",
    "        sa_one = sa(molecule)\n",
    "        sa_inactives_train.append(sa_one)\n",
    "    except:\n",
    "        invalid += 1\n",
    "print(\"\\nTotal invalid:\", invalid)\n",
    "print(\"Total valid:\", len(sa_inactives_train))\n",
    "\n",
    "print()\n",
    "sa_dict = {\"Generated actives\": sa_actives_gen,\n",
    "           \"Generated inactives\": sa_inactives_gen,\n",
    "           \"Training actives\": sa_actives_train,\n",
    "           \"Training inactives\": sa_inactives_train}\n",
    "\n",
    "for key,value in sa_dict.items():\n",
    "    print(key, \":\")\n",
    "    print(value[:20], \"\\n\")"
   ]
  },
  {
   "cell_type": "markdown",
   "id": "574ae571-1f4c-4826-8bc9-8bea5d3dad46",
   "metadata": {},
   "source": [
    "### QED\n",
    "\n",
    "> Description: QED stands for Quantitative Estimate of Drug-likeness. The oracle is caluated via RDKit, using a set of chemical rules about drug-likeliness defined by Bickerton et al. (https://tdcommons.ai/functions/oracles/#ibm-rxn-synthetic-accessibility)[https://tdcommons.ai/functions/oracles/]"
   ]
  },
  {
   "cell_type": "code",
   "execution_count": 24,
   "id": "b871188f-eb4b-4ea5-ba8a-be0cad43cdb0",
   "metadata": {},
   "outputs": [
    {
     "name": "stderr",
     "output_type": "stream",
     "text": [
      "RDKit ERROR: [10:34:41] Explicit valence for atom # 3 C, 5, is greater than permitted\n",
      "[10:34:41] Explicit valence for atom # 3 C, 5, is greater than permitted\n",
      "RDKit ERROR: [10:34:42] Explicit valence for atom # 5 O, 3, is greater than permitted\n",
      "[10:34:42] Explicit valence for atom # 5 O, 3, is greater than permitted\n",
      "RDKit ERROR: [10:34:43] Explicit valence for atom # 2 O, 3, is greater than permitted\n",
      "[10:34:43] Explicit valence for atom # 2 O, 3, is greater than permitted\n",
      "RDKit ERROR: [10:34:43] Explicit valence for atom # 20 O, 3, is greater than permitted\n",
      "[10:34:43] Explicit valence for atom # 20 O, 3, is greater than permitted\n",
      "RDKit ERROR: [10:34:43] Explicit valence for atom # 12 N, 4, is greater than permitted\n",
      "[10:34:43] Explicit valence for atom # 12 N, 4, is greater than permitted\n",
      "RDKit ERROR: [10:34:43] Explicit valence for atom # 2 O, 3, is greater than permitted\n",
      "[10:34:43] Explicit valence for atom # 2 O, 3, is greater than permitted\n",
      "RDKit ERROR: [10:34:46] Explicit valence for atom # 5 O, 3, is greater than permitted\n",
      "[10:34:46] Explicit valence for atom # 5 O, 3, is greater than permitted\n"
     ]
    },
    {
     "name": "stdout",
     "output_type": "stream",
     "text": [
      "Total de novo inactives with invalid valence: 7\n",
      "Total de novo inactives with valid valence: 31295\n"
     ]
    }
   ],
   "source": [
    "# Address this error:\n",
    "# RDKit ERROR: Explicit valence for atom # 14 C, 5, is greater than permitted.\n",
    "inactives_gen_grammatical_keep = []\n",
    "invalid_valence = 0\n",
    "for molecule in inactives_gen_grammatical:\n",
    "        m = Chem.MolFromSmiles(molecule, sanitize = True)\n",
    "        try:\n",
    "            m = Chem.RemoveHs(m)\n",
    "            inactives_gen_grammatical_keep.append(molecule)\n",
    "        except:\n",
    "            invalid_valence += 1\n",
    "print(\"Total de novo inactives with invalid valence:\", invalid_valence)\n",
    "print(\"Total de novo inactives with valid valence:\", len(inactives_gen_grammatical_keep))"
   ]
  },
  {
   "cell_type": "code",
   "execution_count": 25,
   "id": "e70be3e2-aea9-48c2-9c0f-82bc53e50495",
   "metadata": {},
   "outputs": [
    {
     "name": "stderr",
     "output_type": "stream",
     "text": [
      "RDKit ERROR: [10:34:46] Explicit valence for atom # 10 O, 3, is greater than permitted\n",
      "[10:34:46] Explicit valence for atom # 10 O, 3, is greater than permitted\n",
      "RDKit ERROR: [10:34:46] Explicit valence for atom # 7 O, 3, is greater than permitted\n",
      "[10:34:46] Explicit valence for atom # 7 O, 3, is greater than permitted\n",
      "RDKit ERROR: [10:34:47] Explicit valence for atom # 19 O, 3, is greater than permitted\n",
      "[10:34:47] Explicit valence for atom # 19 O, 3, is greater than permitted\n",
      "RDKit ERROR: [10:34:47] Explicit valence for atom # 16 N, 4, is greater than permitted\n",
      "[10:34:47] Explicit valence for atom # 16 N, 4, is greater than permitted\n",
      "RDKit ERROR: [10:34:48] Explicit valence for atom # 8 N, 4, is greater than permitted\n",
      "[10:34:48] Explicit valence for atom # 8 N, 4, is greater than permitted\n",
      "RDKit ERROR: [10:34:48] Explicit valence for atom # 1 O, 3, is greater than permitted\n",
      "[10:34:48] Explicit valence for atom # 1 O, 3, is greater than permitted\n",
      "RDKit ERROR: [10:34:51] Explicit valence for atom # 3 O, 3, is greater than permitted\n",
      "[10:34:51] Explicit valence for atom # 3 O, 3, is greater than permitted\n",
      "RDKit ERROR: [10:34:51] Explicit valence for atom # 3 O, 3, is greater than permitted\n",
      "[10:34:51] Explicit valence for atom # 3 O, 3, is greater than permitted\n",
      "RDKit ERROR: [10:34:51] Explicit valence for atom # 5 O, 3, is greater than permitted\n",
      "[10:34:51] Explicit valence for atom # 5 O, 3, is greater than permitted\n",
      "RDKit ERROR: [10:34:52] Explicit valence for atom # 1 O, 3, is greater than permitted\n",
      "[10:34:52] Explicit valence for atom # 1 O, 3, is greater than permitted\n"
     ]
    },
    {
     "name": "stdout",
     "output_type": "stream",
     "text": [
      "Total de novo actives with invalid valence: 11\n",
      "Total de novo actives with valid valence: 40561\n"
     ]
    },
    {
     "name": "stderr",
     "output_type": "stream",
     "text": [
      "RDKit ERROR: [10:34:53] Explicit valence for atom # 10 O, 3, is greater than permitted\n",
      "[10:34:53] Explicit valence for atom # 10 O, 3, is greater than permitted\n"
     ]
    }
   ],
   "source": [
    "# Address this error:\n",
    "# RDKit ERROR: Explicit valence for atom # 14 C, 5, is greater than permitted.\n",
    "actives_gen_grammatical_keep = []\n",
    "invalid_valence = 0\n",
    "for molecule in actives_gen_grammatical:\n",
    "        m = Chem.MolFromSmiles(molecule, sanitize = True)\n",
    "        try:\n",
    "            m = Chem.RemoveHs(m)\n",
    "            actives_gen_grammatical_keep.append(molecule)\n",
    "        except:\n",
    "            invalid_valence += 1\n",
    "print(\"Total de novo actives with invalid valence:\", invalid_valence)\n",
    "print(\"Total de novo actives with valid valence:\", len(actives_gen_grammatical_keep))"
   ]
  },
  {
   "cell_type": "code",
   "execution_count": 26,
   "id": "bd5ba179-2cba-423a-bfd6-4da0c81633ef",
   "metadata": {},
   "outputs": [
    {
     "name": "stdout",
     "output_type": "stream",
     "text": [
      "Generated actives :\n",
      "[0.7479000983432343, 0.7549789814289362, 0.8429558284125275, 0.71928733891081, 0.6805712090403054, 0.7966938884685433, 0.6873315858365848, 0.6252894461585413, 0.8972367998127379, 0.6643597093746845, 0.7492757379129593, 0.8051508186652733, 0.7700287737415117, 0.7573740343801906, 0.82974293831983, 0.8624568583368762, 0.8514183278143493, 0.8523133036484695, 0.8276225869504602, 0.7097425790327138] \n",
      "\n",
      "Generated inactives :\n",
      "[0.6844899707937704, 0.8613664081769815, 0.7492890253322193, 0.9144967991928986, 0.9019419607683181, 0.8916717246912137, 0.4977389538763361, 0.90172352412661, 0.8508443023346441, 0.9001918587268495, 0.510750401683258, 0.7862286741176217, 0.767416929183716, 0.49686122883962447, 0.8816185004985413, 0.581466982005081, 0.6698782643754385, 0.38433532808549475, 0.8526041286300394, 0.49504575471533896] \n",
      "\n",
      "Training actives :\n",
      "[0.814913995911437, 0.7209997551181787, 0.8867424621741485, 0.7798427952514674, 0.08557107474966161, 0.7958887434961184, 0.6113669325066001, 0.40027146695899074, 0.7609207273542546, 0.8084862676024479, 0.8587178092321018, 0.7923102758601841, 0.8035850788958979, 0.7254421466615532, 0.19069761718670236, 0.7669857741342728, 0.7915462676183185, 0.7097425790327138, 0.7608532205240112, 0.1735646721832865] \n",
      "\n",
      "Training inactives :\n",
      "[0.4489304892314893, 0.30953975037902987, 0.6149801508040519, 0.13610908733951915, 0.6877352138422553, 0.7465495043161432, 0.09263818792629527, 0.23514857195132333, 0.45920678237514917, 0.5840740542387298, 0.15991632358230246, 0.4787047717416681, 0.315104276844689, 0.8097576266403491, 0.04053673766495884, 0.8787563784976642, 0.7695113239049232, 0.5524221811312743, 0.28041853664893823, 0.6868426969908572] \n",
      "\n"
     ]
    }
   ],
   "source": [
    "# Quantitative Estimate of Drug-likeness.\n",
    "qed = Oracle(name = \"QED\")\n",
    "qed_actives_gen = qed(actives_gen_grammatical_keep) # Use only instances with proper valence.\n",
    "qed_inactives_gen = qed(inactives_gen_grammatical_keep) # Use only instances with proper valence.\n",
    "qed_actives_train = qed(actives_train_grammatical)\n",
    "qed_inactives_train = qed(inactives_train_grammatical)\n",
    "\n",
    "qed_dict = {\"Generated actives\": qed_actives_gen,\n",
    "            \"Generated inactives\": qed_inactives_gen,\n",
    "            \"Training actives\": qed_actives_train,\n",
    "            \"Training inactives\": qed_inactives_train}\n",
    "\n",
    "for key,value in qed_dict.items():\n",
    "    print(key, \":\")\n",
    "    print(value[:20], \"\\n\")"
   ]
  },
  {
   "cell_type": "markdown",
   "id": "eba1696e-9e55-454d-bf6e-5da811894ea3",
   "metadata": {},
   "source": [
    "### Octanol-water Partition Coefficient (LogP)\n",
    "\n",
    ">Description: The penalized logP score measures the solubility and synthetic accessibility of a compound. The oracle is caluated via RDKit. (https://tdcommons.ai/functions/oracles/#ibm-rxn-synthetic-accessibility)[https://tdcommons.ai/functions/oracles/]"
   ]
  },
  {
   "cell_type": "code",
   "execution_count": 27,
   "id": "9ec09c4c-c3e6-450b-ab96-e23a7802c5d8",
   "metadata": {},
   "outputs": [
    {
     "name": "stdout",
     "output_type": "stream",
     "text": [
      "\n",
      "Total invalid: 0\n",
      "Total valid: 40572\n",
      "\n",
      "Total invalid: 0\n",
      "Total valid: 31302\n",
      "\n",
      "Total invalid: 0\n",
      "Total valid: 132\n",
      "\n",
      "Total invalid: 0\n",
      "Total valid: 1758\n",
      "\n",
      "Generated actives :\n",
      "[0.5013627846177093, 0.8627310762662794, 1.1563396580534797, -0.2178911016371553, -0.07751247339913286, 0.36045685574798736, -3.3474665919771462, -0.26322663787214484, 0.26581927244124026, -0.3696700797183188, 2.076410657114741, 2.3231177593308585, 1.7714308806858643, -1.1930754658551308, 1.8849037872905205, 1.1689196524193122, 2.1803938353525325, 0.18219288723411298, 0.9042021363123875, 0.3603640459920372] \n",
      "\n",
      "Generated inactives :\n",
      "[1.7792426581983252, 0.5342377526697576, 0.6193934180999225, 0.8273248283054762, 2.662087326669616, 0.526501747796936, 1.287170685172046, 1.1755530722457062, 0.3996250389707771, -2.410852342054468, -0.25783769337997264, 2.633313821407835, 2.7566763254158064, -0.34457091086926006, -0.10720396734668991, 1.039294332967041, 2.221967075967593, -0.19251141839867003, -0.12674601787568307, -1.4126032001104538] \n",
      "\n",
      "Training actives :\n",
      "[0.0484155553967599, 0.8120953378368679, 1.962654773418923, 0.781015201939405, 0.6786972735424277, 1.4591486469849257, -3.1358662966839255, 1.8423064574376848, 0.09854068066290411, 1.7186468896416607, 1.3798779264818612, -0.5157831293074616, -0.8627063479388197, 1.4063579071453463, -38.94597913937183, 0.048857874177880234, 0.6483420331656747, 0.3603640459920372, 1.7236322595205082, -6.5201273168026415] \n",
      "\n",
      "Training inactives :\n",
      "[-3.9256028801494476, -2.152124689441258, 2.69745985116803, -2.353272119926953, -0.44458568172340474, 0.419214940307353, -65.60918351804446, -0.4933092106800674, -1.4194509093778664, -1.418186927201591, -1.4611179107198313, 0.80329941645672, -3.205639445095907, -0.9107766255479675, -8.521870267136446, 1.4360695806678057, 0.05949739187515257, 1.7847080656603937, 0.12412997844037216, 0.07434568141054365] \n",
      "\n"
     ]
    }
   ],
   "source": [
    "# LogP.\n",
    "logp = Oracle(name = \"LogP\")\n",
    "\n",
    "'''\n",
    "logp_actives_gen = logp(actives_gen_grammatical)\n",
    "logp_inactives_gen = logp(inactives_gen_grammatical)\n",
    "logp_actives_train = logp(actives_train_grammatical)\n",
    "logp_inactives_train = logp(inactives_train_grammatical)\n",
    "'''\n",
    "\n",
    "invalid = 0\n",
    "logp_actives_gen = []\n",
    "for molecule in actives_gen_grammatical:\n",
    "    try:\n",
    "        logp_one = logp(molecule)\n",
    "        logp_actives_gen.append(logp_one)\n",
    "    except:\n",
    "        invalid += 1\n",
    "print(\"\\nTotal invalid:\", invalid)\n",
    "print(\"Total valid:\", len(logp_actives_gen))\n",
    "\n",
    "invalid = 0\n",
    "logp_inactives_gen = []\n",
    "for molecule in inactives_gen_grammatical:\n",
    "    try:\n",
    "        logp_one = logp(molecule)\n",
    "        logp_inactives_gen.append(logp_one)\n",
    "    except:\n",
    "        invalid += 1\n",
    "print(\"\\nTotal invalid:\", invalid)\n",
    "print(\"Total valid:\", len(logp_inactives_gen))\n",
    "\n",
    "invalid = 0\n",
    "logp_actives_train = []\n",
    "for molecule in actives_train_grammatical:\n",
    "    try:\n",
    "        logp_one = logp(molecule)\n",
    "        logp_actives_train.append(logp_one)\n",
    "    except:\n",
    "        invalid += 1\n",
    "print(\"\\nTotal invalid:\", invalid)\n",
    "print(\"Total valid:\", len(logp_actives_train))\n",
    "\n",
    "invalid = 0\n",
    "logp_inactives_train = []\n",
    "for molecule in inactives_train_grammatical:\n",
    "    try:\n",
    "        logp_one = logp(molecule)\n",
    "        logp_inactives_train.append(logp_one)\n",
    "    except:\n",
    "        invalid += 1\n",
    "print(\"\\nTotal invalid:\", invalid)\n",
    "print(\"Total valid:\", len(logp_inactives_train))\n",
    "\n",
    "print()\n",
    "logp_dict = {\"Generated actives\": logp_actives_gen,\n",
    "             \"Generated inactives\": logp_inactives_gen,\n",
    "             \"Training actives\": logp_actives_train,\n",
    "             \"Training inactives\": logp_inactives_train}\n",
    "\n",
    "for key,value in logp_dict.items():\n",
    "    print(key, \":\")\n",
    "    print(value[:20], \"\\n\")"
   ]
  },
  {
   "cell_type": "markdown",
   "id": "f0d8c4d9-ca43-409c-8736-559c3addd274",
   "metadata": {},
   "source": [
    "### Dictionary to dataframe"
   ]
  },
  {
   "cell_type": "code",
   "execution_count": 28,
   "id": "199f37b9-c1c8-4a79-8d3e-59c26f9cbd96",
   "metadata": {},
   "outputs": [
    {
     "data": {
      "text/html": [
       "<div>\n",
       "<style scoped>\n",
       "    .dataframe tbody tr th:only-of-type {\n",
       "        vertical-align: middle;\n",
       "    }\n",
       "\n",
       "    .dataframe tbody tr th {\n",
       "        vertical-align: top;\n",
       "    }\n",
       "\n",
       "    .dataframe thead th {\n",
       "        text-align: right;\n",
       "    }\n",
       "</style>\n",
       "<table border=\"1\" class=\"dataframe\">\n",
       "  <thead>\n",
       "    <tr style=\"text-align: right;\">\n",
       "      <th></th>\n",
       "      <th>Distribution</th>\n",
       "      <th>Value</th>\n",
       "      <th>Metric</th>\n",
       "    </tr>\n",
       "  </thead>\n",
       "  <tbody>\n",
       "    <tr>\n",
       "      <th>0</th>\n",
       "      <td>Generated actives</td>\n",
       "      <td>2.444175</td>\n",
       "      <td>SA</td>\n",
       "    </tr>\n",
       "    <tr>\n",
       "      <th>1</th>\n",
       "      <td>Generated actives</td>\n",
       "      <td>3.129716</td>\n",
       "      <td>SA</td>\n",
       "    </tr>\n",
       "    <tr>\n",
       "      <th>2</th>\n",
       "      <td>Generated actives</td>\n",
       "      <td>1.695495</td>\n",
       "      <td>SA</td>\n",
       "    </tr>\n",
       "    <tr>\n",
       "      <th>3</th>\n",
       "      <td>Generated actives</td>\n",
       "      <td>2.342271</td>\n",
       "      <td>SA</td>\n",
       "    </tr>\n",
       "    <tr>\n",
       "      <th>4</th>\n",
       "      <td>Generated actives</td>\n",
       "      <td>3.443357</td>\n",
       "      <td>SA</td>\n",
       "    </tr>\n",
       "    <tr>\n",
       "      <th>...</th>\n",
       "      <td>...</td>\n",
       "      <td>...</td>\n",
       "      <td>...</td>\n",
       "    </tr>\n",
       "    <tr>\n",
       "      <th>1753</th>\n",
       "      <td>Training inactives</td>\n",
       "      <td>1.919343</td>\n",
       "      <td>SA</td>\n",
       "    </tr>\n",
       "    <tr>\n",
       "      <th>1754</th>\n",
       "      <td>Training inactives</td>\n",
       "      <td>2.494935</td>\n",
       "      <td>SA</td>\n",
       "    </tr>\n",
       "    <tr>\n",
       "      <th>1755</th>\n",
       "      <td>Training inactives</td>\n",
       "      <td>4.908138</td>\n",
       "      <td>SA</td>\n",
       "    </tr>\n",
       "    <tr>\n",
       "      <th>1756</th>\n",
       "      <td>Training inactives</td>\n",
       "      <td>2.417861</td>\n",
       "      <td>SA</td>\n",
       "    </tr>\n",
       "    <tr>\n",
       "      <th>1757</th>\n",
       "      <td>Training inactives</td>\n",
       "      <td>2.301900</td>\n",
       "      <td>SA</td>\n",
       "    </tr>\n",
       "  </tbody>\n",
       "</table>\n",
       "<p>73764 rows × 3 columns</p>\n",
       "</div>"
      ],
      "text/plain": [
       "            Distribution     Value Metric\n",
       "0      Generated actives  2.444175     SA\n",
       "1      Generated actives  3.129716     SA\n",
       "2      Generated actives  1.695495     SA\n",
       "3      Generated actives  2.342271     SA\n",
       "4      Generated actives  3.443357     SA\n",
       "...                  ...       ...    ...\n",
       "1753  Training inactives  1.919343     SA\n",
       "1754  Training inactives  2.494935     SA\n",
       "1755  Training inactives  4.908138     SA\n",
       "1756  Training inactives  2.417861     SA\n",
       "1757  Training inactives  2.301900     SA\n",
       "\n",
       "[73764 rows x 3 columns]"
      ]
     },
     "metadata": {},
     "output_type": "display_data"
    }
   ],
   "source": [
    "# SA.\n",
    "df_sa = pd.DataFrame()\n",
    "for key,value in sa_dict.items():\n",
    "    df_sa = pd.concat([df_sa, pd.DataFrame({\"Distribution\": [key] * len(value), \"Value\": value})])\n",
    "df_sa[\"Metric\"] = \"SA\"\n",
    "display(df_sa)"
   ]
  },
  {
   "cell_type": "code",
   "execution_count": 29,
   "id": "ad5100ee-f8bd-44ac-a7c1-3740353fbcfc",
   "metadata": {},
   "outputs": [
    {
     "data": {
      "text/html": [
       "<div>\n",
       "<style scoped>\n",
       "    .dataframe tbody tr th:only-of-type {\n",
       "        vertical-align: middle;\n",
       "    }\n",
       "\n",
       "    .dataframe tbody tr th {\n",
       "        vertical-align: top;\n",
       "    }\n",
       "\n",
       "    .dataframe thead th {\n",
       "        text-align: right;\n",
       "    }\n",
       "</style>\n",
       "<table border=\"1\" class=\"dataframe\">\n",
       "  <thead>\n",
       "    <tr style=\"text-align: right;\">\n",
       "      <th></th>\n",
       "      <th>Distribution</th>\n",
       "      <th>Value</th>\n",
       "      <th>Metric</th>\n",
       "    </tr>\n",
       "  </thead>\n",
       "  <tbody>\n",
       "    <tr>\n",
       "      <th>0</th>\n",
       "      <td>Generated actives</td>\n",
       "      <td>0.747900</td>\n",
       "      <td>QED</td>\n",
       "    </tr>\n",
       "    <tr>\n",
       "      <th>1</th>\n",
       "      <td>Generated actives</td>\n",
       "      <td>0.754979</td>\n",
       "      <td>QED</td>\n",
       "    </tr>\n",
       "    <tr>\n",
       "      <th>2</th>\n",
       "      <td>Generated actives</td>\n",
       "      <td>0.842956</td>\n",
       "      <td>QED</td>\n",
       "    </tr>\n",
       "    <tr>\n",
       "      <th>3</th>\n",
       "      <td>Generated actives</td>\n",
       "      <td>0.719287</td>\n",
       "      <td>QED</td>\n",
       "    </tr>\n",
       "    <tr>\n",
       "      <th>4</th>\n",
       "      <td>Generated actives</td>\n",
       "      <td>0.680571</td>\n",
       "      <td>QED</td>\n",
       "    </tr>\n",
       "    <tr>\n",
       "      <th>...</th>\n",
       "      <td>...</td>\n",
       "      <td>...</td>\n",
       "      <td>...</td>\n",
       "    </tr>\n",
       "    <tr>\n",
       "      <th>1753</th>\n",
       "      <td>Training inactives</td>\n",
       "      <td>0.736693</td>\n",
       "      <td>QED</td>\n",
       "    </tr>\n",
       "    <tr>\n",
       "      <th>1754</th>\n",
       "      <td>Training inactives</td>\n",
       "      <td>0.877740</td>\n",
       "      <td>QED</td>\n",
       "    </tr>\n",
       "    <tr>\n",
       "      <th>1755</th>\n",
       "      <td>Training inactives</td>\n",
       "      <td>0.675608</td>\n",
       "      <td>QED</td>\n",
       "    </tr>\n",
       "    <tr>\n",
       "      <th>1756</th>\n",
       "      <td>Training inactives</td>\n",
       "      <td>0.834182</td>\n",
       "      <td>QED</td>\n",
       "    </tr>\n",
       "    <tr>\n",
       "      <th>1757</th>\n",
       "      <td>Training inactives</td>\n",
       "      <td>0.415527</td>\n",
       "      <td>QED</td>\n",
       "    </tr>\n",
       "  </tbody>\n",
       "</table>\n",
       "<p>73746 rows × 3 columns</p>\n",
       "</div>"
      ],
      "text/plain": [
       "            Distribution     Value Metric\n",
       "0      Generated actives  0.747900    QED\n",
       "1      Generated actives  0.754979    QED\n",
       "2      Generated actives  0.842956    QED\n",
       "3      Generated actives  0.719287    QED\n",
       "4      Generated actives  0.680571    QED\n",
       "...                  ...       ...    ...\n",
       "1753  Training inactives  0.736693    QED\n",
       "1754  Training inactives  0.877740    QED\n",
       "1755  Training inactives  0.675608    QED\n",
       "1756  Training inactives  0.834182    QED\n",
       "1757  Training inactives  0.415527    QED\n",
       "\n",
       "[73746 rows x 3 columns]"
      ]
     },
     "metadata": {},
     "output_type": "display_data"
    }
   ],
   "source": [
    "# QED.\n",
    "df_qed = pd.DataFrame()\n",
    "for key,value in qed_dict.items():\n",
    "    df_qed = pd.concat([df_qed, pd.DataFrame({\"Distribution\": [key] * len(value), \"Value\": value})])\n",
    "df_qed[\"Metric\"] = \"QED\"\n",
    "display(df_qed)"
   ]
  },
  {
   "cell_type": "code",
   "execution_count": 30,
   "id": "0ffd4d0e-aee9-4bac-afd1-418a6d4f4639",
   "metadata": {},
   "outputs": [
    {
     "data": {
      "text/html": [
       "<div>\n",
       "<style scoped>\n",
       "    .dataframe tbody tr th:only-of-type {\n",
       "        vertical-align: middle;\n",
       "    }\n",
       "\n",
       "    .dataframe tbody tr th {\n",
       "        vertical-align: top;\n",
       "    }\n",
       "\n",
       "    .dataframe thead th {\n",
       "        text-align: right;\n",
       "    }\n",
       "</style>\n",
       "<table border=\"1\" class=\"dataframe\">\n",
       "  <thead>\n",
       "    <tr style=\"text-align: right;\">\n",
       "      <th></th>\n",
       "      <th>Distribution</th>\n",
       "      <th>Value</th>\n",
       "      <th>Metric</th>\n",
       "    </tr>\n",
       "  </thead>\n",
       "  <tbody>\n",
       "    <tr>\n",
       "      <th>0</th>\n",
       "      <td>Generated actives</td>\n",
       "      <td>0.501363</td>\n",
       "      <td>LogP</td>\n",
       "    </tr>\n",
       "    <tr>\n",
       "      <th>1</th>\n",
       "      <td>Generated actives</td>\n",
       "      <td>0.862731</td>\n",
       "      <td>LogP</td>\n",
       "    </tr>\n",
       "    <tr>\n",
       "      <th>2</th>\n",
       "      <td>Generated actives</td>\n",
       "      <td>1.156340</td>\n",
       "      <td>LogP</td>\n",
       "    </tr>\n",
       "    <tr>\n",
       "      <th>3</th>\n",
       "      <td>Generated actives</td>\n",
       "      <td>-0.217891</td>\n",
       "      <td>LogP</td>\n",
       "    </tr>\n",
       "    <tr>\n",
       "      <th>4</th>\n",
       "      <td>Generated actives</td>\n",
       "      <td>-0.077512</td>\n",
       "      <td>LogP</td>\n",
       "    </tr>\n",
       "    <tr>\n",
       "      <th>...</th>\n",
       "      <td>...</td>\n",
       "      <td>...</td>\n",
       "      <td>...</td>\n",
       "    </tr>\n",
       "    <tr>\n",
       "      <th>1753</th>\n",
       "      <td>Training inactives</td>\n",
       "      <td>1.354121</td>\n",
       "      <td>LogP</td>\n",
       "    </tr>\n",
       "    <tr>\n",
       "      <th>1754</th>\n",
       "      <td>Training inactives</td>\n",
       "      <td>1.682860</td>\n",
       "      <td>LogP</td>\n",
       "    </tr>\n",
       "    <tr>\n",
       "      <th>1755</th>\n",
       "      <td>Training inactives</td>\n",
       "      <td>-1.982381</td>\n",
       "      <td>LogP</td>\n",
       "    </tr>\n",
       "    <tr>\n",
       "      <th>1756</th>\n",
       "      <td>Training inactives</td>\n",
       "      <td>0.699492</td>\n",
       "      <td>LogP</td>\n",
       "    </tr>\n",
       "    <tr>\n",
       "      <th>1757</th>\n",
       "      <td>Training inactives</td>\n",
       "      <td>3.700030</td>\n",
       "      <td>LogP</td>\n",
       "    </tr>\n",
       "  </tbody>\n",
       "</table>\n",
       "<p>73764 rows × 3 columns</p>\n",
       "</div>"
      ],
      "text/plain": [
       "            Distribution     Value Metric\n",
       "0      Generated actives  0.501363   LogP\n",
       "1      Generated actives  0.862731   LogP\n",
       "2      Generated actives  1.156340   LogP\n",
       "3      Generated actives -0.217891   LogP\n",
       "4      Generated actives -0.077512   LogP\n",
       "...                  ...       ...    ...\n",
       "1753  Training inactives  1.354121   LogP\n",
       "1754  Training inactives  1.682860   LogP\n",
       "1755  Training inactives -1.982381   LogP\n",
       "1756  Training inactives  0.699492   LogP\n",
       "1757  Training inactives  3.700030   LogP\n",
       "\n",
       "[73764 rows x 3 columns]"
      ]
     },
     "metadata": {},
     "output_type": "display_data"
    }
   ],
   "source": [
    "# LogP.\n",
    "df_logp = pd.DataFrame()\n",
    "for key,value in logp_dict.items():\n",
    "    df_logp = pd.concat([df_logp, pd.DataFrame({\"Distribution\": [key] * len(value), \"Value\": value})])\n",
    "df_logp[\"Metric\"] = \"LogP\"\n",
    "display(df_logp)"
   ]
  },
  {
   "cell_type": "code",
   "execution_count": 31,
   "id": "f4ee0fe2-1af7-4dfb-8175-838b000268e6",
   "metadata": {},
   "outputs": [
    {
     "name": "stdout",
     "output_type": "stream",
     "text": [
      "<class 'pandas.core.frame.DataFrame'>\n",
      "RangeIndex: 221274 entries, 0 to 221273\n",
      "Data columns (total 3 columns):\n",
      " #   Column        Non-Null Count   Dtype  \n",
      "---  ------        --------------   -----  \n",
      " 0   Distribution  221274 non-null  object \n",
      " 1   Value         221274 non-null  float64\n",
      " 2   Metric        221274 non-null  object \n",
      "dtypes: float64(1), object(2)\n",
      "memory usage: 5.1+ MB\n",
      "None\n"
     ]
    },
    {
     "data": {
      "text/html": [
       "<div>\n",
       "<style scoped>\n",
       "    .dataframe tbody tr th:only-of-type {\n",
       "        vertical-align: middle;\n",
       "    }\n",
       "\n",
       "    .dataframe tbody tr th {\n",
       "        vertical-align: top;\n",
       "    }\n",
       "\n",
       "    .dataframe thead th {\n",
       "        text-align: right;\n",
       "    }\n",
       "</style>\n",
       "<table border=\"1\" class=\"dataframe\">\n",
       "  <thead>\n",
       "    <tr style=\"text-align: right;\">\n",
       "      <th></th>\n",
       "      <th>Distribution</th>\n",
       "      <th>Value</th>\n",
       "      <th>Metric</th>\n",
       "    </tr>\n",
       "  </thead>\n",
       "  <tbody>\n",
       "    <tr>\n",
       "      <th>0</th>\n",
       "      <td>Generated actives</td>\n",
       "      <td>2.444175</td>\n",
       "      <td>SA</td>\n",
       "    </tr>\n",
       "    <tr>\n",
       "      <th>1</th>\n",
       "      <td>Generated actives</td>\n",
       "      <td>3.129716</td>\n",
       "      <td>SA</td>\n",
       "    </tr>\n",
       "    <tr>\n",
       "      <th>2</th>\n",
       "      <td>Generated actives</td>\n",
       "      <td>1.695495</td>\n",
       "      <td>SA</td>\n",
       "    </tr>\n",
       "    <tr>\n",
       "      <th>3</th>\n",
       "      <td>Generated actives</td>\n",
       "      <td>2.342271</td>\n",
       "      <td>SA</td>\n",
       "    </tr>\n",
       "    <tr>\n",
       "      <th>4</th>\n",
       "      <td>Generated actives</td>\n",
       "      <td>3.443357</td>\n",
       "      <td>SA</td>\n",
       "    </tr>\n",
       "    <tr>\n",
       "      <th>...</th>\n",
       "      <td>...</td>\n",
       "      <td>...</td>\n",
       "      <td>...</td>\n",
       "    </tr>\n",
       "    <tr>\n",
       "      <th>221269</th>\n",
       "      <td>Training inactives</td>\n",
       "      <td>1.354121</td>\n",
       "      <td>LogP</td>\n",
       "    </tr>\n",
       "    <tr>\n",
       "      <th>221270</th>\n",
       "      <td>Training inactives</td>\n",
       "      <td>1.682860</td>\n",
       "      <td>LogP</td>\n",
       "    </tr>\n",
       "    <tr>\n",
       "      <th>221271</th>\n",
       "      <td>Training inactives</td>\n",
       "      <td>-1.982381</td>\n",
       "      <td>LogP</td>\n",
       "    </tr>\n",
       "    <tr>\n",
       "      <th>221272</th>\n",
       "      <td>Training inactives</td>\n",
       "      <td>0.699492</td>\n",
       "      <td>LogP</td>\n",
       "    </tr>\n",
       "    <tr>\n",
       "      <th>221273</th>\n",
       "      <td>Training inactives</td>\n",
       "      <td>3.700030</td>\n",
       "      <td>LogP</td>\n",
       "    </tr>\n",
       "  </tbody>\n",
       "</table>\n",
       "<p>221274 rows × 3 columns</p>\n",
       "</div>"
      ],
      "text/plain": [
       "              Distribution     Value Metric\n",
       "0        Generated actives  2.444175     SA\n",
       "1        Generated actives  3.129716     SA\n",
       "2        Generated actives  1.695495     SA\n",
       "3        Generated actives  2.342271     SA\n",
       "4        Generated actives  3.443357     SA\n",
       "...                    ...       ...    ...\n",
       "221269  Training inactives  1.354121   LogP\n",
       "221270  Training inactives  1.682860   LogP\n",
       "221271  Training inactives -1.982381   LogP\n",
       "221272  Training inactives  0.699492   LogP\n",
       "221273  Training inactives  3.700030   LogP\n",
       "\n",
       "[221274 rows x 3 columns]"
      ]
     },
     "metadata": {},
     "output_type": "display_data"
    }
   ],
   "source": [
    "# Aggregate all results.\n",
    "df_metrics = pd.concat([df_sa, df_qed, df_logp]).reset_index(drop = True)\n",
    "print(df_metrics.info())\n",
    "display(df_metrics)"
   ]
  },
  {
   "cell_type": "markdown",
   "id": "67d74c98-f810-4143-9fe9-2ad3dada6b69",
   "metadata": {},
   "source": [
    "## Plot distributions"
   ]
  },
  {
   "cell_type": "code",
   "execution_count": 32,
   "id": "cde9c0c3-d3b2-4c93-a18c-4e7e143e7fdb",
   "metadata": {},
   "outputs": [
    {
     "data": {
      "image/png": "[encoded data removed]",
      "text/plain": [
       "<Figure size 497x360 with 1 Axes>"
      ]
     },
     "metadata": {
      "needs_background": "light"
     },
     "output_type": "display_data"
    }
   ],
   "source": [
    "plot_distribution_basic(df_sa)"
   ]
  },
  {
   "cell_type": "code",
   "execution_count": 33,
   "id": "39a1879e-f7db-4622-8b6d-ad447eb21553",
   "metadata": {},
   "outputs": [
    {
     "data": {
      "image/png": "[encoded data removed]",
      "text/plain": [
       "<Figure size 497x360 with 1 Axes>"
      ]
     },
     "metadata": {
      "needs_background": "light"
     },
     "output_type": "display_data"
    }
   ],
   "source": [
    "plot_distribution_basic(df_qed)"
   ]
  },
  {
   "cell_type": "code",
   "execution_count": 34,
   "id": "d4ff0ba8-c99d-4638-ab45-d35ce3335f64",
   "metadata": {},
   "outputs": [
    {
     "data": {
      "image/png": "[encoded data removed]",
      "text/plain": [
       "<Figure size 497x360 with 1 Axes>"
      ]
     },
     "metadata": {
      "needs_background": "light"
     },
     "output_type": "display_data"
    }
   ],
   "source": [
    "plot_distribution_basic(df_logp)"
   ]
  },
  {
   "cell_type": "code",
   "execution_count": 35,
   "id": "62f524fa-5d4f-4d29-b61f-ec2a23444472",
   "metadata": {},
   "outputs": [
    {
     "data": {
      "image/png": "[encoded data removed]",
      "text/plain": [
       "<Figure size 785x216 with 3 Axes>"
      ]
     },
     "metadata": {
      "needs_background": "light"
     },
     "output_type": "display_data"
    }
   ],
   "source": [
    "plot_distribution(df_metrics, save_path = \"./aae_finetune_100k_metrics.pdf\", save = True)"
   ]
  },
  {
   "cell_type": "markdown",
   "id": "6fbc949d-0975-4fe1-90ed-95d45fb7552d",
   "metadata": {},
   "source": [
    "## End of document"
   ]
  },
  {
   "cell_type": "code",
   "execution_count": null,
   "id": "25c63cfa-3045-476d-a564-965e9c4d053c",
   "metadata": {},
   "outputs": [],
   "source": []
  }
 ],
 "metadata": {
  "kernelspec": {
   "display_name": "Python 3 (ipykernel)",
   "language": "python",
   "name": "python3"
  },
  "language_info": {
   "codemirror_mode": {
    "name": "ipython",
    "version": 3
   },
   "file_extension": ".py",
   "mimetype": "text/x-python",
   "name": "python",
   "nbconvert_exporter": "python",
   "pygments_lexer": "ipython3",
   "version": "3.8.8"
  }
 },
 "nbformat": 4,
 "nbformat_minor": 5
}
